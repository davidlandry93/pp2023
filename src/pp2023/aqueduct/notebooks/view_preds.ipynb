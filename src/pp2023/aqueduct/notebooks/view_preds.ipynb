{
 "cells": [
  {
   "cell_type": "code",
   "execution_count": null,
   "id": "8f1972a9-3b41-431f-944e-bb81a4cbfd2a",
   "metadata": {
    "tags": []
   },
   "outputs": [],
   "source": [
    "%load_ext autoreload\n",
    "%autoreload 2"
   ]
  },
  {
   "cell_type": "code",
   "execution_count": null,
   "id": "c8071850-17dc-45b1-8ba8-bb9b7255f7e8",
   "metadata": {
    "tags": []
   },
   "outputs": [],
   "source": [
    "%load_ext aqueduct.ipython"
   ]
  },
  {
   "cell_type": "code",
   "execution_count": null,
   "id": "27367bbe-d1ff-4936-b2f5-357da73433db",
   "metadata": {
    "tags": []
   },
   "outputs": [],
   "source": [
    "%aq_hydra -m eddie.conf -n notebook"
   ]
  },
  {
   "cell_type": "code",
   "execution_count": null,
   "id": "ae1999ed-9382-42c9-ae53-9660eae55f0e",
   "metadata": {
    "tags": []
   },
   "outputs": [],
   "source": [
    "import os"
   ]
  },
  {
   "cell_type": "code",
   "execution_count": null,
   "id": "676c44a2-5c64-4c0c-b84a-d07aa89e15cd",
   "metadata": {
    "tags": []
   },
   "outputs": [],
   "source": [
    "import aqueduct as aq"
   ]
  },
  {
   "cell_type": "code",
   "execution_count": null,
   "id": "b79c2c9c-4eec-4bd5-9141-57e4d9326d55",
   "metadata": {},
   "outputs": [],
   "source": [
    "os.environ['EDDIE_LOCAL_STORE'] = '/gpfswork/rech/ovm/ugd42cy/eddie'\n",
    "os.environ['MLFLOW_TRACKING_URI'] = 'file:/gpfswork/rech/ovm/ugd42cy/mlflow/store'"
   ]
  },
  {
   "cell_type": "code",
   "execution_count": null,
   "id": "9b7b5498-6d5a-4d87-82bc-b2d3cbaab0ad",
   "metadata": {
    "tags": []
   },
   "outputs": [],
   "source": [
    "aq.get_config()"
   ]
  },
  {
   "cell_type": "code",
   "execution_count": null,
   "id": "22cde3ea-f7c1-46e3-b550-6cef86953337",
   "metadata": {
    "tags": []
   },
   "outputs": [],
   "source": [
    "!echo $MLFLOW_TRACKING_URI"
   ]
  },
  {
   "cell_type": "code",
   "execution_count": null,
   "id": "1dd24041-6f97-46ea-81fc-93c8721c4301",
   "metadata": {
    "tags": []
   },
   "outputs": [],
   "source": [
    "from pp2023.aqueduct.tasks import ModelPredictions"
   ]
  },
  {
   "cell_type": "code",
   "execution_count": null,
   "id": "0ac0298e-16a5-4fa7-98ae-8ee2d785c6c1",
   "metadata": {
    "tags": []
   },
   "outputs": [],
   "source": [
    "preds_task = ModelPredictions(station_set='pp2023_medium', run_id='179d2cac3a0f4b758f61f2c233500c8f')"
   ]
  },
  {
   "cell_type": "code",
   "execution_count": null,
   "id": "63d2ee25-4d78-410c-b1ec-bac448ac1b0b",
   "metadata": {
    "tags": []
   },
   "outputs": [],
   "source": [
    "preds = preds_task.result()"
   ]
  },
  {
   "cell_type": "code",
   "execution_count": null,
   "id": "49ae241f-742e-4150-b0c2-74ce5b251c6e",
   "metadata": {},
   "outputs": [],
   "source": []
  }
 ],
 "metadata": {
  "kernelspec": {
   "display_name": "Eddie",
   "language": "python",
   "name": "eddie"
  },
  "language_info": {
   "codemirror_mode": {
    "name": "ipython",
    "version": 3
   },
   "file_extension": ".py",
   "mimetype": "text/x-python",
   "name": "python",
   "nbconvert_exporter": "python",
   "pygments_lexer": "ipython3",
   "version": "3.11.4"
  }
 },
 "nbformat": 4,
 "nbformat_minor": 5
}
