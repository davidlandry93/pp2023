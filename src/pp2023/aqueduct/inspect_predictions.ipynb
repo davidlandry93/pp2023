{
 "cells": [
  {
   "cell_type": "code",
   "execution_count": null,
   "id": "8f1972a9-3b41-431f-944e-bb81a4cbfd2a",
   "metadata": {
    "tags": []
   },
   "outputs": [],
   "source": [
    "%load_ext autoreload\n",
    "%autoreload 2"
   ]
  },
  {
   "cell_type": "code",
   "execution_count": null,
   "id": "c8071850-17dc-45b1-8ba8-bb9b7255f7e8",
   "metadata": {
    "tags": []
   },
   "outputs": [],
   "source": [
    "%load_ext aqueduct.ipython"
   ]
  },
  {
   "cell_type": "code",
   "execution_count": null,
   "id": "27367bbe-d1ff-4936-b2f5-357da73433db",
   "metadata": {
    "tags": []
   },
   "outputs": [],
   "source": [
    "%aq_hydra -m eddie.conf -n notebook"
   ]
  },
  {
   "cell_type": "code",
   "execution_count": 93,
   "id": "ae1999ed-9382-42c9-ae53-9660eae55f0e",
   "metadata": {
    "tags": []
   },
   "outputs": [],
   "source": [
    "import os\n",
    "import numpy as np\n",
    "import plotly.express as px\n",
    "import tqdm.notebook as tqdm\n",
    "import xarray as xr\n",
    "import pandas as pd"
   ]
  },
  {
   "cell_type": "code",
   "execution_count": null,
   "id": "676c44a2-5c64-4c0c-b84a-d07aa89e15cd",
   "metadata": {
    "tags": []
   },
   "outputs": [],
   "source": [
    "import aqueduct as aq"
   ]
  },
  {
   "cell_type": "code",
   "execution_count": null,
   "id": "18b1493e-3ea4-4c59-8ec5-2386ff099480",
   "metadata": {
    "tags": []
   },
   "outputs": [],
   "source": [
    "from eddie.ens10_metar.tasks import VAL_SET, InterpolateMetar"
   ]
  },
  {
   "cell_type": "code",
   "execution_count": null,
   "id": "f440446c-efa4-41be-b19d-386da78e040e",
   "metadata": {
    "tags": []
   },
   "outputs": [],
   "source": [
    "!echo $EDDIE_LOCAL_STORE"
   ]
  },
  {
   "cell_type": "code",
   "execution_count": null,
   "id": "b79c2c9c-4eec-4bd5-9141-57e4d9326d55",
   "metadata": {},
   "outputs": [],
   "source": [
    "os.environ['EDDIE_LOCAL_STORE'] = '/gpfswork/rech/ovm/ugd42cy/eddie'\n",
    "os.environ['MLFLOW_TRACKING_URI'] = 'file:/gpfswork/rech/ovm/ugd42cy/mlflow/store'"
   ]
  },
  {
   "cell_type": "code",
   "execution_count": null,
   "id": "c1307106-646b-4464-ad37-ff715484054b",
   "metadata": {
    "tags": []
   },
   "outputs": [],
   "source": [
    "STATION_SET = 'pp2023_medium'"
   ]
  },
  {
   "cell_type": "code",
   "execution_count": null,
   "id": "9b7b5498-6d5a-4d87-82bc-b2d3cbaab0ad",
   "metadata": {
    "tags": []
   },
   "outputs": [],
   "source": [
    "aq.get_config()"
   ]
  },
  {
   "cell_type": "code",
   "execution_count": null,
   "id": "22cde3ea-f7c1-46e3-b550-6cef86953337",
   "metadata": {
    "tags": []
   },
   "outputs": [],
   "source": [
    "!echo $MLFLOW_TRACKING_URI"
   ]
  },
  {
   "cell_type": "code",
   "execution_count": null,
   "id": "1dd24041-6f97-46ea-81fc-93c8721c4301",
   "metadata": {
    "tags": []
   },
   "outputs": [],
   "source": [
    "from pp2023.aqueduct.tasks import ModelPredictions"
   ]
  },
  {
   "cell_type": "code",
   "execution_count": null,
   "id": "0ac0298e-16a5-4fa7-98ae-8ee2d785c6c1",
   "metadata": {
    "tags": []
   },
   "outputs": [],
   "source": [
    "preds_task = ModelPredictions(station_set=STATION_SET, run_id='179d2cac3a0f4b758f61f2c233500c8f')"
   ]
  },
  {
   "cell_type": "code",
   "execution_count": null,
   "id": "63d2ee25-4d78-410c-b1ec-bac448ac1b0b",
   "metadata": {
    "tags": []
   },
   "outputs": [],
   "source": [
    "preds = preds_task.result()"
   ]
  },
  {
   "cell_type": "code",
   "execution_count": null,
   "id": "49ae241f-742e-4150-b0c2-74ce5b251c6e",
   "metadata": {},
   "outputs": [],
   "source": [
    "preds"
   ]
  },
  {
   "cell_type": "code",
   "execution_count": null,
   "id": "28fe7018-a58e-4031-99ee-3b854aee41df",
   "metadata": {
    "tags": []
   },
   "outputs": [],
   "source": [
    "obs = []\n",
    "for d in tqdm.tqdm(sorted(VAL_SET)):\n",
    "    obs_task = InterpolateMetar(date=d, station_set=STATION_SET)\n",
    "    obs.append(obs_task.result())"
   ]
  },
  {
   "cell_type": "code",
   "execution_count": null,
   "id": "640df3c5-896a-4f25-bab7-20ba2cb03ed9",
   "metadata": {
    "tags": []
   },
   "outputs": [],
   "source": [
    "interpolated_xr = xr.combine_nested(obs, concat_dim='forecast_time')"
   ]
  },
  {
   "cell_type": "code",
   "execution_count": null,
   "id": "019edacb-2093-4b8f-aa68-5ab60c31665c",
   "metadata": {
    "tags": []
   },
   "outputs": [],
   "source": [
    "interpolated_xr"
   ]
  },
  {
   "cell_type": "code",
   "execution_count": null,
   "id": "a6f891d6-68e9-49ed-98e3-adcfff9442eb",
   "metadata": {
    "tags": []
   },
   "outputs": [],
   "source": [
    "preds = preds.sortby('parameter')"
   ]
  },
  {
   "cell_type": "code",
   "execution_count": null,
   "id": "3adcc783-6dd3-4ede-8f33-4ed4fd506719",
   "metadata": {
    "tags": []
   },
   "outputs": [],
   "source": [
    "preds"
   ]
  },
  {
   "cell_type": "code",
   "execution_count": null,
   "id": "b38dd62f-6542-45ae-89ca-2383c57ea991",
   "metadata": {
    "tags": []
   },
   "outputs": [],
   "source": [
    "preds.t2m.argsort(axis=-1)"
   ]
  },
  {
   "cell_type": "code",
   "execution_count": null,
   "id": "d6cab92b-99d9-4500-9848-19b5bbf4132f",
   "metadata": {
    "tags": []
   },
   "outputs": [],
   "source": [
    "preds_sorted_t2m = preds.t2m.isel(parameter=preds.t2m.argsort(axis=-1))\n",
    "preds_sorted_si10 = preds.si10.isel(parameter=preds.si10.argsort(axis=-1))"
   ]
  },
  {
   "cell_type": "code",
   "execution_count": null,
   "id": "2dd72ca8-9ae4-4c3a-970e-7d2cac65ed6b",
   "metadata": {
    "tags": []
   },
   "outputs": [],
   "source": [
    "preds = xr.Dataset({'si10': preds_sorted_si10, 't2m': preds_sorted_t2m})"
   ]
  },
  {
   "cell_type": "code",
   "execution_count": null,
   "id": "81714ac4-e18b-4959-a641-5ac33b6069e4",
   "metadata": {
    "tags": []
   },
   "outputs": [],
   "source": [
    "med_pred = preds.median(dim='parameter')"
   ]
  },
  {
   "cell_type": "code",
   "execution_count": null,
   "id": "abb630d9-5b76-419f-a063-cb6df31a8819",
   "metadata": {
    "tags": []
   },
   "outputs": [],
   "source": [
    "np.abs(interpolated_xr.obs_t2m - med_pred.t2m).mean(dim=['station', 'forecast_time'])"
   ]
  },
  {
   "cell_type": "code",
   "execution_count": null,
   "id": "f7745efc-b72d-495e-9247-24837f33d262",
   "metadata": {
    "tags": []
   },
   "outputs": [],
   "source": [
    "med_forecast = interpolated_xr[['t2m', 'si10']].median(dim='number')"
   ]
  },
  {
   "cell_type": "code",
   "execution_count": null,
   "id": "6471547a-4ca0-4b0a-b0f2-43a3473bf66a",
   "metadata": {
    "tags": []
   },
   "outputs": [],
   "source": [
    "np.abs(interpolated_xr.obs_si10 - med_pred.si10).mean(dim=['station', 'forecast_time'])"
   ]
  },
  {
   "cell_type": "code",
   "execution_count": null,
   "id": "109117a1-2324-4456-8fac-a1ab6b34dba1",
   "metadata": {
    "tags": []
   },
   "outputs": [],
   "source": [
    "np.abs(interpolated_xr.obs_t2m - med_pred.t2m).mean(dim=['station', 'forecast_time'])"
   ]
  },
  {
   "cell_type": "code",
   "execution_count": null,
   "id": "94c385d1-45eb-4c88-96c8-7b6043957ee1",
   "metadata": {
    "tags": []
   },
   "outputs": [],
   "source": [
    "np.abs(interpolated_xr.obs_si10 - med_forecast.si10).mean(dim=['station', 'forecast_time'])"
   ]
  },
  {
   "cell_type": "code",
   "execution_count": null,
   "id": "6be163f1-eae9-40c1-998c-3cda1ec162b5",
   "metadata": {
    "tags": []
   },
   "outputs": [],
   "source": [
    "np.abs(interpolated_xr.obs_t2m - med_forecast.t2m).mean(dim=['station', 'forecast_time'])"
   ]
  },
  {
   "cell_type": "code",
   "execution_count": null,
   "id": "41ed90e2-46b0-4354-8fb7-fddf3babc879",
   "metadata": {
    "tags": []
   },
   "outputs": [],
   "source": [
    "preds['obs_t2m'] = interpolated_xr.obs_t2m"
   ]
  },
  {
   "cell_type": "code",
   "execution_count": null,
   "id": "96861158-8b93-468f-b12d-2a87b323b346",
   "metadata": {
    "tags": []
   },
   "outputs": [],
   "source": [
    "preds"
   ]
  },
  {
   "cell_type": "code",
   "execution_count": null,
   "id": "9aace7cf-5dca-4e05-9dc7-08cc40768906",
   "metadata": {
    "tags": []
   },
   "outputs": [],
   "source": [
    "t2m_df = preds[['obs_t2m', 't2m']].to_dataframe()"
   ]
  },
  {
   "cell_type": "code",
   "execution_count": null,
   "id": "06e2e2de-f486-4cc6-81e7-b23d95fe25f8",
   "metadata": {
    "tags": []
   },
   "outputs": [],
   "source": [
    "t2m_df_sample = t2m_df[~np.isnan(t2m_df['obs_t2m'])].groupby(['forecast_time', 'step', 'station']).median()"
   ]
  },
  {
   "cell_type": "code",
   "execution_count": null,
   "id": "7540c8af-a03c-4e18-8d96-7f09bcf45186",
   "metadata": {
    "tags": []
   },
   "outputs": [],
   "source": [
    "t2m_df_sample"
   ]
  },
  {
   "cell_type": "code",
   "execution_count": null,
   "id": "889c6313-5be1-4370-b12b-d23a00497fdb",
   "metadata": {
    "tags": []
   },
   "outputs": [],
   "source": [
    "t2m_df_sample"
   ]
  },
  {
   "cell_type": "code",
   "execution_count": null,
   "id": "61035a55-ef83-46b2-af02-64f58a345fed",
   "metadata": {
    "tags": []
   },
   "outputs": [],
   "source": [
    "px.scatter(data_frame=t2m_df_sample, x='obs_t2m', y='t2m', opacity=0.1, width=1000, height=1000)"
   ]
  },
  {
   "cell_type": "code",
   "execution_count": null,
   "id": "9917f9a9-5b51-402a-8bc6-b5379a4720ee",
   "metadata": {
    "tags": []
   },
   "outputs": [],
   "source": [
    "preds['obs_si10'] = interpolated_xr.obs_si10\n",
    "si10_df = preds[['obs_si10', 'si10']].to_dataframe().groupby(['forecast_time', 'step', 'station']).median()\n",
    "si10_df_sample = si10_df[~np.isnan(si10_df['obs_si10'])]"
   ]
  },
  {
   "cell_type": "code",
   "execution_count": null,
   "id": "6a192d15-3fa0-4b36-acf2-d6f9a3ef9504",
   "metadata": {
    "tags": []
   },
   "outputs": [],
   "source": [
    "px.scatter(data_frame=si10_df_sample, x='obs_si10', y='si10', opacity=0.1, width=1000, height=1000)"
   ]
  },
  {
   "cell_type": "markdown",
   "id": "a6eb27d1-861e-44dc-bacd-349555175130",
   "metadata": {},
   "source": [
    "## Calibration plot"
   ]
  },
  {
   "cell_type": "code",
   "execution_count": null,
   "id": "7b788780-eb79-4e7d-b675-3f2bdeee07f3",
   "metadata": {
    "tags": []
   },
   "outputs": [],
   "source": [
    "preds.t2m.sizes"
   ]
  },
  {
   "cell_type": "code",
   "execution_count": null,
   "id": "52c5a175-1790-473c-993c-1aad92f25a66",
   "metadata": {
    "tags": []
   },
   "outputs": [],
   "source": [
    "preds.t2m"
   ]
  },
  {
   "cell_type": "code",
   "execution_count": null,
   "id": "5aa44796-1eca-4a41-a3b5-a3dbe06349b8",
   "metadata": {
    "tags": []
   },
   "outputs": [],
   "source": [
    "obs_t2m = interpolated_xr['obs_t2m']"
   ]
  },
  {
   "cell_type": "code",
   "execution_count": null,
   "id": "2402b4ea-e924-4bac-9b12-2b44db6b3884",
   "metadata": {
    "tags": []
   },
   "outputs": [],
   "source": [
    "preds.t2m < obs_t2m"
   ]
  },
  {
   "cell_type": "code",
   "execution_count": null,
   "id": "a26aa96e-c0be-4158-9b82-b4f040368fc4",
   "metadata": {
    "tags": []
   },
   "outputs": [],
   "source": [
    "def calibration_plot(ensemble_forecast, obs, ensemble_dim='parameter'):\n",
    "    ensemble_size = ensemble_forecast.sizes[ensemble_dim] + 1\n",
    "    \n",
    "    counts = (ensemble_forecast < obs).sum(dim=ensemble_dim)\n",
    "    \n",
    "    counts_df = counts.to_dataframe(name='count')\n",
    "    obs_df = obs.to_dataframe(name='obs')['obs']\n",
    "    \n",
    "    counts_df = counts_df[~np.isnan(obs_df)]\n",
    "    \n",
    "    bar_values = counts_df['count'].value_counts().sort_index()\n",
    "\n",
    "    fig = px.bar(x=bar_values.index, y=bar_values, width=800)\n",
    "    fig.add_hline(y=bar_values.sum() * (1/ensemble_size), annotation_text='Perfect calibration')\n",
    "    return fig"
   ]
  },
  {
   "cell_type": "code",
   "execution_count": null,
   "id": "6a97aaf0-10f5-455c-b262-31344611ff64",
   "metadata": {
    "tags": []
   },
   "outputs": [],
   "source": [
    "calibration_plot(preds.t2m, obs_t2m)"
   ]
  },
  {
   "cell_type": "code",
   "execution_count": null,
   "id": "6f7e0c1b-eaf9-4db3-bc59-3edd93e94ffc",
   "metadata": {
    "tags": []
   },
   "outputs": [],
   "source": [
    "obs_si10 = interpolated_xr.obs_si10"
   ]
  },
  {
   "cell_type": "code",
   "execution_count": null,
   "id": "127ba2e4-9d80-465e-b71f-db93f7f41e18",
   "metadata": {
    "tags": []
   },
   "outputs": [],
   "source": [
    "calibration_plot(preds.si10, obs_si10)"
   ]
  },
  {
   "cell_type": "code",
   "execution_count": null,
   "id": "1bb6a352-8d10-41e8-a2f7-44f5c4c76f56",
   "metadata": {
    "tags": []
   },
   "outputs": [],
   "source": [
    "calibration_plot(interpolated_xr.t2m, interpolated_xr.obs_t2m, ensemble_dim='number')"
   ]
  },
  {
   "cell_type": "code",
   "execution_count": null,
   "id": "6736bbe0-8e51-4235-87a9-b19de835c2d9",
   "metadata": {
    "tags": []
   },
   "outputs": [],
   "source": [
    "calibration_plot(interpolated_xr.si10, interpolated_xr.obs_si10, ensemble_dim='number')"
   ]
  },
  {
   "cell_type": "markdown",
   "id": "047f741d-bb4a-4a81-869d-bf3f68c21c53",
   "metadata": {},
   "source": [
    "## Investigate wind @ 0"
   ]
  },
  {
   "cell_type": "code",
   "execution_count": null,
   "id": "673472bc-be93-4e5b-ad8d-fece2f77cfde",
   "metadata": {
    "tags": []
   },
   "outputs": [],
   "source": [
    "obs_si10_df = obs_si10.to_dataframe()"
   ]
  },
  {
   "cell_type": "code",
   "execution_count": null,
   "id": "0c1da0f0-9797-45e2-b99a-c23ab27fbede",
   "metadata": {
    "tags": []
   },
   "outputs": [],
   "source": [
    "px.histogram(obs_si10_df['obs_si10'])"
   ]
  },
  {
   "cell_type": "code",
   "execution_count": null,
   "id": "5e0eb279-ad48-4557-9126-8623dd608ff0",
   "metadata": {
    "tags": []
   },
   "outputs": [],
   "source": [
    "obs_si10_df['obs_si10']"
   ]
  },
  {
   "cell_type": "code",
   "execution_count": null,
   "id": "78877e33-ef43-43e5-aeba-f2c1e20aca8d",
   "metadata": {
    "tags": []
   },
   "outputs": [],
   "source": [
    "obs_si10_df[obs_si10_df['obs_si10'] == 0.0].groupby(['station']).count()['obs_si10'].sort_values()"
   ]
  },
  {
   "cell_type": "code",
   "execution_count": null,
   "id": "d3861ed3-27ca-4c59-9644-1a3bf56b127c",
   "metadata": {
    "tags": []
   },
   "outputs": [],
   "source": [
    "vuj = obs_si10_df.xs(level='station', key='VUJ')['obs_si10']"
   ]
  },
  {
   "cell_type": "code",
   "execution_count": null,
   "id": "4d4f2985-d1ab-4002-8276-d8a1a3e337f9",
   "metadata": {
    "tags": []
   },
   "outputs": [],
   "source": [
    "px.line(data_frame=vuj.reset_index(), x='forecast_time', y='obs_si10')"
   ]
  },
  {
   "cell_type": "code",
   "execution_count": null,
   "id": "758560b3-abfc-4cb9-9cf0-b1a481b2199d",
   "metadata": {
    "tags": []
   },
   "outputs": [],
   "source": [
    "cyph = obs_si10_df.xs(level='station', key='CYPH')['obs_si10']"
   ]
  },
  {
   "cell_type": "code",
   "execution_count": null,
   "id": "37227778-1a97-43ab-8f24-d478111a9ae3",
   "metadata": {
    "tags": []
   },
   "outputs": [],
   "source": [
    "px.line(data_frame=cyph.reset_index(), x='forecast_time', y='obs_si10')"
   ]
  },
  {
   "cell_type": "code",
   "execution_count": null,
   "id": "c97ab304-2f4d-4b2a-9560-cd7509736f4c",
   "metadata": {
    "tags": []
   },
   "outputs": [],
   "source": [
    "obs_si10_df[obs_si10_df['obs_si10'] > 30]"
   ]
  },
  {
   "cell_type": "markdown",
   "id": "0c58d90a-173c-4633-afc6-82bd4ea8f900",
   "metadata": {},
   "source": [
    "## CRPS"
   ]
  },
  {
   "cell_type": "code",
   "execution_count": null,
   "id": "75324963-2b54-4dfa-9fac-4f2b23838917",
   "metadata": {
    "tags": []
   },
   "outputs": [],
   "source": [
    "import properscoring"
   ]
  },
  {
   "cell_type": "code",
   "execution_count": null,
   "id": "7f273ca3-4c69-4a24-90be-12b33f0bdc13",
   "metadata": {
    "tags": []
   },
   "outputs": [],
   "source": [
    "mask = np.isnan(obs_si10.values)"
   ]
  },
  {
   "cell_type": "code",
   "execution_count": 66,
   "id": "0d1a06ef-30bf-43aa-8bc7-daf6623d4f3d",
   "metadata": {
    "tags": []
   },
   "outputs": [],
   "source": [
    "preds = preds.compute()"
   ]
  },
  {
   "cell_type": "code",
   "execution_count": 112,
   "id": "70be1bf4-df63-47ee-a2dd-920ed9138262",
   "metadata": {
    "tags": []
   },
   "outputs": [],
   "source": [
    "raw_si10 = interpolated_xr.si10.compute()"
   ]
  },
  {
   "cell_type": "code",
   "execution_count": 116,
   "id": "d491c268-a062-4c2c-b6c5-32619b804b8e",
   "metadata": {
    "tags": []
   },
   "outputs": [],
   "source": [
    "raw_si10 = raw_si10.transpose('forecast_time', 'step', 'station', 'number')"
   ]
  },
  {
   "cell_type": "code",
   "execution_count": null,
   "id": "79d85a55-24f4-47a2-bd04-e301f982d3b7",
   "metadata": {
    "tags": []
   },
   "outputs": [],
   "source": [
    "mask = np.isnan(obs_si10)\n",
    "properscoring.crps_ensemble(obs_si10.values, preds.si10).mean(axis=2).mean(axis=0)"
   ]
  },
  {
   "cell_type": "code",
   "execution_count": 117,
   "id": "8ea8e0a8-9cc4-4a82-be5d-0a74455b5cbe",
   "metadata": {
    "tags": []
   },
   "outputs": [],
   "source": [
    "si10_crps = properscoring.crps_ensemble(obs_si10.values, preds.si10)\n",
    "si10_crps_raw = properscoring.crps_ensemble(obs_si10.values, raw_si10)"
   ]
  },
  {
   "cell_type": "code",
   "execution_count": 119,
   "id": "a8285f0b-4fa6-48ca-9142-171caab07b4b",
   "metadata": {
    "tags": []
   },
   "outputs": [],
   "source": [
    "si10_crps_xr = xr.DataArray(si10_crps, dims=['forecast_time', 'step', 'station'], coords=obs_si10.coords)\n",
    "raw_si10_crps_xr = xr.DataArray(si10_crps_raw, dims=['forecast_time', 'step', 'station'], coords=obs_si10.coords)\n",
    "\n",
    "si10_crps = xr.Dataset({'model_si10_crps': si10_crps_xr, 'raw_si10_crps': raw_si10_crps_xr})"
   ]
  },
  {
   "cell_type": "code",
   "execution_count": 120,
   "id": "a891b55f-758c-44d3-8168-a2f9dc0371f4",
   "metadata": {
    "tags": []
   },
   "outputs": [
    {
     "data": {
      "text/html": [
       "<div>\n",
       "<style scoped>\n",
       "    .dataframe tbody tr th:only-of-type {\n",
       "        vertical-align: middle;\n",
       "    }\n",
       "\n",
       "    .dataframe tbody tr th {\n",
       "        vertical-align: top;\n",
       "    }\n",
       "\n",
       "    .dataframe thead th {\n",
       "        text-align: right;\n",
       "    }\n",
       "</style>\n",
       "<table border=\"1\" class=\"dataframe\">\n",
       "  <thead>\n",
       "    <tr style=\"text-align: right;\">\n",
       "      <th></th>\n",
       "      <th></th>\n",
       "      <th></th>\n",
       "      <th>latitude</th>\n",
       "      <th>longitude</th>\n",
       "      <th>forecast_valid</th>\n",
       "      <th>model_si10_crps</th>\n",
       "      <th>raw_si10_crps</th>\n",
       "    </tr>\n",
       "    <tr>\n",
       "      <th>forecast_time</th>\n",
       "      <th>step</th>\n",
       "      <th>station</th>\n",
       "      <th></th>\n",
       "      <th></th>\n",
       "      <th></th>\n",
       "      <th></th>\n",
       "      <th></th>\n",
       "    </tr>\n",
       "  </thead>\n",
       "  <tbody>\n",
       "    <tr>\n",
       "      <th rowspan=\"5\" valign=\"top\">1998-01-29</th>\n",
       "      <th rowspan=\"5\" valign=\"top\">0 days</th>\n",
       "      <th>5C1</th>\n",
       "      <td>29.5</td>\n",
       "      <td>261.5</td>\n",
       "      <td>1998-01-29</td>\n",
       "      <td>NaN</td>\n",
       "      <td>NaN</td>\n",
       "    </tr>\n",
       "    <tr>\n",
       "      <th>ACK</th>\n",
       "      <td>41.5</td>\n",
       "      <td>290.0</td>\n",
       "      <td>1998-01-29</td>\n",
       "      <td>12.971860</td>\n",
       "      <td>4.067212</td>\n",
       "    </tr>\n",
       "    <tr>\n",
       "      <th>ACV</th>\n",
       "      <td>41.0</td>\n",
       "      <td>236.0</td>\n",
       "      <td>1998-01-29</td>\n",
       "      <td>NaN</td>\n",
       "      <td>NaN</td>\n",
       "    </tr>\n",
       "    <tr>\n",
       "      <th>AFW</th>\n",
       "      <td>33.0</td>\n",
       "      <td>262.5</td>\n",
       "      <td>1998-01-29</td>\n",
       "      <td>0.652989</td>\n",
       "      <td>0.323276</td>\n",
       "    </tr>\n",
       "    <tr>\n",
       "      <th>AGC</th>\n",
       "      <td>40.5</td>\n",
       "      <td>280.0</td>\n",
       "      <td>1998-01-29</td>\n",
       "      <td>0.286564</td>\n",
       "      <td>0.496770</td>\n",
       "    </tr>\n",
       "    <tr>\n",
       "      <th>...</th>\n",
       "      <th>...</th>\n",
       "      <th>...</th>\n",
       "      <td>...</td>\n",
       "      <td>...</td>\n",
       "      <td>...</td>\n",
       "      <td>...</td>\n",
       "      <td>...</td>\n",
       "    </tr>\n",
       "    <tr>\n",
       "      <th rowspan=\"5\" valign=\"top\">2014-12-31</th>\n",
       "      <th rowspan=\"5\" valign=\"top\">2 days</th>\n",
       "      <th>SOW</th>\n",
       "      <td>34.5</td>\n",
       "      <td>250.0</td>\n",
       "      <td>2015-01-02</td>\n",
       "      <td>0.226426</td>\n",
       "      <td>0.148269</td>\n",
       "    </tr>\n",
       "    <tr>\n",
       "      <th>TEW</th>\n",
       "      <td>42.5</td>\n",
       "      <td>275.5</td>\n",
       "      <td>2015-01-02</td>\n",
       "      <td>1.034070</td>\n",
       "      <td>0.858817</td>\n",
       "    </tr>\n",
       "    <tr>\n",
       "      <th>TLH</th>\n",
       "      <td>30.5</td>\n",
       "      <td>275.5</td>\n",
       "      <td>2015-01-02</td>\n",
       "      <td>0.590078</td>\n",
       "      <td>0.257485</td>\n",
       "    </tr>\n",
       "    <tr>\n",
       "      <th>VUJ</th>\n",
       "      <td>35.5</td>\n",
       "      <td>280.0</td>\n",
       "      <td>2015-01-02</td>\n",
       "      <td>1.486257</td>\n",
       "      <td>1.001534</td>\n",
       "    </tr>\n",
       "    <tr>\n",
       "      <th>WLD</th>\n",
       "      <td>37.0</td>\n",
       "      <td>263.0</td>\n",
       "      <td>2015-01-02</td>\n",
       "      <td>0.397272</td>\n",
       "      <td>0.259912</td>\n",
       "    </tr>\n",
       "  </tbody>\n",
       "</table>\n",
       "<p>71400 rows × 5 columns</p>\n",
       "</div>"
      ],
      "text/plain": [
       "                              latitude  longitude forecast_valid  \\\n",
       "forecast_time step   station                                       \n",
       "1998-01-29    0 days 5C1          29.5      261.5     1998-01-29   \n",
       "                     ACK          41.5      290.0     1998-01-29   \n",
       "                     ACV          41.0      236.0     1998-01-29   \n",
       "                     AFW          33.0      262.5     1998-01-29   \n",
       "                     AGC          40.5      280.0     1998-01-29   \n",
       "...                                ...        ...            ...   \n",
       "2014-12-31    2 days SOW          34.5      250.0     2015-01-02   \n",
       "                     TEW          42.5      275.5     2015-01-02   \n",
       "                     TLH          30.5      275.5     2015-01-02   \n",
       "                     VUJ          35.5      280.0     2015-01-02   \n",
       "                     WLD          37.0      263.0     2015-01-02   \n",
       "\n",
       "                              model_si10_crps  raw_si10_crps  \n",
       "forecast_time step   station                                  \n",
       "1998-01-29    0 days 5C1                  NaN            NaN  \n",
       "                     ACK            12.971860       4.067212  \n",
       "                     ACV                  NaN            NaN  \n",
       "                     AFW             0.652989       0.323276  \n",
       "                     AGC             0.286564       0.496770  \n",
       "...                                       ...            ...  \n",
       "2014-12-31    2 days SOW             0.226426       0.148269  \n",
       "                     TEW             1.034070       0.858817  \n",
       "                     TLH             0.590078       0.257485  \n",
       "                     VUJ             1.486257       1.001534  \n",
       "                     WLD             0.397272       0.259912  \n",
       "\n",
       "[71400 rows x 5 columns]"
      ]
     },
     "execution_count": 120,
     "metadata": {},
     "output_type": "execute_result"
    }
   ],
   "source": [
    "si10_crps.to_dataframe()"
   ]
  },
  {
   "cell_type": "code",
   "execution_count": 67,
   "id": "8329efc8-a9ee-44c5-87ad-f0e7856642db",
   "metadata": {
    "tags": []
   },
   "outputs": [],
   "source": [
    "obs_si10_df = obs_si10.to_dataframe()\n",
    "preds_si10_df = preds.si10.to_dataframe()"
   ]
  },
  {
   "cell_type": "code",
   "execution_count": 121,
   "id": "d956d419-2c96-448a-a8c9-6e1225938b28",
   "metadata": {
    "tags": []
   },
   "outputs": [],
   "source": [
    "mask = np.isnan(obs_si10_df['obs_si10'])"
   ]
  },
  {
   "cell_type": "code",
   "execution_count": 122,
   "id": "f17dc6fd-e6ad-4cf3-9b73-71243573b831",
   "metadata": {
    "tags": []
   },
   "outputs": [],
   "source": [
    "si10_crps_df = si10_crps.to_dataframe()[~mask]"
   ]
  },
  {
   "cell_type": "code",
   "execution_count": 123,
   "id": "5f255496-eef5-4a1d-9580-595c758ee46c",
   "metadata": {
    "tags": []
   },
   "outputs": [
    {
     "data": {
      "text/html": [
       "<div>\n",
       "<style scoped>\n",
       "    .dataframe tbody tr th:only-of-type {\n",
       "        vertical-align: middle;\n",
       "    }\n",
       "\n",
       "    .dataframe tbody tr th {\n",
       "        vertical-align: top;\n",
       "    }\n",
       "\n",
       "    .dataframe thead th {\n",
       "        text-align: right;\n",
       "    }\n",
       "</style>\n",
       "<table border=\"1\" class=\"dataframe\">\n",
       "  <thead>\n",
       "    <tr style=\"text-align: right;\">\n",
       "      <th></th>\n",
       "      <th></th>\n",
       "      <th></th>\n",
       "      <th>latitude</th>\n",
       "      <th>longitude</th>\n",
       "      <th>forecast_valid</th>\n",
       "      <th>model_si10_crps</th>\n",
       "      <th>raw_si10_crps</th>\n",
       "    </tr>\n",
       "    <tr>\n",
       "      <th>forecast_time</th>\n",
       "      <th>step</th>\n",
       "      <th>station</th>\n",
       "      <th></th>\n",
       "      <th></th>\n",
       "      <th></th>\n",
       "      <th></th>\n",
       "      <th></th>\n",
       "    </tr>\n",
       "  </thead>\n",
       "  <tbody>\n",
       "    <tr>\n",
       "      <th rowspan=\"5\" valign=\"top\">1998-01-29</th>\n",
       "      <th rowspan=\"5\" valign=\"top\">0 days</th>\n",
       "      <th>ACK</th>\n",
       "      <td>41.5</td>\n",
       "      <td>290.0</td>\n",
       "      <td>1998-01-29</td>\n",
       "      <td>12.971860</td>\n",
       "      <td>4.067212</td>\n",
       "    </tr>\n",
       "    <tr>\n",
       "      <th>AFW</th>\n",
       "      <td>33.0</td>\n",
       "      <td>262.5</td>\n",
       "      <td>1998-01-29</td>\n",
       "      <td>0.652989</td>\n",
       "      <td>0.323276</td>\n",
       "    </tr>\n",
       "    <tr>\n",
       "      <th>AGC</th>\n",
       "      <td>40.5</td>\n",
       "      <td>280.0</td>\n",
       "      <td>1998-01-29</td>\n",
       "      <td>0.286564</td>\n",
       "      <td>0.496770</td>\n",
       "    </tr>\n",
       "    <tr>\n",
       "      <th>ANW</th>\n",
       "      <td>42.5</td>\n",
       "      <td>260.0</td>\n",
       "      <td>1998-01-29</td>\n",
       "      <td>0.554156</td>\n",
       "      <td>2.220484</td>\n",
       "    </tr>\n",
       "    <tr>\n",
       "      <th>APA</th>\n",
       "      <td>39.5</td>\n",
       "      <td>255.0</td>\n",
       "      <td>1998-01-29</td>\n",
       "      <td>2.459770</td>\n",
       "      <td>4.568499</td>\n",
       "    </tr>\n",
       "    <tr>\n",
       "      <th>...</th>\n",
       "      <th>...</th>\n",
       "      <th>...</th>\n",
       "      <td>...</td>\n",
       "      <td>...</td>\n",
       "      <td>...</td>\n",
       "      <td>...</td>\n",
       "      <td>...</td>\n",
       "    </tr>\n",
       "    <tr>\n",
       "      <th rowspan=\"5\" valign=\"top\">2014-12-31</th>\n",
       "      <th rowspan=\"5\" valign=\"top\">2 days</th>\n",
       "      <th>SOW</th>\n",
       "      <td>34.5</td>\n",
       "      <td>250.0</td>\n",
       "      <td>2015-01-02</td>\n",
       "      <td>0.226426</td>\n",
       "      <td>0.148269</td>\n",
       "    </tr>\n",
       "    <tr>\n",
       "      <th>TEW</th>\n",
       "      <td>42.5</td>\n",
       "      <td>275.5</td>\n",
       "      <td>2015-01-02</td>\n",
       "      <td>1.034070</td>\n",
       "      <td>0.858817</td>\n",
       "    </tr>\n",
       "    <tr>\n",
       "      <th>TLH</th>\n",
       "      <td>30.5</td>\n",
       "      <td>275.5</td>\n",
       "      <td>2015-01-02</td>\n",
       "      <td>0.590078</td>\n",
       "      <td>0.257485</td>\n",
       "    </tr>\n",
       "    <tr>\n",
       "      <th>VUJ</th>\n",
       "      <td>35.5</td>\n",
       "      <td>280.0</td>\n",
       "      <td>2015-01-02</td>\n",
       "      <td>1.486257</td>\n",
       "      <td>1.001534</td>\n",
       "    </tr>\n",
       "    <tr>\n",
       "      <th>WLD</th>\n",
       "      <td>37.0</td>\n",
       "      <td>263.0</td>\n",
       "      <td>2015-01-02</td>\n",
       "      <td>0.397272</td>\n",
       "      <td>0.259912</td>\n",
       "    </tr>\n",
       "  </tbody>\n",
       "</table>\n",
       "<p>63969 rows × 5 columns</p>\n",
       "</div>"
      ],
      "text/plain": [
       "                              latitude  longitude forecast_valid  \\\n",
       "forecast_time step   station                                       \n",
       "1998-01-29    0 days ACK          41.5      290.0     1998-01-29   \n",
       "                     AFW          33.0      262.5     1998-01-29   \n",
       "                     AGC          40.5      280.0     1998-01-29   \n",
       "                     ANW          42.5      260.0     1998-01-29   \n",
       "                     APA          39.5      255.0     1998-01-29   \n",
       "...                                ...        ...            ...   \n",
       "2014-12-31    2 days SOW          34.5      250.0     2015-01-02   \n",
       "                     TEW          42.5      275.5     2015-01-02   \n",
       "                     TLH          30.5      275.5     2015-01-02   \n",
       "                     VUJ          35.5      280.0     2015-01-02   \n",
       "                     WLD          37.0      263.0     2015-01-02   \n",
       "\n",
       "                              model_si10_crps  raw_si10_crps  \n",
       "forecast_time step   station                                  \n",
       "1998-01-29    0 days ACK            12.971860       4.067212  \n",
       "                     AFW             0.652989       0.323276  \n",
       "                     AGC             0.286564       0.496770  \n",
       "                     ANW             0.554156       2.220484  \n",
       "                     APA             2.459770       4.568499  \n",
       "...                                       ...            ...  \n",
       "2014-12-31    2 days SOW             0.226426       0.148269  \n",
       "                     TEW             1.034070       0.858817  \n",
       "                     TLH             0.590078       0.257485  \n",
       "                     VUJ             1.486257       1.001534  \n",
       "                     WLD             0.397272       0.259912  \n",
       "\n",
       "[63969 rows x 5 columns]"
      ]
     },
     "execution_count": 123,
     "metadata": {},
     "output_type": "execute_result"
    }
   ],
   "source": [
    "si10_crps_df"
   ]
  },
  {
   "cell_type": "markdown",
   "id": "307ad4d6-ecad-4b80-87ce-67e78b7aae63",
   "metadata": {},
   "source": [
    "### Various plots"
   ]
  },
  {
   "cell_type": "code",
   "execution_count": 125,
   "id": "ffa41312-7a27-4e7e-9800-adcafeda735a",
   "metadata": {
    "tags": []
   },
   "outputs": [
    {
     "data": {
      "text/html": [
       "<div>\n",
       "<style scoped>\n",
       "    .dataframe tbody tr th:only-of-type {\n",
       "        vertical-align: middle;\n",
       "    }\n",
       "\n",
       "    .dataframe tbody tr th {\n",
       "        vertical-align: top;\n",
       "    }\n",
       "\n",
       "    .dataframe thead th {\n",
       "        text-align: right;\n",
       "    }\n",
       "</style>\n",
       "<table border=\"1\" class=\"dataframe\">\n",
       "  <thead>\n",
       "    <tr style=\"text-align: right;\">\n",
       "      <th></th>\n",
       "      <th>latitude</th>\n",
       "      <th>longitude</th>\n",
       "      <th>forecast_valid</th>\n",
       "      <th>model_si10_crps</th>\n",
       "      <th>raw_si10_crps</th>\n",
       "    </tr>\n",
       "    <tr>\n",
       "      <th>step</th>\n",
       "      <th></th>\n",
       "      <th></th>\n",
       "      <th></th>\n",
       "      <th></th>\n",
       "      <th></th>\n",
       "    </tr>\n",
       "  </thead>\n",
       "  <tbody>\n",
       "    <tr>\n",
       "      <th>0 days</th>\n",
       "      <td>48.799421</td>\n",
       "      <td>257.449808</td>\n",
       "      <td>2006-12-04 21:10:41.704035840</td>\n",
       "      <td>1.035286</td>\n",
       "      <td>1.614335</td>\n",
       "    </tr>\n",
       "    <tr>\n",
       "      <th>1 days</th>\n",
       "      <td>48.737732</td>\n",
       "      <td>257.330238</td>\n",
       "      <td>2006-11-29 03:59:28.339804416</td>\n",
       "      <td>1.042476</td>\n",
       "      <td>1.397929</td>\n",
       "    </tr>\n",
       "    <tr>\n",
       "      <th>2 days</th>\n",
       "      <td>48.693306</td>\n",
       "      <td>257.302138</td>\n",
       "      <td>2006-12-13 03:05:26.283987968</td>\n",
       "      <td>1.065520</td>\n",
       "      <td>1.394330</td>\n",
       "    </tr>\n",
       "  </tbody>\n",
       "</table>\n",
       "</div>"
      ],
      "text/plain": [
       "         latitude   longitude                forecast_valid  model_si10_crps  \\\n",
       "step                                                                           \n",
       "0 days  48.799421  257.449808 2006-12-04 21:10:41.704035840         1.035286   \n",
       "1 days  48.737732  257.330238 2006-11-29 03:59:28.339804416         1.042476   \n",
       "2 days  48.693306  257.302138 2006-12-13 03:05:26.283987968         1.065520   \n",
       "\n",
       "        raw_si10_crps  \n",
       "step                   \n",
       "0 days       1.614335  \n",
       "1 days       1.397929  \n",
       "2 days       1.394330  "
      ]
     },
     "execution_count": 125,
     "metadata": {},
     "output_type": "execute_result"
    }
   ],
   "source": [
    "crps_by_step = si10_crps_df.groupby(['step']).mean()\n",
    "crps_by_step"
   ]
  },
  {
   "cell_type": "code",
   "execution_count": 127,
   "id": "0485fcd0-b1f3-430d-8182-9857cd3fcd06",
   "metadata": {
    "tags": []
   },
   "outputs": [
    {
     "data": {
      "text/html": [
       "<div>\n",
       "<style scoped>\n",
       "    .dataframe tbody tr th:only-of-type {\n",
       "        vertical-align: middle;\n",
       "    }\n",
       "\n",
       "    .dataframe tbody tr th {\n",
       "        vertical-align: top;\n",
       "    }\n",
       "\n",
       "    .dataframe thead th {\n",
       "        text-align: right;\n",
       "    }\n",
       "</style>\n",
       "<table border=\"1\" class=\"dataframe\">\n",
       "  <thead>\n",
       "    <tr style=\"text-align: right;\">\n",
       "      <th></th>\n",
       "      <th>step</th>\n",
       "      <th>variable</th>\n",
       "      <th>value</th>\n",
       "    </tr>\n",
       "  </thead>\n",
       "  <tbody>\n",
       "    <tr>\n",
       "      <th>0</th>\n",
       "      <td>0 days</td>\n",
       "      <td>model_si10_crps</td>\n",
       "      <td>1.035286</td>\n",
       "    </tr>\n",
       "    <tr>\n",
       "      <th>1</th>\n",
       "      <td>1 days</td>\n",
       "      <td>model_si10_crps</td>\n",
       "      <td>1.042476</td>\n",
       "    </tr>\n",
       "    <tr>\n",
       "      <th>2</th>\n",
       "      <td>2 days</td>\n",
       "      <td>model_si10_crps</td>\n",
       "      <td>1.065520</td>\n",
       "    </tr>\n",
       "    <tr>\n",
       "      <th>3</th>\n",
       "      <td>0 days</td>\n",
       "      <td>raw_si10_crps</td>\n",
       "      <td>1.614335</td>\n",
       "    </tr>\n",
       "    <tr>\n",
       "      <th>4</th>\n",
       "      <td>1 days</td>\n",
       "      <td>raw_si10_crps</td>\n",
       "      <td>1.397929</td>\n",
       "    </tr>\n",
       "    <tr>\n",
       "      <th>5</th>\n",
       "      <td>2 days</td>\n",
       "      <td>raw_si10_crps</td>\n",
       "      <td>1.394330</td>\n",
       "    </tr>\n",
       "  </tbody>\n",
       "</table>\n",
       "</div>"
      ],
      "text/plain": [
       "    step         variable     value\n",
       "0 0 days  model_si10_crps  1.035286\n",
       "1 1 days  model_si10_crps  1.042476\n",
       "2 2 days  model_si10_crps  1.065520\n",
       "3 0 days    raw_si10_crps  1.614335\n",
       "4 1 days    raw_si10_crps  1.397929\n",
       "5 2 days    raw_si10_crps  1.394330"
      ]
     },
     "execution_count": 127,
     "metadata": {},
     "output_type": "execute_result"
    }
   ],
   "source": []
  },
  {
   "cell_type": "code",
   "execution_count": 129,
   "id": "980a4113-c7eb-4722-8ae3-79f90e090523",
   "metadata": {
    "tags": []
   },
   "outputs": [
    {
     "data": {
      "application/vnd.plotly.v1+json": {
       "config": {
        "plotlyServerURL": "https://plot.ly"
       },
       "data": [
        {
         "hovertemplate": "variable=model_si10_crps<br>step=%{x}<br>value=%{y}<extra></extra>",
         "legendgroup": "model_si10_crps",
         "line": {
          "color": "#636efa",
          "dash": "solid"
         },
         "marker": {
          "symbol": "circle"
         },
         "mode": "lines",
         "name": "model_si10_crps",
         "orientation": "v",
         "showlegend": true,
         "type": "scatter",
         "x": [
          0,
          86400000000000,
          172800000000000
         ],
         "xaxis": "x",
         "y": [
          1.0352855920791626,
          1.0424760580062866,
          1.065520167350769
         ],
         "yaxis": "y"
        },
        {
         "hovertemplate": "variable=raw_si10_crps<br>step=%{x}<br>value=%{y}<extra></extra>",
         "legendgroup": "raw_si10_crps",
         "line": {
          "color": "#EF553B",
          "dash": "solid"
         },
         "marker": {
          "symbol": "circle"
         },
         "mode": "lines",
         "name": "raw_si10_crps",
         "orientation": "v",
         "showlegend": true,
         "type": "scatter",
         "x": [
          0,
          86400000000000,
          172800000000000
         ],
         "xaxis": "x",
         "y": [
          1.6143349409103394,
          1.3979291915893555,
          1.3943300247192383
         ],
         "yaxis": "y"
        }
       ],
       "layout": {
        "autosize": true,
        "legend": {
         "title": {
          "text": "variable"
         },
         "tracegroupgap": 0
        },
        "margin": {
         "t": 60
        },
        "template": {
         "data": {
          "bar": [
           {
            "error_x": {
             "color": "#2a3f5f"
            },
            "error_y": {
             "color": "#2a3f5f"
            },
            "marker": {
             "line": {
              "color": "#E5ECF6",
              "width": 0.5
             },
             "pattern": {
              "fillmode": "overlay",
              "size": 10,
              "solidity": 0.2
             }
            },
            "type": "bar"
           }
          ],
          "barpolar": [
           {
            "marker": {
             "line": {
              "color": "#E5ECF6",
              "width": 0.5
             },
             "pattern": {
              "fillmode": "overlay",
              "size": 10,
              "solidity": 0.2
             }
            },
            "type": "barpolar"
           }
          ],
          "carpet": [
           {
            "aaxis": {
             "endlinecolor": "#2a3f5f",
             "gridcolor": "white",
             "linecolor": "white",
             "minorgridcolor": "white",
             "startlinecolor": "#2a3f5f"
            },
            "baxis": {
             "endlinecolor": "#2a3f5f",
             "gridcolor": "white",
             "linecolor": "white",
             "minorgridcolor": "white",
             "startlinecolor": "#2a3f5f"
            },
            "type": "carpet"
           }
          ],
          "choropleth": [
           {
            "colorbar": {
             "outlinewidth": 0,
             "ticks": ""
            },
            "type": "choropleth"
           }
          ],
          "contour": [
           {
            "colorbar": {
             "outlinewidth": 0,
             "ticks": ""
            },
            "colorscale": [
             [
              0,
              "#0d0887"
             ],
             [
              0.1111111111111111,
              "#46039f"
             ],
             [
              0.2222222222222222,
              "#7201a8"
             ],
             [
              0.3333333333333333,
              "#9c179e"
             ],
             [
              0.4444444444444444,
              "#bd3786"
             ],
             [
              0.5555555555555556,
              "#d8576b"
             ],
             [
              0.6666666666666666,
              "#ed7953"
             ],
             [
              0.7777777777777778,
              "#fb9f3a"
             ],
             [
              0.8888888888888888,
              "#fdca26"
             ],
             [
              1,
              "#f0f921"
             ]
            ],
            "type": "contour"
           }
          ],
          "contourcarpet": [
           {
            "colorbar": {
             "outlinewidth": 0,
             "ticks": ""
            },
            "type": "contourcarpet"
           }
          ],
          "heatmap": [
           {
            "colorbar": {
             "outlinewidth": 0,
             "ticks": ""
            },
            "colorscale": [
             [
              0,
              "#0d0887"
             ],
             [
              0.1111111111111111,
              "#46039f"
             ],
             [
              0.2222222222222222,
              "#7201a8"
             ],
             [
              0.3333333333333333,
              "#9c179e"
             ],
             [
              0.4444444444444444,
              "#bd3786"
             ],
             [
              0.5555555555555556,
              "#d8576b"
             ],
             [
              0.6666666666666666,
              "#ed7953"
             ],
             [
              0.7777777777777778,
              "#fb9f3a"
             ],
             [
              0.8888888888888888,
              "#fdca26"
             ],
             [
              1,
              "#f0f921"
             ]
            ],
            "type": "heatmap"
           }
          ],
          "heatmapgl": [
           {
            "colorbar": {
             "outlinewidth": 0,
             "ticks": ""
            },
            "colorscale": [
             [
              0,
              "#0d0887"
             ],
             [
              0.1111111111111111,
              "#46039f"
             ],
             [
              0.2222222222222222,
              "#7201a8"
             ],
             [
              0.3333333333333333,
              "#9c179e"
             ],
             [
              0.4444444444444444,
              "#bd3786"
             ],
             [
              0.5555555555555556,
              "#d8576b"
             ],
             [
              0.6666666666666666,
              "#ed7953"
             ],
             [
              0.7777777777777778,
              "#fb9f3a"
             ],
             [
              0.8888888888888888,
              "#fdca26"
             ],
             [
              1,
              "#f0f921"
             ]
            ],
            "type": "heatmapgl"
           }
          ],
          "histogram": [
           {
            "marker": {
             "pattern": {
              "fillmode": "overlay",
              "size": 10,
              "solidity": 0.2
             }
            },
            "type": "histogram"
           }
          ],
          "histogram2d": [
           {
            "colorbar": {
             "outlinewidth": 0,
             "ticks": ""
            },
            "colorscale": [
             [
              0,
              "#0d0887"
             ],
             [
              0.1111111111111111,
              "#46039f"
             ],
             [
              0.2222222222222222,
              "#7201a8"
             ],
             [
              0.3333333333333333,
              "#9c179e"
             ],
             [
              0.4444444444444444,
              "#bd3786"
             ],
             [
              0.5555555555555556,
              "#d8576b"
             ],
             [
              0.6666666666666666,
              "#ed7953"
             ],
             [
              0.7777777777777778,
              "#fb9f3a"
             ],
             [
              0.8888888888888888,
              "#fdca26"
             ],
             [
              1,
              "#f0f921"
             ]
            ],
            "type": "histogram2d"
           }
          ],
          "histogram2dcontour": [
           {
            "colorbar": {
             "outlinewidth": 0,
             "ticks": ""
            },
            "colorscale": [
             [
              0,
              "#0d0887"
             ],
             [
              0.1111111111111111,
              "#46039f"
             ],
             [
              0.2222222222222222,
              "#7201a8"
             ],
             [
              0.3333333333333333,
              "#9c179e"
             ],
             [
              0.4444444444444444,
              "#bd3786"
             ],
             [
              0.5555555555555556,
              "#d8576b"
             ],
             [
              0.6666666666666666,
              "#ed7953"
             ],
             [
              0.7777777777777778,
              "#fb9f3a"
             ],
             [
              0.8888888888888888,
              "#fdca26"
             ],
             [
              1,
              "#f0f921"
             ]
            ],
            "type": "histogram2dcontour"
           }
          ],
          "mesh3d": [
           {
            "colorbar": {
             "outlinewidth": 0,
             "ticks": ""
            },
            "type": "mesh3d"
           }
          ],
          "parcoords": [
           {
            "line": {
             "colorbar": {
              "outlinewidth": 0,
              "ticks": ""
             }
            },
            "type": "parcoords"
           }
          ],
          "pie": [
           {
            "automargin": true,
            "type": "pie"
           }
          ],
          "scatter": [
           {
            "fillpattern": {
             "fillmode": "overlay",
             "size": 10,
             "solidity": 0.2
            },
            "type": "scatter"
           }
          ],
          "scatter3d": [
           {
            "line": {
             "colorbar": {
              "outlinewidth": 0,
              "ticks": ""
             }
            },
            "marker": {
             "colorbar": {
              "outlinewidth": 0,
              "ticks": ""
             }
            },
            "type": "scatter3d"
           }
          ],
          "scattercarpet": [
           {
            "marker": {
             "colorbar": {
              "outlinewidth": 0,
              "ticks": ""
             }
            },
            "type": "scattercarpet"
           }
          ],
          "scattergeo": [
           {
            "marker": {
             "colorbar": {
              "outlinewidth": 0,
              "ticks": ""
             }
            },
            "type": "scattergeo"
           }
          ],
          "scattergl": [
           {
            "marker": {
             "colorbar": {
              "outlinewidth": 0,
              "ticks": ""
             }
            },
            "type": "scattergl"
           }
          ],
          "scattermapbox": [
           {
            "marker": {
             "colorbar": {
              "outlinewidth": 0,
              "ticks": ""
             }
            },
            "type": "scattermapbox"
           }
          ],
          "scatterpolar": [
           {
            "marker": {
             "colorbar": {
              "outlinewidth": 0,
              "ticks": ""
             }
            },
            "type": "scatterpolar"
           }
          ],
          "scatterpolargl": [
           {
            "marker": {
             "colorbar": {
              "outlinewidth": 0,
              "ticks": ""
             }
            },
            "type": "scatterpolargl"
           }
          ],
          "scatterternary": [
           {
            "marker": {
             "colorbar": {
              "outlinewidth": 0,
              "ticks": ""
             }
            },
            "type": "scatterternary"
           }
          ],
          "surface": [
           {
            "colorbar": {
             "outlinewidth": 0,
             "ticks": ""
            },
            "colorscale": [
             [
              0,
              "#0d0887"
             ],
             [
              0.1111111111111111,
              "#46039f"
             ],
             [
              0.2222222222222222,
              "#7201a8"
             ],
             [
              0.3333333333333333,
              "#9c179e"
             ],
             [
              0.4444444444444444,
              "#bd3786"
             ],
             [
              0.5555555555555556,
              "#d8576b"
             ],
             [
              0.6666666666666666,
              "#ed7953"
             ],
             [
              0.7777777777777778,
              "#fb9f3a"
             ],
             [
              0.8888888888888888,
              "#fdca26"
             ],
             [
              1,
              "#f0f921"
             ]
            ],
            "type": "surface"
           }
          ],
          "table": [
           {
            "cells": {
             "fill": {
              "color": "#EBF0F8"
             },
             "line": {
              "color": "white"
             }
            },
            "header": {
             "fill": {
              "color": "#C8D4E3"
             },
             "line": {
              "color": "white"
             }
            },
            "type": "table"
           }
          ]
         },
         "layout": {
          "annotationdefaults": {
           "arrowcolor": "#2a3f5f",
           "arrowhead": 0,
           "arrowwidth": 1
          },
          "autotypenumbers": "strict",
          "coloraxis": {
           "colorbar": {
            "outlinewidth": 0,
            "ticks": ""
           }
          },
          "colorscale": {
           "diverging": [
            [
             0,
             "#8e0152"
            ],
            [
             0.1,
             "#c51b7d"
            ],
            [
             0.2,
             "#de77ae"
            ],
            [
             0.3,
             "#f1b6da"
            ],
            [
             0.4,
             "#fde0ef"
            ],
            [
             0.5,
             "#f7f7f7"
            ],
            [
             0.6,
             "#e6f5d0"
            ],
            [
             0.7,
             "#b8e186"
            ],
            [
             0.8,
             "#7fbc41"
            ],
            [
             0.9,
             "#4d9221"
            ],
            [
             1,
             "#276419"
            ]
           ],
           "sequential": [
            [
             0,
             "#0d0887"
            ],
            [
             0.1111111111111111,
             "#46039f"
            ],
            [
             0.2222222222222222,
             "#7201a8"
            ],
            [
             0.3333333333333333,
             "#9c179e"
            ],
            [
             0.4444444444444444,
             "#bd3786"
            ],
            [
             0.5555555555555556,
             "#d8576b"
            ],
            [
             0.6666666666666666,
             "#ed7953"
            ],
            [
             0.7777777777777778,
             "#fb9f3a"
            ],
            [
             0.8888888888888888,
             "#fdca26"
            ],
            [
             1,
             "#f0f921"
            ]
           ],
           "sequentialminus": [
            [
             0,
             "#0d0887"
            ],
            [
             0.1111111111111111,
             "#46039f"
            ],
            [
             0.2222222222222222,
             "#7201a8"
            ],
            [
             0.3333333333333333,
             "#9c179e"
            ],
            [
             0.4444444444444444,
             "#bd3786"
            ],
            [
             0.5555555555555556,
             "#d8576b"
            ],
            [
             0.6666666666666666,
             "#ed7953"
            ],
            [
             0.7777777777777778,
             "#fb9f3a"
            ],
            [
             0.8888888888888888,
             "#fdca26"
            ],
            [
             1,
             "#f0f921"
            ]
           ]
          },
          "colorway": [
           "#636efa",
           "#EF553B",
           "#00cc96",
           "#ab63fa",
           "#FFA15A",
           "#19d3f3",
           "#FF6692",
           "#B6E880",
           "#FF97FF",
           "#FECB52"
          ],
          "font": {
           "color": "#2a3f5f"
          },
          "geo": {
           "bgcolor": "white",
           "lakecolor": "white",
           "landcolor": "#E5ECF6",
           "showlakes": true,
           "showland": true,
           "subunitcolor": "white"
          },
          "hoverlabel": {
           "align": "left"
          },
          "hovermode": "closest",
          "mapbox": {
           "style": "light"
          },
          "paper_bgcolor": "white",
          "plot_bgcolor": "#E5ECF6",
          "polar": {
           "angularaxis": {
            "gridcolor": "white",
            "linecolor": "white",
            "ticks": ""
           },
           "bgcolor": "#E5ECF6",
           "radialaxis": {
            "gridcolor": "white",
            "linecolor": "white",
            "ticks": ""
           }
          },
          "scene": {
           "xaxis": {
            "backgroundcolor": "#E5ECF6",
            "gridcolor": "white",
            "gridwidth": 2,
            "linecolor": "white",
            "showbackground": true,
            "ticks": "",
            "zerolinecolor": "white"
           },
           "yaxis": {
            "backgroundcolor": "#E5ECF6",
            "gridcolor": "white",
            "gridwidth": 2,
            "linecolor": "white",
            "showbackground": true,
            "ticks": "",
            "zerolinecolor": "white"
           },
           "zaxis": {
            "backgroundcolor": "#E5ECF6",
            "gridcolor": "white",
            "gridwidth": 2,
            "linecolor": "white",
            "showbackground": true,
            "ticks": "",
            "zerolinecolor": "white"
           }
          },
          "shapedefaults": {
           "line": {
            "color": "#2a3f5f"
           }
          },
          "ternary": {
           "aaxis": {
            "gridcolor": "white",
            "linecolor": "white",
            "ticks": ""
           },
           "baxis": {
            "gridcolor": "white",
            "linecolor": "white",
            "ticks": ""
           },
           "bgcolor": "#E5ECF6",
           "caxis": {
            "gridcolor": "white",
            "linecolor": "white",
            "ticks": ""
           }
          },
          "title": {
           "x": 0.05
          },
          "xaxis": {
           "automargin": true,
           "gridcolor": "white",
           "linecolor": "white",
           "ticks": "",
           "title": {
            "standoff": 15
           },
           "zerolinecolor": "white",
           "zerolinewidth": 2
          },
          "yaxis": {
           "automargin": true,
           "gridcolor": "white",
           "linecolor": "white",
           "ticks": "",
           "title": {
            "standoff": 15
           },
           "zerolinecolor": "white",
           "zerolinewidth": 2
          }
         }
        },
        "xaxis": {
         "anchor": "y",
         "autorange": true,
         "domain": [
          0,
          1
         ],
         "range": [
          0,
          172800000000000
         ],
         "title": {
          "text": "step"
         },
         "type": "linear"
        },
        "yaxis": {
         "anchor": "x",
         "domain": [
          0,
          1
         ],
         "range": [
          0,
          2
         ],
         "title": {
          "text": "value"
         },
         "type": "linear"
        }
       }
      },
      "image/png": "[encoded data removed]",
      "text/html": [
       "<div>                            <div id=\"086d9ce9-d48c-4edb-89b1-4f21020b30fd\" class=\"plotly-graph-div\" style=\"height:525px; width:100%;\"></div>            <script type=\"text/javascript\">                require([\"plotly\"], function(Plotly) {                    window.PLOTLYENV=window.PLOTLYENV || {};                                    if (document.getElementById(\"086d9ce9-d48c-4edb-89b1-4f21020b30fd\")) {                    Plotly.newPlot(                        \"086d9ce9-d48c-4edb-89b1-4f21020b30fd\",                        [{\"hovertemplate\":\"variable=model_si10_crps\\u003cbr\\u003estep=%{x}\\u003cbr\\u003evalue=%{y}\\u003cextra\\u003e\\u003c\\u002fextra\\u003e\",\"legendgroup\":\"model_si10_crps\",\"line\":{\"color\":\"#636efa\",\"dash\":\"solid\"},\"marker\":{\"symbol\":\"circle\"},\"mode\":\"lines\",\"name\":\"model_si10_crps\",\"orientation\":\"v\",\"showlegend\":true,\"x\":[0,86400000000000,172800000000000],\"xaxis\":\"x\",\"y\":[1.0352855920791626,1.0424760580062866,1.065520167350769],\"yaxis\":\"y\",\"type\":\"scatter\"},{\"hovertemplate\":\"variable=raw_si10_crps\\u003cbr\\u003estep=%{x}\\u003cbr\\u003evalue=%{y}\\u003cextra\\u003e\\u003c\\u002fextra\\u003e\",\"legendgroup\":\"raw_si10_crps\",\"line\":{\"color\":\"#EF553B\",\"dash\":\"solid\"},\"marker\":{\"symbol\":\"circle\"},\"mode\":\"lines\",\"name\":\"raw_si10_crps\",\"orientation\":\"v\",\"showlegend\":true,\"x\":[0,86400000000000,172800000000000],\"xaxis\":\"x\",\"y\":[1.6143349409103394,1.3979291915893555,1.3943300247192383],\"yaxis\":\"y\",\"type\":\"scatter\"}],                        {\"template\":{\"data\":{\"histogram2dcontour\":[{\"type\":\"histogram2dcontour\",\"colorbar\":{\"outlinewidth\":0,\"ticks\":\"\"},\"colorscale\":[[0.0,\"#0d0887\"],[0.1111111111111111,\"#46039f\"],[0.2222222222222222,\"#7201a8\"],[0.3333333333333333,\"#9c179e\"],[0.4444444444444444,\"#bd3786\"],[0.5555555555555556,\"#d8576b\"],[0.6666666666666666,\"#ed7953\"],[0.7777777777777778,\"#fb9f3a\"],[0.8888888888888888,\"#fdca26\"],[1.0,\"#f0f921\"]]}],\"choropleth\":[{\"type\":\"choropleth\",\"colorbar\":{\"outlinewidth\":0,\"ticks\":\"\"}}],\"histogram2d\":[{\"type\":\"histogram2d\",\"colorbar\":{\"outlinewidth\":0,\"ticks\":\"\"},\"colorscale\":[[0.0,\"#0d0887\"],[0.1111111111111111,\"#46039f\"],[0.2222222222222222,\"#7201a8\"],[0.3333333333333333,\"#9c179e\"],[0.4444444444444444,\"#bd3786\"],[0.5555555555555556,\"#d8576b\"],[0.6666666666666666,\"#ed7953\"],[0.7777777777777778,\"#fb9f3a\"],[0.8888888888888888,\"#fdca26\"],[1.0,\"#f0f921\"]]}],\"heatmap\":[{\"type\":\"heatmap\",\"colorbar\":{\"outlinewidth\":0,\"ticks\":\"\"},\"colorscale\":[[0.0,\"#0d0887\"],[0.1111111111111111,\"#46039f\"],[0.2222222222222222,\"#7201a8\"],[0.3333333333333333,\"#9c179e\"],[0.4444444444444444,\"#bd3786\"],[0.5555555555555556,\"#d8576b\"],[0.6666666666666666,\"#ed7953\"],[0.7777777777777778,\"#fb9f3a\"],[0.8888888888888888,\"#fdca26\"],[1.0,\"#f0f921\"]]}],\"heatmapgl\":[{\"type\":\"heatmapgl\",\"colorbar\":{\"outlinewidth\":0,\"ticks\":\"\"},\"colorscale\":[[0.0,\"#0d0887\"],[0.1111111111111111,\"#46039f\"],[0.2222222222222222,\"#7201a8\"],[0.3333333333333333,\"#9c179e\"],[0.4444444444444444,\"#bd3786\"],[0.5555555555555556,\"#d8576b\"],[0.6666666666666666,\"#ed7953\"],[0.7777777777777778,\"#fb9f3a\"],[0.8888888888888888,\"#fdca26\"],[1.0,\"#f0f921\"]]}],\"contourcarpet\":[{\"type\":\"contourcarpet\",\"colorbar\":{\"outlinewidth\":0,\"ticks\":\"\"}}],\"contour\":[{\"type\":\"contour\",\"colorbar\":{\"outlinewidth\":0,\"ticks\":\"\"},\"colorscale\":[[0.0,\"#0d0887\"],[0.1111111111111111,\"#46039f\"],[0.2222222222222222,\"#7201a8\"],[0.3333333333333333,\"#9c179e\"],[0.4444444444444444,\"#bd3786\"],[0.5555555555555556,\"#d8576b\"],[0.6666666666666666,\"#ed7953\"],[0.7777777777777778,\"#fb9f3a\"],[0.8888888888888888,\"#fdca26\"],[1.0,\"#f0f921\"]]}],\"surface\":[{\"type\":\"surface\",\"colorbar\":{\"outlinewidth\":0,\"ticks\":\"\"},\"colorscale\":[[0.0,\"#0d0887\"],[0.1111111111111111,\"#46039f\"],[0.2222222222222222,\"#7201a8\"],[0.3333333333333333,\"#9c179e\"],[0.4444444444444444,\"#bd3786\"],[0.5555555555555556,\"#d8576b\"],[0.6666666666666666,\"#ed7953\"],[0.7777777777777778,\"#fb9f3a\"],[0.8888888888888888,\"#fdca26\"],[1.0,\"#f0f921\"]]}],\"mesh3d\":[{\"type\":\"mesh3d\",\"colorbar\":{\"outlinewidth\":0,\"ticks\":\"\"}}],\"scatter\":[{\"fillpattern\":{\"fillmode\":\"overlay\",\"size\":10,\"solidity\":0.2},\"type\":\"scatter\"}],\"parcoords\":[{\"type\":\"parcoords\",\"line\":{\"colorbar\":{\"outlinewidth\":0,\"ticks\":\"\"}}}],\"scatterpolargl\":[{\"type\":\"scatterpolargl\",\"marker\":{\"colorbar\":{\"outlinewidth\":0,\"ticks\":\"\"}}}],\"bar\":[{\"error_x\":{\"color\":\"#2a3f5f\"},\"error_y\":{\"color\":\"#2a3f5f\"},\"marker\":{\"line\":{\"color\":\"#E5ECF6\",\"width\":0.5},\"pattern\":{\"fillmode\":\"overlay\",\"size\":10,\"solidity\":0.2}},\"type\":\"bar\"}],\"scattergeo\":[{\"type\":\"scattergeo\",\"marker\":{\"colorbar\":{\"outlinewidth\":0,\"ticks\":\"\"}}}],\"scatterpolar\":[{\"type\":\"scatterpolar\",\"marker\":{\"colorbar\":{\"outlinewidth\":0,\"ticks\":\"\"}}}],\"histogram\":[{\"marker\":{\"pattern\":{\"fillmode\":\"overlay\",\"size\":10,\"solidity\":0.2}},\"type\":\"histogram\"}],\"scattergl\":[{\"type\":\"scattergl\",\"marker\":{\"colorbar\":{\"outlinewidth\":0,\"ticks\":\"\"}}}],\"scatter3d\":[{\"type\":\"scatter3d\",\"line\":{\"colorbar\":{\"outlinewidth\":0,\"ticks\":\"\"}},\"marker\":{\"colorbar\":{\"outlinewidth\":0,\"ticks\":\"\"}}}],\"scattermapbox\":[{\"type\":\"scattermapbox\",\"marker\":{\"colorbar\":{\"outlinewidth\":0,\"ticks\":\"\"}}}],\"scatterternary\":[{\"type\":\"scatterternary\",\"marker\":{\"colorbar\":{\"outlinewidth\":0,\"ticks\":\"\"}}}],\"scattercarpet\":[{\"type\":\"scattercarpet\",\"marker\":{\"colorbar\":{\"outlinewidth\":0,\"ticks\":\"\"}}}],\"carpet\":[{\"aaxis\":{\"endlinecolor\":\"#2a3f5f\",\"gridcolor\":\"white\",\"linecolor\":\"white\",\"minorgridcolor\":\"white\",\"startlinecolor\":\"#2a3f5f\"},\"baxis\":{\"endlinecolor\":\"#2a3f5f\",\"gridcolor\":\"white\",\"linecolor\":\"white\",\"minorgridcolor\":\"white\",\"startlinecolor\":\"#2a3f5f\"},\"type\":\"carpet\"}],\"table\":[{\"cells\":{\"fill\":{\"color\":\"#EBF0F8\"},\"line\":{\"color\":\"white\"}},\"header\":{\"fill\":{\"color\":\"#C8D4E3\"},\"line\":{\"color\":\"white\"}},\"type\":\"table\"}],\"barpolar\":[{\"marker\":{\"line\":{\"color\":\"#E5ECF6\",\"width\":0.5},\"pattern\":{\"fillmode\":\"overlay\",\"size\":10,\"solidity\":0.2}},\"type\":\"barpolar\"}],\"pie\":[{\"automargin\":true,\"type\":\"pie\"}]},\"layout\":{\"autotypenumbers\":\"strict\",\"colorway\":[\"#636efa\",\"#EF553B\",\"#00cc96\",\"#ab63fa\",\"#FFA15A\",\"#19d3f3\",\"#FF6692\",\"#B6E880\",\"#FF97FF\",\"#FECB52\"],\"font\":{\"color\":\"#2a3f5f\"},\"hovermode\":\"closest\",\"hoverlabel\":{\"align\":\"left\"},\"paper_bgcolor\":\"white\",\"plot_bgcolor\":\"#E5ECF6\",\"polar\":{\"bgcolor\":\"#E5ECF6\",\"angularaxis\":{\"gridcolor\":\"white\",\"linecolor\":\"white\",\"ticks\":\"\"},\"radialaxis\":{\"gridcolor\":\"white\",\"linecolor\":\"white\",\"ticks\":\"\"}},\"ternary\":{\"bgcolor\":\"#E5ECF6\",\"aaxis\":{\"gridcolor\":\"white\",\"linecolor\":\"white\",\"ticks\":\"\"},\"baxis\":{\"gridcolor\":\"white\",\"linecolor\":\"white\",\"ticks\":\"\"},\"caxis\":{\"gridcolor\":\"white\",\"linecolor\":\"white\",\"ticks\":\"\"}},\"coloraxis\":{\"colorbar\":{\"outlinewidth\":0,\"ticks\":\"\"}},\"colorscale\":{\"sequential\":[[0.0,\"#0d0887\"],[0.1111111111111111,\"#46039f\"],[0.2222222222222222,\"#7201a8\"],[0.3333333333333333,\"#9c179e\"],[0.4444444444444444,\"#bd3786\"],[0.5555555555555556,\"#d8576b\"],[0.6666666666666666,\"#ed7953\"],[0.7777777777777778,\"#fb9f3a\"],[0.8888888888888888,\"#fdca26\"],[1.0,\"#f0f921\"]],\"sequentialminus\":[[0.0,\"#0d0887\"],[0.1111111111111111,\"#46039f\"],[0.2222222222222222,\"#7201a8\"],[0.3333333333333333,\"#9c179e\"],[0.4444444444444444,\"#bd3786\"],[0.5555555555555556,\"#d8576b\"],[0.6666666666666666,\"#ed7953\"],[0.7777777777777778,\"#fb9f3a\"],[0.8888888888888888,\"#fdca26\"],[1.0,\"#f0f921\"]],\"diverging\":[[0,\"#8e0152\"],[0.1,\"#c51b7d\"],[0.2,\"#de77ae\"],[0.3,\"#f1b6da\"],[0.4,\"#fde0ef\"],[0.5,\"#f7f7f7\"],[0.6,\"#e6f5d0\"],[0.7,\"#b8e186\"],[0.8,\"#7fbc41\"],[0.9,\"#4d9221\"],[1,\"#276419\"]]},\"xaxis\":{\"gridcolor\":\"white\",\"linecolor\":\"white\",\"ticks\":\"\",\"title\":{\"standoff\":15},\"zerolinecolor\":\"white\",\"automargin\":true,\"zerolinewidth\":2},\"yaxis\":{\"gridcolor\":\"white\",\"linecolor\":\"white\",\"ticks\":\"\",\"title\":{\"standoff\":15},\"zerolinecolor\":\"white\",\"automargin\":true,\"zerolinewidth\":2},\"scene\":{\"xaxis\":{\"backgroundcolor\":\"#E5ECF6\",\"gridcolor\":\"white\",\"linecolor\":\"white\",\"showbackground\":true,\"ticks\":\"\",\"zerolinecolor\":\"white\",\"gridwidth\":2},\"yaxis\":{\"backgroundcolor\":\"#E5ECF6\",\"gridcolor\":\"white\",\"linecolor\":\"white\",\"showbackground\":true,\"ticks\":\"\",\"zerolinecolor\":\"white\",\"gridwidth\":2},\"zaxis\":{\"backgroundcolor\":\"#E5ECF6\",\"gridcolor\":\"white\",\"linecolor\":\"white\",\"showbackground\":true,\"ticks\":\"\",\"zerolinecolor\":\"white\",\"gridwidth\":2}},\"shapedefaults\":{\"line\":{\"color\":\"#2a3f5f\"}},\"annotationdefaults\":{\"arrowcolor\":\"#2a3f5f\",\"arrowhead\":0,\"arrowwidth\":1},\"geo\":{\"bgcolor\":\"white\",\"landcolor\":\"#E5ECF6\",\"subunitcolor\":\"white\",\"showland\":true,\"showlakes\":true,\"lakecolor\":\"white\"},\"title\":{\"x\":0.05},\"mapbox\":{\"style\":\"light\"}}},\"xaxis\":{\"anchor\":\"y\",\"domain\":[0.0,1.0],\"title\":{\"text\":\"step\"}},\"yaxis\":{\"anchor\":\"x\",\"domain\":[0.0,1.0],\"title\":{\"text\":\"value\"},\"range\":[0,2]},\"legend\":{\"title\":{\"text\":\"variable\"},\"tracegroupgap\":0},\"margin\":{\"t\":60}},                        {\"responsive\": true}                    ).then(function(){\n",
       "                            \n",
       "var gd = document.getElementById('086d9ce9-d48c-4edb-89b1-4f21020b30fd');\n",
       "var x = new MutationObserver(function (mutations, observer) {{\n",
       "        var display = window.getComputedStyle(gd).display;\n",
       "        if (!display || display === 'none') {{\n",
       "            console.log([gd, 'removed!']);\n",
       "            Plotly.purge(gd);\n",
       "            observer.disconnect();\n",
       "        }}\n",
       "}});\n",
       "\n",
       "// Listen for the removal of the full notebook cells\n",
       "var notebookContainer = gd.closest('#notebook-container');\n",
       "if (notebookContainer) {{\n",
       "    x.observe(notebookContainer, {childList: true});\n",
       "}}\n",
       "\n",
       "// Listen for the clearing of the current output cell\n",
       "var outputEl = gd.closest('.output');\n",
       "if (outputEl) {{\n",
       "    x.observe(outputEl, {childList: true});\n",
       "}}\n",
       "\n",
       "                        })                };                });            </script>        </div>"
      ]
     },
     "metadata": {},
     "output_type": "display_data"
    }
   ],
   "source": [
    "by_step_melt = crps_by_step.reset_index().melt(id_vars=['step'], value_vars=['model_si10_crps', 'raw_si10_crps'])\n",
    "px.line(data_frame=by_step_melt.reset_index(), x='step', y='value', color='variable', range_y=(0, 2))"
   ]
  },
  {
   "cell_type": "code",
   "execution_count": 130,
   "id": "d206af79-74e6-4283-8878-111fbfa6ca0f",
   "metadata": {
    "tags": []
   },
   "outputs": [
    {
     "data": {
      "text/plain": [
       "forecast_time\n",
       "1998-01-31    1.071556\n",
       "1998-02-28         NaN\n",
       "1998-03-31    1.410168\n",
       "1998-04-30    1.361621\n",
       "1998-05-31    1.113303\n",
       "                ...   \n",
       "2014-08-31    0.869226\n",
       "2014-09-30    0.924370\n",
       "2014-10-31    0.953197\n",
       "2014-11-30    0.929224\n",
       "2014-12-31    1.090070\n",
       "Freq: M, Name: si10_crps, Length: 204, dtype: float32"
      ]
     },
     "execution_count": 130,
     "metadata": {},
     "output_type": "execute_result"
    }
   ],
   "source": [
    "by_year_month"
   ]
  },
  {
   "cell_type": "code",
   "execution_count": 131,
   "id": "d410670b-e2a1-4ca5-9140-9d474a269357",
   "metadata": {
    "tags": []
   },
   "outputs": [
    {
     "data": {
      "application/vnd.plotly.v1+json": {
       "config": {
        "plotlyServerURL": "https://plot.ly"
       },
       "data": [
        {
         "hovertemplate": "variable=model_si10_crps<br>forecast_time=%{x}<br>value=%{y}<extra></extra>",
         "legendgroup": "model_si10_crps",
         "line": {
          "color": "#636efa",
          "dash": "solid"
         },
         "marker": {
          "symbol": "circle"
         },
         "mode": "lines",
         "name": "model_si10_crps",
         "orientation": "v",
         "showlegend": true,
         "type": "scatter",
         "x": [
          "1998-01-31T00:00:00",
          "1998-02-28T00:00:00",
          "1998-03-31T00:00:00",
          "1998-04-30T00:00:00",
          "1998-05-31T00:00:00",
          "1998-06-30T00:00:00",
          "1998-07-31T00:00:00",
          "1998-08-31T00:00:00",
          "1998-09-30T00:00:00",
          "1998-10-31T00:00:00",
          "1998-11-30T00:00:00",
          "1998-12-31T00:00:00",
          "1999-01-31T00:00:00",
          "1999-02-28T00:00:00",
          "1999-03-31T00:00:00",
          "1999-04-30T00:00:00",
          "1999-05-31T00:00:00",
          "1999-06-30T00:00:00",
          "1999-07-31T00:00:00",
          "1999-08-31T00:00:00",
          "1999-09-30T00:00:00",
          "1999-10-31T00:00:00",
          "1999-11-30T00:00:00",
          "1999-12-31T00:00:00",
          "2000-01-31T00:00:00",
          "2000-02-29T00:00:00",
          "2000-03-31T00:00:00",
          "2000-04-30T00:00:00",
          "2000-05-31T00:00:00",
          "2000-06-30T00:00:00",
          "2000-07-31T00:00:00",
          "2000-08-31T00:00:00",
          "2000-09-30T00:00:00",
          "2000-10-31T00:00:00",
          "2000-11-30T00:00:00",
          "2000-12-31T00:00:00",
          "2001-01-31T00:00:00",
          "2001-02-28T00:00:00",
          "2001-03-31T00:00:00",
          "2001-04-30T00:00:00",
          "2001-05-31T00:00:00",
          "2001-06-30T00:00:00",
          "2001-07-31T00:00:00",
          "2001-08-31T00:00:00",
          "2001-09-30T00:00:00",
          "2001-10-31T00:00:00",
          "2001-11-30T00:00:00",
          "2001-12-31T00:00:00",
          "2002-01-31T00:00:00",
          "2002-02-28T00:00:00",
          "2002-03-31T00:00:00",
          "2002-04-30T00:00:00",
          "2002-05-31T00:00:00",
          "2002-06-30T00:00:00",
          "2002-07-31T00:00:00",
          "2002-08-31T00:00:00",
          "2002-09-30T00:00:00",
          "2002-10-31T00:00:00",
          "2002-11-30T00:00:00",
          "2002-12-31T00:00:00",
          "2003-01-31T00:00:00",
          "2003-02-28T00:00:00",
          "2003-03-31T00:00:00",
          "2003-04-30T00:00:00",
          "2003-05-31T00:00:00",
          "2003-06-30T00:00:00",
          "2003-07-31T00:00:00",
          "2003-08-31T00:00:00",
          "2003-09-30T00:00:00",
          "2003-10-31T00:00:00",
          "2003-11-30T00:00:00",
          "2003-12-31T00:00:00",
          "2004-01-31T00:00:00",
          "2004-02-29T00:00:00",
          "2004-03-31T00:00:00",
          "2004-04-30T00:00:00",
          "2004-05-31T00:00:00",
          "2004-06-30T00:00:00",
          "2004-07-31T00:00:00",
          "2004-08-31T00:00:00",
          "2004-09-30T00:00:00",
          "2004-10-31T00:00:00",
          "2004-11-30T00:00:00",
          "2004-12-31T00:00:00",
          "2005-01-31T00:00:00",
          "2005-02-28T00:00:00",
          "2005-03-31T00:00:00",
          "2005-04-30T00:00:00",
          "2005-05-31T00:00:00",
          "2005-06-30T00:00:00",
          "2005-07-31T00:00:00",
          "2005-08-31T00:00:00",
          "2005-09-30T00:00:00",
          "2005-10-31T00:00:00",
          "2005-11-30T00:00:00",
          "2005-12-31T00:00:00",
          "2006-01-31T00:00:00",
          "2006-02-28T00:00:00",
          "2006-03-31T00:00:00",
          "2006-04-30T00:00:00",
          "2006-05-31T00:00:00",
          "2006-06-30T00:00:00",
          "2006-07-31T00:00:00",
          "2006-08-31T00:00:00",
          "2006-09-30T00:00:00",
          "2006-10-31T00:00:00",
          "2006-11-30T00:00:00",
          "2006-12-31T00:00:00",
          "2007-01-31T00:00:00",
          "2007-02-28T00:00:00",
          "2007-03-31T00:00:00",
          "2007-04-30T00:00:00",
          "2007-05-31T00:00:00",
          "2007-06-30T00:00:00",
          "2007-07-31T00:00:00",
          "2007-08-31T00:00:00",
          "2007-09-30T00:00:00",
          "2007-10-31T00:00:00",
          "2007-11-30T00:00:00",
          "2007-12-31T00:00:00",
          "2008-01-31T00:00:00",
          "2008-02-29T00:00:00",
          "2008-03-31T00:00:00",
          "2008-04-30T00:00:00",
          "2008-05-31T00:00:00",
          "2008-06-30T00:00:00",
          "2008-07-31T00:00:00",
          "2008-08-31T00:00:00",
          "2008-09-30T00:00:00",
          "2008-10-31T00:00:00",
          "2008-11-30T00:00:00",
          "2008-12-31T00:00:00",
          "2009-01-31T00:00:00",
          "2009-02-28T00:00:00",
          "2009-03-31T00:00:00",
          "2009-04-30T00:00:00",
          "2009-05-31T00:00:00",
          "2009-06-30T00:00:00",
          "2009-07-31T00:00:00",
          "2009-08-31T00:00:00",
          "2009-09-30T00:00:00",
          "2009-10-31T00:00:00",
          "2009-11-30T00:00:00",
          "2009-12-31T00:00:00",
          "2010-01-31T00:00:00",
          "2010-02-28T00:00:00",
          "2010-03-31T00:00:00",
          "2010-04-30T00:00:00",
          "2010-05-31T00:00:00",
          "2010-06-30T00:00:00",
          "2010-07-31T00:00:00",
          "2010-08-31T00:00:00",
          "2010-09-30T00:00:00",
          "2010-10-31T00:00:00",
          "2010-11-30T00:00:00",
          "2010-12-31T00:00:00",
          "2011-01-31T00:00:00",
          "2011-02-28T00:00:00",
          "2011-03-31T00:00:00",
          "2011-04-30T00:00:00",
          "2011-05-31T00:00:00",
          "2011-06-30T00:00:00",
          "2011-07-31T00:00:00",
          "2011-08-31T00:00:00",
          "2011-09-30T00:00:00",
          "2011-10-31T00:00:00",
          "2011-11-30T00:00:00",
          "2011-12-31T00:00:00",
          "2012-01-31T00:00:00",
          "2012-02-29T00:00:00",
          "2012-03-31T00:00:00",
          "2012-04-30T00:00:00",
          "2012-05-31T00:00:00",
          "2012-06-30T00:00:00",
          "2012-07-31T00:00:00",
          "2012-08-31T00:00:00",
          "2012-09-30T00:00:00",
          "2012-10-31T00:00:00",
          "2012-11-30T00:00:00",
          "2012-12-31T00:00:00",
          "2013-01-31T00:00:00",
          "2013-02-28T00:00:00",
          "2013-03-31T00:00:00",
          "2013-04-30T00:00:00",
          "2013-05-31T00:00:00",
          "2013-06-30T00:00:00",
          "2013-07-31T00:00:00",
          "2013-08-31T00:00:00",
          "2013-09-30T00:00:00",
          "2013-10-31T00:00:00",
          "2013-11-30T00:00:00",
          "2013-12-31T00:00:00",
          "2014-01-31T00:00:00",
          "2014-02-28T00:00:00",
          "2014-03-31T00:00:00",
          "2014-04-30T00:00:00",
          "2014-05-31T00:00:00",
          "2014-06-30T00:00:00",
          "2014-07-31T00:00:00",
          "2014-08-31T00:00:00",
          "2014-09-30T00:00:00",
          "2014-10-31T00:00:00",
          "2014-11-30T00:00:00",
          "2014-12-31T00:00:00"
         ],
         "xaxis": "x",
         "y": [
          1.0715564489364624,
          null,
          1.410168170928955,
          1.3616214990615845,
          1.1133034229278564,
          1.092613697052002,
          1.2811051607131958,
          0.9004177451133728,
          1.264103651046753,
          1.0263874530792236,
          1.1670132875442505,
          1.1950396299362183,
          1.0515875816345215,
          null,
          1.3083515167236328,
          1.0409562587738037,
          0.9813843369483948,
          1.0194438695907593,
          0.9588503241539001,
          1.103354811668396,
          1.007411003112793,
          1.0327528715133667,
          1.0588288307189941,
          1.227432131767273,
          1.1577861309051514,
          null,
          1.1138454675674438,
          0.9827347993850708,
          1.066461205482483,
          0.963857114315033,
          0.9865903854370117,
          0.9879945516586304,
          0.9511796832084656,
          1.170426368713379,
          0.9124672412872314,
          1.0071370601654053,
          1.0588346719741821,
          null,
          1.109879493713379,
          1.3042210340499878,
          1.0596271753311157,
          1.0446045398712158,
          0.9860444664955139,
          0.9613867402076721,
          1.00205659866333,
          1.071524739265442,
          1.0063856840133667,
          1.2103475332260132,
          1.1067544221878052,
          null,
          0.98302161693573,
          1.2061959505081177,
          0.9998824000358582,
          1.1218712329864502,
          1.0361886024475098,
          0.9212600588798523,
          0.955291748046875,
          1.043302059173584,
          1.3276686668395996,
          1.0631965398788452,
          1.1114884614944458,
          null,
          1.1436326503753662,
          1.0525585412979126,
          1.0746928453445435,
          0.9413002729415894,
          1.0949405431747437,
          0.9301390647888184,
          1.0182321071624756,
          1.254157543182373,
          1.3077625036239624,
          1.1037629842758179,
          1.2634860277175903,
          null,
          1.169269323348999,
          1.0493385791778564,
          1.0225861072540283,
          1.0002342462539673,
          0.9424845576286316,
          0.8588762879371643,
          1.0370123386383057,
          1.057143211364746,
          1.225315809249878,
          1.2595953941345215,
          1.0118911266326904,
          null,
          1.2821568250656128,
          1.0148640871047974,
          0.9241476058959961,
          0.9847777485847473,
          0.9325764775276184,
          1.018813133239746,
          1.0026381015777588,
          0.9164683222770691,
          1.295575737953186,
          1.0837385654449463,
          1.0476857423782349,
          null,
          1.0341044664382935,
          1.281678318977356,
          1.0504511594772339,
          0.9135104417800903,
          0.9387384057044983,
          0.8542552590370178,
          0.9415134191513062,
          1.1652734279632568,
          1.054440975189209,
          1.1775919198989868,
          1.085779070854187,
          null,
          1.2232993841171265,
          0.8701784610748291,
          0.9966223835945129,
          0.8812042474746704,
          0.9186187982559204,
          0.8793686032295227,
          0.9613276124000549,
          1.0236529111862183,
          1.0975029468536377,
          0.9854811429977417,
          1.5764412879943848,
          null,
          1.030128836631775,
          1.3529232740402222,
          0.938619077205658,
          1.1084702014923096,
          1.0445992946624756,
          0.9619118571281433,
          0.8631722331047058,
          1.0312869548797607,
          1.0423182249069214,
          1.1365894079208374,
          1.0241878032684326,
          null,
          1.2890123128890991,
          0.9940735697746277,
          1.0386278629302979,
          0.9921834468841553,
          1.030062198638916,
          0.893710196018219,
          0.9613069891929626,
          1.072696566581726,
          1.060056447982788,
          1.07294499874115,
          1.1519505977630615,
          null,
          1.22365140914917,
          1.5197744369506836,
          0.9354345202445984,
          0.9513918161392212,
          0.9050266146659851,
          0.9007673263549805,
          1.0798674821853638,
          1.0472853183746338,
          1.2101503610610962,
          1.1913591623306274,
          0.8607584238052368,
          null,
          0.936595618724823,
          1.2487976551055908,
          1.1385915279388428,
          0.9582739472389221,
          0.9537956118583679,
          0.9317393898963928,
          0.9532080888748169,
          0.9469379186630249,
          1.359647512435913,
          1.0404874086380005,
          0.9641017317771912,
          null,
          1.0315437316894531,
          0.993317723274231,
          0.9889724850654602,
          0.912872314453125,
          0.9538548588752747,
          1.048083782196045,
          0.984907329082489,
          1.3343384265899658,
          0.9502893686294556,
          1.037927508354187,
          1.2000678777694702,
          null,
          0.9048864841461182,
          1.3565140962600708,
          1.0526559352874756,
          1.0582257509231567,
          0.8232718706130981,
          0.8886324763298035,
          0.9538220763206482,
          0.9666871428489685,
          0.9830871820449829,
          0.9304800033569336,
          1.101595163345337,
          null,
          1.2105262279510498,
          1.06243097782135,
          0.9879325032234192,
          1.0498661994934082,
          0.8535593152046204,
          0.8692257404327393,
          0.9243704080581665,
          0.9531969428062439,
          0.9292242527008057,
          1.0900696516036987
         ],
         "yaxis": "y"
        },
        {
         "hovertemplate": "variable=raw_si10_crps<br>forecast_time=%{x}<br>value=%{y}<extra></extra>",
         "legendgroup": "raw_si10_crps",
         "line": {
          "color": "#EF553B",
          "dash": "solid"
         },
         "marker": {
          "symbol": "circle"
         },
         "mode": "lines",
         "name": "raw_si10_crps",
         "orientation": "v",
         "showlegend": true,
         "type": "scatter",
         "x": [
          "1998-01-31T00:00:00",
          "1998-02-28T00:00:00",
          "1998-03-31T00:00:00",
          "1998-04-30T00:00:00",
          "1998-05-31T00:00:00",
          "1998-06-30T00:00:00",
          "1998-07-31T00:00:00",
          "1998-08-31T00:00:00",
          "1998-09-30T00:00:00",
          "1998-10-31T00:00:00",
          "1998-11-30T00:00:00",
          "1998-12-31T00:00:00",
          "1999-01-31T00:00:00",
          "1999-02-28T00:00:00",
          "1999-03-31T00:00:00",
          "1999-04-30T00:00:00",
          "1999-05-31T00:00:00",
          "1999-06-30T00:00:00",
          "1999-07-31T00:00:00",
          "1999-08-31T00:00:00",
          "1999-09-30T00:00:00",
          "1999-10-31T00:00:00",
          "1999-11-30T00:00:00",
          "1999-12-31T00:00:00",
          "2000-01-31T00:00:00",
          "2000-02-29T00:00:00",
          "2000-03-31T00:00:00",
          "2000-04-30T00:00:00",
          "2000-05-31T00:00:00",
          "2000-06-30T00:00:00",
          "2000-07-31T00:00:00",
          "2000-08-31T00:00:00",
          "2000-09-30T00:00:00",
          "2000-10-31T00:00:00",
          "2000-11-30T00:00:00",
          "2000-12-31T00:00:00",
          "2001-01-31T00:00:00",
          "2001-02-28T00:00:00",
          "2001-03-31T00:00:00",
          "2001-04-30T00:00:00",
          "2001-05-31T00:00:00",
          "2001-06-30T00:00:00",
          "2001-07-31T00:00:00",
          "2001-08-31T00:00:00",
          "2001-09-30T00:00:00",
          "2001-10-31T00:00:00",
          "2001-11-30T00:00:00",
          "2001-12-31T00:00:00",
          "2002-01-31T00:00:00",
          "2002-02-28T00:00:00",
          "2002-03-31T00:00:00",
          "2002-04-30T00:00:00",
          "2002-05-31T00:00:00",
          "2002-06-30T00:00:00",
          "2002-07-31T00:00:00",
          "2002-08-31T00:00:00",
          "2002-09-30T00:00:00",
          "2002-10-31T00:00:00",
          "2002-11-30T00:00:00",
          "2002-12-31T00:00:00",
          "2003-01-31T00:00:00",
          "2003-02-28T00:00:00",
          "2003-03-31T00:00:00",
          "2003-04-30T00:00:00",
          "2003-05-31T00:00:00",
          "2003-06-30T00:00:00",
          "2003-07-31T00:00:00",
          "2003-08-31T00:00:00",
          "2003-09-30T00:00:00",
          "2003-10-31T00:00:00",
          "2003-11-30T00:00:00",
          "2003-12-31T00:00:00",
          "2004-01-31T00:00:00",
          "2004-02-29T00:00:00",
          "2004-03-31T00:00:00",
          "2004-04-30T00:00:00",
          "2004-05-31T00:00:00",
          "2004-06-30T00:00:00",
          "2004-07-31T00:00:00",
          "2004-08-31T00:00:00",
          "2004-09-30T00:00:00",
          "2004-10-31T00:00:00",
          "2004-11-30T00:00:00",
          "2004-12-31T00:00:00",
          "2005-01-31T00:00:00",
          "2005-02-28T00:00:00",
          "2005-03-31T00:00:00",
          "2005-04-30T00:00:00",
          "2005-05-31T00:00:00",
          "2005-06-30T00:00:00",
          "2005-07-31T00:00:00",
          "2005-08-31T00:00:00",
          "2005-09-30T00:00:00",
          "2005-10-31T00:00:00",
          "2005-11-30T00:00:00",
          "2005-12-31T00:00:00",
          "2006-01-31T00:00:00",
          "2006-02-28T00:00:00",
          "2006-03-31T00:00:00",
          "2006-04-30T00:00:00",
          "2006-05-31T00:00:00",
          "2006-06-30T00:00:00",
          "2006-07-31T00:00:00",
          "2006-08-31T00:00:00",
          "2006-09-30T00:00:00",
          "2006-10-31T00:00:00",
          "2006-11-30T00:00:00",
          "2006-12-31T00:00:00",
          "2007-01-31T00:00:00",
          "2007-02-28T00:00:00",
          "2007-03-31T00:00:00",
          "2007-04-30T00:00:00",
          "2007-05-31T00:00:00",
          "2007-06-30T00:00:00",
          "2007-07-31T00:00:00",
          "2007-08-31T00:00:00",
          "2007-09-30T00:00:00",
          "2007-10-31T00:00:00",
          "2007-11-30T00:00:00",
          "2007-12-31T00:00:00",
          "2008-01-31T00:00:00",
          "2008-02-29T00:00:00",
          "2008-03-31T00:00:00",
          "2008-04-30T00:00:00",
          "2008-05-31T00:00:00",
          "2008-06-30T00:00:00",
          "2008-07-31T00:00:00",
          "2008-08-31T00:00:00",
          "2008-09-30T00:00:00",
          "2008-10-31T00:00:00",
          "2008-11-30T00:00:00",
          "2008-12-31T00:00:00",
          "2009-01-31T00:00:00",
          "2009-02-28T00:00:00",
          "2009-03-31T00:00:00",
          "2009-04-30T00:00:00",
          "2009-05-31T00:00:00",
          "2009-06-30T00:00:00",
          "2009-07-31T00:00:00",
          "2009-08-31T00:00:00",
          "2009-09-30T00:00:00",
          "2009-10-31T00:00:00",
          "2009-11-30T00:00:00",
          "2009-12-31T00:00:00",
          "2010-01-31T00:00:00",
          "2010-02-28T00:00:00",
          "2010-03-31T00:00:00",
          "2010-04-30T00:00:00",
          "2010-05-31T00:00:00",
          "2010-06-30T00:00:00",
          "2010-07-31T00:00:00",
          "2010-08-31T00:00:00",
          "2010-09-30T00:00:00",
          "2010-10-31T00:00:00",
          "2010-11-30T00:00:00",
          "2010-12-31T00:00:00",
          "2011-01-31T00:00:00",
          "2011-02-28T00:00:00",
          "2011-03-31T00:00:00",
          "2011-04-30T00:00:00",
          "2011-05-31T00:00:00",
          "2011-06-30T00:00:00",
          "2011-07-31T00:00:00",
          "2011-08-31T00:00:00",
          "2011-09-30T00:00:00",
          "2011-10-31T00:00:00",
          "2011-11-30T00:00:00",
          "2011-12-31T00:00:00",
          "2012-01-31T00:00:00",
          "2012-02-29T00:00:00",
          "2012-03-31T00:00:00",
          "2012-04-30T00:00:00",
          "2012-05-31T00:00:00",
          "2012-06-30T00:00:00",
          "2012-07-31T00:00:00",
          "2012-08-31T00:00:00",
          "2012-09-30T00:00:00",
          "2012-10-31T00:00:00",
          "2012-11-30T00:00:00",
          "2012-12-31T00:00:00",
          "2013-01-31T00:00:00",
          "2013-02-28T00:00:00",
          "2013-03-31T00:00:00",
          "2013-04-30T00:00:00",
          "2013-05-31T00:00:00",
          "2013-06-30T00:00:00",
          "2013-07-31T00:00:00",
          "2013-08-31T00:00:00",
          "2013-09-30T00:00:00",
          "2013-10-31T00:00:00",
          "2013-11-30T00:00:00",
          "2013-12-31T00:00:00",
          "2014-01-31T00:00:00",
          "2014-02-28T00:00:00",
          "2014-03-31T00:00:00",
          "2014-04-30T00:00:00",
          "2014-05-31T00:00:00",
          "2014-06-30T00:00:00",
          "2014-07-31T00:00:00",
          "2014-08-31T00:00:00",
          "2014-09-30T00:00:00",
          "2014-10-31T00:00:00",
          "2014-11-30T00:00:00",
          "2014-12-31T00:00:00"
         ],
         "xaxis": "x",
         "y": [
          1.3942381143569946,
          null,
          1.6574808359146118,
          1.789025902748108,
          1.5807106494903564,
          1.5557063817977905,
          1.7423945665359497,
          1.2627758979797363,
          1.3323599100112915,
          1.4679676294326782,
          1.6668740510940552,
          1.6621507406234741,
          1.5991929769515991,
          null,
          1.6202620267868042,
          1.5364923477172852,
          1.4744094610214233,
          1.417646884918213,
          1.3826626539230347,
          1.52272367477417,
          1.2701021432876587,
          1.5735000371932983,
          1.6704663038253784,
          1.6778564453125,
          1.6173285245895386,
          null,
          1.572347640991211,
          1.4137773513793945,
          1.5108659267425537,
          1.4013900756835938,
          1.34390127658844,
          1.4043387174606323,
          1.2861011028289795,
          1.4993960857391357,
          1.4671372175216675,
          1.5038902759552002,
          1.6088427305221558,
          null,
          1.5785690546035767,
          1.5530025959014893,
          1.3853195905685425,
          1.4356456995010376,
          1.3254331350326538,
          1.3885736465454102,
          1.3408902883529663,
          1.609728217124939,
          1.4239213466644287,
          1.5770354270935059,
          1.4997270107269287,
          null,
          1.4529542922973633,
          1.3633419275283813,
          1.4639580249786377,
          1.4850345849990845,
          1.4295352697372437,
          1.3233270645141602,
          1.3569881916046143,
          1.341797947883606,
          1.4897276163101196,
          1.5297976732254028,
          1.5024240016937256,
          null,
          1.6089513301849365,
          1.4365956783294678,
          1.4851272106170654,
          1.3430097103118896,
          1.3872363567352295,
          1.2949930429458618,
          1.3880537748336792,
          1.5461173057556152,
          1.7313605546951294,
          1.5193523168563843,
          1.7177079916000366,
          null,
          1.59393310546875,
          1.4227409362792969,
          1.4434763193130493,
          1.3935357332229614,
          1.2831239700317383,
          1.2327860593795776,
          1.5636448860168457,
          1.4253170490264893,
          1.7913739681243896,
          1.6323189735412598,
          1.5933036804199219,
          null,
          1.870301604270935,
          1.432178020477295,
          1.2462517023086548,
          1.4012292623519897,
          1.2901445627212524,
          1.3219335079193115,
          1.3999255895614624,
          1.480112910270691,
          1.6283847093582153,
          1.6881417036056519,
          1.7167611122131348,
          null,
          1.3907685279846191,
          1.550710916519165,
          1.4006762504577637,
          1.350887417793274,
          1.3908346891403198,
          1.2580140829086304,
          1.4042222499847412,
          1.7438220977783203,
          1.7005468606948853,
          1.5492202043533325,
          1.7640334367752075,
          null,
          1.7369351387023926,
          1.449847936630249,
          1.4569555521011353,
          1.2955693006515503,
          1.2629268169403076,
          1.290687084197998,
          1.3177486658096313,
          1.454258918762207,
          1.423996090888977,
          1.4554818868637085,
          1.9156543016433716,
          null,
          1.4172208309173584,
          1.6381278038024902,
          1.376369595527649,
          1.4712038040161133,
          1.3356138467788696,
          1.4368115663528442,
          1.3780158758163452,
          1.6367660760879517,
          1.574992299079895,
          1.575330138206482,
          1.5205000638961792,
          null,
          1.720954179763794,
          1.4739736318588257,
          1.475745439529419,
          1.3865326642990112,
          1.4419373273849487,
          1.2582955360412598,
          1.384602665901184,
          1.6327073574066162,
          1.698014259338379,
          1.5444897413253784,
          1.6646647453308105,
          null,
          1.7301440238952637,
          1.5628644227981567,
          1.4093401432037354,
          1.3841358423233032,
          1.2711701393127441,
          1.2746756076812744,
          1.4895648956298828,
          1.5533149242401123,
          1.5874861478805542,
          1.5608590841293335,
          1.356766939163208,
          null,
          1.4748672246932983,
          1.2778685092926025,
          1.357384204864502,
          1.299376368522644,
          1.2942017316818237,
          1.3077954053878784,
          1.356525182723999,
          1.355376958847046,
          1.5003632307052612,
          1.6297526359558105,
          1.654410481452942,
          null,
          1.4763609170913696,
          1.3932886123657227,
          1.354138970375061,
          1.288093090057373,
          1.2773240804672241,
          1.3268404006958008,
          1.4476741552352905,
          1.5867016315460205,
          1.657392144203186,
          1.4224668741226196,
          1.7280583381652832,
          null,
          1.391872763633728,
          1.6187505722045898,
          1.4186835289001465,
          1.5347570180892944,
          1.2166029214859009,
          1.333401083946228,
          1.5430570840835571,
          1.5046347379684448,
          1.6556720733642578,
          1.4876209497451782,
          1.5386128425598145,
          null,
          1.6144177913665771,
          1.5358705520629883,
          1.5059956312179565,
          1.3722602128982544,
          1.1950342655181885,
          1.3607110977172852,
          1.358190655708313,
          1.4466654062271118,
          1.4973009824752808,
          1.4906771183013916
         ],
         "yaxis": "y"
        }
       ],
       "layout": {
        "autosize": true,
        "legend": {
         "title": {
          "text": "variable"
         },
         "tracegroupgap": 0
        },
        "margin": {
         "t": 60
        },
        "template": {
         "data": {
          "bar": [
           {
            "error_x": {
             "color": "#2a3f5f"
            },
            "error_y": {
             "color": "#2a3f5f"
            },
            "marker": {
             "line": {
              "color": "#E5ECF6",
              "width": 0.5
             },
             "pattern": {
              "fillmode": "overlay",
              "size": 10,
              "solidity": 0.2
             }
            },
            "type": "bar"
           }
          ],
          "barpolar": [
           {
            "marker": {
             "line": {
              "color": "#E5ECF6",
              "width": 0.5
             },
             "pattern": {
              "fillmode": "overlay",
              "size": 10,
              "solidity": 0.2
             }
            },
            "type": "barpolar"
           }
          ],
          "carpet": [
           {
            "aaxis": {
             "endlinecolor": "#2a3f5f",
             "gridcolor": "white",
             "linecolor": "white",
             "minorgridcolor": "white",
             "startlinecolor": "#2a3f5f"
            },
            "baxis": {
             "endlinecolor": "#2a3f5f",
             "gridcolor": "white",
             "linecolor": "white",
             "minorgridcolor": "white",
             "startlinecolor": "#2a3f5f"
            },
            "type": "carpet"
           }
          ],
          "choropleth": [
           {
            "colorbar": {
             "outlinewidth": 0,
             "ticks": ""
            },
            "type": "choropleth"
           }
          ],
          "contour": [
           {
            "colorbar": {
             "outlinewidth": 0,
             "ticks": ""
            },
            "colorscale": [
             [
              0,
              "#0d0887"
             ],
             [
              0.1111111111111111,
              "#46039f"
             ],
             [
              0.2222222222222222,
              "#7201a8"
             ],
             [
              0.3333333333333333,
              "#9c179e"
             ],
             [
              0.4444444444444444,
              "#bd3786"
             ],
             [
              0.5555555555555556,
              "#d8576b"
             ],
             [
              0.6666666666666666,
              "#ed7953"
             ],
             [
              0.7777777777777778,
              "#fb9f3a"
             ],
             [
              0.8888888888888888,
              "#fdca26"
             ],
             [
              1,
              "#f0f921"
             ]
            ],
            "type": "contour"
           }
          ],
          "contourcarpet": [
           {
            "colorbar": {
             "outlinewidth": 0,
             "ticks": ""
            },
            "type": "contourcarpet"
           }
          ],
          "heatmap": [
           {
            "colorbar": {
             "outlinewidth": 0,
             "ticks": ""
            },
            "colorscale": [
             [
              0,
              "#0d0887"
             ],
             [
              0.1111111111111111,
              "#46039f"
             ],
             [
              0.2222222222222222,
              "#7201a8"
             ],
             [
              0.3333333333333333,
              "#9c179e"
             ],
             [
              0.4444444444444444,
              "#bd3786"
             ],
             [
              0.5555555555555556,
              "#d8576b"
             ],
             [
              0.6666666666666666,
              "#ed7953"
             ],
             [
              0.7777777777777778,
              "#fb9f3a"
             ],
             [
              0.8888888888888888,
              "#fdca26"
             ],
             [
              1,
              "#f0f921"
             ]
            ],
            "type": "heatmap"
           }
          ],
          "heatmapgl": [
           {
            "colorbar": {
             "outlinewidth": 0,
             "ticks": ""
            },
            "colorscale": [
             [
              0,
              "#0d0887"
             ],
             [
              0.1111111111111111,
              "#46039f"
             ],
             [
              0.2222222222222222,
              "#7201a8"
             ],
             [
              0.3333333333333333,
              "#9c179e"
             ],
             [
              0.4444444444444444,
              "#bd3786"
             ],
             [
              0.5555555555555556,
              "#d8576b"
             ],
             [
              0.6666666666666666,
              "#ed7953"
             ],
             [
              0.7777777777777778,
              "#fb9f3a"
             ],
             [
              0.8888888888888888,
              "#fdca26"
             ],
             [
              1,
              "#f0f921"
             ]
            ],
            "type": "heatmapgl"
           }
          ],
          "histogram": [
           {
            "marker": {
             "pattern": {
              "fillmode": "overlay",
              "size": 10,
              "solidity": 0.2
             }
            },
            "type": "histogram"
           }
          ],
          "histogram2d": [
           {
            "colorbar": {
             "outlinewidth": 0,
             "ticks": ""
            },
            "colorscale": [
             [
              0,
              "#0d0887"
             ],
             [
              0.1111111111111111,
              "#46039f"
             ],
             [
              0.2222222222222222,
              "#7201a8"
             ],
             [
              0.3333333333333333,
              "#9c179e"
             ],
             [
              0.4444444444444444,
              "#bd3786"
             ],
             [
              0.5555555555555556,
              "#d8576b"
             ],
             [
              0.6666666666666666,
              "#ed7953"
             ],
             [
              0.7777777777777778,
              "#fb9f3a"
             ],
             [
              0.8888888888888888,
              "#fdca26"
             ],
             [
              1,
              "#f0f921"
             ]
            ],
            "type": "histogram2d"
           }
          ],
          "histogram2dcontour": [
           {
            "colorbar": {
             "outlinewidth": 0,
             "ticks": ""
            },
            "colorscale": [
             [
              0,
              "#0d0887"
             ],
             [
              0.1111111111111111,
              "#46039f"
             ],
             [
              0.2222222222222222,
              "#7201a8"
             ],
             [
              0.3333333333333333,
              "#9c179e"
             ],
             [
              0.4444444444444444,
              "#bd3786"
             ],
             [
              0.5555555555555556,
              "#d8576b"
             ],
             [
              0.6666666666666666,
              "#ed7953"
             ],
             [
              0.7777777777777778,
              "#fb9f3a"
             ],
             [
              0.8888888888888888,
              "#fdca26"
             ],
             [
              1,
              "#f0f921"
             ]
            ],
            "type": "histogram2dcontour"
           }
          ],
          "mesh3d": [
           {
            "colorbar": {
             "outlinewidth": 0,
             "ticks": ""
            },
            "type": "mesh3d"
           }
          ],
          "parcoords": [
           {
            "line": {
             "colorbar": {
              "outlinewidth": 0,
              "ticks": ""
             }
            },
            "type": "parcoords"
           }
          ],
          "pie": [
           {
            "automargin": true,
            "type": "pie"
           }
          ],
          "scatter": [
           {
            "fillpattern": {
             "fillmode": "overlay",
             "size": 10,
             "solidity": 0.2
            },
            "type": "scatter"
           }
          ],
          "scatter3d": [
           {
            "line": {
             "colorbar": {
              "outlinewidth": 0,
              "ticks": ""
             }
            },
            "marker": {
             "colorbar": {
              "outlinewidth": 0,
              "ticks": ""
             }
            },
            "type": "scatter3d"
           }
          ],
          "scattercarpet": [
           {
            "marker": {
             "colorbar": {
              "outlinewidth": 0,
              "ticks": ""
             }
            },
            "type": "scattercarpet"
           }
          ],
          "scattergeo": [
           {
            "marker": {
             "colorbar": {
              "outlinewidth": 0,
              "ticks": ""
             }
            },
            "type": "scattergeo"
           }
          ],
          "scattergl": [
           {
            "marker": {
             "colorbar": {
              "outlinewidth": 0,
              "ticks": ""
             }
            },
            "type": "scattergl"
           }
          ],
          "scattermapbox": [
           {
            "marker": {
             "colorbar": {
              "outlinewidth": 0,
              "ticks": ""
             }
            },
            "type": "scattermapbox"
           }
          ],
          "scatterpolar": [
           {
            "marker": {
             "colorbar": {
              "outlinewidth": 0,
              "ticks": ""
             }
            },
            "type": "scatterpolar"
           }
          ],
          "scatterpolargl": [
           {
            "marker": {
             "colorbar": {
              "outlinewidth": 0,
              "ticks": ""
             }
            },
            "type": "scatterpolargl"
           }
          ],
          "scatterternary": [
           {
            "marker": {
             "colorbar": {
              "outlinewidth": 0,
              "ticks": ""
             }
            },
            "type": "scatterternary"
           }
          ],
          "surface": [
           {
            "colorbar": {
             "outlinewidth": 0,
             "ticks": ""
            },
            "colorscale": [
             [
              0,
              "#0d0887"
             ],
             [
              0.1111111111111111,
              "#46039f"
             ],
             [
              0.2222222222222222,
              "#7201a8"
             ],
             [
              0.3333333333333333,
              "#9c179e"
             ],
             [
              0.4444444444444444,
              "#bd3786"
             ],
             [
              0.5555555555555556,
              "#d8576b"
             ],
             [
              0.6666666666666666,
              "#ed7953"
             ],
             [
              0.7777777777777778,
              "#fb9f3a"
             ],
             [
              0.8888888888888888,
              "#fdca26"
             ],
             [
              1,
              "#f0f921"
             ]
            ],
            "type": "surface"
           }
          ],
          "table": [
           {
            "cells": {
             "fill": {
              "color": "#EBF0F8"
             },
             "line": {
              "color": "white"
             }
            },
            "header": {
             "fill": {
              "color": "#C8D4E3"
             },
             "line": {
              "color": "white"
             }
            },
            "type": "table"
           }
          ]
         },
         "layout": {
          "annotationdefaults": {
           "arrowcolor": "#2a3f5f",
           "arrowhead": 0,
           "arrowwidth": 1
          },
          "autotypenumbers": "strict",
          "coloraxis": {
           "colorbar": {
            "outlinewidth": 0,
            "ticks": ""
           }
          },
          "colorscale": {
           "diverging": [
            [
             0,
             "#8e0152"
            ],
            [
             0.1,
             "#c51b7d"
            ],
            [
             0.2,
             "#de77ae"
            ],
            [
             0.3,
             "#f1b6da"
            ],
            [
             0.4,
             "#fde0ef"
            ],
            [
             0.5,
             "#f7f7f7"
            ],
            [
             0.6,
             "#e6f5d0"
            ],
            [
             0.7,
             "#b8e186"
            ],
            [
             0.8,
             "#7fbc41"
            ],
            [
             0.9,
             "#4d9221"
            ],
            [
             1,
             "#276419"
            ]
           ],
           "sequential": [
            [
             0,
             "#0d0887"
            ],
            [
             0.1111111111111111,
             "#46039f"
            ],
            [
             0.2222222222222222,
             "#7201a8"
            ],
            [
             0.3333333333333333,
             "#9c179e"
            ],
            [
             0.4444444444444444,
             "#bd3786"
            ],
            [
             0.5555555555555556,
             "#d8576b"
            ],
            [
             0.6666666666666666,
             "#ed7953"
            ],
            [
             0.7777777777777778,
             "#fb9f3a"
            ],
            [
             0.8888888888888888,
             "#fdca26"
            ],
            [
             1,
             "#f0f921"
            ]
           ],
           "sequentialminus": [
            [
             0,
             "#0d0887"
            ],
            [
             0.1111111111111111,
             "#46039f"
            ],
            [
             0.2222222222222222,
             "#7201a8"
            ],
            [
             0.3333333333333333,
             "#9c179e"
            ],
            [
             0.4444444444444444,
             "#bd3786"
            ],
            [
             0.5555555555555556,
             "#d8576b"
            ],
            [
             0.6666666666666666,
             "#ed7953"
            ],
            [
             0.7777777777777778,
             "#fb9f3a"
            ],
            [
             0.8888888888888888,
             "#fdca26"
            ],
            [
             1,
             "#f0f921"
            ]
           ]
          },
          "colorway": [
           "#636efa",
           "#EF553B",
           "#00cc96",
           "#ab63fa",
           "#FFA15A",
           "#19d3f3",
           "#FF6692",
           "#B6E880",
           "#FF97FF",
           "#FECB52"
          ],
          "font": {
           "color": "#2a3f5f"
          },
          "geo": {
           "bgcolor": "white",
           "lakecolor": "white",
           "landcolor": "#E5ECF6",
           "showlakes": true,
           "showland": true,
           "subunitcolor": "white"
          },
          "hoverlabel": {
           "align": "left"
          },
          "hovermode": "closest",
          "mapbox": {
           "style": "light"
          },
          "paper_bgcolor": "white",
          "plot_bgcolor": "#E5ECF6",
          "polar": {
           "angularaxis": {
            "gridcolor": "white",
            "linecolor": "white",
            "ticks": ""
           },
           "bgcolor": "#E5ECF6",
           "radialaxis": {
            "gridcolor": "white",
            "linecolor": "white",
            "ticks": ""
           }
          },
          "scene": {
           "xaxis": {
            "backgroundcolor": "#E5ECF6",
            "gridcolor": "white",
            "gridwidth": 2,
            "linecolor": "white",
            "showbackground": true,
            "ticks": "",
            "zerolinecolor": "white"
           },
           "yaxis": {
            "backgroundcolor": "#E5ECF6",
            "gridcolor": "white",
            "gridwidth": 2,
            "linecolor": "white",
            "showbackground": true,
            "ticks": "",
            "zerolinecolor": "white"
           },
           "zaxis": {
            "backgroundcolor": "#E5ECF6",
            "gridcolor": "white",
            "gridwidth": 2,
            "linecolor": "white",
            "showbackground": true,
            "ticks": "",
            "zerolinecolor": "white"
           }
          },
          "shapedefaults": {
           "line": {
            "color": "#2a3f5f"
           }
          },
          "ternary": {
           "aaxis": {
            "gridcolor": "white",
            "linecolor": "white",
            "ticks": ""
           },
           "baxis": {
            "gridcolor": "white",
            "linecolor": "white",
            "ticks": ""
           },
           "bgcolor": "#E5ECF6",
           "caxis": {
            "gridcolor": "white",
            "linecolor": "white",
            "ticks": ""
           }
          },
          "title": {
           "x": 0.05
          },
          "xaxis": {
           "automargin": true,
           "gridcolor": "white",
           "linecolor": "white",
           "ticks": "",
           "title": {
            "standoff": 15
           },
           "zerolinecolor": "white",
           "zerolinewidth": 2
          },
          "yaxis": {
           "automargin": true,
           "gridcolor": "white",
           "linecolor": "white",
           "ticks": "",
           "title": {
            "standoff": 15
           },
           "zerolinecolor": "white",
           "zerolinewidth": 2
          }
         }
        },
        "xaxis": {
         "anchor": "y",
         "autorange": true,
         "domain": [
          0,
          1
         ],
         "range": [
          "1998-01-31",
          "2014-12-31"
         ],
         "title": {
          "text": "forecast_time"
         },
         "type": "date"
        },
        "yaxis": {
         "anchor": "x",
         "autorange": true,
         "domain": [
          0,
          1
         ],
         "range": [
          0.762583957778083,
          1.9763422144783869
         ],
         "title": {
          "text": "value"
         },
         "type": "linear"
        }
       }
      },
      "image/png": "[encoded data removed]",
      "text/html": [
       "<div>                            <div id=\"3b255474-03ec-4674-86e2-7715e69fdcf0\" class=\"plotly-graph-div\" style=\"height:525px; width:100%;\"></div>            <script type=\"text/javascript\">                require([\"plotly\"], function(Plotly) {                    window.PLOTLYENV=window.PLOTLYENV || {};                                    if (document.getElementById(\"3b255474-03ec-4674-86e2-7715e69fdcf0\")) {                    Plotly.newPlot(                        \"3b255474-03ec-4674-86e2-7715e69fdcf0\",                        [{\"hovertemplate\":\"variable=model_si10_crps\\u003cbr\\u003eforecast_time=%{x}\\u003cbr\\u003evalue=%{y}\\u003cextra\\u003e\\u003c\\u002fextra\\u003e\",\"legendgroup\":\"model_si10_crps\",\"line\":{\"color\":\"#636efa\",\"dash\":\"solid\"},\"marker\":{\"symbol\":\"circle\"},\"mode\":\"lines\",\"name\":\"model_si10_crps\",\"orientation\":\"v\",\"showlegend\":true,\"x\":[\"1998-01-31T00:00:00\",\"1998-02-28T00:00:00\",\"1998-03-31T00:00:00\",\"1998-04-30T00:00:00\",\"1998-05-31T00:00:00\",\"1998-06-30T00:00:00\",\"1998-07-31T00:00:00\",\"1998-08-31T00:00:00\",\"1998-09-30T00:00:00\",\"1998-10-31T00:00:00\",\"1998-11-30T00:00:00\",\"1998-12-31T00:00:00\",\"1999-01-31T00:00:00\",\"1999-02-28T00:00:00\",\"1999-03-31T00:00:00\",\"1999-04-30T00:00:00\",\"1999-05-31T00:00:00\",\"1999-06-30T00:00:00\",\"1999-07-31T00:00:00\",\"1999-08-31T00:00:00\",\"1999-09-30T00:00:00\",\"1999-10-31T00:00:00\",\"1999-11-30T00:00:00\",\"1999-12-31T00:00:00\",\"2000-01-31T00:00:00\",\"2000-02-29T00:00:00\",\"2000-03-31T00:00:00\",\"2000-04-30T00:00:00\",\"2000-05-31T00:00:00\",\"2000-06-30T00:00:00\",\"2000-07-31T00:00:00\",\"2000-08-31T00:00:00\",\"2000-09-30T00:00:00\",\"2000-10-31T00:00:00\",\"2000-11-30T00:00:00\",\"2000-12-31T00:00:00\",\"2001-01-31T00:00:00\",\"2001-02-28T00:00:00\",\"2001-03-31T00:00:00\",\"2001-04-30T00:00:00\",\"2001-05-31T00:00:00\",\"2001-06-30T00:00:00\",\"2001-07-31T00:00:00\",\"2001-08-31T00:00:00\",\"2001-09-30T00:00:00\",\"2001-10-31T00:00:00\",\"2001-11-30T00:00:00\",\"2001-12-31T00:00:00\",\"2002-01-31T00:00:00\",\"2002-02-28T00:00:00\",\"2002-03-31T00:00:00\",\"2002-04-30T00:00:00\",\"2002-05-31T00:00:00\",\"2002-06-30T00:00:00\",\"2002-07-31T00:00:00\",\"2002-08-31T00:00:00\",\"2002-09-30T00:00:00\",\"2002-10-31T00:00:00\",\"2002-11-30T00:00:00\",\"2002-12-31T00:00:00\",\"2003-01-31T00:00:00\",\"2003-02-28T00:00:00\",\"2003-03-31T00:00:00\",\"2003-04-30T00:00:00\",\"2003-05-31T00:00:00\",\"2003-06-30T00:00:00\",\"2003-07-31T00:00:00\",\"2003-08-31T00:00:00\",\"2003-09-30T00:00:00\",\"2003-10-31T00:00:00\",\"2003-11-30T00:00:00\",\"2003-12-31T00:00:00\",\"2004-01-31T00:00:00\",\"2004-02-29T00:00:00\",\"2004-03-31T00:00:00\",\"2004-04-30T00:00:00\",\"2004-05-31T00:00:00\",\"2004-06-30T00:00:00\",\"2004-07-31T00:00:00\",\"2004-08-31T00:00:00\",\"2004-09-30T00:00:00\",\"2004-10-31T00:00:00\",\"2004-11-30T00:00:00\",\"2004-12-31T00:00:00\",\"2005-01-31T00:00:00\",\"2005-02-28T00:00:00\",\"2005-03-31T00:00:00\",\"2005-04-30T00:00:00\",\"2005-05-31T00:00:00\",\"2005-06-30T00:00:00\",\"2005-07-31T00:00:00\",\"2005-08-31T00:00:00\",\"2005-09-30T00:00:00\",\"2005-10-31T00:00:00\",\"2005-11-30T00:00:00\",\"2005-12-31T00:00:00\",\"2006-01-31T00:00:00\",\"2006-02-28T00:00:00\",\"2006-03-31T00:00:00\",\"2006-04-30T00:00:00\",\"2006-05-31T00:00:00\",\"2006-06-30T00:00:00\",\"2006-07-31T00:00:00\",\"2006-08-31T00:00:00\",\"2006-09-30T00:00:00\",\"2006-10-31T00:00:00\",\"2006-11-30T00:00:00\",\"2006-12-31T00:00:00\",\"2007-01-31T00:00:00\",\"2007-02-28T00:00:00\",\"2007-03-31T00:00:00\",\"2007-04-30T00:00:00\",\"2007-05-31T00:00:00\",\"2007-06-30T00:00:00\",\"2007-07-31T00:00:00\",\"2007-08-31T00:00:00\",\"2007-09-30T00:00:00\",\"2007-10-31T00:00:00\",\"2007-11-30T00:00:00\",\"2007-12-31T00:00:00\",\"2008-01-31T00:00:00\",\"2008-02-29T00:00:00\",\"2008-03-31T00:00:00\",\"2008-04-30T00:00:00\",\"2008-05-31T00:00:00\",\"2008-06-30T00:00:00\",\"2008-07-31T00:00:00\",\"2008-08-31T00:00:00\",\"2008-09-30T00:00:00\",\"2008-10-31T00:00:00\",\"2008-11-30T00:00:00\",\"2008-12-31T00:00:00\",\"2009-01-31T00:00:00\",\"2009-02-28T00:00:00\",\"2009-03-31T00:00:00\",\"2009-04-30T00:00:00\",\"2009-05-31T00:00:00\",\"2009-06-30T00:00:00\",\"2009-07-31T00:00:00\",\"2009-08-31T00:00:00\",\"2009-09-30T00:00:00\",\"2009-10-31T00:00:00\",\"2009-11-30T00:00:00\",\"2009-12-31T00:00:00\",\"2010-01-31T00:00:00\",\"2010-02-28T00:00:00\",\"2010-03-31T00:00:00\",\"2010-04-30T00:00:00\",\"2010-05-31T00:00:00\",\"2010-06-30T00:00:00\",\"2010-07-31T00:00:00\",\"2010-08-31T00:00:00\",\"2010-09-30T00:00:00\",\"2010-10-31T00:00:00\",\"2010-11-30T00:00:00\",\"2010-12-31T00:00:00\",\"2011-01-31T00:00:00\",\"2011-02-28T00:00:00\",\"2011-03-31T00:00:00\",\"2011-04-30T00:00:00\",\"2011-05-31T00:00:00\",\"2011-06-30T00:00:00\",\"2011-07-31T00:00:00\",\"2011-08-31T00:00:00\",\"2011-09-30T00:00:00\",\"2011-10-31T00:00:00\",\"2011-11-30T00:00:00\",\"2011-12-31T00:00:00\",\"2012-01-31T00:00:00\",\"2012-02-29T00:00:00\",\"2012-03-31T00:00:00\",\"2012-04-30T00:00:00\",\"2012-05-31T00:00:00\",\"2012-06-30T00:00:00\",\"2012-07-31T00:00:00\",\"2012-08-31T00:00:00\",\"2012-09-30T00:00:00\",\"2012-10-31T00:00:00\",\"2012-11-30T00:00:00\",\"2012-12-31T00:00:00\",\"2013-01-31T00:00:00\",\"2013-02-28T00:00:00\",\"2013-03-31T00:00:00\",\"2013-04-30T00:00:00\",\"2013-05-31T00:00:00\",\"2013-06-30T00:00:00\",\"2013-07-31T00:00:00\",\"2013-08-31T00:00:00\",\"2013-09-30T00:00:00\",\"2013-10-31T00:00:00\",\"2013-11-30T00:00:00\",\"2013-12-31T00:00:00\",\"2014-01-31T00:00:00\",\"2014-02-28T00:00:00\",\"2014-03-31T00:00:00\",\"2014-04-30T00:00:00\",\"2014-05-31T00:00:00\",\"2014-06-30T00:00:00\",\"2014-07-31T00:00:00\",\"2014-08-31T00:00:00\",\"2014-09-30T00:00:00\",\"2014-10-31T00:00:00\",\"2014-11-30T00:00:00\",\"2014-12-31T00:00:00\"],\"xaxis\":\"x\",\"y\":[1.0715564489364624,null,1.410168170928955,1.3616214990615845,1.1133034229278564,1.092613697052002,1.2811051607131958,0.9004177451133728,1.264103651046753,1.0263874530792236,1.1670132875442505,1.1950396299362183,1.0515875816345215,null,1.3083515167236328,1.0409562587738037,0.9813843369483948,1.0194438695907593,0.9588503241539001,1.103354811668396,1.007411003112793,1.0327528715133667,1.0588288307189941,1.227432131767273,1.1577861309051514,null,1.1138454675674438,0.9827347993850708,1.066461205482483,0.963857114315033,0.9865903854370117,0.9879945516586304,0.9511796832084656,1.170426368713379,0.9124672412872314,1.0071370601654053,1.0588346719741821,null,1.109879493713379,1.3042210340499878,1.0596271753311157,1.0446045398712158,0.9860444664955139,0.9613867402076721,1.00205659866333,1.071524739265442,1.0063856840133667,1.2103475332260132,1.1067544221878052,null,0.98302161693573,1.2061959505081177,0.9998824000358582,1.1218712329864502,1.0361886024475098,0.9212600588798523,0.955291748046875,1.043302059173584,1.3276686668395996,1.0631965398788452,1.1114884614944458,null,1.1436326503753662,1.0525585412979126,1.0746928453445435,0.9413002729415894,1.0949405431747437,0.9301390647888184,1.0182321071624756,1.254157543182373,1.3077625036239624,1.1037629842758179,1.2634860277175903,null,1.169269323348999,1.0493385791778564,1.0225861072540283,1.0002342462539673,0.9424845576286316,0.8588762879371643,1.0370123386383057,1.057143211364746,1.225315809249878,1.2595953941345215,1.0118911266326904,null,1.2821568250656128,1.0148640871047974,0.9241476058959961,0.9847777485847473,0.9325764775276184,1.018813133239746,1.0026381015777588,0.9164683222770691,1.295575737953186,1.0837385654449463,1.0476857423782349,null,1.0341044664382935,1.281678318977356,1.0504511594772339,0.9135104417800903,0.9387384057044983,0.8542552590370178,0.9415134191513062,1.1652734279632568,1.054440975189209,1.1775919198989868,1.085779070854187,null,1.2232993841171265,0.8701784610748291,0.9966223835945129,0.8812042474746704,0.9186187982559204,0.8793686032295227,0.9613276124000549,1.0236529111862183,1.0975029468536377,0.9854811429977417,1.5764412879943848,null,1.030128836631775,1.3529232740402222,0.938619077205658,1.1084702014923096,1.0445992946624756,0.9619118571281433,0.8631722331047058,1.0312869548797607,1.0423182249069214,1.1365894079208374,1.0241878032684326,null,1.2890123128890991,0.9940735697746277,1.0386278629302979,0.9921834468841553,1.030062198638916,0.893710196018219,0.9613069891929626,1.072696566581726,1.060056447982788,1.07294499874115,1.1519505977630615,null,1.22365140914917,1.5197744369506836,0.9354345202445984,0.9513918161392212,0.9050266146659851,0.9007673263549805,1.0798674821853638,1.0472853183746338,1.2101503610610962,1.1913591623306274,0.8607584238052368,null,0.936595618724823,1.2487976551055908,1.1385915279388428,0.9582739472389221,0.9537956118583679,0.9317393898963928,0.9532080888748169,0.9469379186630249,1.359647512435913,1.0404874086380005,0.9641017317771912,null,1.0315437316894531,0.993317723274231,0.9889724850654602,0.912872314453125,0.9538548588752747,1.048083782196045,0.984907329082489,1.3343384265899658,0.9502893686294556,1.037927508354187,1.2000678777694702,null,0.9048864841461182,1.3565140962600708,1.0526559352874756,1.0582257509231567,0.8232718706130981,0.8886324763298035,0.9538220763206482,0.9666871428489685,0.9830871820449829,0.9304800033569336,1.101595163345337,null,1.2105262279510498,1.06243097782135,0.9879325032234192,1.0498661994934082,0.8535593152046204,0.8692257404327393,0.9243704080581665,0.9531969428062439,0.9292242527008057,1.0900696516036987],\"yaxis\":\"y\",\"type\":\"scatter\"},{\"hovertemplate\":\"variable=raw_si10_crps\\u003cbr\\u003eforecast_time=%{x}\\u003cbr\\u003evalue=%{y}\\u003cextra\\u003e\\u003c\\u002fextra\\u003e\",\"legendgroup\":\"raw_si10_crps\",\"line\":{\"color\":\"#EF553B\",\"dash\":\"solid\"},\"marker\":{\"symbol\":\"circle\"},\"mode\":\"lines\",\"name\":\"raw_si10_crps\",\"orientation\":\"v\",\"showlegend\":true,\"x\":[\"1998-01-31T00:00:00\",\"1998-02-28T00:00:00\",\"1998-03-31T00:00:00\",\"1998-04-30T00:00:00\",\"1998-05-31T00:00:00\",\"1998-06-30T00:00:00\",\"1998-07-31T00:00:00\",\"1998-08-31T00:00:00\",\"1998-09-30T00:00:00\",\"1998-10-31T00:00:00\",\"1998-11-30T00:00:00\",\"1998-12-31T00:00:00\",\"1999-01-31T00:00:00\",\"1999-02-28T00:00:00\",\"1999-03-31T00:00:00\",\"1999-04-30T00:00:00\",\"1999-05-31T00:00:00\",\"1999-06-30T00:00:00\",\"1999-07-31T00:00:00\",\"1999-08-31T00:00:00\",\"1999-09-30T00:00:00\",\"1999-10-31T00:00:00\",\"1999-11-30T00:00:00\",\"1999-12-31T00:00:00\",\"2000-01-31T00:00:00\",\"2000-02-29T00:00:00\",\"2000-03-31T00:00:00\",\"2000-04-30T00:00:00\",\"2000-05-31T00:00:00\",\"2000-06-30T00:00:00\",\"2000-07-31T00:00:00\",\"2000-08-31T00:00:00\",\"2000-09-30T00:00:00\",\"2000-10-31T00:00:00\",\"2000-11-30T00:00:00\",\"2000-12-31T00:00:00\",\"2001-01-31T00:00:00\",\"2001-02-28T00:00:00\",\"2001-03-31T00:00:00\",\"2001-04-30T00:00:00\",\"2001-05-31T00:00:00\",\"2001-06-30T00:00:00\",\"2001-07-31T00:00:00\",\"2001-08-31T00:00:00\",\"2001-09-30T00:00:00\",\"2001-10-31T00:00:00\",\"2001-11-30T00:00:00\",\"2001-12-31T00:00:00\",\"2002-01-31T00:00:00\",\"2002-02-28T00:00:00\",\"2002-03-31T00:00:00\",\"2002-04-30T00:00:00\",\"2002-05-31T00:00:00\",\"2002-06-30T00:00:00\",\"2002-07-31T00:00:00\",\"2002-08-31T00:00:00\",\"2002-09-30T00:00:00\",\"2002-10-31T00:00:00\",\"2002-11-30T00:00:00\",\"2002-12-31T00:00:00\",\"2003-01-31T00:00:00\",\"2003-02-28T00:00:00\",\"2003-03-31T00:00:00\",\"2003-04-30T00:00:00\",\"2003-05-31T00:00:00\",\"2003-06-30T00:00:00\",\"2003-07-31T00:00:00\",\"2003-08-31T00:00:00\",\"2003-09-30T00:00:00\",\"2003-10-31T00:00:00\",\"2003-11-30T00:00:00\",\"2003-12-31T00:00:00\",\"2004-01-31T00:00:00\",\"2004-02-29T00:00:00\",\"2004-03-31T00:00:00\",\"2004-04-30T00:00:00\",\"2004-05-31T00:00:00\",\"2004-06-30T00:00:00\",\"2004-07-31T00:00:00\",\"2004-08-31T00:00:00\",\"2004-09-30T00:00:00\",\"2004-10-31T00:00:00\",\"2004-11-30T00:00:00\",\"2004-12-31T00:00:00\",\"2005-01-31T00:00:00\",\"2005-02-28T00:00:00\",\"2005-03-31T00:00:00\",\"2005-04-30T00:00:00\",\"2005-05-31T00:00:00\",\"2005-06-30T00:00:00\",\"2005-07-31T00:00:00\",\"2005-08-31T00:00:00\",\"2005-09-30T00:00:00\",\"2005-10-31T00:00:00\",\"2005-11-30T00:00:00\",\"2005-12-31T00:00:00\",\"2006-01-31T00:00:00\",\"2006-02-28T00:00:00\",\"2006-03-31T00:00:00\",\"2006-04-30T00:00:00\",\"2006-05-31T00:00:00\",\"2006-06-30T00:00:00\",\"2006-07-31T00:00:00\",\"2006-08-31T00:00:00\",\"2006-09-30T00:00:00\",\"2006-10-31T00:00:00\",\"2006-11-30T00:00:00\",\"2006-12-31T00:00:00\",\"2007-01-31T00:00:00\",\"2007-02-28T00:00:00\",\"2007-03-31T00:00:00\",\"2007-04-30T00:00:00\",\"2007-05-31T00:00:00\",\"2007-06-30T00:00:00\",\"2007-07-31T00:00:00\",\"2007-08-31T00:00:00\",\"2007-09-30T00:00:00\",\"2007-10-31T00:00:00\",\"2007-11-30T00:00:00\",\"2007-12-31T00:00:00\",\"2008-01-31T00:00:00\",\"2008-02-29T00:00:00\",\"2008-03-31T00:00:00\",\"2008-04-30T00:00:00\",\"2008-05-31T00:00:00\",\"2008-06-30T00:00:00\",\"2008-07-31T00:00:00\",\"2008-08-31T00:00:00\",\"2008-09-30T00:00:00\",\"2008-10-31T00:00:00\",\"2008-11-30T00:00:00\",\"2008-12-31T00:00:00\",\"2009-01-31T00:00:00\",\"2009-02-28T00:00:00\",\"2009-03-31T00:00:00\",\"2009-04-30T00:00:00\",\"2009-05-31T00:00:00\",\"2009-06-30T00:00:00\",\"2009-07-31T00:00:00\",\"2009-08-31T00:00:00\",\"2009-09-30T00:00:00\",\"2009-10-31T00:00:00\",\"2009-11-30T00:00:00\",\"2009-12-31T00:00:00\",\"2010-01-31T00:00:00\",\"2010-02-28T00:00:00\",\"2010-03-31T00:00:00\",\"2010-04-30T00:00:00\",\"2010-05-31T00:00:00\",\"2010-06-30T00:00:00\",\"2010-07-31T00:00:00\",\"2010-08-31T00:00:00\",\"2010-09-30T00:00:00\",\"2010-10-31T00:00:00\",\"2010-11-30T00:00:00\",\"2010-12-31T00:00:00\",\"2011-01-31T00:00:00\",\"2011-02-28T00:00:00\",\"2011-03-31T00:00:00\",\"2011-04-30T00:00:00\",\"2011-05-31T00:00:00\",\"2011-06-30T00:00:00\",\"2011-07-31T00:00:00\",\"2011-08-31T00:00:00\",\"2011-09-30T00:00:00\",\"2011-10-31T00:00:00\",\"2011-11-30T00:00:00\",\"2011-12-31T00:00:00\",\"2012-01-31T00:00:00\",\"2012-02-29T00:00:00\",\"2012-03-31T00:00:00\",\"2012-04-30T00:00:00\",\"2012-05-31T00:00:00\",\"2012-06-30T00:00:00\",\"2012-07-31T00:00:00\",\"2012-08-31T00:00:00\",\"2012-09-30T00:00:00\",\"2012-10-31T00:00:00\",\"2012-11-30T00:00:00\",\"2012-12-31T00:00:00\",\"2013-01-31T00:00:00\",\"2013-02-28T00:00:00\",\"2013-03-31T00:00:00\",\"2013-04-30T00:00:00\",\"2013-05-31T00:00:00\",\"2013-06-30T00:00:00\",\"2013-07-31T00:00:00\",\"2013-08-31T00:00:00\",\"2013-09-30T00:00:00\",\"2013-10-31T00:00:00\",\"2013-11-30T00:00:00\",\"2013-12-31T00:00:00\",\"2014-01-31T00:00:00\",\"2014-02-28T00:00:00\",\"2014-03-31T00:00:00\",\"2014-04-30T00:00:00\",\"2014-05-31T00:00:00\",\"2014-06-30T00:00:00\",\"2014-07-31T00:00:00\",\"2014-08-31T00:00:00\",\"2014-09-30T00:00:00\",\"2014-10-31T00:00:00\",\"2014-11-30T00:00:00\",\"2014-12-31T00:00:00\"],\"xaxis\":\"x\",\"y\":[1.3942381143569946,null,1.6574808359146118,1.789025902748108,1.5807106494903564,1.5557063817977905,1.7423945665359497,1.2627758979797363,1.3323599100112915,1.4679676294326782,1.6668740510940552,1.6621507406234741,1.5991929769515991,null,1.6202620267868042,1.5364923477172852,1.4744094610214233,1.417646884918213,1.3826626539230347,1.52272367477417,1.2701021432876587,1.5735000371932983,1.6704663038253784,1.6778564453125,1.6173285245895386,null,1.572347640991211,1.4137773513793945,1.5108659267425537,1.4013900756835938,1.34390127658844,1.4043387174606323,1.2861011028289795,1.4993960857391357,1.4671372175216675,1.5038902759552002,1.6088427305221558,null,1.5785690546035767,1.5530025959014893,1.3853195905685425,1.4356456995010376,1.3254331350326538,1.3885736465454102,1.3408902883529663,1.609728217124939,1.4239213466644287,1.5770354270935059,1.4997270107269287,null,1.4529542922973633,1.3633419275283813,1.4639580249786377,1.4850345849990845,1.4295352697372437,1.3233270645141602,1.3569881916046143,1.341797947883606,1.4897276163101196,1.5297976732254028,1.5024240016937256,null,1.6089513301849365,1.4365956783294678,1.4851272106170654,1.3430097103118896,1.3872363567352295,1.2949930429458618,1.3880537748336792,1.5461173057556152,1.7313605546951294,1.5193523168563843,1.7177079916000366,null,1.59393310546875,1.4227409362792969,1.4434763193130493,1.3935357332229614,1.2831239700317383,1.2327860593795776,1.5636448860168457,1.4253170490264893,1.7913739681243896,1.6323189735412598,1.5933036804199219,null,1.870301604270935,1.432178020477295,1.2462517023086548,1.4012292623519897,1.2901445627212524,1.3219335079193115,1.3999255895614624,1.480112910270691,1.6283847093582153,1.6881417036056519,1.7167611122131348,null,1.3907685279846191,1.550710916519165,1.4006762504577637,1.350887417793274,1.3908346891403198,1.2580140829086304,1.4042222499847412,1.7438220977783203,1.7005468606948853,1.5492202043533325,1.7640334367752075,null,1.7369351387023926,1.449847936630249,1.4569555521011353,1.2955693006515503,1.2629268169403076,1.290687084197998,1.3177486658096313,1.454258918762207,1.423996090888977,1.4554818868637085,1.9156543016433716,null,1.4172208309173584,1.6381278038024902,1.376369595527649,1.4712038040161133,1.3356138467788696,1.4368115663528442,1.3780158758163452,1.6367660760879517,1.574992299079895,1.575330138206482,1.5205000638961792,null,1.720954179763794,1.4739736318588257,1.475745439529419,1.3865326642990112,1.4419373273849487,1.2582955360412598,1.384602665901184,1.6327073574066162,1.698014259338379,1.5444897413253784,1.6646647453308105,null,1.7301440238952637,1.5628644227981567,1.4093401432037354,1.3841358423233032,1.2711701393127441,1.2746756076812744,1.4895648956298828,1.5533149242401123,1.5874861478805542,1.5608590841293335,1.356766939163208,null,1.4748672246932983,1.2778685092926025,1.357384204864502,1.299376368522644,1.2942017316818237,1.3077954053878784,1.356525182723999,1.355376958847046,1.5003632307052612,1.6297526359558105,1.654410481452942,null,1.4763609170913696,1.3932886123657227,1.354138970375061,1.288093090057373,1.2773240804672241,1.3268404006958008,1.4476741552352905,1.5867016315460205,1.657392144203186,1.4224668741226196,1.7280583381652832,null,1.391872763633728,1.6187505722045898,1.4186835289001465,1.5347570180892944,1.2166029214859009,1.333401083946228,1.5430570840835571,1.5046347379684448,1.6556720733642578,1.4876209497451782,1.5386128425598145,null,1.6144177913665771,1.5358705520629883,1.5059956312179565,1.3722602128982544,1.1950342655181885,1.3607110977172852,1.358190655708313,1.4466654062271118,1.4973009824752808,1.4906771183013916],\"yaxis\":\"y\",\"type\":\"scatter\"}],                        {\"template\":{\"data\":{\"histogram2dcontour\":[{\"type\":\"histogram2dcontour\",\"colorbar\":{\"outlinewidth\":0,\"ticks\":\"\"},\"colorscale\":[[0.0,\"#0d0887\"],[0.1111111111111111,\"#46039f\"],[0.2222222222222222,\"#7201a8\"],[0.3333333333333333,\"#9c179e\"],[0.4444444444444444,\"#bd3786\"],[0.5555555555555556,\"#d8576b\"],[0.6666666666666666,\"#ed7953\"],[0.7777777777777778,\"#fb9f3a\"],[0.8888888888888888,\"#fdca26\"],[1.0,\"#f0f921\"]]}],\"choropleth\":[{\"type\":\"choropleth\",\"colorbar\":{\"outlinewidth\":0,\"ticks\":\"\"}}],\"histogram2d\":[{\"type\":\"histogram2d\",\"colorbar\":{\"outlinewidth\":0,\"ticks\":\"\"},\"colorscale\":[[0.0,\"#0d0887\"],[0.1111111111111111,\"#46039f\"],[0.2222222222222222,\"#7201a8\"],[0.3333333333333333,\"#9c179e\"],[0.4444444444444444,\"#bd3786\"],[0.5555555555555556,\"#d8576b\"],[0.6666666666666666,\"#ed7953\"],[0.7777777777777778,\"#fb9f3a\"],[0.8888888888888888,\"#fdca26\"],[1.0,\"#f0f921\"]]}],\"heatmap\":[{\"type\":\"heatmap\",\"colorbar\":{\"outlinewidth\":0,\"ticks\":\"\"},\"colorscale\":[[0.0,\"#0d0887\"],[0.1111111111111111,\"#46039f\"],[0.2222222222222222,\"#7201a8\"],[0.3333333333333333,\"#9c179e\"],[0.4444444444444444,\"#bd3786\"],[0.5555555555555556,\"#d8576b\"],[0.6666666666666666,\"#ed7953\"],[0.7777777777777778,\"#fb9f3a\"],[0.8888888888888888,\"#fdca26\"],[1.0,\"#f0f921\"]]}],\"heatmapgl\":[{\"type\":\"heatmapgl\",\"colorbar\":{\"outlinewidth\":0,\"ticks\":\"\"},\"colorscale\":[[0.0,\"#0d0887\"],[0.1111111111111111,\"#46039f\"],[0.2222222222222222,\"#7201a8\"],[0.3333333333333333,\"#9c179e\"],[0.4444444444444444,\"#bd3786\"],[0.5555555555555556,\"#d8576b\"],[0.6666666666666666,\"#ed7953\"],[0.7777777777777778,\"#fb9f3a\"],[0.8888888888888888,\"#fdca26\"],[1.0,\"#f0f921\"]]}],\"contourcarpet\":[{\"type\":\"contourcarpet\",\"colorbar\":{\"outlinewidth\":0,\"ticks\":\"\"}}],\"contour\":[{\"type\":\"contour\",\"colorbar\":{\"outlinewidth\":0,\"ticks\":\"\"},\"colorscale\":[[0.0,\"#0d0887\"],[0.1111111111111111,\"#46039f\"],[0.2222222222222222,\"#7201a8\"],[0.3333333333333333,\"#9c179e\"],[0.4444444444444444,\"#bd3786\"],[0.5555555555555556,\"#d8576b\"],[0.6666666666666666,\"#ed7953\"],[0.7777777777777778,\"#fb9f3a\"],[0.8888888888888888,\"#fdca26\"],[1.0,\"#f0f921\"]]}],\"surface\":[{\"type\":\"surface\",\"colorbar\":{\"outlinewidth\":0,\"ticks\":\"\"},\"colorscale\":[[0.0,\"#0d0887\"],[0.1111111111111111,\"#46039f\"],[0.2222222222222222,\"#7201a8\"],[0.3333333333333333,\"#9c179e\"],[0.4444444444444444,\"#bd3786\"],[0.5555555555555556,\"#d8576b\"],[0.6666666666666666,\"#ed7953\"],[0.7777777777777778,\"#fb9f3a\"],[0.8888888888888888,\"#fdca26\"],[1.0,\"#f0f921\"]]}],\"mesh3d\":[{\"type\":\"mesh3d\",\"colorbar\":{\"outlinewidth\":0,\"ticks\":\"\"}}],\"scatter\":[{\"fillpattern\":{\"fillmode\":\"overlay\",\"size\":10,\"solidity\":0.2},\"type\":\"scatter\"}],\"parcoords\":[{\"type\":\"parcoords\",\"line\":{\"colorbar\":{\"outlinewidth\":0,\"ticks\":\"\"}}}],\"scatterpolargl\":[{\"type\":\"scatterpolargl\",\"marker\":{\"colorbar\":{\"outlinewidth\":0,\"ticks\":\"\"}}}],\"bar\":[{\"error_x\":{\"color\":\"#2a3f5f\"},\"error_y\":{\"color\":\"#2a3f5f\"},\"marker\":{\"line\":{\"color\":\"#E5ECF6\",\"width\":0.5},\"pattern\":{\"fillmode\":\"overlay\",\"size\":10,\"solidity\":0.2}},\"type\":\"bar\"}],\"scattergeo\":[{\"type\":\"scattergeo\",\"marker\":{\"colorbar\":{\"outlinewidth\":0,\"ticks\":\"\"}}}],\"scatterpolar\":[{\"type\":\"scatterpolar\",\"marker\":{\"colorbar\":{\"outlinewidth\":0,\"ticks\":\"\"}}}],\"histogram\":[{\"marker\":{\"pattern\":{\"fillmode\":\"overlay\",\"size\":10,\"solidity\":0.2}},\"type\":\"histogram\"}],\"scattergl\":[{\"type\":\"scattergl\",\"marker\":{\"colorbar\":{\"outlinewidth\":0,\"ticks\":\"\"}}}],\"scatter3d\":[{\"type\":\"scatter3d\",\"line\":{\"colorbar\":{\"outlinewidth\":0,\"ticks\":\"\"}},\"marker\":{\"colorbar\":{\"outlinewidth\":0,\"ticks\":\"\"}}}],\"scattermapbox\":[{\"type\":\"scattermapbox\",\"marker\":{\"colorbar\":{\"outlinewidth\":0,\"ticks\":\"\"}}}],\"scatterternary\":[{\"type\":\"scatterternary\",\"marker\":{\"colorbar\":{\"outlinewidth\":0,\"ticks\":\"\"}}}],\"scattercarpet\":[{\"type\":\"scattercarpet\",\"marker\":{\"colorbar\":{\"outlinewidth\":0,\"ticks\":\"\"}}}],\"carpet\":[{\"aaxis\":{\"endlinecolor\":\"#2a3f5f\",\"gridcolor\":\"white\",\"linecolor\":\"white\",\"minorgridcolor\":\"white\",\"startlinecolor\":\"#2a3f5f\"},\"baxis\":{\"endlinecolor\":\"#2a3f5f\",\"gridcolor\":\"white\",\"linecolor\":\"white\",\"minorgridcolor\":\"white\",\"startlinecolor\":\"#2a3f5f\"},\"type\":\"carpet\"}],\"table\":[{\"cells\":{\"fill\":{\"color\":\"#EBF0F8\"},\"line\":{\"color\":\"white\"}},\"header\":{\"fill\":{\"color\":\"#C8D4E3\"},\"line\":{\"color\":\"white\"}},\"type\":\"table\"}],\"barpolar\":[{\"marker\":{\"line\":{\"color\":\"#E5ECF6\",\"width\":0.5},\"pattern\":{\"fillmode\":\"overlay\",\"size\":10,\"solidity\":0.2}},\"type\":\"barpolar\"}],\"pie\":[{\"automargin\":true,\"type\":\"pie\"}]},\"layout\":{\"autotypenumbers\":\"strict\",\"colorway\":[\"#636efa\",\"#EF553B\",\"#00cc96\",\"#ab63fa\",\"#FFA15A\",\"#19d3f3\",\"#FF6692\",\"#B6E880\",\"#FF97FF\",\"#FECB52\"],\"font\":{\"color\":\"#2a3f5f\"},\"hovermode\":\"closest\",\"hoverlabel\":{\"align\":\"left\"},\"paper_bgcolor\":\"white\",\"plot_bgcolor\":\"#E5ECF6\",\"polar\":{\"bgcolor\":\"#E5ECF6\",\"angularaxis\":{\"gridcolor\":\"white\",\"linecolor\":\"white\",\"ticks\":\"\"},\"radialaxis\":{\"gridcolor\":\"white\",\"linecolor\":\"white\",\"ticks\":\"\"}},\"ternary\":{\"bgcolor\":\"#E5ECF6\",\"aaxis\":{\"gridcolor\":\"white\",\"linecolor\":\"white\",\"ticks\":\"\"},\"baxis\":{\"gridcolor\":\"white\",\"linecolor\":\"white\",\"ticks\":\"\"},\"caxis\":{\"gridcolor\":\"white\",\"linecolor\":\"white\",\"ticks\":\"\"}},\"coloraxis\":{\"colorbar\":{\"outlinewidth\":0,\"ticks\":\"\"}},\"colorscale\":{\"sequential\":[[0.0,\"#0d0887\"],[0.1111111111111111,\"#46039f\"],[0.2222222222222222,\"#7201a8\"],[0.3333333333333333,\"#9c179e\"],[0.4444444444444444,\"#bd3786\"],[0.5555555555555556,\"#d8576b\"],[0.6666666666666666,\"#ed7953\"],[0.7777777777777778,\"#fb9f3a\"],[0.8888888888888888,\"#fdca26\"],[1.0,\"#f0f921\"]],\"sequentialminus\":[[0.0,\"#0d0887\"],[0.1111111111111111,\"#46039f\"],[0.2222222222222222,\"#7201a8\"],[0.3333333333333333,\"#9c179e\"],[0.4444444444444444,\"#bd3786\"],[0.5555555555555556,\"#d8576b\"],[0.6666666666666666,\"#ed7953\"],[0.7777777777777778,\"#fb9f3a\"],[0.8888888888888888,\"#fdca26\"],[1.0,\"#f0f921\"]],\"diverging\":[[0,\"#8e0152\"],[0.1,\"#c51b7d\"],[0.2,\"#de77ae\"],[0.3,\"#f1b6da\"],[0.4,\"#fde0ef\"],[0.5,\"#f7f7f7\"],[0.6,\"#e6f5d0\"],[0.7,\"#b8e186\"],[0.8,\"#7fbc41\"],[0.9,\"#4d9221\"],[1,\"#276419\"]]},\"xaxis\":{\"gridcolor\":\"white\",\"linecolor\":\"white\",\"ticks\":\"\",\"title\":{\"standoff\":15},\"zerolinecolor\":\"white\",\"automargin\":true,\"zerolinewidth\":2},\"yaxis\":{\"gridcolor\":\"white\",\"linecolor\":\"white\",\"ticks\":\"\",\"title\":{\"standoff\":15},\"zerolinecolor\":\"white\",\"automargin\":true,\"zerolinewidth\":2},\"scene\":{\"xaxis\":{\"backgroundcolor\":\"#E5ECF6\",\"gridcolor\":\"white\",\"linecolor\":\"white\",\"showbackground\":true,\"ticks\":\"\",\"zerolinecolor\":\"white\",\"gridwidth\":2},\"yaxis\":{\"backgroundcolor\":\"#E5ECF6\",\"gridcolor\":\"white\",\"linecolor\":\"white\",\"showbackground\":true,\"ticks\":\"\",\"zerolinecolor\":\"white\",\"gridwidth\":2},\"zaxis\":{\"backgroundcolor\":\"#E5ECF6\",\"gridcolor\":\"white\",\"linecolor\":\"white\",\"showbackground\":true,\"ticks\":\"\",\"zerolinecolor\":\"white\",\"gridwidth\":2}},\"shapedefaults\":{\"line\":{\"color\":\"#2a3f5f\"}},\"annotationdefaults\":{\"arrowcolor\":\"#2a3f5f\",\"arrowhead\":0,\"arrowwidth\":1},\"geo\":{\"bgcolor\":\"white\",\"landcolor\":\"#E5ECF6\",\"subunitcolor\":\"white\",\"showland\":true,\"showlakes\":true,\"lakecolor\":\"white\"},\"title\":{\"x\":0.05},\"mapbox\":{\"style\":\"light\"}}},\"xaxis\":{\"anchor\":\"y\",\"domain\":[0.0,1.0],\"title\":{\"text\":\"forecast_time\"}},\"yaxis\":{\"anchor\":\"x\",\"domain\":[0.0,1.0],\"title\":{\"text\":\"value\"}},\"legend\":{\"title\":{\"text\":\"variable\"},\"tracegroupgap\":0},\"margin\":{\"t\":60}},                        {\"responsive\": true}                    ).then(function(){\n",
       "                            \n",
       "var gd = document.getElementById('3b255474-03ec-4674-86e2-7715e69fdcf0');\n",
       "var x = new MutationObserver(function (mutations, observer) {{\n",
       "        var display = window.getComputedStyle(gd).display;\n",
       "        if (!display || display === 'none') {{\n",
       "            console.log([gd, 'removed!']);\n",
       "            Plotly.purge(gd);\n",
       "            observer.disconnect();\n",
       "        }}\n",
       "}});\n",
       "\n",
       "// Listen for the removal of the full notebook cells\n",
       "var notebookContainer = gd.closest('#notebook-container');\n",
       "if (notebookContainer) {{\n",
       "    x.observe(notebookContainer, {childList: true});\n",
       "}}\n",
       "\n",
       "// Listen for the clearing of the current output cell\n",
       "var outputEl = gd.closest('.output');\n",
       "if (outputEl) {{\n",
       "    x.observe(outputEl, {childList: true});\n",
       "}}\n",
       "\n",
       "                        })                };                });            </script>        </div>"
      ]
     },
     "metadata": {},
     "output_type": "display_data"
    }
   ],
   "source": [
    "by_year_month = si10_crps_df.reset_index().set_index('forecast_time')[['model_si10_crps', 'raw_si10_crps']].groupby(pd.Grouper(freq=\"M\")).mean()\n",
    "by_year_month_melt = by_year_month.reset_index().melt(id_vars=['forecast_time'], value_vars=['model_si10_crps', 'raw_si10_crps'])\n",
    "px.line(data_frame=by_year_month_melt, x='forecast_time', y='value', color='variable')"
   ]
  },
  {
   "cell_type": "code",
   "execution_count": 132,
   "id": "8e9de5c0-42ea-4d2f-b861-d485c55f7b92",
   "metadata": {
    "tags": []
   },
   "outputs": [
    {
     "data": {
      "application/vnd.plotly.v1+json": {
       "config": {
        "plotlyServerURL": "https://plot.ly"
       },
       "data": [
        {
         "hovertemplate": "variable=model_si10_crps<br>month=%{x}<br>value=%{y}<extra></extra>",
         "legendgroup": "model_si10_crps",
         "line": {
          "color": "#636efa",
          "dash": "solid"
         },
         "marker": {
          "symbol": "circle"
         },
         "mode": "lines",
         "name": "model_si10_crps",
         "orientation": "v",
         "showlegend": true,
         "type": "scatter",
         "x": [
          1,
          3,
          4,
          5,
          6,
          7,
          8,
          9,
          10,
          11,
          12
         ],
         "xaxis": "x",
         "y": [
          1.1097735166549683,
          1.138590931892395,
          1.1598074436187744,
          1.019659399986267,
          0.9988545775413513,
          0.9761368632316589,
          0.933638870716095,
          0.9883509874343872,
          1.0653868913650513,
          1.1196773052215576,
          1.1037038564682007
         ],
         "yaxis": "y"
        },
        {
         "hovertemplate": "variable=raw_si10_crps<br>month=%{x}<br>value=%{y}<extra></extra>",
         "legendgroup": "raw_si10_crps",
         "line": {
          "color": "#EF553B",
          "dash": "solid"
         },
         "marker": {
          "symbol": "circle"
         },
         "mode": "lines",
         "name": "raw_si10_crps",
         "orientation": "v",
         "showlegend": true,
         "type": "scatter",
         "x": [
          1,
          3,
          4,
          5,
          6,
          7,
          8,
          9,
          10,
          11,
          12
         ],
         "xaxis": "x",
         "y": [
          1.6159850358963013,
          1.5825351476669312,
          1.4960095882415771,
          1.4296011924743652,
          1.3996305465698242,
          1.3409085273742676,
          1.3280863761901855,
          1.3916378021240234,
          1.5205752849578857,
          1.5972791910171509,
          1.5567936897277832
         ],
         "yaxis": "y"
        }
       ],
       "layout": {
        "autosize": true,
        "legend": {
         "title": {
          "text": "variable"
         },
         "tracegroupgap": 0
        },
        "margin": {
         "t": 60
        },
        "template": {
         "data": {
          "bar": [
           {
            "error_x": {
             "color": "#2a3f5f"
            },
            "error_y": {
             "color": "#2a3f5f"
            },
            "marker": {
             "line": {
              "color": "#E5ECF6",
              "width": 0.5
             },
             "pattern": {
              "fillmode": "overlay",
              "size": 10,
              "solidity": 0.2
             }
            },
            "type": "bar"
           }
          ],
          "barpolar": [
           {
            "marker": {
             "line": {
              "color": "#E5ECF6",
              "width": 0.5
             },
             "pattern": {
              "fillmode": "overlay",
              "size": 10,
              "solidity": 0.2
             }
            },
            "type": "barpolar"
           }
          ],
          "carpet": [
           {
            "aaxis": {
             "endlinecolor": "#2a3f5f",
             "gridcolor": "white",
             "linecolor": "white",
             "minorgridcolor": "white",
             "startlinecolor": "#2a3f5f"
            },
            "baxis": {
             "endlinecolor": "#2a3f5f",
             "gridcolor": "white",
             "linecolor": "white",
             "minorgridcolor": "white",
             "startlinecolor": "#2a3f5f"
            },
            "type": "carpet"
           }
          ],
          "choropleth": [
           {
            "colorbar": {
             "outlinewidth": 0,
             "ticks": ""
            },
            "type": "choropleth"
           }
          ],
          "contour": [
           {
            "colorbar": {
             "outlinewidth": 0,
             "ticks": ""
            },
            "colorscale": [
             [
              0,
              "#0d0887"
             ],
             [
              0.1111111111111111,
              "#46039f"
             ],
             [
              0.2222222222222222,
              "#7201a8"
             ],
             [
              0.3333333333333333,
              "#9c179e"
             ],
             [
              0.4444444444444444,
              "#bd3786"
             ],
             [
              0.5555555555555556,
              "#d8576b"
             ],
             [
              0.6666666666666666,
              "#ed7953"
             ],
             [
              0.7777777777777778,
              "#fb9f3a"
             ],
             [
              0.8888888888888888,
              "#fdca26"
             ],
             [
              1,
              "#f0f921"
             ]
            ],
            "type": "contour"
           }
          ],
          "contourcarpet": [
           {
            "colorbar": {
             "outlinewidth": 0,
             "ticks": ""
            },
            "type": "contourcarpet"
           }
          ],
          "heatmap": [
           {
            "colorbar": {
             "outlinewidth": 0,
             "ticks": ""
            },
            "colorscale": [
             [
              0,
              "#0d0887"
             ],
             [
              0.1111111111111111,
              "#46039f"
             ],
             [
              0.2222222222222222,
              "#7201a8"
             ],
             [
              0.3333333333333333,
              "#9c179e"
             ],
             [
              0.4444444444444444,
              "#bd3786"
             ],
             [
              0.5555555555555556,
              "#d8576b"
             ],
             [
              0.6666666666666666,
              "#ed7953"
             ],
             [
              0.7777777777777778,
              "#fb9f3a"
             ],
             [
              0.8888888888888888,
              "#fdca26"
             ],
             [
              1,
              "#f0f921"
             ]
            ],
            "type": "heatmap"
           }
          ],
          "heatmapgl": [
           {
            "colorbar": {
             "outlinewidth": 0,
             "ticks": ""
            },
            "colorscale": [
             [
              0,
              "#0d0887"
             ],
             [
              0.1111111111111111,
              "#46039f"
             ],
             [
              0.2222222222222222,
              "#7201a8"
             ],
             [
              0.3333333333333333,
              "#9c179e"
             ],
             [
              0.4444444444444444,
              "#bd3786"
             ],
             [
              0.5555555555555556,
              "#d8576b"
             ],
             [
              0.6666666666666666,
              "#ed7953"
             ],
             [
              0.7777777777777778,
              "#fb9f3a"
             ],
             [
              0.8888888888888888,
              "#fdca26"
             ],
             [
              1,
              "#f0f921"
             ]
            ],
            "type": "heatmapgl"
           }
          ],
          "histogram": [
           {
            "marker": {
             "pattern": {
              "fillmode": "overlay",
              "size": 10,
              "solidity": 0.2
             }
            },
            "type": "histogram"
           }
          ],
          "histogram2d": [
           {
            "colorbar": {
             "outlinewidth": 0,
             "ticks": ""
            },
            "colorscale": [
             [
              0,
              "#0d0887"
             ],
             [
              0.1111111111111111,
              "#46039f"
             ],
             [
              0.2222222222222222,
              "#7201a8"
             ],
             [
              0.3333333333333333,
              "#9c179e"
             ],
             [
              0.4444444444444444,
              "#bd3786"
             ],
             [
              0.5555555555555556,
              "#d8576b"
             ],
             [
              0.6666666666666666,
              "#ed7953"
             ],
             [
              0.7777777777777778,
              "#fb9f3a"
             ],
             [
              0.8888888888888888,
              "#fdca26"
             ],
             [
              1,
              "#f0f921"
             ]
            ],
            "type": "histogram2d"
           }
          ],
          "histogram2dcontour": [
           {
            "colorbar": {
             "outlinewidth": 0,
             "ticks": ""
            },
            "colorscale": [
             [
              0,
              "#0d0887"
             ],
             [
              0.1111111111111111,
              "#46039f"
             ],
             [
              0.2222222222222222,
              "#7201a8"
             ],
             [
              0.3333333333333333,
              "#9c179e"
             ],
             [
              0.4444444444444444,
              "#bd3786"
             ],
             [
              0.5555555555555556,
              "#d8576b"
             ],
             [
              0.6666666666666666,
              "#ed7953"
             ],
             [
              0.7777777777777778,
              "#fb9f3a"
             ],
             [
              0.8888888888888888,
              "#fdca26"
             ],
             [
              1,
              "#f0f921"
             ]
            ],
            "type": "histogram2dcontour"
           }
          ],
          "mesh3d": [
           {
            "colorbar": {
             "outlinewidth": 0,
             "ticks": ""
            },
            "type": "mesh3d"
           }
          ],
          "parcoords": [
           {
            "line": {
             "colorbar": {
              "outlinewidth": 0,
              "ticks": ""
             }
            },
            "type": "parcoords"
           }
          ],
          "pie": [
           {
            "automargin": true,
            "type": "pie"
           }
          ],
          "scatter": [
           {
            "fillpattern": {
             "fillmode": "overlay",
             "size": 10,
             "solidity": 0.2
            },
            "type": "scatter"
           }
          ],
          "scatter3d": [
           {
            "line": {
             "colorbar": {
              "outlinewidth": 0,
              "ticks": ""
             }
            },
            "marker": {
             "colorbar": {
              "outlinewidth": 0,
              "ticks": ""
             }
            },
            "type": "scatter3d"
           }
          ],
          "scattercarpet": [
           {
            "marker": {
             "colorbar": {
              "outlinewidth": 0,
              "ticks": ""
             }
            },
            "type": "scattercarpet"
           }
          ],
          "scattergeo": [
           {
            "marker": {
             "colorbar": {
              "outlinewidth": 0,
              "ticks": ""
             }
            },
            "type": "scattergeo"
           }
          ],
          "scattergl": [
           {
            "marker": {
             "colorbar": {
              "outlinewidth": 0,
              "ticks": ""
             }
            },
            "type": "scattergl"
           }
          ],
          "scattermapbox": [
           {
            "marker": {
             "colorbar": {
              "outlinewidth": 0,
              "ticks": ""
             }
            },
            "type": "scattermapbox"
           }
          ],
          "scatterpolar": [
           {
            "marker": {
             "colorbar": {
              "outlinewidth": 0,
              "ticks": ""
             }
            },
            "type": "scatterpolar"
           }
          ],
          "scatterpolargl": [
           {
            "marker": {
             "colorbar": {
              "outlinewidth": 0,
              "ticks": ""
             }
            },
            "type": "scatterpolargl"
           }
          ],
          "scatterternary": [
           {
            "marker": {
             "colorbar": {
              "outlinewidth": 0,
              "ticks": ""
             }
            },
            "type": "scatterternary"
           }
          ],
          "surface": [
           {
            "colorbar": {
             "outlinewidth": 0,
             "ticks": ""
            },
            "colorscale": [
             [
              0,
              "#0d0887"
             ],
             [
              0.1111111111111111,
              "#46039f"
             ],
             [
              0.2222222222222222,
              "#7201a8"
             ],
             [
              0.3333333333333333,
              "#9c179e"
             ],
             [
              0.4444444444444444,
              "#bd3786"
             ],
             [
              0.5555555555555556,
              "#d8576b"
             ],
             [
              0.6666666666666666,
              "#ed7953"
             ],
             [
              0.7777777777777778,
              "#fb9f3a"
             ],
             [
              0.8888888888888888,
              "#fdca26"
             ],
             [
              1,
              "#f0f921"
             ]
            ],
            "type": "surface"
           }
          ],
          "table": [
           {
            "cells": {
             "fill": {
              "color": "#EBF0F8"
             },
             "line": {
              "color": "white"
             }
            },
            "header": {
             "fill": {
              "color": "#C8D4E3"
             },
             "line": {
              "color": "white"
             }
            },
            "type": "table"
           }
          ]
         },
         "layout": {
          "annotationdefaults": {
           "arrowcolor": "#2a3f5f",
           "arrowhead": 0,
           "arrowwidth": 1
          },
          "autotypenumbers": "strict",
          "coloraxis": {
           "colorbar": {
            "outlinewidth": 0,
            "ticks": ""
           }
          },
          "colorscale": {
           "diverging": [
            [
             0,
             "#8e0152"
            ],
            [
             0.1,
             "#c51b7d"
            ],
            [
             0.2,
             "#de77ae"
            ],
            [
             0.3,
             "#f1b6da"
            ],
            [
             0.4,
             "#fde0ef"
            ],
            [
             0.5,
             "#f7f7f7"
            ],
            [
             0.6,
             "#e6f5d0"
            ],
            [
             0.7,
             "#b8e186"
            ],
            [
             0.8,
             "#7fbc41"
            ],
            [
             0.9,
             "#4d9221"
            ],
            [
             1,
             "#276419"
            ]
           ],
           "sequential": [
            [
             0,
             "#0d0887"
            ],
            [
             0.1111111111111111,
             "#46039f"
            ],
            [
             0.2222222222222222,
             "#7201a8"
            ],
            [
             0.3333333333333333,
             "#9c179e"
            ],
            [
             0.4444444444444444,
             "#bd3786"
            ],
            [
             0.5555555555555556,
             "#d8576b"
            ],
            [
             0.6666666666666666,
             "#ed7953"
            ],
            [
             0.7777777777777778,
             "#fb9f3a"
            ],
            [
             0.8888888888888888,
             "#fdca26"
            ],
            [
             1,
             "#f0f921"
            ]
           ],
           "sequentialminus": [
            [
             0,
             "#0d0887"
            ],
            [
             0.1111111111111111,
             "#46039f"
            ],
            [
             0.2222222222222222,
             "#7201a8"
            ],
            [
             0.3333333333333333,
             "#9c179e"
            ],
            [
             0.4444444444444444,
             "#bd3786"
            ],
            [
             0.5555555555555556,
             "#d8576b"
            ],
            [
             0.6666666666666666,
             "#ed7953"
            ],
            [
             0.7777777777777778,
             "#fb9f3a"
            ],
            [
             0.8888888888888888,
             "#fdca26"
            ],
            [
             1,
             "#f0f921"
            ]
           ]
          },
          "colorway": [
           "#636efa",
           "#EF553B",
           "#00cc96",
           "#ab63fa",
           "#FFA15A",
           "#19d3f3",
           "#FF6692",
           "#B6E880",
           "#FF97FF",
           "#FECB52"
          ],
          "font": {
           "color": "#2a3f5f"
          },
          "geo": {
           "bgcolor": "white",
           "lakecolor": "white",
           "landcolor": "#E5ECF6",
           "showlakes": true,
           "showland": true,
           "subunitcolor": "white"
          },
          "hoverlabel": {
           "align": "left"
          },
          "hovermode": "closest",
          "mapbox": {
           "style": "light"
          },
          "paper_bgcolor": "white",
          "plot_bgcolor": "#E5ECF6",
          "polar": {
           "angularaxis": {
            "gridcolor": "white",
            "linecolor": "white",
            "ticks": ""
           },
           "bgcolor": "#E5ECF6",
           "radialaxis": {
            "gridcolor": "white",
            "linecolor": "white",
            "ticks": ""
           }
          },
          "scene": {
           "xaxis": {
            "backgroundcolor": "#E5ECF6",
            "gridcolor": "white",
            "gridwidth": 2,
            "linecolor": "white",
            "showbackground": true,
            "ticks": "",
            "zerolinecolor": "white"
           },
           "yaxis": {
            "backgroundcolor": "#E5ECF6",
            "gridcolor": "white",
            "gridwidth": 2,
            "linecolor": "white",
            "showbackground": true,
            "ticks": "",
            "zerolinecolor": "white"
           },
           "zaxis": {
            "backgroundcolor": "#E5ECF6",
            "gridcolor": "white",
            "gridwidth": 2,
            "linecolor": "white",
            "showbackground": true,
            "ticks": "",
            "zerolinecolor": "white"
           }
          },
          "shapedefaults": {
           "line": {
            "color": "#2a3f5f"
           }
          },
          "ternary": {
           "aaxis": {
            "gridcolor": "white",
            "linecolor": "white",
            "ticks": ""
           },
           "baxis": {
            "gridcolor": "white",
            "linecolor": "white",
            "ticks": ""
           },
           "bgcolor": "#E5ECF6",
           "caxis": {
            "gridcolor": "white",
            "linecolor": "white",
            "ticks": ""
           }
          },
          "title": {
           "x": 0.05
          },
          "xaxis": {
           "automargin": true,
           "gridcolor": "white",
           "linecolor": "white",
           "ticks": "",
           "title": {
            "standoff": 15
           },
           "zerolinecolor": "white",
           "zerolinewidth": 2
          },
          "yaxis": {
           "automargin": true,
           "gridcolor": "white",
           "linecolor": "white",
           "ticks": "",
           "title": {
            "standoff": 15
           },
           "zerolinecolor": "white",
           "zerolinewidth": 2
          }
         }
        },
        "xaxis": {
         "anchor": "y",
         "autorange": true,
         "domain": [
          0,
          1
         ],
         "range": [
          1,
          12
         ],
         "title": {
          "text": "month"
         },
         "type": "linear"
        },
        "yaxis": {
         "anchor": "x",
         "autorange": true,
         "domain": [
          0,
          1
         ],
         "range": [
          0.8957307504283057,
          1.6538931561840906
         ],
         "title": {
          "text": "value"
         },
         "type": "linear"
        }
       }
      },
      "image/png": "[encoded data removed]",
      "text/html": [
       "<div>                            <div id=\"4a51ab96-4c25-40b0-980b-3c87fd88ebde\" class=\"plotly-graph-div\" style=\"height:525px; width:100%;\"></div>            <script type=\"text/javascript\">                require([\"plotly\"], function(Plotly) {                    window.PLOTLYENV=window.PLOTLYENV || {};                                    if (document.getElementById(\"4a51ab96-4c25-40b0-980b-3c87fd88ebde\")) {                    Plotly.newPlot(                        \"4a51ab96-4c25-40b0-980b-3c87fd88ebde\",                        [{\"hovertemplate\":\"variable=model_si10_crps\\u003cbr\\u003emonth=%{x}\\u003cbr\\u003evalue=%{y}\\u003cextra\\u003e\\u003c\\u002fextra\\u003e\",\"legendgroup\":\"model_si10_crps\",\"line\":{\"color\":\"#636efa\",\"dash\":\"solid\"},\"marker\":{\"symbol\":\"circle\"},\"mode\":\"lines\",\"name\":\"model_si10_crps\",\"orientation\":\"v\",\"showlegend\":true,\"x\":[1,3,4,5,6,7,8,9,10,11,12],\"xaxis\":\"x\",\"y\":[1.1097735166549683,1.138590931892395,1.1598074436187744,1.019659399986267,0.9988545775413513,0.9761368632316589,0.933638870716095,0.9883509874343872,1.0653868913650513,1.1196773052215576,1.1037038564682007],\"yaxis\":\"y\",\"type\":\"scatter\"},{\"hovertemplate\":\"variable=raw_si10_crps\\u003cbr\\u003emonth=%{x}\\u003cbr\\u003evalue=%{y}\\u003cextra\\u003e\\u003c\\u002fextra\\u003e\",\"legendgroup\":\"raw_si10_crps\",\"line\":{\"color\":\"#EF553B\",\"dash\":\"solid\"},\"marker\":{\"symbol\":\"circle\"},\"mode\":\"lines\",\"name\":\"raw_si10_crps\",\"orientation\":\"v\",\"showlegend\":true,\"x\":[1,3,4,5,6,7,8,9,10,11,12],\"xaxis\":\"x\",\"y\":[1.6159850358963013,1.5825351476669312,1.4960095882415771,1.4296011924743652,1.3996305465698242,1.3409085273742676,1.3280863761901855,1.3916378021240234,1.5205752849578857,1.5972791910171509,1.5567936897277832],\"yaxis\":\"y\",\"type\":\"scatter\"}],                        {\"template\":{\"data\":{\"histogram2dcontour\":[{\"type\":\"histogram2dcontour\",\"colorbar\":{\"outlinewidth\":0,\"ticks\":\"\"},\"colorscale\":[[0.0,\"#0d0887\"],[0.1111111111111111,\"#46039f\"],[0.2222222222222222,\"#7201a8\"],[0.3333333333333333,\"#9c179e\"],[0.4444444444444444,\"#bd3786\"],[0.5555555555555556,\"#d8576b\"],[0.6666666666666666,\"#ed7953\"],[0.7777777777777778,\"#fb9f3a\"],[0.8888888888888888,\"#fdca26\"],[1.0,\"#f0f921\"]]}],\"choropleth\":[{\"type\":\"choropleth\",\"colorbar\":{\"outlinewidth\":0,\"ticks\":\"\"}}],\"histogram2d\":[{\"type\":\"histogram2d\",\"colorbar\":{\"outlinewidth\":0,\"ticks\":\"\"},\"colorscale\":[[0.0,\"#0d0887\"],[0.1111111111111111,\"#46039f\"],[0.2222222222222222,\"#7201a8\"],[0.3333333333333333,\"#9c179e\"],[0.4444444444444444,\"#bd3786\"],[0.5555555555555556,\"#d8576b\"],[0.6666666666666666,\"#ed7953\"],[0.7777777777777778,\"#fb9f3a\"],[0.8888888888888888,\"#fdca26\"],[1.0,\"#f0f921\"]]}],\"heatmap\":[{\"type\":\"heatmap\",\"colorbar\":{\"outlinewidth\":0,\"ticks\":\"\"},\"colorscale\":[[0.0,\"#0d0887\"],[0.1111111111111111,\"#46039f\"],[0.2222222222222222,\"#7201a8\"],[0.3333333333333333,\"#9c179e\"],[0.4444444444444444,\"#bd3786\"],[0.5555555555555556,\"#d8576b\"],[0.6666666666666666,\"#ed7953\"],[0.7777777777777778,\"#fb9f3a\"],[0.8888888888888888,\"#fdca26\"],[1.0,\"#f0f921\"]]}],\"heatmapgl\":[{\"type\":\"heatmapgl\",\"colorbar\":{\"outlinewidth\":0,\"ticks\":\"\"},\"colorscale\":[[0.0,\"#0d0887\"],[0.1111111111111111,\"#46039f\"],[0.2222222222222222,\"#7201a8\"],[0.3333333333333333,\"#9c179e\"],[0.4444444444444444,\"#bd3786\"],[0.5555555555555556,\"#d8576b\"],[0.6666666666666666,\"#ed7953\"],[0.7777777777777778,\"#fb9f3a\"],[0.8888888888888888,\"#fdca26\"],[1.0,\"#f0f921\"]]}],\"contourcarpet\":[{\"type\":\"contourcarpet\",\"colorbar\":{\"outlinewidth\":0,\"ticks\":\"\"}}],\"contour\":[{\"type\":\"contour\",\"colorbar\":{\"outlinewidth\":0,\"ticks\":\"\"},\"colorscale\":[[0.0,\"#0d0887\"],[0.1111111111111111,\"#46039f\"],[0.2222222222222222,\"#7201a8\"],[0.3333333333333333,\"#9c179e\"],[0.4444444444444444,\"#bd3786\"],[0.5555555555555556,\"#d8576b\"],[0.6666666666666666,\"#ed7953\"],[0.7777777777777778,\"#fb9f3a\"],[0.8888888888888888,\"#fdca26\"],[1.0,\"#f0f921\"]]}],\"surface\":[{\"type\":\"surface\",\"colorbar\":{\"outlinewidth\":0,\"ticks\":\"\"},\"colorscale\":[[0.0,\"#0d0887\"],[0.1111111111111111,\"#46039f\"],[0.2222222222222222,\"#7201a8\"],[0.3333333333333333,\"#9c179e\"],[0.4444444444444444,\"#bd3786\"],[0.5555555555555556,\"#d8576b\"],[0.6666666666666666,\"#ed7953\"],[0.7777777777777778,\"#fb9f3a\"],[0.8888888888888888,\"#fdca26\"],[1.0,\"#f0f921\"]]}],\"mesh3d\":[{\"type\":\"mesh3d\",\"colorbar\":{\"outlinewidth\":0,\"ticks\":\"\"}}],\"scatter\":[{\"fillpattern\":{\"fillmode\":\"overlay\",\"size\":10,\"solidity\":0.2},\"type\":\"scatter\"}],\"parcoords\":[{\"type\":\"parcoords\",\"line\":{\"colorbar\":{\"outlinewidth\":0,\"ticks\":\"\"}}}],\"scatterpolargl\":[{\"type\":\"scatterpolargl\",\"marker\":{\"colorbar\":{\"outlinewidth\":0,\"ticks\":\"\"}}}],\"bar\":[{\"error_x\":{\"color\":\"#2a3f5f\"},\"error_y\":{\"color\":\"#2a3f5f\"},\"marker\":{\"line\":{\"color\":\"#E5ECF6\",\"width\":0.5},\"pattern\":{\"fillmode\":\"overlay\",\"size\":10,\"solidity\":0.2}},\"type\":\"bar\"}],\"scattergeo\":[{\"type\":\"scattergeo\",\"marker\":{\"colorbar\":{\"outlinewidth\":0,\"ticks\":\"\"}}}],\"scatterpolar\":[{\"type\":\"scatterpolar\",\"marker\":{\"colorbar\":{\"outlinewidth\":0,\"ticks\":\"\"}}}],\"histogram\":[{\"marker\":{\"pattern\":{\"fillmode\":\"overlay\",\"size\":10,\"solidity\":0.2}},\"type\":\"histogram\"}],\"scattergl\":[{\"type\":\"scattergl\",\"marker\":{\"colorbar\":{\"outlinewidth\":0,\"ticks\":\"\"}}}],\"scatter3d\":[{\"type\":\"scatter3d\",\"line\":{\"colorbar\":{\"outlinewidth\":0,\"ticks\":\"\"}},\"marker\":{\"colorbar\":{\"outlinewidth\":0,\"ticks\":\"\"}}}],\"scattermapbox\":[{\"type\":\"scattermapbox\",\"marker\":{\"colorbar\":{\"outlinewidth\":0,\"ticks\":\"\"}}}],\"scatterternary\":[{\"type\":\"scatterternary\",\"marker\":{\"colorbar\":{\"outlinewidth\":0,\"ticks\":\"\"}}}],\"scattercarpet\":[{\"type\":\"scattercarpet\",\"marker\":{\"colorbar\":{\"outlinewidth\":0,\"ticks\":\"\"}}}],\"carpet\":[{\"aaxis\":{\"endlinecolor\":\"#2a3f5f\",\"gridcolor\":\"white\",\"linecolor\":\"white\",\"minorgridcolor\":\"white\",\"startlinecolor\":\"#2a3f5f\"},\"baxis\":{\"endlinecolor\":\"#2a3f5f\",\"gridcolor\":\"white\",\"linecolor\":\"white\",\"minorgridcolor\":\"white\",\"startlinecolor\":\"#2a3f5f\"},\"type\":\"carpet\"}],\"table\":[{\"cells\":{\"fill\":{\"color\":\"#EBF0F8\"},\"line\":{\"color\":\"white\"}},\"header\":{\"fill\":{\"color\":\"#C8D4E3\"},\"line\":{\"color\":\"white\"}},\"type\":\"table\"}],\"barpolar\":[{\"marker\":{\"line\":{\"color\":\"#E5ECF6\",\"width\":0.5},\"pattern\":{\"fillmode\":\"overlay\",\"size\":10,\"solidity\":0.2}},\"type\":\"barpolar\"}],\"pie\":[{\"automargin\":true,\"type\":\"pie\"}]},\"layout\":{\"autotypenumbers\":\"strict\",\"colorway\":[\"#636efa\",\"#EF553B\",\"#00cc96\",\"#ab63fa\",\"#FFA15A\",\"#19d3f3\",\"#FF6692\",\"#B6E880\",\"#FF97FF\",\"#FECB52\"],\"font\":{\"color\":\"#2a3f5f\"},\"hovermode\":\"closest\",\"hoverlabel\":{\"align\":\"left\"},\"paper_bgcolor\":\"white\",\"plot_bgcolor\":\"#E5ECF6\",\"polar\":{\"bgcolor\":\"#E5ECF6\",\"angularaxis\":{\"gridcolor\":\"white\",\"linecolor\":\"white\",\"ticks\":\"\"},\"radialaxis\":{\"gridcolor\":\"white\",\"linecolor\":\"white\",\"ticks\":\"\"}},\"ternary\":{\"bgcolor\":\"#E5ECF6\",\"aaxis\":{\"gridcolor\":\"white\",\"linecolor\":\"white\",\"ticks\":\"\"},\"baxis\":{\"gridcolor\":\"white\",\"linecolor\":\"white\",\"ticks\":\"\"},\"caxis\":{\"gridcolor\":\"white\",\"linecolor\":\"white\",\"ticks\":\"\"}},\"coloraxis\":{\"colorbar\":{\"outlinewidth\":0,\"ticks\":\"\"}},\"colorscale\":{\"sequential\":[[0.0,\"#0d0887\"],[0.1111111111111111,\"#46039f\"],[0.2222222222222222,\"#7201a8\"],[0.3333333333333333,\"#9c179e\"],[0.4444444444444444,\"#bd3786\"],[0.5555555555555556,\"#d8576b\"],[0.6666666666666666,\"#ed7953\"],[0.7777777777777778,\"#fb9f3a\"],[0.8888888888888888,\"#fdca26\"],[1.0,\"#f0f921\"]],\"sequentialminus\":[[0.0,\"#0d0887\"],[0.1111111111111111,\"#46039f\"],[0.2222222222222222,\"#7201a8\"],[0.3333333333333333,\"#9c179e\"],[0.4444444444444444,\"#bd3786\"],[0.5555555555555556,\"#d8576b\"],[0.6666666666666666,\"#ed7953\"],[0.7777777777777778,\"#fb9f3a\"],[0.8888888888888888,\"#fdca26\"],[1.0,\"#f0f921\"]],\"diverging\":[[0,\"#8e0152\"],[0.1,\"#c51b7d\"],[0.2,\"#de77ae\"],[0.3,\"#f1b6da\"],[0.4,\"#fde0ef\"],[0.5,\"#f7f7f7\"],[0.6,\"#e6f5d0\"],[0.7,\"#b8e186\"],[0.8,\"#7fbc41\"],[0.9,\"#4d9221\"],[1,\"#276419\"]]},\"xaxis\":{\"gridcolor\":\"white\",\"linecolor\":\"white\",\"ticks\":\"\",\"title\":{\"standoff\":15},\"zerolinecolor\":\"white\",\"automargin\":true,\"zerolinewidth\":2},\"yaxis\":{\"gridcolor\":\"white\",\"linecolor\":\"white\",\"ticks\":\"\",\"title\":{\"standoff\":15},\"zerolinecolor\":\"white\",\"automargin\":true,\"zerolinewidth\":2},\"scene\":{\"xaxis\":{\"backgroundcolor\":\"#E5ECF6\",\"gridcolor\":\"white\",\"linecolor\":\"white\",\"showbackground\":true,\"ticks\":\"\",\"zerolinecolor\":\"white\",\"gridwidth\":2},\"yaxis\":{\"backgroundcolor\":\"#E5ECF6\",\"gridcolor\":\"white\",\"linecolor\":\"white\",\"showbackground\":true,\"ticks\":\"\",\"zerolinecolor\":\"white\",\"gridwidth\":2},\"zaxis\":{\"backgroundcolor\":\"#E5ECF6\",\"gridcolor\":\"white\",\"linecolor\":\"white\",\"showbackground\":true,\"ticks\":\"\",\"zerolinecolor\":\"white\",\"gridwidth\":2}},\"shapedefaults\":{\"line\":{\"color\":\"#2a3f5f\"}},\"annotationdefaults\":{\"arrowcolor\":\"#2a3f5f\",\"arrowhead\":0,\"arrowwidth\":1},\"geo\":{\"bgcolor\":\"white\",\"landcolor\":\"#E5ECF6\",\"subunitcolor\":\"white\",\"showland\":true,\"showlakes\":true,\"lakecolor\":\"white\"},\"title\":{\"x\":0.05},\"mapbox\":{\"style\":\"light\"}}},\"xaxis\":{\"anchor\":\"y\",\"domain\":[0.0,1.0],\"title\":{\"text\":\"month\"}},\"yaxis\":{\"anchor\":\"x\",\"domain\":[0.0,1.0],\"title\":{\"text\":\"value\"}},\"legend\":{\"title\":{\"text\":\"variable\"},\"tracegroupgap\":0},\"margin\":{\"t\":60}},                        {\"responsive\": true}                    ).then(function(){\n",
       "                            \n",
       "var gd = document.getElementById('4a51ab96-4c25-40b0-980b-3c87fd88ebde');\n",
       "var x = new MutationObserver(function (mutations, observer) {{\n",
       "        var display = window.getComputedStyle(gd).display;\n",
       "        if (!display || display === 'none') {{\n",
       "            console.log([gd, 'removed!']);\n",
       "            Plotly.purge(gd);\n",
       "            observer.disconnect();\n",
       "        }}\n",
       "}});\n",
       "\n",
       "// Listen for the removal of the full notebook cells\n",
       "var notebookContainer = gd.closest('#notebook-container');\n",
       "if (notebookContainer) {{\n",
       "    x.observe(notebookContainer, {childList: true});\n",
       "}}\n",
       "\n",
       "// Listen for the clearing of the current output cell\n",
       "var outputEl = gd.closest('.output');\n",
       "if (outputEl) {{\n",
       "    x.observe(outputEl, {childList: true});\n",
       "}}\n",
       "\n",
       "                        })                };                });            </script>        </div>"
      ]
     },
     "metadata": {},
     "output_type": "display_data"
    }
   ],
   "source": [
    "si10_crps_df['month'] = si10_crps_df.index.get_level_values(level='forecast_time').month\n",
    "by_month = si10_crps_df[['month', 'model_si10_crps', 'raw_si10_crps']].groupby('month').mean()\n",
    "by_month_melt = by_month.reset_index().melt(id_vars=['month'], value_vars=['model_si10_crps', 'raw_si10_crps'])\n",
    "\n",
    "\n",
    "px.line(data_frame=by_month_melt, x='month', y='value', color='variable')"
   ]
  },
  {
   "cell_type": "code",
   "execution_count": 136,
   "id": "54717cf4-a086-488f-8307-2e2ef946f063",
   "metadata": {
    "tags": []
   },
   "outputs": [],
   "source": [
    "by_station = si10_crps_df[['model_si10_crps', 'raw_si10_crps']].groupby('station').mean().sort_values('model_si10_crps', ascending=False)"
   ]
  },
  {
   "cell_type": "code",
   "execution_count": 138,
   "id": "495e7f86-8ddb-49ef-900f-c087d3ab8c64",
   "metadata": {
    "tags": []
   },
   "outputs": [],
   "source": [
    "by_station\n",
    "by_station_melt = by_station.reset_index().melt(id_vars=['station'], value_vars=['model_si10_crps', 'raw_si10_crps'])"
   ]
  },
  {
   "cell_type": "code",
   "execution_count": 140,
   "id": "c9fce9f3-5e09-42e2-9c12-6974012c87e9",
   "metadata": {
    "tags": []
   },
   "outputs": [
    {
     "data": {
      "application/vnd.plotly.v1+json": {
       "config": {
        "plotlyServerURL": "https://plot.ly"
       },
       "data": [
        {
         "alignmentgroup": "True",
         "hovertemplate": "variable=model_si10_crps<br>station=%{x}<br>value=%{y}<extra></extra>",
         "legendgroup": "model_si10_crps",
         "marker": {
          "color": "#636efa",
          "pattern": {
           "shape": ""
          }
         },
         "name": "model_si10_crps",
         "offsetgroup": "model_si10_crps",
         "orientation": "v",
         "showlegend": true,
         "textposition": "auto",
         "type": "bar",
         "x": [
          "CXTN",
          "CWQS",
          "CYFB",
          "RIW",
          "CYTE",
          "PAOT",
          "PADU",
          "CXSE",
          "ELP",
          "LAM",
          "CWND",
          "CWSF",
          "CWRN",
          "CYGW",
          "GTF",
          "CYJT",
          "CWIJ",
          "APA",
          "SFO",
          "GCD",
          "PASD",
          "CYRT",
          "PADQ",
          "PASI",
          "CWEU",
          "DUX",
          "ANW",
          "CYPH",
          "CYZT",
          "CYYT",
          "CDC",
          "CWWS",
          "CYVM",
          "NFL",
          "GDV",
          "SOW",
          "CYCB",
          "CXAT",
          "CYQH",
          "BYI",
          "CYKY",
          "CYUX",
          "CYWL",
          "CYVQ",
          "GPT",
          "FAR",
          "CYPE",
          "PABE",
          "ACK",
          "ACV",
          "MAF",
          "CYWK",
          "PABR",
          "CYVP",
          "CYBG",
          "FXY",
          "CYYR",
          "BGR",
          "IWD",
          "CYYE",
          "CYMA",
          "HQM",
          "NYL",
          "PATA",
          "WLD",
          "CWIK",
          "PACV",
          "CYZF",
          "OXR",
          "CYXZ",
          "CYXL",
          "BLV",
          "MFE",
          "HXD",
          "CDJ",
          "RFD",
          "BHM",
          "5C1",
          "PBI",
          "TEW",
          "AFW",
          "TLH",
          "DRI",
          "AGC",
          "CYTL",
          "CWCO",
          "BGM",
          "CYVO",
          "CYPY",
          "CWLB",
          "PHNL",
          "FFA",
          "CYMO",
          "CWVQ",
          "LRF",
          "VUJ",
          "CWJH",
          "JKL",
          "CWPZ",
          "CWNP"
         ],
         "xaxis": "x",
         "y": [
          1.870042085647583,
          1.6481417417526245,
          1.563759446144104,
          1.5502641201019287,
          1.4921197891235352,
          1.440713882446289,
          1.431286334991455,
          1.4123458862304688,
          1.4109307527542114,
          1.4013835191726685,
          1.387905240058899,
          1.3488798141479492,
          1.3486663103103638,
          1.3284833431243896,
          1.3278599977493286,
          1.3274654150009155,
          1.3065149784088135,
          1.2932114601135254,
          1.2921545505523682,
          1.267940878868103,
          1.256477952003479,
          1.2540473937988281,
          1.2483937740325928,
          1.2362431287765503,
          1.2261756658554077,
          1.225395679473877,
          1.2241158485412598,
          1.221233606338501,
          1.216411828994751,
          1.213797926902771,
          1.213291883468628,
          1.207297921180725,
          1.1908906698226929,
          1.1734979152679443,
          1.1634752750396729,
          1.1505329608917236,
          1.1482526063919067,
          1.1356209516525269,
          1.1314985752105713,
          1.1294610500335693,
          1.1218606233596802,
          1.1198265552520752,
          1.1016747951507568,
          1.1000313758850098,
          1.0967676639556885,
          1.0869108438491821,
          1.0797926187515259,
          1.078027367591858,
          1.073409914970398,
          1.0364333391189575,
          1.0293328762054443,
          1.0258266925811768,
          1.0094746351242065,
          0.9998505711555481,
          0.9848740696907043,
          0.9814931750297546,
          0.9775876402854919,
          0.9762470722198486,
          0.9574878215789795,
          0.9568111300468445,
          0.9365153312683105,
          0.921390950679779,
          0.9196401238441467,
          0.9181066751480103,
          0.9160565137863159,
          0.9125829339027405,
          0.8924248814582825,
          0.8860257267951965,
          0.8814806938171387,
          0.8739429116249084,
          0.8736856579780579,
          0.8650428652763367,
          0.8647494316101074,
          0.8635938167572021,
          0.8565040826797485,
          0.8536891937255859,
          0.8511091470718384,
          0.8415095210075378,
          0.8344708681106567,
          0.8331349492073059,
          0.8317509293556213,
          0.803962767124176,
          0.803022027015686,
          0.8013355135917664,
          0.7934084534645081,
          0.7917199730873108,
          0.7845252752304077,
          0.7820687294006348,
          0.7782257795333862,
          0.7698253989219666,
          0.7650470733642578,
          0.7349132299423218,
          0.7162177562713623,
          0.7053049802780151,
          0.6989067792892456,
          0.6424625515937805,
          0.6387912631034851,
          0.6163117289543152,
          0.6095646023750305,
          0.44140347838401794
         ],
         "yaxis": "y"
        },
        {
         "alignmentgroup": "True",
         "hovertemplate": "variable=raw_si10_crps<br>station=%{x}<br>value=%{y}<extra></extra>",
         "legendgroup": "raw_si10_crps",
         "marker": {
          "color": "#EF553B",
          "pattern": {
           "shape": ""
          }
         },
         "name": "raw_si10_crps",
         "offsetgroup": "raw_si10_crps",
         "orientation": "v",
         "showlegend": true,
         "textposition": "auto",
         "type": "bar",
         "x": [
          "CXTN",
          "CWQS",
          "CYFB",
          "RIW",
          "CYTE",
          "PAOT",
          "PADU",
          "CXSE",
          "ELP",
          "LAM",
          "CWND",
          "CWSF",
          "CWRN",
          "CYGW",
          "GTF",
          "CYJT",
          "CWIJ",
          "APA",
          "SFO",
          "GCD",
          "PASD",
          "CYRT",
          "PADQ",
          "PASI",
          "CWEU",
          "DUX",
          "ANW",
          "CYPH",
          "CYZT",
          "CYYT",
          "CDC",
          "CWWS",
          "CYVM",
          "NFL",
          "GDV",
          "SOW",
          "CYCB",
          "CXAT",
          "CYQH",
          "BYI",
          "CYKY",
          "CYUX",
          "CYWL",
          "CYVQ",
          "GPT",
          "FAR",
          "CYPE",
          "PABE",
          "ACK",
          "ACV",
          "MAF",
          "CYWK",
          "PABR",
          "CYVP",
          "CYBG",
          "FXY",
          "CYYR",
          "BGR",
          "IWD",
          "CYYE",
          "CYMA",
          "HQM",
          "NYL",
          "PATA",
          "WLD",
          "CWIK",
          "PACV",
          "CYZF",
          "OXR",
          "CYXZ",
          "CYXL",
          "BLV",
          "MFE",
          "HXD",
          "CDJ",
          "RFD",
          "BHM",
          "5C1",
          "PBI",
          "TEW",
          "AFW",
          "TLH",
          "DRI",
          "AGC",
          "CYTL",
          "CWCO",
          "BGM",
          "CYVO",
          "CYPY",
          "CWLB",
          "PHNL",
          "FFA",
          "CYMO",
          "CWVQ",
          "LRF",
          "VUJ",
          "CWJH",
          "JKL",
          "CWPZ",
          "CWNP"
         ],
         "xaxis": "x",
         "y": [
          1.7674942016601562,
          2.0457563400268555,
          2.030754327774048,
          2.0591838359832764,
          1.7152185440063477,
          1.5986968278884888,
          2.816606044769287,
          1.836564302444458,
          1.433728814125061,
          1.9641300439834595,
          1.4682801961898804,
          2.3708345890045166,
          1.6711573600769043,
          2.606624126434326,
          1.8473739624023438,
          1.6492500305175781,
          1.477393627166748,
          2.120443105697632,
          2.812613010406494,
          1.6736829280853271,
          1.8112080097198486,
          1.4787139892578125,
          1.8178744316101074,
          2.67448091506958,
          1.784264087677002,
          1.288008213043213,
          1.2809234857559204,
          1.2036055326461792,
          2.106518030166626,
          2.1304574012756348,
          1.8376083374023438,
          1.8987138271331787,
          1.4296791553497314,
          1.3637629747390747,
          1.2390755414962769,
          1.4646028280258179,
          1.1939754486083984,
          1.7803627252578735,
          1.3241533041000366,
          1.29654860496521,
          1.2634570598602295,
          1.2939143180847168,
          1.4094793796539307,
          1.548117995262146,
          1.195630669593811,
          1.6514772176742554,
          1.3177059888839722,
          1.203303575515747,
          1.940281629562378,
          1.453811764717102,
          1.2716673612594604,
          1.516535758972168,
          1.1974060535430908,
          1.2053837776184082,
          1.5111198425292969,
          1.295711874961853,
          1.3533246517181396,
          1.285585641860962,
          1.4167777299880981,
          1.2424067258834839,
          1.2071506977081299,
          1.544082760810852,
          1.0033923387527466,
          1.2527546882629395,
          1.1516025066375732,
          1.1249803304672241,
          1.6319276094436646,
          0.9906275868415833,
          1.172605037689209,
          1.3737915754318237,
          1.06956946849823,
          1.0186861753463745,
          1.291162133216858,
          3.7729110717773438,
          1.150730848312378,
          0.961945116519928,
          1.0341932773590088,
          1.083691120147705,
          1.0995745658874512,
          1.3212298154830933,
          0.913040816783905,
          1.1486409902572632,
          1.185180902481079,
          1.044488549232483,
          0.9565771818161011,
          1.0870975255966187,
          0.937542200088501,
          0.9070923328399658,
          1.1178650856018066,
          0.9912206530570984,
          1.1933631896972656,
          3.964637517929077,
          0.955919623374939,
          0.9422141909599304,
          0.8910607099533081,
          1.6546045541763306,
          1.1080396175384521,
          1.054551124572754,
          0.9985176920890808,
          0.645967960357666
         ],
         "yaxis": "y"
        }
       ],
       "layout": {
        "autosize": true,
        "barmode": "group",
        "legend": {
         "title": {
          "text": "variable"
         },
         "tracegroupgap": 0
        },
        "margin": {
         "t": 60
        },
        "template": {
         "data": {
          "bar": [
           {
            "error_x": {
             "color": "#2a3f5f"
            },
            "error_y": {
             "color": "#2a3f5f"
            },
            "marker": {
             "line": {
              "color": "#E5ECF6",
              "width": 0.5
             },
             "pattern": {
              "fillmode": "overlay",
              "size": 10,
              "solidity": 0.2
             }
            },
            "type": "bar"
           }
          ],
          "barpolar": [
           {
            "marker": {
             "line": {
              "color": "#E5ECF6",
              "width": 0.5
             },
             "pattern": {
              "fillmode": "overlay",
              "size": 10,
              "solidity": 0.2
             }
            },
            "type": "barpolar"
           }
          ],
          "carpet": [
           {
            "aaxis": {
             "endlinecolor": "#2a3f5f",
             "gridcolor": "white",
             "linecolor": "white",
             "minorgridcolor": "white",
             "startlinecolor": "#2a3f5f"
            },
            "baxis": {
             "endlinecolor": "#2a3f5f",
             "gridcolor": "white",
             "linecolor": "white",
             "minorgridcolor": "white",
             "startlinecolor": "#2a3f5f"
            },
            "type": "carpet"
           }
          ],
          "choropleth": [
           {
            "colorbar": {
             "outlinewidth": 0,
             "ticks": ""
            },
            "type": "choropleth"
           }
          ],
          "contour": [
           {
            "colorbar": {
             "outlinewidth": 0,
             "ticks": ""
            },
            "colorscale": [
             [
              0,
              "#0d0887"
             ],
             [
              0.1111111111111111,
              "#46039f"
             ],
             [
              0.2222222222222222,
              "#7201a8"
             ],
             [
              0.3333333333333333,
              "#9c179e"
             ],
             [
              0.4444444444444444,
              "#bd3786"
             ],
             [
              0.5555555555555556,
              "#d8576b"
             ],
             [
              0.6666666666666666,
              "#ed7953"
             ],
             [
              0.7777777777777778,
              "#fb9f3a"
             ],
             [
              0.8888888888888888,
              "#fdca26"
             ],
             [
              1,
              "#f0f921"
             ]
            ],
            "type": "contour"
           }
          ],
          "contourcarpet": [
           {
            "colorbar": {
             "outlinewidth": 0,
             "ticks": ""
            },
            "type": "contourcarpet"
           }
          ],
          "heatmap": [
           {
            "colorbar": {
             "outlinewidth": 0,
             "ticks": ""
            },
            "colorscale": [
             [
              0,
              "#0d0887"
             ],
             [
              0.1111111111111111,
              "#46039f"
             ],
             [
              0.2222222222222222,
              "#7201a8"
             ],
             [
              0.3333333333333333,
              "#9c179e"
             ],
             [
              0.4444444444444444,
              "#bd3786"
             ],
             [
              0.5555555555555556,
              "#d8576b"
             ],
             [
              0.6666666666666666,
              "#ed7953"
             ],
             [
              0.7777777777777778,
              "#fb9f3a"
             ],
             [
              0.8888888888888888,
              "#fdca26"
             ],
             [
              1,
              "#f0f921"
             ]
            ],
            "type": "heatmap"
           }
          ],
          "heatmapgl": [
           {
            "colorbar": {
             "outlinewidth": 0,
             "ticks": ""
            },
            "colorscale": [
             [
              0,
              "#0d0887"
             ],
             [
              0.1111111111111111,
              "#46039f"
             ],
             [
              0.2222222222222222,
              "#7201a8"
             ],
             [
              0.3333333333333333,
              "#9c179e"
             ],
             [
              0.4444444444444444,
              "#bd3786"
             ],
             [
              0.5555555555555556,
              "#d8576b"
             ],
             [
              0.6666666666666666,
              "#ed7953"
             ],
             [
              0.7777777777777778,
              "#fb9f3a"
             ],
             [
              0.8888888888888888,
              "#fdca26"
             ],
             [
              1,
              "#f0f921"
             ]
            ],
            "type": "heatmapgl"
           }
          ],
          "histogram": [
           {
            "marker": {
             "pattern": {
              "fillmode": "overlay",
              "size": 10,
              "solidity": 0.2
             }
            },
            "type": "histogram"
           }
          ],
          "histogram2d": [
           {
            "colorbar": {
             "outlinewidth": 0,
             "ticks": ""
            },
            "colorscale": [
             [
              0,
              "#0d0887"
             ],
             [
              0.1111111111111111,
              "#46039f"
             ],
             [
              0.2222222222222222,
              "#7201a8"
             ],
             [
              0.3333333333333333,
              "#9c179e"
             ],
             [
              0.4444444444444444,
              "#bd3786"
             ],
             [
              0.5555555555555556,
              "#d8576b"
             ],
             [
              0.6666666666666666,
              "#ed7953"
             ],
             [
              0.7777777777777778,
              "#fb9f3a"
             ],
             [
              0.8888888888888888,
              "#fdca26"
             ],
             [
              1,
              "#f0f921"
             ]
            ],
            "type": "histogram2d"
           }
          ],
          "histogram2dcontour": [
           {
            "colorbar": {
             "outlinewidth": 0,
             "ticks": ""
            },
            "colorscale": [
             [
              0,
              "#0d0887"
             ],
             [
              0.1111111111111111,
              "#46039f"
             ],
             [
              0.2222222222222222,
              "#7201a8"
             ],
             [
              0.3333333333333333,
              "#9c179e"
             ],
             [
              0.4444444444444444,
              "#bd3786"
             ],
             [
              0.5555555555555556,
              "#d8576b"
             ],
             [
              0.6666666666666666,
              "#ed7953"
             ],
             [
              0.7777777777777778,
              "#fb9f3a"
             ],
             [
              0.8888888888888888,
              "#fdca26"
             ],
             [
              1,
              "#f0f921"
             ]
            ],
            "type": "histogram2dcontour"
           }
          ],
          "mesh3d": [
           {
            "colorbar": {
             "outlinewidth": 0,
             "ticks": ""
            },
            "type": "mesh3d"
           }
          ],
          "parcoords": [
           {
            "line": {
             "colorbar": {
              "outlinewidth": 0,
              "ticks": ""
             }
            },
            "type": "parcoords"
           }
          ],
          "pie": [
           {
            "automargin": true,
            "type": "pie"
           }
          ],
          "scatter": [
           {
            "fillpattern": {
             "fillmode": "overlay",
             "size": 10,
             "solidity": 0.2
            },
            "type": "scatter"
           }
          ],
          "scatter3d": [
           {
            "line": {
             "colorbar": {
              "outlinewidth": 0,
              "ticks": ""
             }
            },
            "marker": {
             "colorbar": {
              "outlinewidth": 0,
              "ticks": ""
             }
            },
            "type": "scatter3d"
           }
          ],
          "scattercarpet": [
           {
            "marker": {
             "colorbar": {
              "outlinewidth": 0,
              "ticks": ""
             }
            },
            "type": "scattercarpet"
           }
          ],
          "scattergeo": [
           {
            "marker": {
             "colorbar": {
              "outlinewidth": 0,
              "ticks": ""
             }
            },
            "type": "scattergeo"
           }
          ],
          "scattergl": [
           {
            "marker": {
             "colorbar": {
              "outlinewidth": 0,
              "ticks": ""
             }
            },
            "type": "scattergl"
           }
          ],
          "scattermapbox": [
           {
            "marker": {
             "colorbar": {
              "outlinewidth": 0,
              "ticks": ""
             }
            },
            "type": "scattermapbox"
           }
          ],
          "scatterpolar": [
           {
            "marker": {
             "colorbar": {
              "outlinewidth": 0,
              "ticks": ""
             }
            },
            "type": "scatterpolar"
           }
          ],
          "scatterpolargl": [
           {
            "marker": {
             "colorbar": {
              "outlinewidth": 0,
              "ticks": ""
             }
            },
            "type": "scatterpolargl"
           }
          ],
          "scatterternary": [
           {
            "marker": {
             "colorbar": {
              "outlinewidth": 0,
              "ticks": ""
             }
            },
            "type": "scatterternary"
           }
          ],
          "surface": [
           {
            "colorbar": {
             "outlinewidth": 0,
             "ticks": ""
            },
            "colorscale": [
             [
              0,
              "#0d0887"
             ],
             [
              0.1111111111111111,
              "#46039f"
             ],
             [
              0.2222222222222222,
              "#7201a8"
             ],
             [
              0.3333333333333333,
              "#9c179e"
             ],
             [
              0.4444444444444444,
              "#bd3786"
             ],
             [
              0.5555555555555556,
              "#d8576b"
             ],
             [
              0.6666666666666666,
              "#ed7953"
             ],
             [
              0.7777777777777778,
              "#fb9f3a"
             ],
             [
              0.8888888888888888,
              "#fdca26"
             ],
             [
              1,
              "#f0f921"
             ]
            ],
            "type": "surface"
           }
          ],
          "table": [
           {
            "cells": {
             "fill": {
              "color": "#EBF0F8"
             },
             "line": {
              "color": "white"
             }
            },
            "header": {
             "fill": {
              "color": "#C8D4E3"
             },
             "line": {
              "color": "white"
             }
            },
            "type": "table"
           }
          ]
         },
         "layout": {
          "annotationdefaults": {
           "arrowcolor": "#2a3f5f",
           "arrowhead": 0,
           "arrowwidth": 1
          },
          "autotypenumbers": "strict",
          "coloraxis": {
           "colorbar": {
            "outlinewidth": 0,
            "ticks": ""
           }
          },
          "colorscale": {
           "diverging": [
            [
             0,
             "#8e0152"
            ],
            [
             0.1,
             "#c51b7d"
            ],
            [
             0.2,
             "#de77ae"
            ],
            [
             0.3,
             "#f1b6da"
            ],
            [
             0.4,
             "#fde0ef"
            ],
            [
             0.5,
             "#f7f7f7"
            ],
            [
             0.6,
             "#e6f5d0"
            ],
            [
             0.7,
             "#b8e186"
            ],
            [
             0.8,
             "#7fbc41"
            ],
            [
             0.9,
             "#4d9221"
            ],
            [
             1,
             "#276419"
            ]
           ],
           "sequential": [
            [
             0,
             "#0d0887"
            ],
            [
             0.1111111111111111,
             "#46039f"
            ],
            [
             0.2222222222222222,
             "#7201a8"
            ],
            [
             0.3333333333333333,
             "#9c179e"
            ],
            [
             0.4444444444444444,
             "#bd3786"
            ],
            [
             0.5555555555555556,
             "#d8576b"
            ],
            [
             0.6666666666666666,
             "#ed7953"
            ],
            [
             0.7777777777777778,
             "#fb9f3a"
            ],
            [
             0.8888888888888888,
             "#fdca26"
            ],
            [
             1,
             "#f0f921"
            ]
           ],
           "sequentialminus": [
            [
             0,
             "#0d0887"
            ],
            [
             0.1111111111111111,
             "#46039f"
            ],
            [
             0.2222222222222222,
             "#7201a8"
            ],
            [
             0.3333333333333333,
             "#9c179e"
            ],
            [
             0.4444444444444444,
             "#bd3786"
            ],
            [
             0.5555555555555556,
             "#d8576b"
            ],
            [
             0.6666666666666666,
             "#ed7953"
            ],
            [
             0.7777777777777778,
             "#fb9f3a"
            ],
            [
             0.8888888888888888,
             "#fdca26"
            ],
            [
             1,
             "#f0f921"
            ]
           ]
          },
          "colorway": [
           "#636efa",
           "#EF553B",
           "#00cc96",
           "#ab63fa",
           "#FFA15A",
           "#19d3f3",
           "#FF6692",
           "#B6E880",
           "#FF97FF",
           "#FECB52"
          ],
          "font": {
           "color": "#2a3f5f"
          },
          "geo": {
           "bgcolor": "white",
           "lakecolor": "white",
           "landcolor": "#E5ECF6",
           "showlakes": true,
           "showland": true,
           "subunitcolor": "white"
          },
          "hoverlabel": {
           "align": "left"
          },
          "hovermode": "closest",
          "mapbox": {
           "style": "light"
          },
          "paper_bgcolor": "white",
          "plot_bgcolor": "#E5ECF6",
          "polar": {
           "angularaxis": {
            "gridcolor": "white",
            "linecolor": "white",
            "ticks": ""
           },
           "bgcolor": "#E5ECF6",
           "radialaxis": {
            "gridcolor": "white",
            "linecolor": "white",
            "ticks": ""
           }
          },
          "scene": {
           "xaxis": {
            "backgroundcolor": "#E5ECF6",
            "gridcolor": "white",
            "gridwidth": 2,
            "linecolor": "white",
            "showbackground": true,
            "ticks": "",
            "zerolinecolor": "white"
           },
           "yaxis": {
            "backgroundcolor": "#E5ECF6",
            "gridcolor": "white",
            "gridwidth": 2,
            "linecolor": "white",
            "showbackground": true,
            "ticks": "",
            "zerolinecolor": "white"
           },
           "zaxis": {
            "backgroundcolor": "#E5ECF6",
            "gridcolor": "white",
            "gridwidth": 2,
            "linecolor": "white",
            "showbackground": true,
            "ticks": "",
            "zerolinecolor": "white"
           }
          },
          "shapedefaults": {
           "line": {
            "color": "#2a3f5f"
           }
          },
          "ternary": {
           "aaxis": {
            "gridcolor": "white",
            "linecolor": "white",
            "ticks": ""
           },
           "baxis": {
            "gridcolor": "white",
            "linecolor": "white",
            "ticks": ""
           },
           "bgcolor": "#E5ECF6",
           "caxis": {
            "gridcolor": "white",
            "linecolor": "white",
            "ticks": ""
           }
          },
          "title": {
           "x": 0.05
          },
          "xaxis": {
           "automargin": true,
           "gridcolor": "white",
           "linecolor": "white",
           "ticks": "",
           "title": {
            "standoff": 15
           },
           "zerolinecolor": "white",
           "zerolinewidth": 2
          },
          "yaxis": {
           "automargin": true,
           "gridcolor": "white",
           "linecolor": "white",
           "ticks": "",
           "title": {
            "standoff": 15
           },
           "zerolinecolor": "white",
           "zerolinewidth": 2
          }
         }
        },
        "xaxis": {
         "anchor": "y",
         "autorange": true,
         "domain": [
          0,
          1
         ],
         "range": [
          -0.5,
          99.5
         ],
         "title": {
          "text": "station"
         },
         "type": "category"
        },
        "yaxis": {
         "anchor": "x",
         "autorange": true,
         "domain": [
          0,
          1
         ],
         "range": [
          0,
          4.17330265045166
         ],
         "title": {
          "text": "value"
         },
         "type": "linear"
        }
       }
      },
      "image/png": "[encoded data removed]",
      "text/html": [
       "<div>                            <div id=\"cc9a3838-7510-43ea-ba0f-0ec4d1c1d372\" class=\"plotly-graph-div\" style=\"height:525px; width:100%;\"></div>            <script type=\"text/javascript\">                require([\"plotly\"], function(Plotly) {                    window.PLOTLYENV=window.PLOTLYENV || {};                                    if (document.getElementById(\"cc9a3838-7510-43ea-ba0f-0ec4d1c1d372\")) {                    Plotly.newPlot(                        \"cc9a3838-7510-43ea-ba0f-0ec4d1c1d372\",                        [{\"alignmentgroup\":\"True\",\"hovertemplate\":\"variable=model_si10_crps\\u003cbr\\u003estation=%{x}\\u003cbr\\u003evalue=%{y}\\u003cextra\\u003e\\u003c\\u002fextra\\u003e\",\"legendgroup\":\"model_si10_crps\",\"marker\":{\"color\":\"#636efa\",\"pattern\":{\"shape\":\"\"}},\"name\":\"model_si10_crps\",\"offsetgroup\":\"model_si10_crps\",\"orientation\":\"v\",\"showlegend\":true,\"textposition\":\"auto\",\"x\":[\"CXTN\",\"CWQS\",\"CYFB\",\"RIW\",\"CYTE\",\"PAOT\",\"PADU\",\"CXSE\",\"ELP\",\"LAM\",\"CWND\",\"CWSF\",\"CWRN\",\"CYGW\",\"GTF\",\"CYJT\",\"CWIJ\",\"APA\",\"SFO\",\"GCD\",\"PASD\",\"CYRT\",\"PADQ\",\"PASI\",\"CWEU\",\"DUX\",\"ANW\",\"CYPH\",\"CYZT\",\"CYYT\",\"CDC\",\"CWWS\",\"CYVM\",\"NFL\",\"GDV\",\"SOW\",\"CYCB\",\"CXAT\",\"CYQH\",\"BYI\",\"CYKY\",\"CYUX\",\"CYWL\",\"CYVQ\",\"GPT\",\"FAR\",\"CYPE\",\"PABE\",\"ACK\",\"ACV\",\"MAF\",\"CYWK\",\"PABR\",\"CYVP\",\"CYBG\",\"FXY\",\"CYYR\",\"BGR\",\"IWD\",\"CYYE\",\"CYMA\",\"HQM\",\"NYL\",\"PATA\",\"WLD\",\"CWIK\",\"PACV\",\"CYZF\",\"OXR\",\"CYXZ\",\"CYXL\",\"BLV\",\"MFE\",\"HXD\",\"CDJ\",\"RFD\",\"BHM\",\"5C1\",\"PBI\",\"TEW\",\"AFW\",\"TLH\",\"DRI\",\"AGC\",\"CYTL\",\"CWCO\",\"BGM\",\"CYVO\",\"CYPY\",\"CWLB\",\"PHNL\",\"FFA\",\"CYMO\",\"CWVQ\",\"LRF\",\"VUJ\",\"CWJH\",\"JKL\",\"CWPZ\",\"CWNP\"],\"xaxis\":\"x\",\"y\":[1.870042085647583,1.6481417417526245,1.563759446144104,1.5502641201019287,1.4921197891235352,1.440713882446289,1.431286334991455,1.4123458862304688,1.4109307527542114,1.4013835191726685,1.387905240058899,1.3488798141479492,1.3486663103103638,1.3284833431243896,1.3278599977493286,1.3274654150009155,1.3065149784088135,1.2932114601135254,1.2921545505523682,1.267940878868103,1.256477952003479,1.2540473937988281,1.2483937740325928,1.2362431287765503,1.2261756658554077,1.225395679473877,1.2241158485412598,1.221233606338501,1.216411828994751,1.213797926902771,1.213291883468628,1.207297921180725,1.1908906698226929,1.1734979152679443,1.1634752750396729,1.1505329608917236,1.1482526063919067,1.1356209516525269,1.1314985752105713,1.1294610500335693,1.1218606233596802,1.1198265552520752,1.1016747951507568,1.1000313758850098,1.0967676639556885,1.0869108438491821,1.0797926187515259,1.078027367591858,1.073409914970398,1.0364333391189575,1.0293328762054443,1.0258266925811768,1.0094746351242065,0.9998505711555481,0.9848740696907043,0.9814931750297546,0.9775876402854919,0.9762470722198486,0.9574878215789795,0.9568111300468445,0.9365153312683105,0.921390950679779,0.9196401238441467,0.9181066751480103,0.9160565137863159,0.9125829339027405,0.8924248814582825,0.8860257267951965,0.8814806938171387,0.8739429116249084,0.8736856579780579,0.8650428652763367,0.8647494316101074,0.8635938167572021,0.8565040826797485,0.8536891937255859,0.8511091470718384,0.8415095210075378,0.8344708681106567,0.8331349492073059,0.8317509293556213,0.803962767124176,0.803022027015686,0.8013355135917664,0.7934084534645081,0.7917199730873108,0.7845252752304077,0.7820687294006348,0.7782257795333862,0.7698253989219666,0.7650470733642578,0.7349132299423218,0.7162177562713623,0.7053049802780151,0.6989067792892456,0.6424625515937805,0.6387912631034851,0.6163117289543152,0.6095646023750305,0.44140347838401794],\"yaxis\":\"y\",\"type\":\"bar\"},{\"alignmentgroup\":\"True\",\"hovertemplate\":\"variable=raw_si10_crps\\u003cbr\\u003estation=%{x}\\u003cbr\\u003evalue=%{y}\\u003cextra\\u003e\\u003c\\u002fextra\\u003e\",\"legendgroup\":\"raw_si10_crps\",\"marker\":{\"color\":\"#EF553B\",\"pattern\":{\"shape\":\"\"}},\"name\":\"raw_si10_crps\",\"offsetgroup\":\"raw_si10_crps\",\"orientation\":\"v\",\"showlegend\":true,\"textposition\":\"auto\",\"x\":[\"CXTN\",\"CWQS\",\"CYFB\",\"RIW\",\"CYTE\",\"PAOT\",\"PADU\",\"CXSE\",\"ELP\",\"LAM\",\"CWND\",\"CWSF\",\"CWRN\",\"CYGW\",\"GTF\",\"CYJT\",\"CWIJ\",\"APA\",\"SFO\",\"GCD\",\"PASD\",\"CYRT\",\"PADQ\",\"PASI\",\"CWEU\",\"DUX\",\"ANW\",\"CYPH\",\"CYZT\",\"CYYT\",\"CDC\",\"CWWS\",\"CYVM\",\"NFL\",\"GDV\",\"SOW\",\"CYCB\",\"CXAT\",\"CYQH\",\"BYI\",\"CYKY\",\"CYUX\",\"CYWL\",\"CYVQ\",\"GPT\",\"FAR\",\"CYPE\",\"PABE\",\"ACK\",\"ACV\",\"MAF\",\"CYWK\",\"PABR\",\"CYVP\",\"CYBG\",\"FXY\",\"CYYR\",\"BGR\",\"IWD\",\"CYYE\",\"CYMA\",\"HQM\",\"NYL\",\"PATA\",\"WLD\",\"CWIK\",\"PACV\",\"CYZF\",\"OXR\",\"CYXZ\",\"CYXL\",\"BLV\",\"MFE\",\"HXD\",\"CDJ\",\"RFD\",\"BHM\",\"5C1\",\"PBI\",\"TEW\",\"AFW\",\"TLH\",\"DRI\",\"AGC\",\"CYTL\",\"CWCO\",\"BGM\",\"CYVO\",\"CYPY\",\"CWLB\",\"PHNL\",\"FFA\",\"CYMO\",\"CWVQ\",\"LRF\",\"VUJ\",\"CWJH\",\"JKL\",\"CWPZ\",\"CWNP\"],\"xaxis\":\"x\",\"y\":[1.7674942016601562,2.0457563400268555,2.030754327774048,2.0591838359832764,1.7152185440063477,1.5986968278884888,2.816606044769287,1.836564302444458,1.433728814125061,1.9641300439834595,1.4682801961898804,2.3708345890045166,1.6711573600769043,2.606624126434326,1.8473739624023438,1.6492500305175781,1.477393627166748,2.120443105697632,2.812613010406494,1.6736829280853271,1.8112080097198486,1.4787139892578125,1.8178744316101074,2.67448091506958,1.784264087677002,1.288008213043213,1.2809234857559204,1.2036055326461792,2.106518030166626,2.1304574012756348,1.8376083374023438,1.8987138271331787,1.4296791553497314,1.3637629747390747,1.2390755414962769,1.4646028280258179,1.1939754486083984,1.7803627252578735,1.3241533041000366,1.29654860496521,1.2634570598602295,1.2939143180847168,1.4094793796539307,1.548117995262146,1.195630669593811,1.6514772176742554,1.3177059888839722,1.203303575515747,1.940281629562378,1.453811764717102,1.2716673612594604,1.516535758972168,1.1974060535430908,1.2053837776184082,1.5111198425292969,1.295711874961853,1.3533246517181396,1.285585641860962,1.4167777299880981,1.2424067258834839,1.2071506977081299,1.544082760810852,1.0033923387527466,1.2527546882629395,1.1516025066375732,1.1249803304672241,1.6319276094436646,0.9906275868415833,1.172605037689209,1.3737915754318237,1.06956946849823,1.0186861753463745,1.291162133216858,3.7729110717773438,1.150730848312378,0.961945116519928,1.0341932773590088,1.083691120147705,1.0995745658874512,1.3212298154830933,0.913040816783905,1.1486409902572632,1.185180902481079,1.044488549232483,0.9565771818161011,1.0870975255966187,0.937542200088501,0.9070923328399658,1.1178650856018066,0.9912206530570984,1.1933631896972656,3.964637517929077,0.955919623374939,0.9422141909599304,0.8910607099533081,1.6546045541763306,1.1080396175384521,1.054551124572754,0.9985176920890808,0.645967960357666],\"yaxis\":\"y\",\"type\":\"bar\"}],                        {\"template\":{\"data\":{\"histogram2dcontour\":[{\"type\":\"histogram2dcontour\",\"colorbar\":{\"outlinewidth\":0,\"ticks\":\"\"},\"colorscale\":[[0.0,\"#0d0887\"],[0.1111111111111111,\"#46039f\"],[0.2222222222222222,\"#7201a8\"],[0.3333333333333333,\"#9c179e\"],[0.4444444444444444,\"#bd3786\"],[0.5555555555555556,\"#d8576b\"],[0.6666666666666666,\"#ed7953\"],[0.7777777777777778,\"#fb9f3a\"],[0.8888888888888888,\"#fdca26\"],[1.0,\"#f0f921\"]]}],\"choropleth\":[{\"type\":\"choropleth\",\"colorbar\":{\"outlinewidth\":0,\"ticks\":\"\"}}],\"histogram2d\":[{\"type\":\"histogram2d\",\"colorbar\":{\"outlinewidth\":0,\"ticks\":\"\"},\"colorscale\":[[0.0,\"#0d0887\"],[0.1111111111111111,\"#46039f\"],[0.2222222222222222,\"#7201a8\"],[0.3333333333333333,\"#9c179e\"],[0.4444444444444444,\"#bd3786\"],[0.5555555555555556,\"#d8576b\"],[0.6666666666666666,\"#ed7953\"],[0.7777777777777778,\"#fb9f3a\"],[0.8888888888888888,\"#fdca26\"],[1.0,\"#f0f921\"]]}],\"heatmap\":[{\"type\":\"heatmap\",\"colorbar\":{\"outlinewidth\":0,\"ticks\":\"\"},\"colorscale\":[[0.0,\"#0d0887\"],[0.1111111111111111,\"#46039f\"],[0.2222222222222222,\"#7201a8\"],[0.3333333333333333,\"#9c179e\"],[0.4444444444444444,\"#bd3786\"],[0.5555555555555556,\"#d8576b\"],[0.6666666666666666,\"#ed7953\"],[0.7777777777777778,\"#fb9f3a\"],[0.8888888888888888,\"#fdca26\"],[1.0,\"#f0f921\"]]}],\"heatmapgl\":[{\"type\":\"heatmapgl\",\"colorbar\":{\"outlinewidth\":0,\"ticks\":\"\"},\"colorscale\":[[0.0,\"#0d0887\"],[0.1111111111111111,\"#46039f\"],[0.2222222222222222,\"#7201a8\"],[0.3333333333333333,\"#9c179e\"],[0.4444444444444444,\"#bd3786\"],[0.5555555555555556,\"#d8576b\"],[0.6666666666666666,\"#ed7953\"],[0.7777777777777778,\"#fb9f3a\"],[0.8888888888888888,\"#fdca26\"],[1.0,\"#f0f921\"]]}],\"contourcarpet\":[{\"type\":\"contourcarpet\",\"colorbar\":{\"outlinewidth\":0,\"ticks\":\"\"}}],\"contour\":[{\"type\":\"contour\",\"colorbar\":{\"outlinewidth\":0,\"ticks\":\"\"},\"colorscale\":[[0.0,\"#0d0887\"],[0.1111111111111111,\"#46039f\"],[0.2222222222222222,\"#7201a8\"],[0.3333333333333333,\"#9c179e\"],[0.4444444444444444,\"#bd3786\"],[0.5555555555555556,\"#d8576b\"],[0.6666666666666666,\"#ed7953\"],[0.7777777777777778,\"#fb9f3a\"],[0.8888888888888888,\"#fdca26\"],[1.0,\"#f0f921\"]]}],\"surface\":[{\"type\":\"surface\",\"colorbar\":{\"outlinewidth\":0,\"ticks\":\"\"},\"colorscale\":[[0.0,\"#0d0887\"],[0.1111111111111111,\"#46039f\"],[0.2222222222222222,\"#7201a8\"],[0.3333333333333333,\"#9c179e\"],[0.4444444444444444,\"#bd3786\"],[0.5555555555555556,\"#d8576b\"],[0.6666666666666666,\"#ed7953\"],[0.7777777777777778,\"#fb9f3a\"],[0.8888888888888888,\"#fdca26\"],[1.0,\"#f0f921\"]]}],\"mesh3d\":[{\"type\":\"mesh3d\",\"colorbar\":{\"outlinewidth\":0,\"ticks\":\"\"}}],\"scatter\":[{\"fillpattern\":{\"fillmode\":\"overlay\",\"size\":10,\"solidity\":0.2},\"type\":\"scatter\"}],\"parcoords\":[{\"type\":\"parcoords\",\"line\":{\"colorbar\":{\"outlinewidth\":0,\"ticks\":\"\"}}}],\"scatterpolargl\":[{\"type\":\"scatterpolargl\",\"marker\":{\"colorbar\":{\"outlinewidth\":0,\"ticks\":\"\"}}}],\"bar\":[{\"error_x\":{\"color\":\"#2a3f5f\"},\"error_y\":{\"color\":\"#2a3f5f\"},\"marker\":{\"line\":{\"color\":\"#E5ECF6\",\"width\":0.5},\"pattern\":{\"fillmode\":\"overlay\",\"size\":10,\"solidity\":0.2}},\"type\":\"bar\"}],\"scattergeo\":[{\"type\":\"scattergeo\",\"marker\":{\"colorbar\":{\"outlinewidth\":0,\"ticks\":\"\"}}}],\"scatterpolar\":[{\"type\":\"scatterpolar\",\"marker\":{\"colorbar\":{\"outlinewidth\":0,\"ticks\":\"\"}}}],\"histogram\":[{\"marker\":{\"pattern\":{\"fillmode\":\"overlay\",\"size\":10,\"solidity\":0.2}},\"type\":\"histogram\"}],\"scattergl\":[{\"type\":\"scattergl\",\"marker\":{\"colorbar\":{\"outlinewidth\":0,\"ticks\":\"\"}}}],\"scatter3d\":[{\"type\":\"scatter3d\",\"line\":{\"colorbar\":{\"outlinewidth\":0,\"ticks\":\"\"}},\"marker\":{\"colorbar\":{\"outlinewidth\":0,\"ticks\":\"\"}}}],\"scattermapbox\":[{\"type\":\"scattermapbox\",\"marker\":{\"colorbar\":{\"outlinewidth\":0,\"ticks\":\"\"}}}],\"scatterternary\":[{\"type\":\"scatterternary\",\"marker\":{\"colorbar\":{\"outlinewidth\":0,\"ticks\":\"\"}}}],\"scattercarpet\":[{\"type\":\"scattercarpet\",\"marker\":{\"colorbar\":{\"outlinewidth\":0,\"ticks\":\"\"}}}],\"carpet\":[{\"aaxis\":{\"endlinecolor\":\"#2a3f5f\",\"gridcolor\":\"white\",\"linecolor\":\"white\",\"minorgridcolor\":\"white\",\"startlinecolor\":\"#2a3f5f\"},\"baxis\":{\"endlinecolor\":\"#2a3f5f\",\"gridcolor\":\"white\",\"linecolor\":\"white\",\"minorgridcolor\":\"white\",\"startlinecolor\":\"#2a3f5f\"},\"type\":\"carpet\"}],\"table\":[{\"cells\":{\"fill\":{\"color\":\"#EBF0F8\"},\"line\":{\"color\":\"white\"}},\"header\":{\"fill\":{\"color\":\"#C8D4E3\"},\"line\":{\"color\":\"white\"}},\"type\":\"table\"}],\"barpolar\":[{\"marker\":{\"line\":{\"color\":\"#E5ECF6\",\"width\":0.5},\"pattern\":{\"fillmode\":\"overlay\",\"size\":10,\"solidity\":0.2}},\"type\":\"barpolar\"}],\"pie\":[{\"automargin\":true,\"type\":\"pie\"}]},\"layout\":{\"autotypenumbers\":\"strict\",\"colorway\":[\"#636efa\",\"#EF553B\",\"#00cc96\",\"#ab63fa\",\"#FFA15A\",\"#19d3f3\",\"#FF6692\",\"#B6E880\",\"#FF97FF\",\"#FECB52\"],\"font\":{\"color\":\"#2a3f5f\"},\"hovermode\":\"closest\",\"hoverlabel\":{\"align\":\"left\"},\"paper_bgcolor\":\"white\",\"plot_bgcolor\":\"#E5ECF6\",\"polar\":{\"bgcolor\":\"#E5ECF6\",\"angularaxis\":{\"gridcolor\":\"white\",\"linecolor\":\"white\",\"ticks\":\"\"},\"radialaxis\":{\"gridcolor\":\"white\",\"linecolor\":\"white\",\"ticks\":\"\"}},\"ternary\":{\"bgcolor\":\"#E5ECF6\",\"aaxis\":{\"gridcolor\":\"white\",\"linecolor\":\"white\",\"ticks\":\"\"},\"baxis\":{\"gridcolor\":\"white\",\"linecolor\":\"white\",\"ticks\":\"\"},\"caxis\":{\"gridcolor\":\"white\",\"linecolor\":\"white\",\"ticks\":\"\"}},\"coloraxis\":{\"colorbar\":{\"outlinewidth\":0,\"ticks\":\"\"}},\"colorscale\":{\"sequential\":[[0.0,\"#0d0887\"],[0.1111111111111111,\"#46039f\"],[0.2222222222222222,\"#7201a8\"],[0.3333333333333333,\"#9c179e\"],[0.4444444444444444,\"#bd3786\"],[0.5555555555555556,\"#d8576b\"],[0.6666666666666666,\"#ed7953\"],[0.7777777777777778,\"#fb9f3a\"],[0.8888888888888888,\"#fdca26\"],[1.0,\"#f0f921\"]],\"sequentialminus\":[[0.0,\"#0d0887\"],[0.1111111111111111,\"#46039f\"],[0.2222222222222222,\"#7201a8\"],[0.3333333333333333,\"#9c179e\"],[0.4444444444444444,\"#bd3786\"],[0.5555555555555556,\"#d8576b\"],[0.6666666666666666,\"#ed7953\"],[0.7777777777777778,\"#fb9f3a\"],[0.8888888888888888,\"#fdca26\"],[1.0,\"#f0f921\"]],\"diverging\":[[0,\"#8e0152\"],[0.1,\"#c51b7d\"],[0.2,\"#de77ae\"],[0.3,\"#f1b6da\"],[0.4,\"#fde0ef\"],[0.5,\"#f7f7f7\"],[0.6,\"#e6f5d0\"],[0.7,\"#b8e186\"],[0.8,\"#7fbc41\"],[0.9,\"#4d9221\"],[1,\"#276419\"]]},\"xaxis\":{\"gridcolor\":\"white\",\"linecolor\":\"white\",\"ticks\":\"\",\"title\":{\"standoff\":15},\"zerolinecolor\":\"white\",\"automargin\":true,\"zerolinewidth\":2},\"yaxis\":{\"gridcolor\":\"white\",\"linecolor\":\"white\",\"ticks\":\"\",\"title\":{\"standoff\":15},\"zerolinecolor\":\"white\",\"automargin\":true,\"zerolinewidth\":2},\"scene\":{\"xaxis\":{\"backgroundcolor\":\"#E5ECF6\",\"gridcolor\":\"white\",\"linecolor\":\"white\",\"showbackground\":true,\"ticks\":\"\",\"zerolinecolor\":\"white\",\"gridwidth\":2},\"yaxis\":{\"backgroundcolor\":\"#E5ECF6\",\"gridcolor\":\"white\",\"linecolor\":\"white\",\"showbackground\":true,\"ticks\":\"\",\"zerolinecolor\":\"white\",\"gridwidth\":2},\"zaxis\":{\"backgroundcolor\":\"#E5ECF6\",\"gridcolor\":\"white\",\"linecolor\":\"white\",\"showbackground\":true,\"ticks\":\"\",\"zerolinecolor\":\"white\",\"gridwidth\":2}},\"shapedefaults\":{\"line\":{\"color\":\"#2a3f5f\"}},\"annotationdefaults\":{\"arrowcolor\":\"#2a3f5f\",\"arrowhead\":0,\"arrowwidth\":1},\"geo\":{\"bgcolor\":\"white\",\"landcolor\":\"#E5ECF6\",\"subunitcolor\":\"white\",\"showland\":true,\"showlakes\":true,\"lakecolor\":\"white\"},\"title\":{\"x\":0.05},\"mapbox\":{\"style\":\"light\"}}},\"xaxis\":{\"anchor\":\"y\",\"domain\":[0.0,1.0],\"title\":{\"text\":\"station\"}},\"yaxis\":{\"anchor\":\"x\",\"domain\":[0.0,1.0],\"title\":{\"text\":\"value\"}},\"legend\":{\"title\":{\"text\":\"variable\"},\"tracegroupgap\":0},\"margin\":{\"t\":60},\"barmode\":\"group\"},                        {\"responsive\": true}                    ).then(function(){\n",
       "                            \n",
       "var gd = document.getElementById('cc9a3838-7510-43ea-ba0f-0ec4d1c1d372');\n",
       "var x = new MutationObserver(function (mutations, observer) {{\n",
       "        var display = window.getComputedStyle(gd).display;\n",
       "        if (!display || display === 'none') {{\n",
       "            console.log([gd, 'removed!']);\n",
       "            Plotly.purge(gd);\n",
       "            observer.disconnect();\n",
       "        }}\n",
       "}});\n",
       "\n",
       "// Listen for the removal of the full notebook cells\n",
       "var notebookContainer = gd.closest('#notebook-container');\n",
       "if (notebookContainer) {{\n",
       "    x.observe(notebookContainer, {childList: true});\n",
       "}}\n",
       "\n",
       "// Listen for the clearing of the current output cell\n",
       "var outputEl = gd.closest('.output');\n",
       "if (outputEl) {{\n",
       "    x.observe(outputEl, {childList: true});\n",
       "}}\n",
       "\n",
       "                        })                };                });            </script>        </div>"
      ]
     },
     "metadata": {},
     "output_type": "display_data"
    }
   ],
   "source": [
    "px.bar(data_frame=by_station_melt, x='station', y='value', color='variable', barmode='group')"
   ]
  },
  {
   "cell_type": "markdown",
   "id": "102ac2f7-3b71-47f6-b2c0-4dfe1197efc3",
   "metadata": {},
   "source": [
    "## Now for temperature"
   ]
  },
  {
   "cell_type": "code",
   "execution_count": 141,
   "id": "d18c42c5-4370-4268-939a-be5ca0bb5dd6",
   "metadata": {
    "tags": []
   },
   "outputs": [],
   "source": [
    "obs_t2m = interpolated_xr.obs_t2m.compute()\n",
    "raw_t2m = interpolated_xr.t2m.compute()\n",
    "model_t2m = preds.t2m.compute()"
   ]
  },
  {
   "cell_type": "code",
   "execution_count": 143,
   "id": "b0ff6269-7d7c-4bf6-8c85-6077e459b666",
   "metadata": {
    "tags": []
   },
   "outputs": [],
   "source": [
    "raw_t2m = raw_t2m.transpose('forecast_time', 'step', 'station', 'number')"
   ]
  },
  {
   "cell_type": "code",
   "execution_count": null,
   "id": "6dc463b4-a2f1-4e85-85d8-e0936dc60f43",
   "metadata": {},
   "outputs": [],
   "source": []
  },
  {
   "cell_type": "code",
   "execution_count": 147,
   "id": "88e88d0c-1cf5-4050-8e42-2730b6a4d06a",
   "metadata": {
    "tags": []
   },
   "outputs": [],
   "source": [
    "model_crps_np = properscoring.crps_ensemble(obs_t2m, model_t2m)\n",
    "raw_crps_np = properscoring.crps_ensemble(obs_t2m, raw_t2m)"
   ]
  },
  {
   "cell_type": "code",
   "execution_count": 148,
   "id": "a30e5542-9019-4df0-8202-65fcba98dff2",
   "metadata": {
    "tags": []
   },
   "outputs": [
    {
     "data": {
      "text/plain": [
       "(238, 3, 100)"
      ]
     },
     "execution_count": 148,
     "metadata": {},
     "output_type": "execute_result"
    }
   ],
   "source": [
    "model_crps_np.shape"
   ]
  },
  {
   "cell_type": "code",
   "execution_count": 153,
   "id": "62cf38a0-f0a6-408a-8859-2d79edf1b6d8",
   "metadata": {
    "tags": []
   },
   "outputs": [],
   "source": [
    "t2m_crps_xr = xr.Dataset({\n",
    "    'model_t2m_crps': xr.DataArray(model_crps_np, dims=['forecast_time', 'step', 'station']),\n",
    "    'raw_t2m_crps': xr.DataArray(raw_crps_np, dims=['forecast_time', 'step', 'station']),\n",
    "    'obs_t2m': obs_t2m\n",
    "}, coords=model_t2m.coords)"
   ]
  },
  {
   "cell_type": "code",
   "execution_count": 156,
   "id": "dc83ec89-eca0-4390-a0f4-f36d3c950007",
   "metadata": {
    "tags": []
   },
   "outputs": [],
   "source": [
    "t2m_crps_df = t2m_crps_xr.to_dataframe()\n",
    "mask = np.isnan(t2m_crps_df['obs_t2m'])\n",
    "t2m_crps_df = t2m_crps_df[~mask]"
   ]
  },
  {
   "cell_type": "code",
   "execution_count": 157,
   "id": "d4c618a2-5d89-484d-bdfa-154f685816b1",
   "metadata": {
    "tags": []
   },
   "outputs": [
    {
     "data": {
      "text/html": [
       "<div>\n",
       "<style scoped>\n",
       "    .dataframe tbody tr th:only-of-type {\n",
       "        vertical-align: middle;\n",
       "    }\n",
       "\n",
       "    .dataframe tbody tr th {\n",
       "        vertical-align: top;\n",
       "    }\n",
       "\n",
       "    .dataframe thead th {\n",
       "        text-align: right;\n",
       "    }\n",
       "</style>\n",
       "<table border=\"1\" class=\"dataframe\">\n",
       "  <thead>\n",
       "    <tr style=\"text-align: right;\">\n",
       "      <th></th>\n",
       "      <th></th>\n",
       "      <th></th>\n",
       "      <th>model_t2m_crps</th>\n",
       "      <th>raw_t2m_crps</th>\n",
       "      <th>latitude</th>\n",
       "      <th>longitude</th>\n",
       "      <th>forecast_valid</th>\n",
       "      <th>obs_t2m</th>\n",
       "    </tr>\n",
       "    <tr>\n",
       "      <th>forecast_time</th>\n",
       "      <th>step</th>\n",
       "      <th>station</th>\n",
       "      <th></th>\n",
       "      <th></th>\n",
       "      <th></th>\n",
       "      <th></th>\n",
       "      <th></th>\n",
       "      <th></th>\n",
       "    </tr>\n",
       "  </thead>\n",
       "  <tbody>\n",
       "    <tr>\n",
       "      <th rowspan=\"5\" valign=\"top\">1998-01-29</th>\n",
       "      <th rowspan=\"5\" valign=\"top\">0 days</th>\n",
       "      <th>ACK</th>\n",
       "      <td>0.326208</td>\n",
       "      <td>0.016674</td>\n",
       "      <td>41.5</td>\n",
       "      <td>290.0</td>\n",
       "      <td>1998-01-29</td>\n",
       "      <td>277.549988</td>\n",
       "    </tr>\n",
       "    <tr>\n",
       "      <th>AFW</th>\n",
       "      <td>0.688249</td>\n",
       "      <td>0.555249</td>\n",
       "      <td>33.0</td>\n",
       "      <td>262.5</td>\n",
       "      <td>1998-01-29</td>\n",
       "      <td>289.250000</td>\n",
       "    </tr>\n",
       "    <tr>\n",
       "      <th>AGC</th>\n",
       "      <td>0.263305</td>\n",
       "      <td>0.160013</td>\n",
       "      <td>40.5</td>\n",
       "      <td>280.0</td>\n",
       "      <td>1998-01-29</td>\n",
       "      <td>278.149994</td>\n",
       "    </tr>\n",
       "    <tr>\n",
       "      <th>ANW</th>\n",
       "      <td>0.375827</td>\n",
       "      <td>0.441447</td>\n",
       "      <td>42.5</td>\n",
       "      <td>260.0</td>\n",
       "      <td>1998-01-29</td>\n",
       "      <td>276.149994</td>\n",
       "    </tr>\n",
       "    <tr>\n",
       "      <th>APA</th>\n",
       "      <td>0.868973</td>\n",
       "      <td>1.504280</td>\n",
       "      <td>39.5</td>\n",
       "      <td>255.0</td>\n",
       "      <td>1998-01-29</td>\n",
       "      <td>277.149994</td>\n",
       "    </tr>\n",
       "    <tr>\n",
       "      <th>...</th>\n",
       "      <th>...</th>\n",
       "      <th>...</th>\n",
       "      <td>...</td>\n",
       "      <td>...</td>\n",
       "      <td>...</td>\n",
       "      <td>...</td>\n",
       "      <td>...</td>\n",
       "      <td>...</td>\n",
       "    </tr>\n",
       "    <tr>\n",
       "      <th rowspan=\"5\" valign=\"top\">2014-12-31</th>\n",
       "      <th rowspan=\"5\" valign=\"top\">2 days</th>\n",
       "      <th>SOW</th>\n",
       "      <td>0.332202</td>\n",
       "      <td>1.525977</td>\n",
       "      <td>34.5</td>\n",
       "      <td>250.0</td>\n",
       "      <td>2015-01-02</td>\n",
       "      <td>267.149994</td>\n",
       "    </tr>\n",
       "    <tr>\n",
       "      <th>TEW</th>\n",
       "      <td>0.310300</td>\n",
       "      <td>0.095385</td>\n",
       "      <td>42.5</td>\n",
       "      <td>275.5</td>\n",
       "      <td>2015-01-02</td>\n",
       "      <td>269.850006</td>\n",
       "    </tr>\n",
       "    <tr>\n",
       "      <th>TLH</th>\n",
       "      <td>2.397965</td>\n",
       "      <td>4.385309</td>\n",
       "      <td>30.5</td>\n",
       "      <td>275.5</td>\n",
       "      <td>2015-01-02</td>\n",
       "      <td>289.850006</td>\n",
       "    </tr>\n",
       "    <tr>\n",
       "      <th>VUJ</th>\n",
       "      <td>0.512724</td>\n",
       "      <td>0.133491</td>\n",
       "      <td>35.5</td>\n",
       "      <td>280.0</td>\n",
       "      <td>2015-01-02</td>\n",
       "      <td>277.750000</td>\n",
       "    </tr>\n",
       "    <tr>\n",
       "      <th>WLD</th>\n",
       "      <td>0.466926</td>\n",
       "      <td>0.794319</td>\n",
       "      <td>37.0</td>\n",
       "      <td>263.0</td>\n",
       "      <td>2015-01-02</td>\n",
       "      <td>272.049988</td>\n",
       "    </tr>\n",
       "  </tbody>\n",
       "</table>\n",
       "<p>63969 rows × 6 columns</p>\n",
       "</div>"
      ],
      "text/plain": [
       "                              model_t2m_crps  raw_t2m_crps  latitude  \\\n",
       "forecast_time step   station                                           \n",
       "1998-01-29    0 days ACK            0.326208      0.016674      41.5   \n",
       "                     AFW            0.688249      0.555249      33.0   \n",
       "                     AGC            0.263305      0.160013      40.5   \n",
       "                     ANW            0.375827      0.441447      42.5   \n",
       "                     APA            0.868973      1.504280      39.5   \n",
       "...                                      ...           ...       ...   \n",
       "2014-12-31    2 days SOW            0.332202      1.525977      34.5   \n",
       "                     TEW            0.310300      0.095385      42.5   \n",
       "                     TLH            2.397965      4.385309      30.5   \n",
       "                     VUJ            0.512724      0.133491      35.5   \n",
       "                     WLD            0.466926      0.794319      37.0   \n",
       "\n",
       "                              longitude forecast_valid     obs_t2m  \n",
       "forecast_time step   station                                        \n",
       "1998-01-29    0 days ACK          290.0     1998-01-29  277.549988  \n",
       "                     AFW          262.5     1998-01-29  289.250000  \n",
       "                     AGC          280.0     1998-01-29  278.149994  \n",
       "                     ANW          260.0     1998-01-29  276.149994  \n",
       "                     APA          255.0     1998-01-29  277.149994  \n",
       "...                                 ...            ...         ...  \n",
       "2014-12-31    2 days SOW          250.0     2015-01-02  267.149994  \n",
       "                     TEW          275.5     2015-01-02  269.850006  \n",
       "                     TLH          275.5     2015-01-02  289.850006  \n",
       "                     VUJ          280.0     2015-01-02  277.750000  \n",
       "                     WLD          263.0     2015-01-02  272.049988  \n",
       "\n",
       "[63969 rows x 6 columns]"
      ]
     },
     "execution_count": 157,
     "metadata": {},
     "output_type": "execute_result"
    }
   ],
   "source": [
    "t2m_crps_df"
   ]
  },
  {
   "cell_type": "code",
   "execution_count": 169,
   "id": "88ba03f4-b8da-406d-9584-de2eea113f17",
   "metadata": {
    "tags": []
   },
   "outputs": [],
   "source": [
    "wld = t2m_crps_df.xs(level='station', key='WLD')\n",
    "wld_melt = wld.reset_index().melt(id_vars=['forecast_time', 'obs_t2m'], value_vars=['model_t2m_crps', 'raw_t2m_crps'])"
   ]
  },
  {
   "cell_type": "code",
   "execution_count": 170,
   "id": "aab2f936-fc97-44e8-a492-3b70c4f70b70",
   "metadata": {
    "tags": []
   },
   "outputs": [
    {
     "data": {
      "application/vnd.plotly.v1+json": {
       "config": {
        "plotlyServerURL": "https://plot.ly"
       },
       "data": [
        {
         "hovertemplate": "variable=model_t2m_crps<br>obs_t2m=%{x}<br>value=%{y}<extra></extra>",
         "legendgroup": "",
         "marker": {
          "color": "#636efa",
          "opacity": 0.3,
          "symbol": "circle"
         },
         "mode": "markers",
         "name": "",
         "showlegend": false,
         "type": "scattergl",
         "x": [
          285.95001220703125,
          283.75,
          285.95001220703125,
          297.04998779296875,
          297.04998779296875,
          283.1499938964844,
          283.75,
          290.95001220703125,
          295.3500061035156,
          300.95001220703125,
          302.04998779296875,
          302.54998779296875,
          305.3500061035156,
          304.25,
          307.04998779296875,
          308.1499938964844,
          308.75,
          309.25,
          305.95001220703125,
          302.54998779296875,
          298.75,
          305.3500061035156,
          308.75,
          305.95001220703125,
          308.1499938964844,
          308.75,
          308.75,
          302.04998779296875,
          303.75,
          303.75,
          294.25,
          293.1499938964844,
          288.75,
          290.95001220703125,
          293.1499938964844,
          287.04998779296875,
          274.25,
          278.75,
          275.95001220703125,
          273.75,
          270.3500061035156,
          273.1499938964844,
          275.95001220703125,
          276.45001220703125,
          290.95001220703125,
          292.04998779296875,
          290.3500061035156,
          292.04998779296875,
          293.1499938964844,
          293.75,
          295.95001220703125,
          297.54998779296875,
          297.04998779296875,
          299.8500061035156,
          299.8500061035156,
          300.95001220703125,
          305.3500061035156,
          304.25,
          298.1499938964844,
          309.8500061035156,
          309.8500061035156,
          304.8500061035156,
          310.3500061035156,
          306.45001220703125,
          306.45001220703125,
          304.8500061035156,
          305.95001220703125,
          298.1499938964844,
          285.95001220703125,
          286.45001220703125,
          293.1499938964844,
          295.95001220703125,
          288.1499938964844,
          284.8500061035156,
          283.1499938964844,
          283.1499938964844,
          276.45001220703125,
          274.8500061035156,
          284.25,
          283.1499938964844,
          280.95001220703125,
          290.3500061035156,
          270.95001220703125,
          271.45001220703125,
          285.3500061035156,
          280.3500061035156,
          288.1499938964844,
          294.8500061035156,
          290.3500061035156,
          289.8500061035156,
          299.8500061035156,
          303.75,
          304.8500061035156,
          304.25,
          302.54998779296875,
          297.04998779296875,
          299.25,
          300.3500061035156,
          301.45001220703125,
          301.45001220703125,
          302.04998779296875,
          311.45001220703125,
          312.04998779296875,
          310.95001220703125,
          310.3500061035156,
          309.25,
          292.54998779296875,
          296.45001220703125,
          298.1499938964844,
          295.95001220703125,
          292.54998779296875,
          294.25,
          283.1499938964844,
          277.54998779296875,
          268.75,
          268.1499938964844,
          272.04998779296875,
          269.25,
          266.4277648925781,
          264.25,
          273.75,
          273.75,
          278.75,
          279.8500061035156,
          283.75,
          288.75,
          297.54998779296875,
          297.03887939453125,
          300.3500061035156,
          292.04998779296875,
          300.3500061035156,
          295.95001220703125,
          298.75,
          292.03887939453125,
          297.04998779296875,
          303.75,
          300.95001220703125,
          300.95001220703125,
          309.25,
          310.3500061035156,
          309.2611083984375,
          307.54998779296875,
          307.54998779296875,
          303.75,
          304.8500061035156,
          303.1499938964844,
          294.25,
          296.45001220703125,
          298.1499938964844,
          293.1499938964844,
          294.25,
          293.75,
          270.95001220703125,
          274.8500061035156,
          277.03887939453125,
          272.54998779296875,
          276.45001220703125,
          280.95001220703125,
          268.1499938964844,
          272.53887939453125,
          269.8500061035156,
          277.04998779296875,
          271.45001220703125,
          273.1499938964844,
          297.54998779296875,
          292.04998779296875,
          290.95001220703125,
          295.95001220703125,
          297.53887939453125,
          292.04998779296875,
          297.1499938964844,
          295.95001220703125,
          300.95001220703125,
          302.04998779296875,
          303.1499938964844,
          303.75,
          304.1499938964844,
          303.75,
          303.1499938964844,
          300.3500061035156,
          304.25,
          305.3722229003906,
          301.45001220703125,
          301.45001220703125,
          303.1499938964844,
          301.45001220703125,
          300.95001220703125,
          302.03887939453125,
          298.1499938964844,
          294.8500061035156,
          300.95001220703125,
          281.45001220703125,
          283.1499938964844,
          278.75,
          278.75,
          279.8500061035156,
          275.3722229003906,
          274.25,
          269.8500061035156,
          275.3500061035156,
          280.3500061035156,
          272.1499938964844,
          280.95001220703125,
          274.25,
          277.54998779296875,
          282.54998779296875,
          279.25,
          284.8500061035156,
          298.1499938964844,
          299.8722229003906,
          289.1499938964844,
          295.95001220703125,
          302.04998779296875,
          301.45001220703125,
          305.3500061035156,
          292.03887939453125,
          298.75,
          300.3500061035156,
          300.95001220703125,
          297.54998779296875,
          303.75,
          305.95001220703125,
          306.4277648925781,
          308.1499938964844,
          304.25,
          304.25,
          299.25,
          294.8500061035156,
          294.2611083984375,
          299.25,
          293.1499938964844,
          290.95001220703125,
          286.45001220703125,
          293.75,
          284.8500061035156,
          275.3500061035156,
          286.45001220703125,
          284.25,
          287.04998779296875,
          278.1499938964844,
          284.8500061035156,
          282.53887939453125,
          285.95001220703125,
          270.95001220703125,
          266.45001220703125,
          271.45001220703125,
          291.45001220703125,
          286.45001220703125,
          288.1499938964844,
          296.45001220703125,
          290.95001220703125,
          303.75,
          303.75,
          300.95001220703125,
          300.95001220703125,
          303.1499938964844,
          296.1499938964844,
          300.3500061035156,
          300.3500061035156,
          295.95001220703125,
          301.45001220703125,
          307.54998779296875,
          305.95001220703125,
          299.25,
          301.45001220703125,
          302.54998779296875,
          301.45001220703125,
          299.8500061035156,
          295.95001220703125,
          297.04998779296875,
          295.95001220703125,
          287.54998779296875,
          281.45001220703125,
          276.45001220703125,
          282.04998779296875,
          281.45001220703125,
          283.75,
          290.3500061035156,
          288.7611083984375,
          293.1499938964844,
          274.1499938964844,
          274.1499938964844,
          274.25,
          294.8500061035156,
          295.3500061035156,
          290.95001220703125,
          283.1499938964844,
          290.3722229003906,
          287.54998779296875,
          297.04998779296875,
          300.3500061035156,
          301.45001220703125,
          299.25,
          291.4277648925781,
          299.25,
          307.54998779296875,
          308.1499938964844,
          308.1499938964844,
          305.95001220703125,
          307.04998779296875,
          307.04998779296875,
          303.75,
          303.1499938964844,
          304.25,
          303.75,
          298.75,
          300.3500061035156,
          291.45001220703125,
          290.95001220703125,
          291.45001220703125,
          292.04998779296875,
          273.75,
          273.1499938964844,
          283.1499938964844,
          289.25,
          285.95001220703125,
          283.1499938964844,
          282.04998779296875,
          284.2611083984375,
          293.75,
          286.45001220703125,
          283.75,
          282.54998779296875,
          290.95001220703125,
          290.95001220703125,
          295.3500061035156,
          287.04998779296875,
          294.8500061035156,
          303.1499938964844,
          303.1499938964844,
          303.75,
          293.1499938964844,
          299.8500061035156,
          303.1499938964844,
          306.45001220703125,
          307.04998779296875,
          309.25,
          308.75,
          299.8500061035156,
          298.75,
          299.25,
          297.54998779296875,
          300.3500061035156,
          300.95001220703125,
          293.75,
          290.3500061035156,
          289.25,
          293.75,
          293.75,
          291.45001220703125,
          269.25,
          274.8500061035156,
          283.1499938964844,
          287.04998779296875,
          283.1499938964844,
          273.1499938964844,
          277.54998779296875,
          275.9277648925781,
          268.1499938964844,
          295.9277648925781,
          291.1499938964844,
          289.1499938964844,
          298.1499938964844,
          292.54998779296875,
          292.03887939453125,
          293.7611083984375,
          295.9277648925781,
          296.4277648925781,
          297.54998779296875,
          298.75,
          296.1499938964844,
          296.1499938964844,
          293.1499938964844,
          294.8722229003906,
          304.2611083984375,
          302.53887939453125,
          303.1499938964844,
          304.2611083984375,
          304.8722229003906,
          304.2611083984375,
          301.4277648925781,
          301.4277648925781,
          302.53887939453125,
          297.03887939453125,
          300.9277648925781,
          299.2611083984375,
          288.1499938964844,
          289.8722229003906,
          291.4277648925781,
          276.4277648925781,
          280.3722229003906,
          278.7611083984375,
          273.7611083984375,
          273.1499938964844,
          266.4277648925781,
          273.1499938964844,
          273.7611083984375,
          269.8722229003906,
          289.8722229003906,
          271.4277648925781,
          279.8722229003906,
          284.2611083984375,
          284.8722229003906,
          290.9277648925781,
          295.9277648925781,
          297.03887939453125,
          298.7611083984375,
          299.2611083984375,
          295.9277648925781,
          299.8722229003906,
          304.2611083984375,
          300.3722229003906,
          299.8722229003906,
          303.7611083984375,
          299.8722229003906,
          301.4277648925781,
          302.03887939453125,
          301.4277648925781,
          303.1499938964844,
          302.03887939453125,
          304.8722229003906,
          307.53887939453125,
          299.8722229003906,
          301.4277648925781,
          302.53887939453125,
          298.7611083984375,
          299.8722229003906,
          298.7611083984375,
          283.7611083984375,
          289.2611083984375,
          292.03887939453125,
          279.8500061035156,
          277.04998779296875,
          277.53887939453125,
          293.75,
          272.04998779296875,
          276.45001220703125,
          280.3500061035156,
          272.53887939453125,
          275.9277648925781,
          274.8722229003906,
          275.9277648925781,
          281.4277648925781,
          274.8722229003906,
          284.8722229003906,
          287.53887939453125,
          293.7611083984375,
          293.1499938964844,
          286.4277648925781,
          290.3722229003906,
          299.2611083984375,
          304.2611083984375,
          305.9277648925781,
          304.2611083984375,
          302.53887939453125,
          299.1499938964844,
          303.1499938964844,
          305.3722229003906,
          299.8722229003906,
          298.1499938964844,
          299.8722229003906,
          303.7611083984375,
          298.1499938964844,
          300.3722229003906,
          297.53887939453125,
          295.3722229003906,
          294.2611083984375,
          296.4277648925781,
          298.7611083984375,
          290.9277648925781,
          289.8722229003906,
          284.1499938964844,
          279.2611083984375,
          288.7611083984375,
          277.03887939453125,
          279.2611083984375,
          271.4277648925781,
          270.9277648925781,
          276.4277648925781,
          274.1499938964844,
          270.3722229003906,
          267.53887939453125,
          269.8722229003906,
          266.1499938964844,
          267.53887939453125,
          287.54998779296875,
          293.1499938964844,
          298.1499938964844,
          298.75,
          294.8500061035156,
          289.8500061035156,
          297.04998779296875,
          303.1499938964844,
          303.1499938964844,
          295.1499938964844,
          299.8500061035156,
          304.25,
          305.95001220703125,
          303.1499938964844,
          304.25,
          303.75,
          308.1499938964844,
          307.54998779296875,
          300.3500061035156,
          300.95001220703125,
          302.04998779296875,
          303.75,
          303.75,
          299.8500061035156,
          291.45001220703125,
          293.1499938964844,
          296.45001220703125,
          286.45001220703125,
          287.04998779296875,
          290.95001220703125,
          284.8500061035156,
          275.95001220703125,
          274.25,
          270.95001220703125,
          274.8500061035156,
          288.1499938964844,
          267.54998779296875,
          269.25,
          288.1499938964844,
          275.95001220703125,
          277.54998779296875,
          281.45001220703125,
          280.3500061035156,
          298.1499938964844,
          294.8500061035156,
          282.54998779296875,
          297.04998779296875,
          296.45001220703125,
          303.75,
          302.04998779296875,
          302.54998779296875,
          303.75,
          302.54998779296875,
          304.25,
          309.25,
          307.04998779296875,
          308.1499938964844,
          311.45001220703125,
          305.95001220703125,
          305.95001220703125,
          310.95001220703125,
          294.8500061035156,
          298.1499938964844,
          302.04998779296875,
          285.95001220703125,
          287.04998779296875,
          284.8500061035156,
          278.1499938964844,
          277.54998779296875,
          280.95001220703125,
          280.3500061035156,
          278.75,
          279.25,
          280.95001220703125,
          287.04998779296875,
          277.04998779296875,
          276.45001220703125,
          282.04998779296875,
          288.1499938964844,
          298.1499938964844,
          298.1499938964844,
          297.54998779296875,
          295.95001220703125,
          298.1499938964844,
          299.8500061035156,
          302.54998779296875,
          305.95001220703125,
          305.3500061035156,
          302.04998779296875,
          294.25,
          289.25,
          310.95001220703125,
          310.95001220703125,
          309.8500061035156,
          314.8500061035156,
          314.8500061035156,
          314.8500061035156,
          303.1499938964844,
          305.95001220703125,
          305.3500061035156,
          306.45001220703125,
          307.04998779296875,
          303.75,
          297.54998779296875,
          294.8500061035156,
          297.04998779296875,
          283.75,
          287.04998779296875,
          292.54998779296875,
          283.75,
          289.25,
          285.3500061035156,
          272.04998779296875,
          273.75,
          269.25,
          278.75,
          274.25,
          268.1499938964844,
          294.8500061035156,
          278.1499938964844,
          272.04998779296875,
          292.54998779296875,
          293.1499938964844,
          294.8500061035156,
          299.8500061035156,
          299.25,
          289.25,
          298.75,
          298.1499938964844,
          297.04998779296875,
          298.75,
          298.75,
          295.3500061035156,
          307.04998779296875,
          307.04998779296875,
          304.25,
          299.8500061035156,
          300.3500061035156,
          301.45001220703125,
          304.25,
          303.75,
          304.25,
          305.95001220703125,
          307.04998779296875,
          307.54998779296875,
          302.54998779296875,
          300.95001220703125,
          291.45001220703125,
          291.45001220703125,
          293.1499938964844,
          292.04998779296875,
          279.8500061035156,
          280.95001220703125,
          281.45001220703125,
          276.45001220703125,
          279.8500061035156,
          282.04998779296875,
          271.45001220703125,
          279.8500061035156,
          267.54998779296875,
          268.1499938964844,
          279.25,
          280.3500061035156,
          285.95001220703125,
          290.3500061035156,
          295.95001220703125,
          282.54998779296875,
          286.45001220703125,
          290.95001220703125,
          297.04998779296875,
          301.45001220703125,
          303.1499938964844,
          299.8500061035156,
          299.8500061035156,
          300.95001220703125,
          300.3500061035156,
          295.3500061035156,
          303.1499938964844,
          303.1499938964844,
          293.75,
          299.8500061035156,
          305.3500061035156,
          305.3500061035156,
          296.45001220703125,
          299.8500061035156,
          304.25,
          306.45001220703125,
          298.1499938964844,
          298.75,
          299.25,
          289.25,
          288.1499938964844,
          289.25,
          285.95001220703125,
          288.1499938964844,
          271.45001220703125,
          278.1499938964844,
          270.3500061035156,
          275.3500061035156,
          264.8500061035156,
          265.3500061035156,
          272.04998779296875
         ],
         "xaxis": "x",
         "y": [
          0.7911843657493591,
          0.6338881254196167,
          1.9833875894546509,
          0.5415534973144531,
          1.0143226385116577,
          2.254507541656494,
          0.45141100883483887,
          0.5400905013084412,
          0.4093811511993408,
          0.3963940739631653,
          0.28969788551330566,
          1.554917335510254,
          0.8165906667709351,
          1.3921259641647339,
          1.594529390335083,
          0.24132895469665527,
          1.428079605102539,
          0.5540450811386108,
          0.6813700199127197,
          0.7627005577087402,
          1.1097620725631714,
          0.5791890621185303,
          0.48900508880615234,
          3.3313074111938477,
          1.5142427682876587,
          1.7620391845703125,
          1.5564517974853516,
          0.18837696313858032,
          1.0294911861419678,
          1.0971777439117432,
          0.31770122051239014,
          0.5874547958374023,
          0.6484009027481079,
          0.7698582410812378,
          0.7463904619216919,
          2.226881742477417,
          0.9882334470748901,
          1.1202340126037598,
          1.9294568300247192,
          2.024740695953369,
          0.5435794591903687,
          0.5042808055877686,
          0.3071286678314209,
          0.49039947986602783,
          1.438521385192871,
          0.5744982957839966,
          1.1787962913513184,
          0.434207558631897,
          0.3565756678581238,
          0.6027449369430542,
          0.35043883323669434,
          0.3383612036705017,
          0.5309613943099976,
          0.42336928844451904,
          0.9789817333221436,
          0.4310293197631836,
          0.5087966918945312,
          0.8203728199005127,
          0.9661141633987427,
          0.5448336005210876,
          0.9151809811592102,
          1.1328744888305664,
          0.6921577453613281,
          1.0391292572021484,
          0.36856406927108765,
          0.7839587926864624,
          0.38400018215179443,
          1.6045706272125244,
          0.6236485242843628,
          1.0869808197021484,
          0.5616700649261475,
          0.44962459802627563,
          1.4954472780227661,
          1.6030497550964355,
          1.3578567504882812,
          0.862228274345398,
          0.5460667610168457,
          0.40559661388397217,
          1.031665325164795,
          1.2862112522125244,
          0.40753257274627686,
          2.8393139839172363,
          1.5987038612365723,
          1.0994503498077393,
          0.51256263256073,
          0.439739465713501,
          0.39806175231933594,
          0.5265120267868042,
          1.3430713415145874,
          0.6914945840835571,
          0.29903292655944824,
          1.231701135635376,
          0.3736322522163391,
          0.5509026050567627,
          0.9630125761032104,
          0.5462870597839355,
          0.4266202449798584,
          0.5788049697875977,
          0.45040643215179443,
          0.3440796136856079,
          0.36806541681289673,
          1.603212594985962,
          1.8336437940597534,
          0.9428615570068359,
          1.0817195177078247,
          0.8986379504203796,
          0.35110822319984436,
          0.9534217119216919,
          1.7634177207946777,
          2.0616366863250732,
          0.2830403447151184,
          1.5620737075805664,
          1.3025370836257935,
          0.40034663677215576,
          0.3196007013320923,
          0.8640040159225464,
          2.678652286529541,
          0.4835754632949829,
          0.3280395269393921,
          1.9277617931365967,
          0.9072394371032715,
          1.088844656944275,
          1.00437331199646,
          0.885035514831543,
          0.6271377801895142,
          0.8912299871444702,
          0.3971047103404999,
          0.9486746788024902,
          0.37451767921447754,
          4.388602256774902,
          1.6248729228973389,
          0.8763711452484131,
          0.7602572441101074,
          1.1250989437103271,
          0.7108805179595947,
          0.8450359106063843,
          0.6138041019439697,
          0.7275909185409546,
          1.921069622039795,
          2.462540864944458,
          1.8730137348175049,
          1.0076417922973633,
          1.6565498113632202,
          0.45792657136917114,
          2.2002036571502686,
          0.3292124271392822,
          0.21609282493591309,
          0.37645983695983887,
          1.9508625268936157,
          0.45578253269195557,
          1.4411990642547607,
          1.30973219871521,
          0.6083008050918579,
          0.39892852306365967,
          1.425675868988037,
          0.52754807472229,
          0.807401180267334,
          3.197112560272217,
          0.3600560426712036,
          1.4617536067962646,
          0.41707682609558105,
          5.668564796447754,
          4.38060998916626,
          1.3836616277694702,
          0.7481899261474609,
          2.7477035522460938,
          3.2500109672546387,
          0.3934800624847412,
          0.6218500137329102,
          1.23555326461792,
          0.6962612867355347,
          1.3025635480880737,
          2.9675731658935547,
          0.6403958797454834,
          0.31727170944213867,
          0.998379111289978,
          0.48909544944763184,
          0.4418555498123169,
          0.46136152744293213,
          3.177327871322632,
          1.2805569171905518,
          1.0257694721221924,
          1.3882687091827393,
          1.1096577644348145,
          0.46580934524536133,
          0.8746902942657471,
          1.3914092779159546,
          1.3788409233093262,
          0.3755548596382141,
          1.7762924432754517,
          0.5085398554801941,
          0.572848916053772,
          0.6602517366409302,
          0.3745471239089966,
          0.4358227252960205,
          2.3033509254455566,
          0.869078516960144,
          0.39289575815200806,
          2.3504672050476074,
          4.022515296936035,
          0.48666930198669434,
          0.5564010143280029,
          0.5551810264587402,
          0.6084730625152588,
          1.1511414051055908,
          0.2933526039123535,
          0.28400254249572754,
          0.8618484735488892,
          0.7731401920318604,
          1.224757432937622,
          1.368675947189331,
          1.2394593954086304,
          0.38449013233184814,
          0.5882288813591003,
          0.5488097667694092,
          1.5727542638778687,
          4.671919822692871,
          0.7451168298721313,
          0.8866403698921204,
          1.679558515548706,
          0.33476537466049194,
          0.6778674125671387,
          0.5332642793655396,
          1.2465683221817017,
          0.5950995683670044,
          0.4668400287628174,
          0.5805667638778687,
          0.5581793785095215,
          0.6503720283508301,
          0.4969775676727295,
          1.04005765914917,
          0.3246777057647705,
          0.3519008159637451,
          0.7079002857208252,
          5.65119743347168,
          0.5231277942657471,
          1.0529277324676514,
          0.8093546628952026,
          1.0830568075180054,
          0.47158437967300415,
          0.6316839456558228,
          0.632367730140686,
          0.6111314296722412,
          2.5619399547576904,
          5.727611541748047,
          0.6992330551147461,
          0.4887320399284363,
          1.6315276622772217,
          0.3467806577682495,
          0.5550967454910278,
          1.5889073610305786,
          1.1856305599212646,
          1.2323479652404785,
          0.85322105884552,
          2.18418288230896,
          1.1816823482513428,
          1.0962467193603516,
          0.6645679473876953,
          0.5006719827651978,
          1.2137746810913086,
          0.41840362548828125,
          0.3405005931854248,
          0.4735393524169922,
          0.9183225631713867,
          0.6396230459213257,
          0.21727365255355835,
          1.6238070726394653,
          1.0957146883010864,
          0.6906698942184448,
          0.45102381706237793,
          0.5832383632659912,
          0.3857182264328003,
          0.6525899171829224,
          2.2038767337799072,
          2.623896360397339,
          0.3732307553291321,
          0.4342697858810425,
          0.5200252532958984,
          0.6066861152648926,
          2.488560676574707,
          0.6061980724334717,
          1.4927915334701538,
          1.1652510166168213,
          1.4644489288330078,
          0.8695948123931885,
          0.4311075210571289,
          0.5003434419631958,
          0.24091887474060059,
          2.6411266326904297,
          0.6847724914550781,
          0.3058927059173584,
          3.511744499206543,
          0.47428178787231445,
          2.3907063007354736,
          0.7951762676239014,
          0.420897901058197,
          0.4926542043685913,
          1.0419927835464478,
          1.4187310934066772,
          0.21157726645469666,
          0.7191667556762695,
          1.3718680143356323,
          3.1781225204467773,
          0.9730920791625977,
          0.4336351156234741,
          0.4830310344696045,
          1.1300098896026611,
          0.5508127212524414,
          0.2879602313041687,
          0.4410400390625,
          0.43183666467666626,
          0.39167511463165283,
          0.6190634965896606,
          1.3863301277160645,
          2.0585780143737793,
          1.9311878681182861,
          0.44944262504577637,
          1.034134864807129,
          0.4464104175567627,
          3.19990873336792,
          0.5592902898788452,
          0.5504621267318726,
          0.7647525072097778,
          0.3119744062423706,
          1.3305076360702515,
          0.5948898792266846,
          0.4417818784713745,
          0.6482139825820923,
          0.716066837310791,
          1.8344881534576416,
          1.1089788675308228,
          3.7977447509765625,
          0.736398458480835,
          0.23075246810913086,
          0.20704472064971924,
          0.1865115463733673,
          1.8146216869354248,
          0.3595958948135376,
          0.9526913166046143,
          0.8312079906463623,
          0.82813560962677,
          0.2844141125679016,
          0.4055122137069702,
          0.7173628807067871,
          0.6534305810928345,
          0.9797772765159607,
          0.5396397113800049,
          0.3253908157348633,
          1.1700962781906128,
          0.33291226625442505,
          1.304246425628662,
          1.1952400207519531,
          0.3632042407989502,
          2.6941068172454834,
          0.476391077041626,
          1.0943905115127563,
          1.7581830024719238,
          0.7725905179977417,
          0.404742956161499,
          0.7354329824447632,
          0.5741562843322754,
          1.098204255104065,
          0.6969881057739258,
          1.6532320976257324,
          0.8157806396484375,
          0.4913485050201416,
          0.6127974987030029,
          0.42330896854400635,
          2.5512428283691406,
          0.3816401958465576,
          0.8838847875595093,
          1.7446155548095703,
          1.0354413986206055,
          0.9732213020324707,
          2.019000291824341,
          0.7941690683364868,
          0.9768401384353638,
          0.25056755542755127,
          0.2581769824028015,
          0.2887689471244812,
          1.0225450992584229,
          0.7384074926376343,
          0.3108762502670288,
          0.4514636993408203,
          0.7642961144447327,
          0.48800843954086304,
          0.541873574256897,
          0.27710163593292236,
          0.41567957401275635,
          1.3371168375015259,
          0.9379439353942871,
          0.47890400886535645,
          0.8732389211654663,
          0.44622695446014404,
          2.9064526557922363,
          0.507866621017456,
          0.34748172760009766,
          0.4596683382987976,
          1.2374309301376343,
          0.2960621118545532,
          0.37336742877960205,
          1.1740753650665283,
          1.5739706754684448,
          1.7356302738189697,
          2.079775094985962,
          0.3330423831939697,
          0.4824056625366211,
          0.5966619253158569,
          1.8171260356903076,
          2.1665782928466797,
          0.5533144474029541,
          1.7961081266403198,
          0.7723771333694458,
          1.0426816940307617,
          1.1149797439575195,
          0.3554845452308655,
          3.5649254322052,
          1.277456521987915,
          2.6260037422180176,
          0.2836046814918518,
          0.3013784885406494,
          1.4775458574295044,
          1.499983549118042,
          1.3205679655075073,
          0.5071783065795898,
          0.2307295799255371,
          0.31677448749542236,
          0.4636954069137573,
          0.39530396461486816,
          2.1702933311462402,
          0.312813401222229,
          0.9126120805740356,
          0.4082787036895752,
          0.8659564256668091,
          2.5521492958068848,
          1.6546881198883057,
          1.0533807277679443,
          1.4314424991607666,
          0.41630637645721436,
          1.9443340301513672,
          0.9137971997261047,
          0.41908228397369385,
          1.604398488998413,
          1.0603402853012085,
          1.9980485439300537,
          0.45960474014282227,
          1.4902880191802979,
          1.3007228374481201,
          0.7220501899719238,
          0.4465383291244507,
          0.5884679555892944,
          2.438904285430908,
          0.6586514115333557,
          1.5712988376617432,
          2.7572202682495117,
          4.390495300292969,
          0.3276479244232178,
          0.4581327438354492,
          0.6834040880203247,
          0.653212308883667,
          1.0275193452835083,
          1.212578535079956,
          0.6436258554458618,
          0.9834768772125244,
          0.9331283569335938,
          0.6647917032241821,
          2.151885509490967,
          0.325481116771698,
          2.1972639560699463,
          0.7148081064224243,
          0.40378087759017944,
          1.8333688974380493,
          1.8354249000549316,
          0.4057590365409851,
          0.5782150626182556,
          0.44274401664733887,
          0.6004692316055298,
          0.6459178328514099,
          1.6867115497589111,
          0.35246002674102783,
          0.42153680324554443,
          2.087261438369751,
          0.4644821882247925,
          1.5576536655426025,
          1.271407127380371,
          0.23636499047279358,
          1.0808911323547363,
          2.11923885345459,
          0.5225875377655029,
          0.5618886351585388,
          0.805220365524292,
          4.516029357910156,
          0.7883572578430176,
          0.8129222393035889,
          3.35459566116333,
          0.8189729452133179,
          1.4763599634170532,
          3.247405529022217,
          1.003882884979248,
          0.45410674810409546,
          3.0085842609405518,
          1.6566529273986816,
          0.5340592861175537,
          0.43168437480926514,
          1.0270256996154785,
          1.469879388809204,
          1.049736499786377,
          0.3275604248046875,
          2.027783155441284,
          1.0094025135040283,
          0.48436522483825684,
          0.6553997993469238,
          0.36202478408813477,
          0.4387103319168091,
          0.4702320098876953,
          0.6312288045883179,
          0.9711034893989563,
          0.6214475631713867,
          0.39379310607910156,
          0.39447736740112305,
          0.38516783714294434,
          0.994246244430542,
          0.49067413806915283,
          0.5085723400115967,
          0.6880719661712646,
          4.255345344543457,
          0.5797300338745117,
          2.5748322010040283,
          0.662527322769165,
          1.3190840482711792,
          2.1689517498016357,
          1.293458104133606,
          4.850494384765625,
          0.5887272357940674,
          0.4165198802947998,
          0.2851563096046448,
          0.5856330394744873,
          0.6283738613128662,
          0.975609540939331,
          0.8363645076751709,
          0.42079687118530273,
          0.525855302810669,
          1.8721671104431152,
          0.8571291565895081,
          2.092813491821289,
          0.5550664663314819,
          1.0667102336883545,
          0.29441940784454346,
          0.33897650241851807,
          0.4778149127960205,
          0.3786851763725281,
          0.8402657508850098,
          0.5089852809906006,
          0.4038330912590027,
          0.44586896896362305,
          0.5982663631439209,
          2.133270025253296,
          0.6072155237197876,
          0.4455420970916748,
          0.5512776374816895,
          0.6069034337997437,
          0.4364577531814575,
          0.5091387629508972,
          1.2455222606658936,
          0.6625274419784546,
          0.4364347457885742,
          0.4329913258552551,
          2.0671894550323486,
          2.2628753185272217,
          0.36667144298553467,
          0.2891744375228882,
          1.7217998504638672,
          1.4438390731811523,
          1.04607355594635,
          1.1418077945709229,
          2.34978985786438,
          0.2596561014652252,
          0.18397283554077148,
          0.2711794972419739,
          2.212873697280884,
          2.2636260986328125,
          2.830580711364746,
          0.3438570499420166,
          1.0355138778686523,
          0.6077160835266113,
          0.9133104681968689,
          0.750055730342865,
          0.734112024307251,
          0.44005823135375977,
          0.5141817331314087,
          2.2310268878936768,
          0.4508891701698303,
          0.5856339931488037,
          3.2903079986572266,
          2.1346960067749023,
          0.6844354867935181,
          1.1823883056640625,
          2.000309705734253,
          0.5849378108978271,
          0.35523664951324463,
          1.8684383630752563,
          0.9333391189575195,
          0.7806535959243774,
          1.5919026136398315,
          1.1465253829956055,
          3.218857526779175,
          0.5189480781555176,
          0.4654974937438965,
          0.4239441156387329,
          0.5151256918907166,
          0.27646493911743164,
          3.3356781005859375,
          2.804143190383911,
          1.272810459136963,
          0.7568811178207397,
          1.2360692024230957,
          1.2146739959716797,
          0.6233751773834229,
          1.1694395542144775,
          0.9051649570465088,
          0.32430869340896606,
          0.757436990737915,
          1.1323318481445312,
          1.0092054605484009,
          0.3148273229598999,
          0.5706949234008789,
          0.8437952995300293,
          0.37525486946105957,
          0.6055505871772766,
          0.5289868116378784,
          0.44141316413879395,
          1.4993462562561035,
          1.405053973197937,
          0.7659682035446167,
          1.1605539321899414,
          0.443148136138916,
          1.7582197189331055,
          0.6604773998260498,
          0.6059155464172363,
          0.7728242874145508,
          1.0741186141967773,
          0.4961445927619934,
          0.4107668399810791,
          0.7455803155899048,
          1.7900464534759521,
          0.8390954732894897,
          1.612881064414978,
          1.0200783014297485,
          1.2843272686004639,
          0.4536474943161011,
          0.6172041296958923,
          0.32972025871276855,
          0.4717082977294922,
          2.51164174079895,
          0.9695837497711182,
          0.43280959129333496,
          1.2070181369781494,
          0.4823892116546631,
          0.561793327331543,
          0.6370499730110168,
          0.7232237458229065,
          2.161409854888916,
          1.4056017398834229,
          0.6154284477233887,
          1.1805204153060913,
          0.43926072120666504,
          0.5539357662200928,
          0.5385454893112183,
          2.0585250854492188,
          0.5188519954681396,
          0.23344647884368896,
          0.5968049764633179,
          0.23948577046394348,
          0.2621654272079468,
          0.32102978229522705,
          0.5044956207275391,
          0.3807140588760376,
          0.3895190954208374,
          0.3602526783943176,
          0.6346713304519653,
          5.170426845550537,
          0.4816572666168213,
          0.8415215015411377,
          1.6326805353164673,
          0.3536359667778015,
          1.787824034690857,
          0.4669255018234253
         ],
         "yaxis": "y"
        },
        {
         "hovertemplate": "variable=raw_t2m_crps<br>obs_t2m=%{x}<br>value=%{y}<extra></extra>",
         "legendgroup": "",
         "marker": {
          "color": "#636efa",
          "opacity": 0.3,
          "symbol": "circle"
         },
         "mode": "markers",
         "name": "",
         "showlegend": false,
         "type": "scattergl",
         "x": [
          285.95001220703125,
          283.75,
          285.95001220703125,
          297.04998779296875,
          297.04998779296875,
          283.1499938964844,
          283.75,
          290.95001220703125,
          295.3500061035156,
          300.95001220703125,
          302.04998779296875,
          302.54998779296875,
          305.3500061035156,
          304.25,
          307.04998779296875,
          308.1499938964844,
          308.75,
          309.25,
          305.95001220703125,
          302.54998779296875,
          298.75,
          305.3500061035156,
          308.75,
          305.95001220703125,
          308.1499938964844,
          308.75,
          308.75,
          302.04998779296875,
          303.75,
          303.75,
          294.25,
          293.1499938964844,
          288.75,
          290.95001220703125,
          293.1499938964844,
          287.04998779296875,
          274.25,
          278.75,
          275.95001220703125,
          273.75,
          270.3500061035156,
          273.1499938964844,
          275.95001220703125,
          276.45001220703125,
          290.95001220703125,
          292.04998779296875,
          290.3500061035156,
          292.04998779296875,
          293.1499938964844,
          293.75,
          295.95001220703125,
          297.54998779296875,
          297.04998779296875,
          299.8500061035156,
          299.8500061035156,
          300.95001220703125,
          305.3500061035156,
          304.25,
          298.1499938964844,
          309.8500061035156,
          309.8500061035156,
          304.8500061035156,
          310.3500061035156,
          306.45001220703125,
          306.45001220703125,
          304.8500061035156,
          305.95001220703125,
          298.1499938964844,
          285.95001220703125,
          286.45001220703125,
          293.1499938964844,
          295.95001220703125,
          288.1499938964844,
          284.8500061035156,
          283.1499938964844,
          283.1499938964844,
          276.45001220703125,
          274.8500061035156,
          284.25,
          283.1499938964844,
          280.95001220703125,
          290.3500061035156,
          270.95001220703125,
          271.45001220703125,
          285.3500061035156,
          280.3500061035156,
          288.1499938964844,
          294.8500061035156,
          290.3500061035156,
          289.8500061035156,
          299.8500061035156,
          303.75,
          304.8500061035156,
          304.25,
          302.54998779296875,
          297.04998779296875,
          299.25,
          300.3500061035156,
          301.45001220703125,
          301.45001220703125,
          302.04998779296875,
          311.45001220703125,
          312.04998779296875,
          310.95001220703125,
          310.3500061035156,
          309.25,
          292.54998779296875,
          296.45001220703125,
          298.1499938964844,
          295.95001220703125,
          292.54998779296875,
          294.25,
          283.1499938964844,
          277.54998779296875,
          268.75,
          268.1499938964844,
          272.04998779296875,
          269.25,
          266.4277648925781,
          264.25,
          273.75,
          273.75,
          278.75,
          279.8500061035156,
          283.75,
          288.75,
          297.54998779296875,
          297.03887939453125,
          300.3500061035156,
          292.04998779296875,
          300.3500061035156,
          295.95001220703125,
          298.75,
          292.03887939453125,
          297.04998779296875,
          303.75,
          300.95001220703125,
          300.95001220703125,
          309.25,
          310.3500061035156,
          309.2611083984375,
          307.54998779296875,
          307.54998779296875,
          303.75,
          304.8500061035156,
          303.1499938964844,
          294.25,
          296.45001220703125,
          298.1499938964844,
          293.1499938964844,
          294.25,
          293.75,
          270.95001220703125,
          274.8500061035156,
          277.03887939453125,
          272.54998779296875,
          276.45001220703125,
          280.95001220703125,
          268.1499938964844,
          272.53887939453125,
          269.8500061035156,
          277.04998779296875,
          271.45001220703125,
          273.1499938964844,
          297.54998779296875,
          292.04998779296875,
          290.95001220703125,
          295.95001220703125,
          297.53887939453125,
          292.04998779296875,
          297.1499938964844,
          295.95001220703125,
          300.95001220703125,
          302.04998779296875,
          303.1499938964844,
          303.75,
          304.1499938964844,
          303.75,
          303.1499938964844,
          300.3500061035156,
          304.25,
          305.3722229003906,
          301.45001220703125,
          301.45001220703125,
          303.1499938964844,
          301.45001220703125,
          300.95001220703125,
          302.03887939453125,
          298.1499938964844,
          294.8500061035156,
          300.95001220703125,
          281.45001220703125,
          283.1499938964844,
          278.75,
          278.75,
          279.8500061035156,
          275.3722229003906,
          274.25,
          269.8500061035156,
          275.3500061035156,
          280.3500061035156,
          272.1499938964844,
          280.95001220703125,
          274.25,
          277.54998779296875,
          282.54998779296875,
          279.25,
          284.8500061035156,
          298.1499938964844,
          299.8722229003906,
          289.1499938964844,
          295.95001220703125,
          302.04998779296875,
          301.45001220703125,
          305.3500061035156,
          292.03887939453125,
          298.75,
          300.3500061035156,
          300.95001220703125,
          297.54998779296875,
          303.75,
          305.95001220703125,
          306.4277648925781,
          308.1499938964844,
          304.25,
          304.25,
          299.25,
          294.8500061035156,
          294.2611083984375,
          299.25,
          293.1499938964844,
          290.95001220703125,
          286.45001220703125,
          293.75,
          284.8500061035156,
          275.3500061035156,
          286.45001220703125,
          284.25,
          287.04998779296875,
          278.1499938964844,
          284.8500061035156,
          282.53887939453125,
          285.95001220703125,
          270.95001220703125,
          266.45001220703125,
          271.45001220703125,
          291.45001220703125,
          286.45001220703125,
          288.1499938964844,
          296.45001220703125,
          290.95001220703125,
          303.75,
          303.75,
          300.95001220703125,
          300.95001220703125,
          303.1499938964844,
          296.1499938964844,
          300.3500061035156,
          300.3500061035156,
          295.95001220703125,
          301.45001220703125,
          307.54998779296875,
          305.95001220703125,
          299.25,
          301.45001220703125,
          302.54998779296875,
          301.45001220703125,
          299.8500061035156,
          295.95001220703125,
          297.04998779296875,
          295.95001220703125,
          287.54998779296875,
          281.45001220703125,
          276.45001220703125,
          282.04998779296875,
          281.45001220703125,
          283.75,
          290.3500061035156,
          288.7611083984375,
          293.1499938964844,
          274.1499938964844,
          274.1499938964844,
          274.25,
          294.8500061035156,
          295.3500061035156,
          290.95001220703125,
          283.1499938964844,
          290.3722229003906,
          287.54998779296875,
          297.04998779296875,
          300.3500061035156,
          301.45001220703125,
          299.25,
          291.4277648925781,
          299.25,
          307.54998779296875,
          308.1499938964844,
          308.1499938964844,
          305.95001220703125,
          307.04998779296875,
          307.04998779296875,
          303.75,
          303.1499938964844,
          304.25,
          303.75,
          298.75,
          300.3500061035156,
          291.45001220703125,
          290.95001220703125,
          291.45001220703125,
          292.04998779296875,
          273.75,
          273.1499938964844,
          283.1499938964844,
          289.25,
          285.95001220703125,
          283.1499938964844,
          282.04998779296875,
          284.2611083984375,
          293.75,
          286.45001220703125,
          283.75,
          282.54998779296875,
          290.95001220703125,
          290.95001220703125,
          295.3500061035156,
          287.04998779296875,
          294.8500061035156,
          303.1499938964844,
          303.1499938964844,
          303.75,
          293.1499938964844,
          299.8500061035156,
          303.1499938964844,
          306.45001220703125,
          307.04998779296875,
          309.25,
          308.75,
          299.8500061035156,
          298.75,
          299.25,
          297.54998779296875,
          300.3500061035156,
          300.95001220703125,
          293.75,
          290.3500061035156,
          289.25,
          293.75,
          293.75,
          291.45001220703125,
          269.25,
          274.8500061035156,
          283.1499938964844,
          287.04998779296875,
          283.1499938964844,
          273.1499938964844,
          277.54998779296875,
          275.9277648925781,
          268.1499938964844,
          295.9277648925781,
          291.1499938964844,
          289.1499938964844,
          298.1499938964844,
          292.54998779296875,
          292.03887939453125,
          293.7611083984375,
          295.9277648925781,
          296.4277648925781,
          297.54998779296875,
          298.75,
          296.1499938964844,
          296.1499938964844,
          293.1499938964844,
          294.8722229003906,
          304.2611083984375,
          302.53887939453125,
          303.1499938964844,
          304.2611083984375,
          304.8722229003906,
          304.2611083984375,
          301.4277648925781,
          301.4277648925781,
          302.53887939453125,
          297.03887939453125,
          300.9277648925781,
          299.2611083984375,
          288.1499938964844,
          289.8722229003906,
          291.4277648925781,
          276.4277648925781,
          280.3722229003906,
          278.7611083984375,
          273.7611083984375,
          273.1499938964844,
          266.4277648925781,
          273.1499938964844,
          273.7611083984375,
          269.8722229003906,
          289.8722229003906,
          271.4277648925781,
          279.8722229003906,
          284.2611083984375,
          284.8722229003906,
          290.9277648925781,
          295.9277648925781,
          297.03887939453125,
          298.7611083984375,
          299.2611083984375,
          295.9277648925781,
          299.8722229003906,
          304.2611083984375,
          300.3722229003906,
          299.8722229003906,
          303.7611083984375,
          299.8722229003906,
          301.4277648925781,
          302.03887939453125,
          301.4277648925781,
          303.1499938964844,
          302.03887939453125,
          304.8722229003906,
          307.53887939453125,
          299.8722229003906,
          301.4277648925781,
          302.53887939453125,
          298.7611083984375,
          299.8722229003906,
          298.7611083984375,
          283.7611083984375,
          289.2611083984375,
          292.03887939453125,
          279.8500061035156,
          277.04998779296875,
          277.53887939453125,
          293.75,
          272.04998779296875,
          276.45001220703125,
          280.3500061035156,
          272.53887939453125,
          275.9277648925781,
          274.8722229003906,
          275.9277648925781,
          281.4277648925781,
          274.8722229003906,
          284.8722229003906,
          287.53887939453125,
          293.7611083984375,
          293.1499938964844,
          286.4277648925781,
          290.3722229003906,
          299.2611083984375,
          304.2611083984375,
          305.9277648925781,
          304.2611083984375,
          302.53887939453125,
          299.1499938964844,
          303.1499938964844,
          305.3722229003906,
          299.8722229003906,
          298.1499938964844,
          299.8722229003906,
          303.7611083984375,
          298.1499938964844,
          300.3722229003906,
          297.53887939453125,
          295.3722229003906,
          294.2611083984375,
          296.4277648925781,
          298.7611083984375,
          290.9277648925781,
          289.8722229003906,
          284.1499938964844,
          279.2611083984375,
          288.7611083984375,
          277.03887939453125,
          279.2611083984375,
          271.4277648925781,
          270.9277648925781,
          276.4277648925781,
          274.1499938964844,
          270.3722229003906,
          267.53887939453125,
          269.8722229003906,
          266.1499938964844,
          267.53887939453125,
          287.54998779296875,
          293.1499938964844,
          298.1499938964844,
          298.75,
          294.8500061035156,
          289.8500061035156,
          297.04998779296875,
          303.1499938964844,
          303.1499938964844,
          295.1499938964844,
          299.8500061035156,
          304.25,
          305.95001220703125,
          303.1499938964844,
          304.25,
          303.75,
          308.1499938964844,
          307.54998779296875,
          300.3500061035156,
          300.95001220703125,
          302.04998779296875,
          303.75,
          303.75,
          299.8500061035156,
          291.45001220703125,
          293.1499938964844,
          296.45001220703125,
          286.45001220703125,
          287.04998779296875,
          290.95001220703125,
          284.8500061035156,
          275.95001220703125,
          274.25,
          270.95001220703125,
          274.8500061035156,
          288.1499938964844,
          267.54998779296875,
          269.25,
          288.1499938964844,
          275.95001220703125,
          277.54998779296875,
          281.45001220703125,
          280.3500061035156,
          298.1499938964844,
          294.8500061035156,
          282.54998779296875,
          297.04998779296875,
          296.45001220703125,
          303.75,
          302.04998779296875,
          302.54998779296875,
          303.75,
          302.54998779296875,
          304.25,
          309.25,
          307.04998779296875,
          308.1499938964844,
          311.45001220703125,
          305.95001220703125,
          305.95001220703125,
          310.95001220703125,
          294.8500061035156,
          298.1499938964844,
          302.04998779296875,
          285.95001220703125,
          287.04998779296875,
          284.8500061035156,
          278.1499938964844,
          277.54998779296875,
          280.95001220703125,
          280.3500061035156,
          278.75,
          279.25,
          280.95001220703125,
          287.04998779296875,
          277.04998779296875,
          276.45001220703125,
          282.04998779296875,
          288.1499938964844,
          298.1499938964844,
          298.1499938964844,
          297.54998779296875,
          295.95001220703125,
          298.1499938964844,
          299.8500061035156,
          302.54998779296875,
          305.95001220703125,
          305.3500061035156,
          302.04998779296875,
          294.25,
          289.25,
          310.95001220703125,
          310.95001220703125,
          309.8500061035156,
          314.8500061035156,
          314.8500061035156,
          314.8500061035156,
          303.1499938964844,
          305.95001220703125,
          305.3500061035156,
          306.45001220703125,
          307.04998779296875,
          303.75,
          297.54998779296875,
          294.8500061035156,
          297.04998779296875,
          283.75,
          287.04998779296875,
          292.54998779296875,
          283.75,
          289.25,
          285.3500061035156,
          272.04998779296875,
          273.75,
          269.25,
          278.75,
          274.25,
          268.1499938964844,
          294.8500061035156,
          278.1499938964844,
          272.04998779296875,
          292.54998779296875,
          293.1499938964844,
          294.8500061035156,
          299.8500061035156,
          299.25,
          289.25,
          298.75,
          298.1499938964844,
          297.04998779296875,
          298.75,
          298.75,
          295.3500061035156,
          307.04998779296875,
          307.04998779296875,
          304.25,
          299.8500061035156,
          300.3500061035156,
          301.45001220703125,
          304.25,
          303.75,
          304.25,
          305.95001220703125,
          307.04998779296875,
          307.54998779296875,
          302.54998779296875,
          300.95001220703125,
          291.45001220703125,
          291.45001220703125,
          293.1499938964844,
          292.04998779296875,
          279.8500061035156,
          280.95001220703125,
          281.45001220703125,
          276.45001220703125,
          279.8500061035156,
          282.04998779296875,
          271.45001220703125,
          279.8500061035156,
          267.54998779296875,
          268.1499938964844,
          279.25,
          280.3500061035156,
          285.95001220703125,
          290.3500061035156,
          295.95001220703125,
          282.54998779296875,
          286.45001220703125,
          290.95001220703125,
          297.04998779296875,
          301.45001220703125,
          303.1499938964844,
          299.8500061035156,
          299.8500061035156,
          300.95001220703125,
          300.3500061035156,
          295.3500061035156,
          303.1499938964844,
          303.1499938964844,
          293.75,
          299.8500061035156,
          305.3500061035156,
          305.3500061035156,
          296.45001220703125,
          299.8500061035156,
          304.25,
          306.45001220703125,
          298.1499938964844,
          298.75,
          299.25,
          289.25,
          288.1499938964844,
          289.25,
          285.95001220703125,
          288.1499938964844,
          271.45001220703125,
          278.1499938964844,
          270.3500061035156,
          275.3500061035156,
          264.8500061035156,
          265.3500061035156,
          272.04998779296875
         ],
         "xaxis": "x2",
         "y": [
          0.12280212342739105,
          1.6166492700576782,
          3.1058132648468018,
          0.18816068768501282,
          2.515437364578247,
          4.605836868286133,
          0.4294479489326477,
          1.4222314357757568,
          0.9344158172607422,
          0.584641695022583,
          0.09794861078262329,
          2.4891021251678467,
          1.2382237911224365,
          1.513317584991455,
          1.6949167251586914,
          0.518761932849884,
          0.6570373773574829,
          0.3792477250099182,
          1.02089262008667,
          1.558854103088379,
          2.828986644744873,
          2.079465627670288,
          0.4028763175010681,
          3.339155435562134,
          1.2193996906280518,
          0.7375836372375488,
          0.4022705554962158,
          0.3300594985485077,
          1.7099406719207764,
          2.0272085666656494,
          0.7829910516738892,
          0.6086342930793762,
          0.7906100153923035,
          1.0422576665878296,
          0.7325986623764038,
          3.5557239055633545,
          1.880854606628418,
          3.0764622688293457,
          2.132059097290039,
          3.0339345932006836,
          0.5511913299560547,
          0.8668719530105591,
          0.18334534764289856,
          1.2807061672210693,
          2.0439789295196533,
          2.890368700027466,
          0.16138213872909546,
          0.1995333731174469,
          0.9664270877838135,
          1.7067190408706665,
          0.2614837884902954,
          1.0390359163284302,
          0.3810683488845825,
          0.6532589197158813,
          1.094742774963379,
          0.41269439458847046,
          0.7889310121536255,
          1.2665174007415771,
          0.7266187071800232,
          0.26495420932769775,
          0.27983492612838745,
          1.336424469947815,
          0.4457305669784546,
          1.9432802200317383,
          0.4754180908203125,
          0.5235776305198669,
          1.0163791179656982,
          2.2976791858673096,
          1.629862904548645,
          0.5339340567588806,
          2.004173755645752,
          0.26875820755958557,
          0.9474819898605347,
          1.0551538467407227,
          3.812790632247925,
          0.5816769599914551,
          2.8832547664642334,
          0.6352865695953369,
          3.008368492126465,
          0.2792923152446747,
          0.9591034054756165,
          2.992377758026123,
          3.40097713470459,
          4.137792587280273,
          0.33987244963645935,
          1.0248024463653564,
          1.146240234375,
          1.0907111167907715,
          1.9629485607147217,
          1.1231111288070679,
          0.19084474444389343,
          2.0095107555389404,
          0.22391876578330994,
          1.7468950748443604,
          1.7612642049789429,
          0.6701763868331909,
          0.6565842032432556,
          1.425524353981018,
          0.2095993161201477,
          0.2899664640426636,
          0.2646212875843048,
          0.2717288136482239,
          0.49682867527008057,
          0.4053424596786499,
          0.3257620334625244,
          0.269400030374527,
          0.667923629283905,
          2.556493043899536,
          2.237071990966797,
          2.365460157394409,
          0.2949303984642029,
          2.8857035636901855,
          0.14933377504348755,
          1.3779504299163818,
          0.33621519804000854,
          0.4120694100856781,
          1.7645107507705688,
          0.27737393975257874,
          0.2950100898742676,
          1.123891830444336,
          0.21198150515556335,
          0.45497772097587585,
          0.5888037085533142,
          1.601228952407837,
          0.35208678245544434,
          2.0453624725341797,
          1.1583346128463745,
          1.1824665069580078,
          0.4920312464237213,
          8.387953758239746,
          1.955867886543274,
          0.6243820190429688,
          0.34610140323638916,
          0.4912753105163574,
          0.43639183044433594,
          0.7985802888870239,
          0.3300415277481079,
          0.4633176326751709,
          3.1063477993011475,
          1.4551730155944824,
          0.5243865847587585,
          0.42367249727249146,
          0.4752822518348694,
          0.5884063839912415,
          1.50054931640625,
          0.2594241201877594,
          0.24045595526695251,
          1.2247891426086426,
          3.407104969024658,
          0.12688690423965454,
          1.9940840005874634,
          1.6380023956298828,
          0.35009706020355225,
          0.4175216555595398,
          1.6574816703796387,
          1.545595645904541,
          2.0916223526000977,
          2.7002105712890625,
          1.239166259765625,
          1.388991117477417,
          0.18221738934516907,
          11.191731452941895,
          8.802801132202148,
          0.2862628698348999,
          0.21984222531318665,
          2.340062141418457,
          4.125566482543945,
          0.25348418951034546,
          0.5322304964065552,
          2.1731064319610596,
          0.24171173572540283,
          1.9099929332733154,
          4.656455993652344,
          0.7881441712379456,
          0.6200238466262817,
          1.4189140796661377,
          0.3928096890449524,
          0.5123885869979858,
          0.44914183020591736,
          2.8459668159484863,
          1.7523627281188965,
          2.1680798530578613,
          3.1284632682800293,
          2.047373056411743,
          0.9969210624694824,
          0.7008325457572937,
          2.763486385345459,
          2.7000041007995605,
          0.8317127227783203,
          1.0468716621398926,
          0.4869723320007324,
          1.8791749477386475,
          1.7169238328933716,
          1.0114545822143555,
          2.374445915222168,
          2.500175714492798,
          0.9101145267486572,
          0.15236085653305054,
          3.2800674438476562,
          4.30588436126709,
          0.886519193649292,
          1.7602386474609375,
          2.19747257232666,
          0.28725436329841614,
          1.1966955661773682,
          0.18930907547473907,
          0.31455111503601074,
          2.4837098121643066,
          2.217489242553711,
          1.2967263460159302,
          2.8160223960876465,
          1.3698748350143433,
          1.416454792022705,
          0.3341463804244995,
          0.4700033664703369,
          2.0603067874908447,
          4.267261505126953,
          1.0197757482528687,
          1.4672061204910278,
          3.6283202171325684,
          0.9551059007644653,
          0.348052978515625,
          1.8715760707855225,
          0.11014191806316376,
          1.7740931510925293,
          0.7609169483184814,
          1.6995339393615723,
          1.5074777603149414,
          1.118782877922058,
          1.663964033126831,
          1.1474945545196533,
          0.184340238571167,
          1.6997185945510864,
          0.717222273349762,
          7.36054801940918,
          1.010615587234497,
          1.050703763961792,
          1.1455291509628296,
          0.5922674536705017,
          0.7857739925384521,
          0.2832135260105133,
          0.9319338798522949,
          0.37227994203567505,
          4.920819282531738,
          7.405445098876953,
          0.7824978828430176,
          0.7299563884735107,
          0.22708070278167725,
          1.6376798152923584,
          0.20488585531711578,
          1.8040945529937744,
          0.9799329042434692,
          0.7177225351333618,
          0.62384033203125,
          0.856360137462616,
          0.10470549762248993,
          1.3076508045196533,
          1.496221899986267,
          0.36233365535736084,
          1.0676648616790771,
          0.7450031042098999,
          0.42521756887435913,
          0.8981170654296875,
          0.555429995059967,
          0.3927847743034363,
          0.36351868510246277,
          0.6803915500640869,
          0.42934781312942505,
          2.3051979541778564,
          0.17980742454528809,
          0.48214077949523926,
          0.2978585958480835,
          0.24007904529571533,
          0.8783755302429199,
          4.27023983001709,
          0.4821130633354187,
          0.23449647426605225,
          0.35650816559791565,
          0.8753371834754944,
          3.014219045639038,
          0.6724624633789062,
          2.0848476886749268,
          1.9291198253631592,
          1.5512176752090454,
          1.4051339626312256,
          0.6800649166107178,
          2.8982529640197754,
          0.14109131693840027,
          2.8137099742889404,
          0.36047637462615967,
          0.951898455619812,
          3.2438626289367676,
          0.5851262807846069,
          3.350843906402588,
          1.2255442142486572,
          0.45958101749420166,
          1.9337360858917236,
          2.980721950531006,
          0.3206247091293335,
          1.016055941581726,
          0.44872188568115234,
          1.0188605785369873,
          2.8136682510375977,
          0.7521477937698364,
          0.21412718296051025,
          0.6645793914794922,
          1.9961614608764648,
          1.067108392715454,
          0.11903472244739532,
          0.17286071181297302,
          0.2618231177330017,
          0.29368653893470764,
          0.9968087673187256,
          1.4414901733398438,
          1.2194024324417114,
          1.5540810823440552,
          0.24436157941818237,
          0.35693758726119995,
          0.25920993089675903,
          3.3227643966674805,
          0.14156250655651093,
          0.4977620840072632,
          2.659470558166504,
          0.17082947492599487,
          1.1774078607559204,
          0.9935007095336914,
          0.9790050983428955,
          0.7256274223327637,
          2.311549186706543,
          1.679746150970459,
          0.7487555146217346,
          7.146368503570557,
          0.7589172124862671,
          0.4839550256729126,
          1.1311324834823608,
          1.3925652503967285,
          0.32006099820137024,
          1.9418883323669434,
          4.973675727844238,
          0.5251846313476562,
          1.3075729608535767,
          0.4157155752182007,
          1.0666571855545044,
          0.2036685049533844,
          2.694689989089966,
          0.5496594309806824,
          2.31608510017395,
          0.21826931834220886,
          0.618015706539154,
          1.2613317966461182,
          3.698911666870117,
          2.3298568725585938,
          0.12485381960868835,
          2.5680954456329346,
          0.7380843758583069,
          2.264832019805908,
          2.5793004035949707,
          0.3289056420326233,
          0.1433233618736267,
          1.285937786102295,
          0.1680462658405304,
          1.2092962265014648,
          0.7637896537780762,
          2.050358295440674,
          0.6678903102874756,
          0.1568487286567688,
          0.3730163276195526,
          0.11073394119739532,
          3.8632566928863525,
          0.6090313196182251,
          0.7906966805458069,
          1.0808911323547363,
          2.2862653732299805,
          1.2882921695709229,
          1.7591699361801147,
          1.061567783355713,
          1.0511261224746704,
          0.6137170791625977,
          0.4334777891635895,
          0.31182926893234253,
          0.427034854888916,
          0.7843625545501709,
          0.41051506996154785,
          0.19905850291252136,
          2.0965962409973145,
          0.4296099543571472,
          0.3956402540206909,
          0.9999765157699585,
          0.15303650498390198,
          3.615485668182373,
          0.9410353899002075,
          1.4125514030456543,
          0.21652740240097046,
          0.635894775390625,
          4.544778823852539,
          1.3248186111450195,
          0.4586978554725647,
          0.7903479337692261,
          3.3753182888031006,
          0.555647611618042,
          0.6952553987503052,
          1.911641240119934,
          2.438277244567871,
          1.8649722337722778,
          3.337073802947998,
          0.3450714349746704,
          0.23018920421600342,
          0.16362762451171875,
          2.10819935798645,
          2.785471200942993,
          0.9877752661705017,
          1.4954569339752197,
          0.8099954128265381,
          3.508359909057617,
          1.337526559829712,
          0.40868496894836426,
          0.4327075481414795,
          0.9807773232460022,
          2.1436944007873535,
          0.7599154710769653,
          0.7982437014579773,
          0.28278350830078125,
          2.8082845211029053,
          1.8707387447357178,
          1.1994245052337646,
          0.569496750831604,
          1.0300155878067017,
          0.32201749086380005,
          0.43262478709220886,
          4.683828353881836,
          0.1908615231513977,
          0.1475360095500946,
          1.2063782215118408,
          0.2757754325866699,
          2.1644222736358643,
          3.0573065280914307,
          0.7413164973258972,
          3.634082555770874,
          0.19368195533752441,
          1.4430056810379028,
          0.24069884419441223,
          2.6449973583221436,
          4.32025146484375,
          1.4553134441375732,
          0.9756035804748535,
          0.40456724166870117,
          2.4020228385925293,
          1.197444200515747,
          0.6418975591659546,
          1.5202916860580444,
          1.6349927186965942,
          2.878413200378418,
          0.27932310104370117,
          1.0340933799743652,
          2.495718002319336,
          7.946531772613525,
          0.7677251696586609,
          0.7691219449043274,
          0.8918978571891785,
          2.4067981243133545,
          2.0911855697631836,
          0.10661742091178894,
          1.4221972227096558,
          0.7839062213897705,
          0.358101487159729,
          1.518550157546997,
          3.398284435272217,
          0.21352297067642212,
          1.6929136514663696,
          0.3336450159549713,
          0.4970352351665497,
          3.1775479316711426,
          3.0525050163269043,
          0.15582305192947388,
          2.4864747524261475,
          0.4913809299468994,
          0.1847616732120514,
          1.0500433444976807,
          3.764685869216919,
          0.5004528760910034,
          0.14173460006713867,
          2.977104425430298,
          0.23506498336791992,
          2.246831178665161,
          0.3147158622741699,
          0.2084234654903412,
          3.2842257022857666,
          3.8495032787323,
          2.3092260360717773,
          0.3639093041419983,
          1.44419527053833,
          5.841618537902832,
          0.5108075141906738,
          0.22539183497428894,
          6.28994083404541,
          0.9595944881439209,
          0.7995163202285767,
          2.1375999450683594,
          1.8236708641052246,
          1.2819170951843262,
          2.9995365142822266,
          1.0347812175750732,
          0.6789865493774414,
          1.5464168787002563,
          2.129750967025757,
          3.0013890266418457,
          0.41687655448913574,
          0.8473257422447205,
          3.8733677864074707,
          0.7303887605667114,
          1.8668076992034912,
          1.7053042650222778,
          0.7845983505249023,
          0.5525698661804199,
          0.6204663515090942,
          0.23576873540878296,
          2.3881959915161133,
          1.707942247390747,
          0.14021117985248566,
          0.2128438949584961,
          1.3806207180023193,
          3.9031057357788086,
          0.30872800946235657,
          0.28301575779914856,
          0.31472256779670715,
          5.826150417327881,
          0.6969546675682068,
          3.6031951904296875,
          0.2076193392276764,
          1.0978354215621948,
          2.096525192260742,
          3.8077197074890137,
          7.49051570892334,
          1.1845500469207764,
          1.120499849319458,
          0.36280369758605957,
          0.8528808951377869,
          4.158326625823975,
          2.828411102294922,
          3.121875286102295,
          1.7666280269622803,
          1.5143277645111084,
          0.45733213424682617,
          2.6206724643707275,
          3.6603736877441406,
          1.0196161270141602,
          2.9835519790649414,
          0.405539870262146,
          0.42481786012649536,
          0.9305688142776489,
          0.15166440606117249,
          1.0154635906219482,
          0.753684401512146,
          0.43649962544441223,
          0.21511933207511902,
          0.09206360578536987,
          3.458911895751953,
          1.8408904075622559,
          1.5715746879577637,
          0.39587438106536865,
          0.9566210508346558,
          1.10846745967865,
          0.1455135941505432,
          2.2409794330596924,
          1.3374590873718262,
          0.3960046172142029,
          0.7317107915878296,
          3.255690097808838,
          2.424915075302124,
          0.3790704607963562,
          1.4878262281417847,
          0.8410826921463013,
          0.924893856048584,
          0.26801180839538574,
          1.3296566009521484,
          2.4601545333862305,
          0.8553155064582825,
          1.8407694101333618,
          1.6694267988204956,
          0.21423983573913574,
          0.4000833034515381,
          0.9423104524612427,
          0.24105195701122284,
          2.6852867603302,
          1.2631036043167114,
          0.404058575630188,
          0.8622745275497437,
          0.8866977691650391,
          1.4017654657363892,
          0.30347776412963867,
          1.6524896621704102,
          0.07997283339500427,
          1.0731689929962158,
          4.009666919708252,
          2.4966683387756348,
          1.474898338317871,
          1.6981940269470215,
          1.6250252723693848,
          0.9805954098701477,
          0.7064074873924255,
          1.207749605178833,
          0.20460325479507446,
          1.135608434677124,
          1.2538684606552124,
          4.326773643493652,
          3.6612014770507812,
          0.17177215218544006,
          0.4665020704269409,
          1.3882219791412354,
          1.1461889743804932,
          0.5444977283477783,
          4.6826677322387695,
          4.33875846862793,
          1.538831114768982,
          0.46824800968170166,
          3.092092514038086,
          1.4049944877624512,
          1.3409359455108643,
          3.764695644378662,
          1.6143767833709717,
          0.7609817385673523,
          0.20382383465766907,
          0.9809775352478027,
          0.2616375684738159,
          0.09022460877895355,
          0.6288949847221375,
          1.0068590641021729,
          0.6014159917831421,
          0.7346593737602234,
          1.539306640625,
          0.9305252432823181,
          2.2605438232421875,
          1.313069462776184,
          0.45670804381370544,
          1.5566554069519043,
          0.17388734221458435,
          1.8364890813827515,
          1.3997002840042114,
          0.6548827886581421,
          0.08529815077781677,
          2.907935619354248,
          1.171346664428711,
          1.0065664052963257,
          1.30460786819458,
          3.525508403778076,
          2.1010100841522217,
          3.0607500076293945,
          0.6948437690734863,
          1.991342306137085,
          2.716613531112671,
          2.1956703662872314,
          1.3595566749572754,
          0.30785247683525085,
          1.8377392292022705,
          2.095259666442871,
          0.5001678466796875,
          1.1897884607315063,
          0.25081145763397217,
          0.8829281330108643,
          1.0117359161376953,
          2.786001682281494,
          2.1496517658233643,
          2.7065203189849854,
          0.8292608261108398,
          0.09487488865852356,
          0.527292788028717,
          2.8003745079040527,
          2.423797607421875,
          7.684260845184326,
          1.6375758647918701,
          0.6551296710968018,
          0.6263369917869568,
          0.33836305141448975,
          0.44910186529159546,
          0.574945330619812,
          0.7936397790908813,
          0.19811002910137177,
          0.6835418343544006,
          0.6615289449691772,
          0.6925368905067444,
          7.179897308349609,
          2.149083375930786,
          2.3586227893829346,
          2.571211814880371,
          0.6392325162887573,
          2.8864033222198486,
          0.7943187952041626
         ],
         "yaxis": "y2"
        }
       ],
       "layout": {
        "annotations": [
         {
          "font": {},
          "showarrow": false,
          "text": "variable=model_t2m_crps",
          "x": 0.245,
          "xanchor": "center",
          "xref": "paper",
          "y": 1,
          "yanchor": "bottom",
          "yref": "paper"
         },
         {
          "font": {},
          "showarrow": false,
          "text": "variable=raw_t2m_crps",
          "x": 0.755,
          "xanchor": "center",
          "xref": "paper",
          "y": 1,
          "yanchor": "bottom",
          "yref": "paper"
         }
        ],
        "autosize": true,
        "legend": {
         "tracegroupgap": 0
        },
        "margin": {
         "t": 60
        },
        "template": {
         "data": {
          "bar": [
           {
            "error_x": {
             "color": "#2a3f5f"
            },
            "error_y": {
             "color": "#2a3f5f"
            },
            "marker": {
             "line": {
              "color": "#E5ECF6",
              "width": 0.5
             },
             "pattern": {
              "fillmode": "overlay",
              "size": 10,
              "solidity": 0.2
             }
            },
            "type": "bar"
           }
          ],
          "barpolar": [
           {
            "marker": {
             "line": {
              "color": "#E5ECF6",
              "width": 0.5
             },
             "pattern": {
              "fillmode": "overlay",
              "size": 10,
              "solidity": 0.2
             }
            },
            "type": "barpolar"
           }
          ],
          "carpet": [
           {
            "aaxis": {
             "endlinecolor": "#2a3f5f",
             "gridcolor": "white",
             "linecolor": "white",
             "minorgridcolor": "white",
             "startlinecolor": "#2a3f5f"
            },
            "baxis": {
             "endlinecolor": "#2a3f5f",
             "gridcolor": "white",
             "linecolor": "white",
             "minorgridcolor": "white",
             "startlinecolor": "#2a3f5f"
            },
            "type": "carpet"
           }
          ],
          "choropleth": [
           {
            "colorbar": {
             "outlinewidth": 0,
             "ticks": ""
            },
            "type": "choropleth"
           }
          ],
          "contour": [
           {
            "colorbar": {
             "outlinewidth": 0,
             "ticks": ""
            },
            "colorscale": [
             [
              0,
              "#0d0887"
             ],
             [
              0.1111111111111111,
              "#46039f"
             ],
             [
              0.2222222222222222,
              "#7201a8"
             ],
             [
              0.3333333333333333,
              "#9c179e"
             ],
             [
              0.4444444444444444,
              "#bd3786"
             ],
             [
              0.5555555555555556,
              "#d8576b"
             ],
             [
              0.6666666666666666,
              "#ed7953"
             ],
             [
              0.7777777777777778,
              "#fb9f3a"
             ],
             [
              0.8888888888888888,
              "#fdca26"
             ],
             [
              1,
              "#f0f921"
             ]
            ],
            "type": "contour"
           }
          ],
          "contourcarpet": [
           {
            "colorbar": {
             "outlinewidth": 0,
             "ticks": ""
            },
            "type": "contourcarpet"
           }
          ],
          "heatmap": [
           {
            "colorbar": {
             "outlinewidth": 0,
             "ticks": ""
            },
            "colorscale": [
             [
              0,
              "#0d0887"
             ],
             [
              0.1111111111111111,
              "#46039f"
             ],
             [
              0.2222222222222222,
              "#7201a8"
             ],
             [
              0.3333333333333333,
              "#9c179e"
             ],
             [
              0.4444444444444444,
              "#bd3786"
             ],
             [
              0.5555555555555556,
              "#d8576b"
             ],
             [
              0.6666666666666666,
              "#ed7953"
             ],
             [
              0.7777777777777778,
              "#fb9f3a"
             ],
             [
              0.8888888888888888,
              "#fdca26"
             ],
             [
              1,
              "#f0f921"
             ]
            ],
            "type": "heatmap"
           }
          ],
          "heatmapgl": [
           {
            "colorbar": {
             "outlinewidth": 0,
             "ticks": ""
            },
            "colorscale": [
             [
              0,
              "#0d0887"
             ],
             [
              0.1111111111111111,
              "#46039f"
             ],
             [
              0.2222222222222222,
              "#7201a8"
             ],
             [
              0.3333333333333333,
              "#9c179e"
             ],
             [
              0.4444444444444444,
              "#bd3786"
             ],
             [
              0.5555555555555556,
              "#d8576b"
             ],
             [
              0.6666666666666666,
              "#ed7953"
             ],
             [
              0.7777777777777778,
              "#fb9f3a"
             ],
             [
              0.8888888888888888,
              "#fdca26"
             ],
             [
              1,
              "#f0f921"
             ]
            ],
            "type": "heatmapgl"
           }
          ],
          "histogram": [
           {
            "marker": {
             "pattern": {
              "fillmode": "overlay",
              "size": 10,
              "solidity": 0.2
             }
            },
            "type": "histogram"
           }
          ],
          "histogram2d": [
           {
            "colorbar": {
             "outlinewidth": 0,
             "ticks": ""
            },
            "colorscale": [
             [
              0,
              "#0d0887"
             ],
             [
              0.1111111111111111,
              "#46039f"
             ],
             [
              0.2222222222222222,
              "#7201a8"
             ],
             [
              0.3333333333333333,
              "#9c179e"
             ],
             [
              0.4444444444444444,
              "#bd3786"
             ],
             [
              0.5555555555555556,
              "#d8576b"
             ],
             [
              0.6666666666666666,
              "#ed7953"
             ],
             [
              0.7777777777777778,
              "#fb9f3a"
             ],
             [
              0.8888888888888888,
              "#fdca26"
             ],
             [
              1,
              "#f0f921"
             ]
            ],
            "type": "histogram2d"
           }
          ],
          "histogram2dcontour": [
           {
            "colorbar": {
             "outlinewidth": 0,
             "ticks": ""
            },
            "colorscale": [
             [
              0,
              "#0d0887"
             ],
             [
              0.1111111111111111,
              "#46039f"
             ],
             [
              0.2222222222222222,
              "#7201a8"
             ],
             [
              0.3333333333333333,
              "#9c179e"
             ],
             [
              0.4444444444444444,
              "#bd3786"
             ],
             [
              0.5555555555555556,
              "#d8576b"
             ],
             [
              0.6666666666666666,
              "#ed7953"
             ],
             [
              0.7777777777777778,
              "#fb9f3a"
             ],
             [
              0.8888888888888888,
              "#fdca26"
             ],
             [
              1,
              "#f0f921"
             ]
            ],
            "type": "histogram2dcontour"
           }
          ],
          "mesh3d": [
           {
            "colorbar": {
             "outlinewidth": 0,
             "ticks": ""
            },
            "type": "mesh3d"
           }
          ],
          "parcoords": [
           {
            "line": {
             "colorbar": {
              "outlinewidth": 0,
              "ticks": ""
             }
            },
            "type": "parcoords"
           }
          ],
          "pie": [
           {
            "automargin": true,
            "type": "pie"
           }
          ],
          "scatter": [
           {
            "fillpattern": {
             "fillmode": "overlay",
             "size": 10,
             "solidity": 0.2
            },
            "type": "scatter"
           }
          ],
          "scatter3d": [
           {
            "line": {
             "colorbar": {
              "outlinewidth": 0,
              "ticks": ""
             }
            },
            "marker": {
             "colorbar": {
              "outlinewidth": 0,
              "ticks": ""
             }
            },
            "type": "scatter3d"
           }
          ],
          "scattercarpet": [
           {
            "marker": {
             "colorbar": {
              "outlinewidth": 0,
              "ticks": ""
             }
            },
            "type": "scattercarpet"
           }
          ],
          "scattergeo": [
           {
            "marker": {
             "colorbar": {
              "outlinewidth": 0,
              "ticks": ""
             }
            },
            "type": "scattergeo"
           }
          ],
          "scattergl": [
           {
            "marker": {
             "colorbar": {
              "outlinewidth": 0,
              "ticks": ""
             }
            },
            "type": "scattergl"
           }
          ],
          "scattermapbox": [
           {
            "marker": {
             "colorbar": {
              "outlinewidth": 0,
              "ticks": ""
             }
            },
            "type": "scattermapbox"
           }
          ],
          "scatterpolar": [
           {
            "marker": {
             "colorbar": {
              "outlinewidth": 0,
              "ticks": ""
             }
            },
            "type": "scatterpolar"
           }
          ],
          "scatterpolargl": [
           {
            "marker": {
             "colorbar": {
              "outlinewidth": 0,
              "ticks": ""
             }
            },
            "type": "scatterpolargl"
           }
          ],
          "scatterternary": [
           {
            "marker": {
             "colorbar": {
              "outlinewidth": 0,
              "ticks": ""
             }
            },
            "type": "scatterternary"
           }
          ],
          "surface": [
           {
            "colorbar": {
             "outlinewidth": 0,
             "ticks": ""
            },
            "colorscale": [
             [
              0,
              "#0d0887"
             ],
             [
              0.1111111111111111,
              "#46039f"
             ],
             [
              0.2222222222222222,
              "#7201a8"
             ],
             [
              0.3333333333333333,
              "#9c179e"
             ],
             [
              0.4444444444444444,
              "#bd3786"
             ],
             [
              0.5555555555555556,
              "#d8576b"
             ],
             [
              0.6666666666666666,
              "#ed7953"
             ],
             [
              0.7777777777777778,
              "#fb9f3a"
             ],
             [
              0.8888888888888888,
              "#fdca26"
             ],
             [
              1,
              "#f0f921"
             ]
            ],
            "type": "surface"
           }
          ],
          "table": [
           {
            "cells": {
             "fill": {
              "color": "#EBF0F8"
             },
             "line": {
              "color": "white"
             }
            },
            "header": {
             "fill": {
              "color": "#C8D4E3"
             },
             "line": {
              "color": "white"
             }
            },
            "type": "table"
           }
          ]
         },
         "layout": {
          "annotationdefaults": {
           "arrowcolor": "#2a3f5f",
           "arrowhead": 0,
           "arrowwidth": 1
          },
          "autotypenumbers": "strict",
          "coloraxis": {
           "colorbar": {
            "outlinewidth": 0,
            "ticks": ""
           }
          },
          "colorscale": {
           "diverging": [
            [
             0,
             "#8e0152"
            ],
            [
             0.1,
             "#c51b7d"
            ],
            [
             0.2,
             "#de77ae"
            ],
            [
             0.3,
             "#f1b6da"
            ],
            [
             0.4,
             "#fde0ef"
            ],
            [
             0.5,
             "#f7f7f7"
            ],
            [
             0.6,
             "#e6f5d0"
            ],
            [
             0.7,
             "#b8e186"
            ],
            [
             0.8,
             "#7fbc41"
            ],
            [
             0.9,
             "#4d9221"
            ],
            [
             1,
             "#276419"
            ]
           ],
           "sequential": [
            [
             0,
             "#0d0887"
            ],
            [
             0.1111111111111111,
             "#46039f"
            ],
            [
             0.2222222222222222,
             "#7201a8"
            ],
            [
             0.3333333333333333,
             "#9c179e"
            ],
            [
             0.4444444444444444,
             "#bd3786"
            ],
            [
             0.5555555555555556,
             "#d8576b"
            ],
            [
             0.6666666666666666,
             "#ed7953"
            ],
            [
             0.7777777777777778,
             "#fb9f3a"
            ],
            [
             0.8888888888888888,
             "#fdca26"
            ],
            [
             1,
             "#f0f921"
            ]
           ],
           "sequentialminus": [
            [
             0,
             "#0d0887"
            ],
            [
             0.1111111111111111,
             "#46039f"
            ],
            [
             0.2222222222222222,
             "#7201a8"
            ],
            [
             0.3333333333333333,
             "#9c179e"
            ],
            [
             0.4444444444444444,
             "#bd3786"
            ],
            [
             0.5555555555555556,
             "#d8576b"
            ],
            [
             0.6666666666666666,
             "#ed7953"
            ],
            [
             0.7777777777777778,
             "#fb9f3a"
            ],
            [
             0.8888888888888888,
             "#fdca26"
            ],
            [
             1,
             "#f0f921"
            ]
           ]
          },
          "colorway": [
           "#636efa",
           "#EF553B",
           "#00cc96",
           "#ab63fa",
           "#FFA15A",
           "#19d3f3",
           "#FF6692",
           "#B6E880",
           "#FF97FF",
           "#FECB52"
          ],
          "font": {
           "color": "#2a3f5f"
          },
          "geo": {
           "bgcolor": "white",
           "lakecolor": "white",
           "landcolor": "#E5ECF6",
           "showlakes": true,
           "showland": true,
           "subunitcolor": "white"
          },
          "hoverlabel": {
           "align": "left"
          },
          "hovermode": "closest",
          "mapbox": {
           "style": "light"
          },
          "paper_bgcolor": "white",
          "plot_bgcolor": "#E5ECF6",
          "polar": {
           "angularaxis": {
            "gridcolor": "white",
            "linecolor": "white",
            "ticks": ""
           },
           "bgcolor": "#E5ECF6",
           "radialaxis": {
            "gridcolor": "white",
            "linecolor": "white",
            "ticks": ""
           }
          },
          "scene": {
           "xaxis": {
            "backgroundcolor": "#E5ECF6",
            "gridcolor": "white",
            "gridwidth": 2,
            "linecolor": "white",
            "showbackground": true,
            "ticks": "",
            "zerolinecolor": "white"
           },
           "yaxis": {
            "backgroundcolor": "#E5ECF6",
            "gridcolor": "white",
            "gridwidth": 2,
            "linecolor": "white",
            "showbackground": true,
            "ticks": "",
            "zerolinecolor": "white"
           },
           "zaxis": {
            "backgroundcolor": "#E5ECF6",
            "gridcolor": "white",
            "gridwidth": 2,
            "linecolor": "white",
            "showbackground": true,
            "ticks": "",
            "zerolinecolor": "white"
           }
          },
          "shapedefaults": {
           "line": {
            "color": "#2a3f5f"
           }
          },
          "ternary": {
           "aaxis": {
            "gridcolor": "white",
            "linecolor": "white",
            "ticks": ""
           },
           "baxis": {
            "gridcolor": "white",
            "linecolor": "white",
            "ticks": ""
           },
           "bgcolor": "#E5ECF6",
           "caxis": {
            "gridcolor": "white",
            "linecolor": "white",
            "ticks": ""
           }
          },
          "title": {
           "x": 0.05
          },
          "xaxis": {
           "automargin": true,
           "gridcolor": "white",
           "linecolor": "white",
           "ticks": "",
           "title": {
            "standoff": 15
           },
           "zerolinecolor": "white",
           "zerolinewidth": 2
          },
          "yaxis": {
           "automargin": true,
           "gridcolor": "white",
           "linecolor": "white",
           "ticks": "",
           "title": {
            "standoff": 15
           },
           "zerolinecolor": "white",
           "zerolinewidth": 2
          }
         }
        },
        "xaxis": {
         "anchor": "y",
         "autorange": true,
         "domain": [
          0,
          0.49
         ],
         "range": [
          260.62994492607794,
          318.4700611774377
         ],
         "title": {
          "text": "obs_t2m"
         },
         "type": "linear"
        },
        "xaxis2": {
         "anchor": "y2",
         "autorange": true,
         "domain": [
          0.51,
          1
         ],
         "matches": "x",
         "range": [
          260.62994492607794,
          318.4700611774377
         ],
         "title": {
          "text": "obs_t2m"
         },
         "type": "linear"
        },
        "yaxis": {
         "anchor": "x",
         "autorange": true,
         "domain": [
          0,
          1
         ],
         "range": [
          -0.7803864297982588,
          12.052090716135158
         ],
         "title": {
          "text": "value"
         },
         "type": "linear"
        },
        "yaxis2": {
         "anchor": "x2",
         "autorange": true,
         "domain": [
          0,
          1
         ],
         "matches": "y",
         "range": [
          -0.7803864297982588,
          12.052090716135158
         ],
         "showticklabels": false,
         "type": "linear"
        }
       }
      },
      "image/png": "[encoded data removed]",
      "text/html": [
       "<div>                            <div id=\"c5e81b09-9476-42a2-b684-8bf034beb2f1\" class=\"plotly-graph-div\" style=\"height:525px; width:100%;\"></div>            <script type=\"text/javascript\">                require([\"plotly\"], function(Plotly) {                    window.PLOTLYENV=window.PLOTLYENV || {};                                    if (document.getElementById(\"c5e81b09-9476-42a2-b684-8bf034beb2f1\")) {                    Plotly.newPlot(                        \"c5e81b09-9476-42a2-b684-8bf034beb2f1\",                        [{\"hovertemplate\":\"variable=model_t2m_crps\\u003cbr\\u003eobs_t2m=%{x}\\u003cbr\\u003evalue=%{y}\\u003cextra\\u003e\\u003c\\u002fextra\\u003e\",\"legendgroup\":\"\",\"marker\":{\"color\":\"#636efa\",\"opacity\":0.3,\"symbol\":\"circle\"},\"mode\":\"markers\",\"name\":\"\",\"showlegend\":false,\"x\":[285.95001220703125,283.75,285.95001220703125,297.04998779296875,297.04998779296875,283.1499938964844,283.75,290.95001220703125,295.3500061035156,300.95001220703125,302.04998779296875,302.54998779296875,305.3500061035156,304.25,307.04998779296875,308.1499938964844,308.75,309.25,305.95001220703125,302.54998779296875,298.75,305.3500061035156,308.75,305.95001220703125,308.1499938964844,308.75,308.75,302.04998779296875,303.75,303.75,294.25,293.1499938964844,288.75,290.95001220703125,293.1499938964844,287.04998779296875,274.25,278.75,275.95001220703125,273.75,270.3500061035156,273.1499938964844,275.95001220703125,276.45001220703125,290.95001220703125,292.04998779296875,290.3500061035156,292.04998779296875,293.1499938964844,293.75,295.95001220703125,297.54998779296875,297.04998779296875,299.8500061035156,299.8500061035156,300.95001220703125,305.3500061035156,304.25,298.1499938964844,309.8500061035156,309.8500061035156,304.8500061035156,310.3500061035156,306.45001220703125,306.45001220703125,304.8500061035156,305.95001220703125,298.1499938964844,285.95001220703125,286.45001220703125,293.1499938964844,295.95001220703125,288.1499938964844,284.8500061035156,283.1499938964844,283.1499938964844,276.45001220703125,274.8500061035156,284.25,283.1499938964844,280.95001220703125,290.3500061035156,270.95001220703125,271.45001220703125,285.3500061035156,280.3500061035156,288.1499938964844,294.8500061035156,290.3500061035156,289.8500061035156,299.8500061035156,303.75,304.8500061035156,304.25,302.54998779296875,297.04998779296875,299.25,300.3500061035156,301.45001220703125,301.45001220703125,302.04998779296875,311.45001220703125,312.04998779296875,310.95001220703125,310.3500061035156,309.25,292.54998779296875,296.45001220703125,298.1499938964844,295.95001220703125,292.54998779296875,294.25,283.1499938964844,277.54998779296875,268.75,268.1499938964844,272.04998779296875,269.25,266.4277648925781,264.25,273.75,273.75,278.75,279.8500061035156,283.75,288.75,297.54998779296875,297.03887939453125,300.3500061035156,292.04998779296875,300.3500061035156,295.95001220703125,298.75,292.03887939453125,297.04998779296875,303.75,300.95001220703125,300.95001220703125,309.25,310.3500061035156,309.2611083984375,307.54998779296875,307.54998779296875,303.75,304.8500061035156,303.1499938964844,294.25,296.45001220703125,298.1499938964844,293.1499938964844,294.25,293.75,270.95001220703125,274.8500061035156,277.03887939453125,272.54998779296875,276.45001220703125,280.95001220703125,268.1499938964844,272.53887939453125,269.8500061035156,277.04998779296875,271.45001220703125,273.1499938964844,297.54998779296875,292.04998779296875,290.95001220703125,295.95001220703125,297.53887939453125,292.04998779296875,297.1499938964844,295.95001220703125,300.95001220703125,302.04998779296875,303.1499938964844,303.75,304.1499938964844,303.75,303.1499938964844,300.3500061035156,304.25,305.3722229003906,301.45001220703125,301.45001220703125,303.1499938964844,301.45001220703125,300.95001220703125,302.03887939453125,298.1499938964844,294.8500061035156,300.95001220703125,281.45001220703125,283.1499938964844,278.75,278.75,279.8500061035156,275.3722229003906,274.25,269.8500061035156,275.3500061035156,280.3500061035156,272.1499938964844,280.95001220703125,274.25,277.54998779296875,282.54998779296875,279.25,284.8500061035156,298.1499938964844,299.8722229003906,289.1499938964844,295.95001220703125,302.04998779296875,301.45001220703125,305.3500061035156,292.03887939453125,298.75,300.3500061035156,300.95001220703125,297.54998779296875,303.75,305.95001220703125,306.4277648925781,308.1499938964844,304.25,304.25,299.25,294.8500061035156,294.2611083984375,299.25,293.1499938964844,290.95001220703125,286.45001220703125,293.75,284.8500061035156,275.3500061035156,286.45001220703125,284.25,287.04998779296875,278.1499938964844,284.8500061035156,282.53887939453125,285.95001220703125,270.95001220703125,266.45001220703125,271.45001220703125,291.45001220703125,286.45001220703125,288.1499938964844,296.45001220703125,290.95001220703125,303.75,303.75,300.95001220703125,300.95001220703125,303.1499938964844,296.1499938964844,300.3500061035156,300.3500061035156,295.95001220703125,301.45001220703125,307.54998779296875,305.95001220703125,299.25,301.45001220703125,302.54998779296875,301.45001220703125,299.8500061035156,295.95001220703125,297.04998779296875,295.95001220703125,287.54998779296875,281.45001220703125,276.45001220703125,282.04998779296875,281.45001220703125,283.75,290.3500061035156,288.7611083984375,293.1499938964844,274.1499938964844,274.1499938964844,274.25,294.8500061035156,295.3500061035156,290.95001220703125,283.1499938964844,290.3722229003906,287.54998779296875,297.04998779296875,300.3500061035156,301.45001220703125,299.25,291.4277648925781,299.25,307.54998779296875,308.1499938964844,308.1499938964844,305.95001220703125,307.04998779296875,307.04998779296875,303.75,303.1499938964844,304.25,303.75,298.75,300.3500061035156,291.45001220703125,290.95001220703125,291.45001220703125,292.04998779296875,273.75,273.1499938964844,283.1499938964844,289.25,285.95001220703125,283.1499938964844,282.04998779296875,284.2611083984375,293.75,286.45001220703125,283.75,282.54998779296875,290.95001220703125,290.95001220703125,295.3500061035156,287.04998779296875,294.8500061035156,303.1499938964844,303.1499938964844,303.75,293.1499938964844,299.8500061035156,303.1499938964844,306.45001220703125,307.04998779296875,309.25,308.75,299.8500061035156,298.75,299.25,297.54998779296875,300.3500061035156,300.95001220703125,293.75,290.3500061035156,289.25,293.75,293.75,291.45001220703125,269.25,274.8500061035156,283.1499938964844,287.04998779296875,283.1499938964844,273.1499938964844,277.54998779296875,275.9277648925781,268.1499938964844,295.9277648925781,291.1499938964844,289.1499938964844,298.1499938964844,292.54998779296875,292.03887939453125,293.7611083984375,295.9277648925781,296.4277648925781,297.54998779296875,298.75,296.1499938964844,296.1499938964844,293.1499938964844,294.8722229003906,304.2611083984375,302.53887939453125,303.1499938964844,304.2611083984375,304.8722229003906,304.2611083984375,301.4277648925781,301.4277648925781,302.53887939453125,297.03887939453125,300.9277648925781,299.2611083984375,288.1499938964844,289.8722229003906,291.4277648925781,276.4277648925781,280.3722229003906,278.7611083984375,273.7611083984375,273.1499938964844,266.4277648925781,273.1499938964844,273.7611083984375,269.8722229003906,289.8722229003906,271.4277648925781,279.8722229003906,284.2611083984375,284.8722229003906,290.9277648925781,295.9277648925781,297.03887939453125,298.7611083984375,299.2611083984375,295.9277648925781,299.8722229003906,304.2611083984375,300.3722229003906,299.8722229003906,303.7611083984375,299.8722229003906,301.4277648925781,302.03887939453125,301.4277648925781,303.1499938964844,302.03887939453125,304.8722229003906,307.53887939453125,299.8722229003906,301.4277648925781,302.53887939453125,298.7611083984375,299.8722229003906,298.7611083984375,283.7611083984375,289.2611083984375,292.03887939453125,279.8500061035156,277.04998779296875,277.53887939453125,293.75,272.04998779296875,276.45001220703125,280.3500061035156,272.53887939453125,275.9277648925781,274.8722229003906,275.9277648925781,281.4277648925781,274.8722229003906,284.8722229003906,287.53887939453125,293.7611083984375,293.1499938964844,286.4277648925781,290.3722229003906,299.2611083984375,304.2611083984375,305.9277648925781,304.2611083984375,302.53887939453125,299.1499938964844,303.1499938964844,305.3722229003906,299.8722229003906,298.1499938964844,299.8722229003906,303.7611083984375,298.1499938964844,300.3722229003906,297.53887939453125,295.3722229003906,294.2611083984375,296.4277648925781,298.7611083984375,290.9277648925781,289.8722229003906,284.1499938964844,279.2611083984375,288.7611083984375,277.03887939453125,279.2611083984375,271.4277648925781,270.9277648925781,276.4277648925781,274.1499938964844,270.3722229003906,267.53887939453125,269.8722229003906,266.1499938964844,267.53887939453125,287.54998779296875,293.1499938964844,298.1499938964844,298.75,294.8500061035156,289.8500061035156,297.04998779296875,303.1499938964844,303.1499938964844,295.1499938964844,299.8500061035156,304.25,305.95001220703125,303.1499938964844,304.25,303.75,308.1499938964844,307.54998779296875,300.3500061035156,300.95001220703125,302.04998779296875,303.75,303.75,299.8500061035156,291.45001220703125,293.1499938964844,296.45001220703125,286.45001220703125,287.04998779296875,290.95001220703125,284.8500061035156,275.95001220703125,274.25,270.95001220703125,274.8500061035156,288.1499938964844,267.54998779296875,269.25,288.1499938964844,275.95001220703125,277.54998779296875,281.45001220703125,280.3500061035156,298.1499938964844,294.8500061035156,282.54998779296875,297.04998779296875,296.45001220703125,303.75,302.04998779296875,302.54998779296875,303.75,302.54998779296875,304.25,309.25,307.04998779296875,308.1499938964844,311.45001220703125,305.95001220703125,305.95001220703125,310.95001220703125,294.8500061035156,298.1499938964844,302.04998779296875,285.95001220703125,287.04998779296875,284.8500061035156,278.1499938964844,277.54998779296875,280.95001220703125,280.3500061035156,278.75,279.25,280.95001220703125,287.04998779296875,277.04998779296875,276.45001220703125,282.04998779296875,288.1499938964844,298.1499938964844,298.1499938964844,297.54998779296875,295.95001220703125,298.1499938964844,299.8500061035156,302.54998779296875,305.95001220703125,305.3500061035156,302.04998779296875,294.25,289.25,310.95001220703125,310.95001220703125,309.8500061035156,314.8500061035156,314.8500061035156,314.8500061035156,303.1499938964844,305.95001220703125,305.3500061035156,306.45001220703125,307.04998779296875,303.75,297.54998779296875,294.8500061035156,297.04998779296875,283.75,287.04998779296875,292.54998779296875,283.75,289.25,285.3500061035156,272.04998779296875,273.75,269.25,278.75,274.25,268.1499938964844,294.8500061035156,278.1499938964844,272.04998779296875,292.54998779296875,293.1499938964844,294.8500061035156,299.8500061035156,299.25,289.25,298.75,298.1499938964844,297.04998779296875,298.75,298.75,295.3500061035156,307.04998779296875,307.04998779296875,304.25,299.8500061035156,300.3500061035156,301.45001220703125,304.25,303.75,304.25,305.95001220703125,307.04998779296875,307.54998779296875,302.54998779296875,300.95001220703125,291.45001220703125,291.45001220703125,293.1499938964844,292.04998779296875,279.8500061035156,280.95001220703125,281.45001220703125,276.45001220703125,279.8500061035156,282.04998779296875,271.45001220703125,279.8500061035156,267.54998779296875,268.1499938964844,279.25,280.3500061035156,285.95001220703125,290.3500061035156,295.95001220703125,282.54998779296875,286.45001220703125,290.95001220703125,297.04998779296875,301.45001220703125,303.1499938964844,299.8500061035156,299.8500061035156,300.95001220703125,300.3500061035156,295.3500061035156,303.1499938964844,303.1499938964844,293.75,299.8500061035156,305.3500061035156,305.3500061035156,296.45001220703125,299.8500061035156,304.25,306.45001220703125,298.1499938964844,298.75,299.25,289.25,288.1499938964844,289.25,285.95001220703125,288.1499938964844,271.45001220703125,278.1499938964844,270.3500061035156,275.3500061035156,264.8500061035156,265.3500061035156,272.04998779296875],\"xaxis\":\"x\",\"y\":[0.7911843657493591,0.6338881254196167,1.9833875894546509,0.5415534973144531,1.0143226385116577,2.254507541656494,0.45141100883483887,0.5400905013084412,0.4093811511993408,0.3963940739631653,0.28969788551330566,1.554917335510254,0.8165906667709351,1.3921259641647339,1.594529390335083,0.24132895469665527,1.428079605102539,0.5540450811386108,0.6813700199127197,0.7627005577087402,1.1097620725631714,0.5791890621185303,0.48900508880615234,3.3313074111938477,1.5142427682876587,1.7620391845703125,1.5564517974853516,0.18837696313858032,1.0294911861419678,1.0971777439117432,0.31770122051239014,0.5874547958374023,0.6484009027481079,0.7698582410812378,0.7463904619216919,2.226881742477417,0.9882334470748901,1.1202340126037598,1.9294568300247192,2.024740695953369,0.5435794591903687,0.5042808055877686,0.3071286678314209,0.49039947986602783,1.438521385192871,0.5744982957839966,1.1787962913513184,0.434207558631897,0.3565756678581238,0.6027449369430542,0.35043883323669434,0.3383612036705017,0.5309613943099976,0.42336928844451904,0.9789817333221436,0.4310293197631836,0.5087966918945312,0.8203728199005127,0.9661141633987427,0.5448336005210876,0.9151809811592102,1.1328744888305664,0.6921577453613281,1.0391292572021484,0.36856406927108765,0.7839587926864624,0.38400018215179443,1.6045706272125244,0.6236485242843628,1.0869808197021484,0.5616700649261475,0.44962459802627563,1.4954472780227661,1.6030497550964355,1.3578567504882812,0.862228274345398,0.5460667610168457,0.40559661388397217,1.031665325164795,1.2862112522125244,0.40753257274627686,2.8393139839172363,1.5987038612365723,1.0994503498077393,0.51256263256073,0.439739465713501,0.39806175231933594,0.5265120267868042,1.3430713415145874,0.6914945840835571,0.29903292655944824,1.231701135635376,0.3736322522163391,0.5509026050567627,0.9630125761032104,0.5462870597839355,0.4266202449798584,0.5788049697875977,0.45040643215179443,0.3440796136856079,0.36806541681289673,1.603212594985962,1.8336437940597534,0.9428615570068359,1.0817195177078247,0.8986379504203796,0.35110822319984436,0.9534217119216919,1.7634177207946777,2.0616366863250732,0.2830403447151184,1.5620737075805664,1.3025370836257935,0.40034663677215576,0.3196007013320923,0.8640040159225464,2.678652286529541,0.4835754632949829,0.3280395269393921,1.9277617931365967,0.9072394371032715,1.088844656944275,1.00437331199646,0.885035514831543,0.6271377801895142,0.8912299871444702,0.3971047103404999,0.9486746788024902,0.37451767921447754,4.388602256774902,1.6248729228973389,0.8763711452484131,0.7602572441101074,1.1250989437103271,0.7108805179595947,0.8450359106063843,0.6138041019439697,0.7275909185409546,1.921069622039795,2.462540864944458,1.8730137348175049,1.0076417922973633,1.6565498113632202,0.45792657136917114,2.2002036571502686,0.3292124271392822,0.21609282493591309,0.37645983695983887,1.9508625268936157,0.45578253269195557,1.4411990642547607,1.30973219871521,0.6083008050918579,0.39892852306365967,1.425675868988037,0.52754807472229,0.807401180267334,3.197112560272217,0.3600560426712036,1.4617536067962646,0.41707682609558105,5.668564796447754,4.38060998916626,1.3836616277694702,0.7481899261474609,2.7477035522460938,3.2500109672546387,0.3934800624847412,0.6218500137329102,1.23555326461792,0.6962612867355347,1.3025635480880737,2.9675731658935547,0.6403958797454834,0.31727170944213867,0.998379111289978,0.48909544944763184,0.4418555498123169,0.46136152744293213,3.177327871322632,1.2805569171905518,1.0257694721221924,1.3882687091827393,1.1096577644348145,0.46580934524536133,0.8746902942657471,1.3914092779159546,1.3788409233093262,0.3755548596382141,1.7762924432754517,0.5085398554801941,0.572848916053772,0.6602517366409302,0.3745471239089966,0.4358227252960205,2.3033509254455566,0.869078516960144,0.39289575815200806,2.3504672050476074,4.022515296936035,0.48666930198669434,0.5564010143280029,0.5551810264587402,0.6084730625152588,1.1511414051055908,0.2933526039123535,0.28400254249572754,0.8618484735488892,0.7731401920318604,1.224757432937622,1.368675947189331,1.2394593954086304,0.38449013233184814,0.5882288813591003,0.5488097667694092,1.5727542638778687,4.671919822692871,0.7451168298721313,0.8866403698921204,1.679558515548706,0.33476537466049194,0.6778674125671387,0.5332642793655396,1.2465683221817017,0.5950995683670044,0.4668400287628174,0.5805667638778687,0.5581793785095215,0.6503720283508301,0.4969775676727295,1.04005765914917,0.3246777057647705,0.3519008159637451,0.7079002857208252,5.65119743347168,0.5231277942657471,1.0529277324676514,0.8093546628952026,1.0830568075180054,0.47158437967300415,0.6316839456558228,0.632367730140686,0.6111314296722412,2.5619399547576904,5.727611541748047,0.6992330551147461,0.4887320399284363,1.6315276622772217,0.3467806577682495,0.5550967454910278,1.5889073610305786,1.1856305599212646,1.2323479652404785,0.85322105884552,2.18418288230896,1.1816823482513428,1.0962467193603516,0.6645679473876953,0.5006719827651978,1.2137746810913086,0.41840362548828125,0.3405005931854248,0.4735393524169922,0.9183225631713867,0.6396230459213257,0.21727365255355835,1.6238070726394653,1.0957146883010864,0.6906698942184448,0.45102381706237793,0.5832383632659912,0.3857182264328003,0.6525899171829224,2.2038767337799072,2.623896360397339,0.3732307553291321,0.4342697858810425,0.5200252532958984,0.6066861152648926,2.488560676574707,0.6061980724334717,1.4927915334701538,1.1652510166168213,1.4644489288330078,0.8695948123931885,0.4311075210571289,0.5003434419631958,0.24091887474060059,2.6411266326904297,0.6847724914550781,0.3058927059173584,3.511744499206543,0.47428178787231445,2.3907063007354736,0.7951762676239014,0.420897901058197,0.4926542043685913,1.0419927835464478,1.4187310934066772,0.21157726645469666,0.7191667556762695,1.3718680143356323,3.1781225204467773,0.9730920791625977,0.4336351156234741,0.4830310344696045,1.1300098896026611,0.5508127212524414,0.2879602313041687,0.4410400390625,0.43183666467666626,0.39167511463165283,0.6190634965896606,1.3863301277160645,2.0585780143737793,1.9311878681182861,0.44944262504577637,1.034134864807129,0.4464104175567627,3.19990873336792,0.5592902898788452,0.5504621267318726,0.7647525072097778,0.3119744062423706,1.3305076360702515,0.5948898792266846,0.4417818784713745,0.6482139825820923,0.716066837310791,1.8344881534576416,1.1089788675308228,3.7977447509765625,0.736398458480835,0.23075246810913086,0.20704472064971924,0.1865115463733673,1.8146216869354248,0.3595958948135376,0.9526913166046143,0.8312079906463623,0.82813560962677,0.2844141125679016,0.4055122137069702,0.7173628807067871,0.6534305810928345,0.9797772765159607,0.5396397113800049,0.3253908157348633,1.1700962781906128,0.33291226625442505,1.304246425628662,1.1952400207519531,0.3632042407989502,2.6941068172454834,0.476391077041626,1.0943905115127563,1.7581830024719238,0.7725905179977417,0.404742956161499,0.7354329824447632,0.5741562843322754,1.098204255104065,0.6969881057739258,1.6532320976257324,0.8157806396484375,0.4913485050201416,0.6127974987030029,0.42330896854400635,2.5512428283691406,0.3816401958465576,0.8838847875595093,1.7446155548095703,1.0354413986206055,0.9732213020324707,2.019000291824341,0.7941690683364868,0.9768401384353638,0.25056755542755127,0.2581769824028015,0.2887689471244812,1.0225450992584229,0.7384074926376343,0.3108762502670288,0.4514636993408203,0.7642961144447327,0.48800843954086304,0.541873574256897,0.27710163593292236,0.41567957401275635,1.3371168375015259,0.9379439353942871,0.47890400886535645,0.8732389211654663,0.44622695446014404,2.9064526557922363,0.507866621017456,0.34748172760009766,0.4596683382987976,1.2374309301376343,0.2960621118545532,0.37336742877960205,1.1740753650665283,1.5739706754684448,1.7356302738189697,2.079775094985962,0.3330423831939697,0.4824056625366211,0.5966619253158569,1.8171260356903076,2.1665782928466797,0.5533144474029541,1.7961081266403198,0.7723771333694458,1.0426816940307617,1.1149797439575195,0.3554845452308655,3.5649254322052,1.277456521987915,2.6260037422180176,0.2836046814918518,0.3013784885406494,1.4775458574295044,1.499983549118042,1.3205679655075073,0.5071783065795898,0.2307295799255371,0.31677448749542236,0.4636954069137573,0.39530396461486816,2.1702933311462402,0.312813401222229,0.9126120805740356,0.4082787036895752,0.8659564256668091,2.5521492958068848,1.6546881198883057,1.0533807277679443,1.4314424991607666,0.41630637645721436,1.9443340301513672,0.9137971997261047,0.41908228397369385,1.604398488998413,1.0603402853012085,1.9980485439300537,0.45960474014282227,1.4902880191802979,1.3007228374481201,0.7220501899719238,0.4465383291244507,0.5884679555892944,2.438904285430908,0.6586514115333557,1.5712988376617432,2.7572202682495117,4.390495300292969,0.3276479244232178,0.4581327438354492,0.6834040880203247,0.653212308883667,1.0275193452835083,1.212578535079956,0.6436258554458618,0.9834768772125244,0.9331283569335938,0.6647917032241821,2.151885509490967,0.325481116771698,2.1972639560699463,0.7148081064224243,0.40378087759017944,1.8333688974380493,1.8354249000549316,0.4057590365409851,0.5782150626182556,0.44274401664733887,0.6004692316055298,0.6459178328514099,1.6867115497589111,0.35246002674102783,0.42153680324554443,2.087261438369751,0.4644821882247925,1.5576536655426025,1.271407127380371,0.23636499047279358,1.0808911323547363,2.11923885345459,0.5225875377655029,0.5618886351585388,0.805220365524292,4.516029357910156,0.7883572578430176,0.8129222393035889,3.35459566116333,0.8189729452133179,1.4763599634170532,3.247405529022217,1.003882884979248,0.45410674810409546,3.0085842609405518,1.6566529273986816,0.5340592861175537,0.43168437480926514,1.0270256996154785,1.469879388809204,1.049736499786377,0.3275604248046875,2.027783155441284,1.0094025135040283,0.48436522483825684,0.6553997993469238,0.36202478408813477,0.4387103319168091,0.4702320098876953,0.6312288045883179,0.9711034893989563,0.6214475631713867,0.39379310607910156,0.39447736740112305,0.38516783714294434,0.994246244430542,0.49067413806915283,0.5085723400115967,0.6880719661712646,4.255345344543457,0.5797300338745117,2.5748322010040283,0.662527322769165,1.3190840482711792,2.1689517498016357,1.293458104133606,4.850494384765625,0.5887272357940674,0.4165198802947998,0.2851563096046448,0.5856330394744873,0.6283738613128662,0.975609540939331,0.8363645076751709,0.42079687118530273,0.525855302810669,1.8721671104431152,0.8571291565895081,2.092813491821289,0.5550664663314819,1.0667102336883545,0.29441940784454346,0.33897650241851807,0.4778149127960205,0.3786851763725281,0.8402657508850098,0.5089852809906006,0.4038330912590027,0.44586896896362305,0.5982663631439209,2.133270025253296,0.6072155237197876,0.4455420970916748,0.5512776374816895,0.6069034337997437,0.4364577531814575,0.5091387629508972,1.2455222606658936,0.6625274419784546,0.4364347457885742,0.4329913258552551,2.0671894550323486,2.2628753185272217,0.36667144298553467,0.2891744375228882,1.7217998504638672,1.4438390731811523,1.04607355594635,1.1418077945709229,2.34978985786438,0.2596561014652252,0.18397283554077148,0.2711794972419739,2.212873697280884,2.2636260986328125,2.830580711364746,0.3438570499420166,1.0355138778686523,0.6077160835266113,0.9133104681968689,0.750055730342865,0.734112024307251,0.44005823135375977,0.5141817331314087,2.2310268878936768,0.4508891701698303,0.5856339931488037,3.2903079986572266,2.1346960067749023,0.6844354867935181,1.1823883056640625,2.000309705734253,0.5849378108978271,0.35523664951324463,1.8684383630752563,0.9333391189575195,0.7806535959243774,1.5919026136398315,1.1465253829956055,3.218857526779175,0.5189480781555176,0.4654974937438965,0.4239441156387329,0.5151256918907166,0.27646493911743164,3.3356781005859375,2.804143190383911,1.272810459136963,0.7568811178207397,1.2360692024230957,1.2146739959716797,0.6233751773834229,1.1694395542144775,0.9051649570465088,0.32430869340896606,0.757436990737915,1.1323318481445312,1.0092054605484009,0.3148273229598999,0.5706949234008789,0.8437952995300293,0.37525486946105957,0.6055505871772766,0.5289868116378784,0.44141316413879395,1.4993462562561035,1.405053973197937,0.7659682035446167,1.1605539321899414,0.443148136138916,1.7582197189331055,0.6604773998260498,0.6059155464172363,0.7728242874145508,1.0741186141967773,0.4961445927619934,0.4107668399810791,0.7455803155899048,1.7900464534759521,0.8390954732894897,1.612881064414978,1.0200783014297485,1.2843272686004639,0.4536474943161011,0.6172041296958923,0.32972025871276855,0.4717082977294922,2.51164174079895,0.9695837497711182,0.43280959129333496,1.2070181369781494,0.4823892116546631,0.561793327331543,0.6370499730110168,0.7232237458229065,2.161409854888916,1.4056017398834229,0.6154284477233887,1.1805204153060913,0.43926072120666504,0.5539357662200928,0.5385454893112183,2.0585250854492188,0.5188519954681396,0.23344647884368896,0.5968049764633179,0.23948577046394348,0.2621654272079468,0.32102978229522705,0.5044956207275391,0.3807140588760376,0.3895190954208374,0.3602526783943176,0.6346713304519653,5.170426845550537,0.4816572666168213,0.8415215015411377,1.6326805353164673,0.3536359667778015,1.787824034690857,0.4669255018234253],\"yaxis\":\"y\",\"type\":\"scattergl\"},{\"hovertemplate\":\"variable=raw_t2m_crps\\u003cbr\\u003eobs_t2m=%{x}\\u003cbr\\u003evalue=%{y}\\u003cextra\\u003e\\u003c\\u002fextra\\u003e\",\"legendgroup\":\"\",\"marker\":{\"color\":\"#636efa\",\"opacity\":0.3,\"symbol\":\"circle\"},\"mode\":\"markers\",\"name\":\"\",\"showlegend\":false,\"x\":[285.95001220703125,283.75,285.95001220703125,297.04998779296875,297.04998779296875,283.1499938964844,283.75,290.95001220703125,295.3500061035156,300.95001220703125,302.04998779296875,302.54998779296875,305.3500061035156,304.25,307.04998779296875,308.1499938964844,308.75,309.25,305.95001220703125,302.54998779296875,298.75,305.3500061035156,308.75,305.95001220703125,308.1499938964844,308.75,308.75,302.04998779296875,303.75,303.75,294.25,293.1499938964844,288.75,290.95001220703125,293.1499938964844,287.04998779296875,274.25,278.75,275.95001220703125,273.75,270.3500061035156,273.1499938964844,275.95001220703125,276.45001220703125,290.95001220703125,292.04998779296875,290.3500061035156,292.04998779296875,293.1499938964844,293.75,295.95001220703125,297.54998779296875,297.04998779296875,299.8500061035156,299.8500061035156,300.95001220703125,305.3500061035156,304.25,298.1499938964844,309.8500061035156,309.8500061035156,304.8500061035156,310.3500061035156,306.45001220703125,306.45001220703125,304.8500061035156,305.95001220703125,298.1499938964844,285.95001220703125,286.45001220703125,293.1499938964844,295.95001220703125,288.1499938964844,284.8500061035156,283.1499938964844,283.1499938964844,276.45001220703125,274.8500061035156,284.25,283.1499938964844,280.95001220703125,290.3500061035156,270.95001220703125,271.45001220703125,285.3500061035156,280.3500061035156,288.1499938964844,294.8500061035156,290.3500061035156,289.8500061035156,299.8500061035156,303.75,304.8500061035156,304.25,302.54998779296875,297.04998779296875,299.25,300.3500061035156,301.45001220703125,301.45001220703125,302.04998779296875,311.45001220703125,312.04998779296875,310.95001220703125,310.3500061035156,309.25,292.54998779296875,296.45001220703125,298.1499938964844,295.95001220703125,292.54998779296875,294.25,283.1499938964844,277.54998779296875,268.75,268.1499938964844,272.04998779296875,269.25,266.4277648925781,264.25,273.75,273.75,278.75,279.8500061035156,283.75,288.75,297.54998779296875,297.03887939453125,300.3500061035156,292.04998779296875,300.3500061035156,295.95001220703125,298.75,292.03887939453125,297.04998779296875,303.75,300.95001220703125,300.95001220703125,309.25,310.3500061035156,309.2611083984375,307.54998779296875,307.54998779296875,303.75,304.8500061035156,303.1499938964844,294.25,296.45001220703125,298.1499938964844,293.1499938964844,294.25,293.75,270.95001220703125,274.8500061035156,277.03887939453125,272.54998779296875,276.45001220703125,280.95001220703125,268.1499938964844,272.53887939453125,269.8500061035156,277.04998779296875,271.45001220703125,273.1499938964844,297.54998779296875,292.04998779296875,290.95001220703125,295.95001220703125,297.53887939453125,292.04998779296875,297.1499938964844,295.95001220703125,300.95001220703125,302.04998779296875,303.1499938964844,303.75,304.1499938964844,303.75,303.1499938964844,300.3500061035156,304.25,305.3722229003906,301.45001220703125,301.45001220703125,303.1499938964844,301.45001220703125,300.95001220703125,302.03887939453125,298.1499938964844,294.8500061035156,300.95001220703125,281.45001220703125,283.1499938964844,278.75,278.75,279.8500061035156,275.3722229003906,274.25,269.8500061035156,275.3500061035156,280.3500061035156,272.1499938964844,280.95001220703125,274.25,277.54998779296875,282.54998779296875,279.25,284.8500061035156,298.1499938964844,299.8722229003906,289.1499938964844,295.95001220703125,302.04998779296875,301.45001220703125,305.3500061035156,292.03887939453125,298.75,300.3500061035156,300.95001220703125,297.54998779296875,303.75,305.95001220703125,306.4277648925781,308.1499938964844,304.25,304.25,299.25,294.8500061035156,294.2611083984375,299.25,293.1499938964844,290.95001220703125,286.45001220703125,293.75,284.8500061035156,275.3500061035156,286.45001220703125,284.25,287.04998779296875,278.1499938964844,284.8500061035156,282.53887939453125,285.95001220703125,270.95001220703125,266.45001220703125,271.45001220703125,291.45001220703125,286.45001220703125,288.1499938964844,296.45001220703125,290.95001220703125,303.75,303.75,300.95001220703125,300.95001220703125,303.1499938964844,296.1499938964844,300.3500061035156,300.3500061035156,295.95001220703125,301.45001220703125,307.54998779296875,305.95001220703125,299.25,301.45001220703125,302.54998779296875,301.45001220703125,299.8500061035156,295.95001220703125,297.04998779296875,295.95001220703125,287.54998779296875,281.45001220703125,276.45001220703125,282.04998779296875,281.45001220703125,283.75,290.3500061035156,288.7611083984375,293.1499938964844,274.1499938964844,274.1499938964844,274.25,294.8500061035156,295.3500061035156,290.95001220703125,283.1499938964844,290.3722229003906,287.54998779296875,297.04998779296875,300.3500061035156,301.45001220703125,299.25,291.4277648925781,299.25,307.54998779296875,308.1499938964844,308.1499938964844,305.95001220703125,307.04998779296875,307.04998779296875,303.75,303.1499938964844,304.25,303.75,298.75,300.3500061035156,291.45001220703125,290.95001220703125,291.45001220703125,292.04998779296875,273.75,273.1499938964844,283.1499938964844,289.25,285.95001220703125,283.1499938964844,282.04998779296875,284.2611083984375,293.75,286.45001220703125,283.75,282.54998779296875,290.95001220703125,290.95001220703125,295.3500061035156,287.04998779296875,294.8500061035156,303.1499938964844,303.1499938964844,303.75,293.1499938964844,299.8500061035156,303.1499938964844,306.45001220703125,307.04998779296875,309.25,308.75,299.8500061035156,298.75,299.25,297.54998779296875,300.3500061035156,300.95001220703125,293.75,290.3500061035156,289.25,293.75,293.75,291.45001220703125,269.25,274.8500061035156,283.1499938964844,287.04998779296875,283.1499938964844,273.1499938964844,277.54998779296875,275.9277648925781,268.1499938964844,295.9277648925781,291.1499938964844,289.1499938964844,298.1499938964844,292.54998779296875,292.03887939453125,293.7611083984375,295.9277648925781,296.4277648925781,297.54998779296875,298.75,296.1499938964844,296.1499938964844,293.1499938964844,294.8722229003906,304.2611083984375,302.53887939453125,303.1499938964844,304.2611083984375,304.8722229003906,304.2611083984375,301.4277648925781,301.4277648925781,302.53887939453125,297.03887939453125,300.9277648925781,299.2611083984375,288.1499938964844,289.8722229003906,291.4277648925781,276.4277648925781,280.3722229003906,278.7611083984375,273.7611083984375,273.1499938964844,266.4277648925781,273.1499938964844,273.7611083984375,269.8722229003906,289.8722229003906,271.4277648925781,279.8722229003906,284.2611083984375,284.8722229003906,290.9277648925781,295.9277648925781,297.03887939453125,298.7611083984375,299.2611083984375,295.9277648925781,299.8722229003906,304.2611083984375,300.3722229003906,299.8722229003906,303.7611083984375,299.8722229003906,301.4277648925781,302.03887939453125,301.4277648925781,303.1499938964844,302.03887939453125,304.8722229003906,307.53887939453125,299.8722229003906,301.4277648925781,302.53887939453125,298.7611083984375,299.8722229003906,298.7611083984375,283.7611083984375,289.2611083984375,292.03887939453125,279.8500061035156,277.04998779296875,277.53887939453125,293.75,272.04998779296875,276.45001220703125,280.3500061035156,272.53887939453125,275.9277648925781,274.8722229003906,275.9277648925781,281.4277648925781,274.8722229003906,284.8722229003906,287.53887939453125,293.7611083984375,293.1499938964844,286.4277648925781,290.3722229003906,299.2611083984375,304.2611083984375,305.9277648925781,304.2611083984375,302.53887939453125,299.1499938964844,303.1499938964844,305.3722229003906,299.8722229003906,298.1499938964844,299.8722229003906,303.7611083984375,298.1499938964844,300.3722229003906,297.53887939453125,295.3722229003906,294.2611083984375,296.4277648925781,298.7611083984375,290.9277648925781,289.8722229003906,284.1499938964844,279.2611083984375,288.7611083984375,277.03887939453125,279.2611083984375,271.4277648925781,270.9277648925781,276.4277648925781,274.1499938964844,270.3722229003906,267.53887939453125,269.8722229003906,266.1499938964844,267.53887939453125,287.54998779296875,293.1499938964844,298.1499938964844,298.75,294.8500061035156,289.8500061035156,297.04998779296875,303.1499938964844,303.1499938964844,295.1499938964844,299.8500061035156,304.25,305.95001220703125,303.1499938964844,304.25,303.75,308.1499938964844,307.54998779296875,300.3500061035156,300.95001220703125,302.04998779296875,303.75,303.75,299.8500061035156,291.45001220703125,293.1499938964844,296.45001220703125,286.45001220703125,287.04998779296875,290.95001220703125,284.8500061035156,275.95001220703125,274.25,270.95001220703125,274.8500061035156,288.1499938964844,267.54998779296875,269.25,288.1499938964844,275.95001220703125,277.54998779296875,281.45001220703125,280.3500061035156,298.1499938964844,294.8500061035156,282.54998779296875,297.04998779296875,296.45001220703125,303.75,302.04998779296875,302.54998779296875,303.75,302.54998779296875,304.25,309.25,307.04998779296875,308.1499938964844,311.45001220703125,305.95001220703125,305.95001220703125,310.95001220703125,294.8500061035156,298.1499938964844,302.04998779296875,285.95001220703125,287.04998779296875,284.8500061035156,278.1499938964844,277.54998779296875,280.95001220703125,280.3500061035156,278.75,279.25,280.95001220703125,287.04998779296875,277.04998779296875,276.45001220703125,282.04998779296875,288.1499938964844,298.1499938964844,298.1499938964844,297.54998779296875,295.95001220703125,298.1499938964844,299.8500061035156,302.54998779296875,305.95001220703125,305.3500061035156,302.04998779296875,294.25,289.25,310.95001220703125,310.95001220703125,309.8500061035156,314.8500061035156,314.8500061035156,314.8500061035156,303.1499938964844,305.95001220703125,305.3500061035156,306.45001220703125,307.04998779296875,303.75,297.54998779296875,294.8500061035156,297.04998779296875,283.75,287.04998779296875,292.54998779296875,283.75,289.25,285.3500061035156,272.04998779296875,273.75,269.25,278.75,274.25,268.1499938964844,294.8500061035156,278.1499938964844,272.04998779296875,292.54998779296875,293.1499938964844,294.8500061035156,299.8500061035156,299.25,289.25,298.75,298.1499938964844,297.04998779296875,298.75,298.75,295.3500061035156,307.04998779296875,307.04998779296875,304.25,299.8500061035156,300.3500061035156,301.45001220703125,304.25,303.75,304.25,305.95001220703125,307.04998779296875,307.54998779296875,302.54998779296875,300.95001220703125,291.45001220703125,291.45001220703125,293.1499938964844,292.04998779296875,279.8500061035156,280.95001220703125,281.45001220703125,276.45001220703125,279.8500061035156,282.04998779296875,271.45001220703125,279.8500061035156,267.54998779296875,268.1499938964844,279.25,280.3500061035156,285.95001220703125,290.3500061035156,295.95001220703125,282.54998779296875,286.45001220703125,290.95001220703125,297.04998779296875,301.45001220703125,303.1499938964844,299.8500061035156,299.8500061035156,300.95001220703125,300.3500061035156,295.3500061035156,303.1499938964844,303.1499938964844,293.75,299.8500061035156,305.3500061035156,305.3500061035156,296.45001220703125,299.8500061035156,304.25,306.45001220703125,298.1499938964844,298.75,299.25,289.25,288.1499938964844,289.25,285.95001220703125,288.1499938964844,271.45001220703125,278.1499938964844,270.3500061035156,275.3500061035156,264.8500061035156,265.3500061035156,272.04998779296875],\"xaxis\":\"x2\",\"y\":[0.12280212342739105,1.6166492700576782,3.1058132648468018,0.18816068768501282,2.515437364578247,4.605836868286133,0.4294479489326477,1.4222314357757568,0.9344158172607422,0.584641695022583,0.09794861078262329,2.4891021251678467,1.2382237911224365,1.513317584991455,1.6949167251586914,0.518761932849884,0.6570373773574829,0.3792477250099182,1.02089262008667,1.558854103088379,2.828986644744873,2.079465627670288,0.4028763175010681,3.339155435562134,1.2193996906280518,0.7375836372375488,0.4022705554962158,0.3300594985485077,1.7099406719207764,2.0272085666656494,0.7829910516738892,0.6086342930793762,0.7906100153923035,1.0422576665878296,0.7325986623764038,3.5557239055633545,1.880854606628418,3.0764622688293457,2.132059097290039,3.0339345932006836,0.5511913299560547,0.8668719530105591,0.18334534764289856,1.2807061672210693,2.0439789295196533,2.890368700027466,0.16138213872909546,0.1995333731174469,0.9664270877838135,1.7067190408706665,0.2614837884902954,1.0390359163284302,0.3810683488845825,0.6532589197158813,1.094742774963379,0.41269439458847046,0.7889310121536255,1.2665174007415771,0.7266187071800232,0.26495420932769775,0.27983492612838745,1.336424469947815,0.4457305669784546,1.9432802200317383,0.4754180908203125,0.5235776305198669,1.0163791179656982,2.2976791858673096,1.629862904548645,0.5339340567588806,2.004173755645752,0.26875820755958557,0.9474819898605347,1.0551538467407227,3.812790632247925,0.5816769599914551,2.8832547664642334,0.6352865695953369,3.008368492126465,0.2792923152446747,0.9591034054756165,2.992377758026123,3.40097713470459,4.137792587280273,0.33987244963645935,1.0248024463653564,1.146240234375,1.0907111167907715,1.9629485607147217,1.1231111288070679,0.19084474444389343,2.0095107555389404,0.22391876578330994,1.7468950748443604,1.7612642049789429,0.6701763868331909,0.6565842032432556,1.425524353981018,0.2095993161201477,0.2899664640426636,0.2646212875843048,0.2717288136482239,0.49682867527008057,0.4053424596786499,0.3257620334625244,0.269400030374527,0.667923629283905,2.556493043899536,2.237071990966797,2.365460157394409,0.2949303984642029,2.8857035636901855,0.14933377504348755,1.3779504299163818,0.33621519804000854,0.4120694100856781,1.7645107507705688,0.27737393975257874,0.2950100898742676,1.123891830444336,0.21198150515556335,0.45497772097587585,0.5888037085533142,1.601228952407837,0.35208678245544434,2.0453624725341797,1.1583346128463745,1.1824665069580078,0.4920312464237213,8.387953758239746,1.955867886543274,0.6243820190429688,0.34610140323638916,0.4912753105163574,0.43639183044433594,0.7985802888870239,0.3300415277481079,0.4633176326751709,3.1063477993011475,1.4551730155944824,0.5243865847587585,0.42367249727249146,0.4752822518348694,0.5884063839912415,1.50054931640625,0.2594241201877594,0.24045595526695251,1.2247891426086426,3.407104969024658,0.12688690423965454,1.9940840005874634,1.6380023956298828,0.35009706020355225,0.4175216555595398,1.6574816703796387,1.545595645904541,2.0916223526000977,2.7002105712890625,1.239166259765625,1.388991117477417,0.18221738934516907,11.191731452941895,8.802801132202148,0.2862628698348999,0.21984222531318665,2.340062141418457,4.125566482543945,0.25348418951034546,0.5322304964065552,2.1731064319610596,0.24171173572540283,1.9099929332733154,4.656455993652344,0.7881441712379456,0.6200238466262817,1.4189140796661377,0.3928096890449524,0.5123885869979858,0.44914183020591736,2.8459668159484863,1.7523627281188965,2.1680798530578613,3.1284632682800293,2.047373056411743,0.9969210624694824,0.7008325457572937,2.763486385345459,2.7000041007995605,0.8317127227783203,1.0468716621398926,0.4869723320007324,1.8791749477386475,1.7169238328933716,1.0114545822143555,2.374445915222168,2.500175714492798,0.9101145267486572,0.15236085653305054,3.2800674438476562,4.30588436126709,0.886519193649292,1.7602386474609375,2.19747257232666,0.28725436329841614,1.1966955661773682,0.18930907547473907,0.31455111503601074,2.4837098121643066,2.217489242553711,1.2967263460159302,2.8160223960876465,1.3698748350143433,1.416454792022705,0.3341463804244995,0.4700033664703369,2.0603067874908447,4.267261505126953,1.0197757482528687,1.4672061204910278,3.6283202171325684,0.9551059007644653,0.348052978515625,1.8715760707855225,0.11014191806316376,1.7740931510925293,0.7609169483184814,1.6995339393615723,1.5074777603149414,1.118782877922058,1.663964033126831,1.1474945545196533,0.184340238571167,1.6997185945510864,0.717222273349762,7.36054801940918,1.010615587234497,1.050703763961792,1.1455291509628296,0.5922674536705017,0.7857739925384521,0.2832135260105133,0.9319338798522949,0.37227994203567505,4.920819282531738,7.405445098876953,0.7824978828430176,0.7299563884735107,0.22708070278167725,1.6376798152923584,0.20488585531711578,1.8040945529937744,0.9799329042434692,0.7177225351333618,0.62384033203125,0.856360137462616,0.10470549762248993,1.3076508045196533,1.496221899986267,0.36233365535736084,1.0676648616790771,0.7450031042098999,0.42521756887435913,0.8981170654296875,0.555429995059967,0.3927847743034363,0.36351868510246277,0.6803915500640869,0.42934781312942505,2.3051979541778564,0.17980742454528809,0.48214077949523926,0.2978585958480835,0.24007904529571533,0.8783755302429199,4.27023983001709,0.4821130633354187,0.23449647426605225,0.35650816559791565,0.8753371834754944,3.014219045639038,0.6724624633789062,2.0848476886749268,1.9291198253631592,1.5512176752090454,1.4051339626312256,0.6800649166107178,2.8982529640197754,0.14109131693840027,2.8137099742889404,0.36047637462615967,0.951898455619812,3.2438626289367676,0.5851262807846069,3.350843906402588,1.2255442142486572,0.45958101749420166,1.9337360858917236,2.980721950531006,0.3206247091293335,1.016055941581726,0.44872188568115234,1.0188605785369873,2.8136682510375977,0.7521477937698364,0.21412718296051025,0.6645793914794922,1.9961614608764648,1.067108392715454,0.11903472244739532,0.17286071181297302,0.2618231177330017,0.29368653893470764,0.9968087673187256,1.4414901733398438,1.2194024324417114,1.5540810823440552,0.24436157941818237,0.35693758726119995,0.25920993089675903,3.3227643966674805,0.14156250655651093,0.4977620840072632,2.659470558166504,0.17082947492599487,1.1774078607559204,0.9935007095336914,0.9790050983428955,0.7256274223327637,2.311549186706543,1.679746150970459,0.7487555146217346,7.146368503570557,0.7589172124862671,0.4839550256729126,1.1311324834823608,1.3925652503967285,0.32006099820137024,1.9418883323669434,4.973675727844238,0.5251846313476562,1.3075729608535767,0.4157155752182007,1.0666571855545044,0.2036685049533844,2.694689989089966,0.5496594309806824,2.31608510017395,0.21826931834220886,0.618015706539154,1.2613317966461182,3.698911666870117,2.3298568725585938,0.12485381960868835,2.5680954456329346,0.7380843758583069,2.264832019805908,2.5793004035949707,0.3289056420326233,0.1433233618736267,1.285937786102295,0.1680462658405304,1.2092962265014648,0.7637896537780762,2.050358295440674,0.6678903102874756,0.1568487286567688,0.3730163276195526,0.11073394119739532,3.8632566928863525,0.6090313196182251,0.7906966805458069,1.0808911323547363,2.2862653732299805,1.2882921695709229,1.7591699361801147,1.061567783355713,1.0511261224746704,0.6137170791625977,0.4334777891635895,0.31182926893234253,0.427034854888916,0.7843625545501709,0.41051506996154785,0.19905850291252136,2.0965962409973145,0.4296099543571472,0.3956402540206909,0.9999765157699585,0.15303650498390198,3.615485668182373,0.9410353899002075,1.4125514030456543,0.21652740240097046,0.635894775390625,4.544778823852539,1.3248186111450195,0.4586978554725647,0.7903479337692261,3.3753182888031006,0.555647611618042,0.6952553987503052,1.911641240119934,2.438277244567871,1.8649722337722778,3.337073802947998,0.3450714349746704,0.23018920421600342,0.16362762451171875,2.10819935798645,2.785471200942993,0.9877752661705017,1.4954569339752197,0.8099954128265381,3.508359909057617,1.337526559829712,0.40868496894836426,0.4327075481414795,0.9807773232460022,2.1436944007873535,0.7599154710769653,0.7982437014579773,0.28278350830078125,2.8082845211029053,1.8707387447357178,1.1994245052337646,0.569496750831604,1.0300155878067017,0.32201749086380005,0.43262478709220886,4.683828353881836,0.1908615231513977,0.1475360095500946,1.2063782215118408,0.2757754325866699,2.1644222736358643,3.0573065280914307,0.7413164973258972,3.634082555770874,0.19368195533752441,1.4430056810379028,0.24069884419441223,2.6449973583221436,4.32025146484375,1.4553134441375732,0.9756035804748535,0.40456724166870117,2.4020228385925293,1.197444200515747,0.6418975591659546,1.5202916860580444,1.6349927186965942,2.878413200378418,0.27932310104370117,1.0340933799743652,2.495718002319336,7.946531772613525,0.7677251696586609,0.7691219449043274,0.8918978571891785,2.4067981243133545,2.0911855697631836,0.10661742091178894,1.4221972227096558,0.7839062213897705,0.358101487159729,1.518550157546997,3.398284435272217,0.21352297067642212,1.6929136514663696,0.3336450159549713,0.4970352351665497,3.1775479316711426,3.0525050163269043,0.15582305192947388,2.4864747524261475,0.4913809299468994,0.1847616732120514,1.0500433444976807,3.764685869216919,0.5004528760910034,0.14173460006713867,2.977104425430298,0.23506498336791992,2.246831178665161,0.3147158622741699,0.2084234654903412,3.2842257022857666,3.8495032787323,2.3092260360717773,0.3639093041419983,1.44419527053833,5.841618537902832,0.5108075141906738,0.22539183497428894,6.28994083404541,0.9595944881439209,0.7995163202285767,2.1375999450683594,1.8236708641052246,1.2819170951843262,2.9995365142822266,1.0347812175750732,0.6789865493774414,1.5464168787002563,2.129750967025757,3.0013890266418457,0.41687655448913574,0.8473257422447205,3.8733677864074707,0.7303887605667114,1.8668076992034912,1.7053042650222778,0.7845983505249023,0.5525698661804199,0.6204663515090942,0.23576873540878296,2.3881959915161133,1.707942247390747,0.14021117985248566,0.2128438949584961,1.3806207180023193,3.9031057357788086,0.30872800946235657,0.28301575779914856,0.31472256779670715,5.826150417327881,0.6969546675682068,3.6031951904296875,0.2076193392276764,1.0978354215621948,2.096525192260742,3.8077197074890137,7.49051570892334,1.1845500469207764,1.120499849319458,0.36280369758605957,0.8528808951377869,4.158326625823975,2.828411102294922,3.121875286102295,1.7666280269622803,1.5143277645111084,0.45733213424682617,2.6206724643707275,3.6603736877441406,1.0196161270141602,2.9835519790649414,0.405539870262146,0.42481786012649536,0.9305688142776489,0.15166440606117249,1.0154635906219482,0.753684401512146,0.43649962544441223,0.21511933207511902,0.09206360578536987,3.458911895751953,1.8408904075622559,1.5715746879577637,0.39587438106536865,0.9566210508346558,1.10846745967865,0.1455135941505432,2.2409794330596924,1.3374590873718262,0.3960046172142029,0.7317107915878296,3.255690097808838,2.424915075302124,0.3790704607963562,1.4878262281417847,0.8410826921463013,0.924893856048584,0.26801180839538574,1.3296566009521484,2.4601545333862305,0.8553155064582825,1.8407694101333618,1.6694267988204956,0.21423983573913574,0.4000833034515381,0.9423104524612427,0.24105195701122284,2.6852867603302,1.2631036043167114,0.404058575630188,0.8622745275497437,0.8866977691650391,1.4017654657363892,0.30347776412963867,1.6524896621704102,0.07997283339500427,1.0731689929962158,4.009666919708252,2.4966683387756348,1.474898338317871,1.6981940269470215,1.6250252723693848,0.9805954098701477,0.7064074873924255,1.207749605178833,0.20460325479507446,1.135608434677124,1.2538684606552124,4.326773643493652,3.6612014770507812,0.17177215218544006,0.4665020704269409,1.3882219791412354,1.1461889743804932,0.5444977283477783,4.6826677322387695,4.33875846862793,1.538831114768982,0.46824800968170166,3.092092514038086,1.4049944877624512,1.3409359455108643,3.764695644378662,1.6143767833709717,0.7609817385673523,0.20382383465766907,0.9809775352478027,0.2616375684738159,0.09022460877895355,0.6288949847221375,1.0068590641021729,0.6014159917831421,0.7346593737602234,1.539306640625,0.9305252432823181,2.2605438232421875,1.313069462776184,0.45670804381370544,1.5566554069519043,0.17388734221458435,1.8364890813827515,1.3997002840042114,0.6548827886581421,0.08529815077781677,2.907935619354248,1.171346664428711,1.0065664052963257,1.30460786819458,3.525508403778076,2.1010100841522217,3.0607500076293945,0.6948437690734863,1.991342306137085,2.716613531112671,2.1956703662872314,1.3595566749572754,0.30785247683525085,1.8377392292022705,2.095259666442871,0.5001678466796875,1.1897884607315063,0.25081145763397217,0.8829281330108643,1.0117359161376953,2.786001682281494,2.1496517658233643,2.7065203189849854,0.8292608261108398,0.09487488865852356,0.527292788028717,2.8003745079040527,2.423797607421875,7.684260845184326,1.6375758647918701,0.6551296710968018,0.6263369917869568,0.33836305141448975,0.44910186529159546,0.574945330619812,0.7936397790908813,0.19811002910137177,0.6835418343544006,0.6615289449691772,0.6925368905067444,7.179897308349609,2.149083375930786,2.3586227893829346,2.571211814880371,0.6392325162887573,2.8864033222198486,0.7943187952041626],\"yaxis\":\"y2\",\"type\":\"scattergl\"}],                        {\"template\":{\"data\":{\"histogram2dcontour\":[{\"type\":\"histogram2dcontour\",\"colorbar\":{\"outlinewidth\":0,\"ticks\":\"\"},\"colorscale\":[[0.0,\"#0d0887\"],[0.1111111111111111,\"#46039f\"],[0.2222222222222222,\"#7201a8\"],[0.3333333333333333,\"#9c179e\"],[0.4444444444444444,\"#bd3786\"],[0.5555555555555556,\"#d8576b\"],[0.6666666666666666,\"#ed7953\"],[0.7777777777777778,\"#fb9f3a\"],[0.8888888888888888,\"#fdca26\"],[1.0,\"#f0f921\"]]}],\"choropleth\":[{\"type\":\"choropleth\",\"colorbar\":{\"outlinewidth\":0,\"ticks\":\"\"}}],\"histogram2d\":[{\"type\":\"histogram2d\",\"colorbar\":{\"outlinewidth\":0,\"ticks\":\"\"},\"colorscale\":[[0.0,\"#0d0887\"],[0.1111111111111111,\"#46039f\"],[0.2222222222222222,\"#7201a8\"],[0.3333333333333333,\"#9c179e\"],[0.4444444444444444,\"#bd3786\"],[0.5555555555555556,\"#d8576b\"],[0.6666666666666666,\"#ed7953\"],[0.7777777777777778,\"#fb9f3a\"],[0.8888888888888888,\"#fdca26\"],[1.0,\"#f0f921\"]]}],\"heatmap\":[{\"type\":\"heatmap\",\"colorbar\":{\"outlinewidth\":0,\"ticks\":\"\"},\"colorscale\":[[0.0,\"#0d0887\"],[0.1111111111111111,\"#46039f\"],[0.2222222222222222,\"#7201a8\"],[0.3333333333333333,\"#9c179e\"],[0.4444444444444444,\"#bd3786\"],[0.5555555555555556,\"#d8576b\"],[0.6666666666666666,\"#ed7953\"],[0.7777777777777778,\"#fb9f3a\"],[0.8888888888888888,\"#fdca26\"],[1.0,\"#f0f921\"]]}],\"heatmapgl\":[{\"type\":\"heatmapgl\",\"colorbar\":{\"outlinewidth\":0,\"ticks\":\"\"},\"colorscale\":[[0.0,\"#0d0887\"],[0.1111111111111111,\"#46039f\"],[0.2222222222222222,\"#7201a8\"],[0.3333333333333333,\"#9c179e\"],[0.4444444444444444,\"#bd3786\"],[0.5555555555555556,\"#d8576b\"],[0.6666666666666666,\"#ed7953\"],[0.7777777777777778,\"#fb9f3a\"],[0.8888888888888888,\"#fdca26\"],[1.0,\"#f0f921\"]]}],\"contourcarpet\":[{\"type\":\"contourcarpet\",\"colorbar\":{\"outlinewidth\":0,\"ticks\":\"\"}}],\"contour\":[{\"type\":\"contour\",\"colorbar\":{\"outlinewidth\":0,\"ticks\":\"\"},\"colorscale\":[[0.0,\"#0d0887\"],[0.1111111111111111,\"#46039f\"],[0.2222222222222222,\"#7201a8\"],[0.3333333333333333,\"#9c179e\"],[0.4444444444444444,\"#bd3786\"],[0.5555555555555556,\"#d8576b\"],[0.6666666666666666,\"#ed7953\"],[0.7777777777777778,\"#fb9f3a\"],[0.8888888888888888,\"#fdca26\"],[1.0,\"#f0f921\"]]}],\"surface\":[{\"type\":\"surface\",\"colorbar\":{\"outlinewidth\":0,\"ticks\":\"\"},\"colorscale\":[[0.0,\"#0d0887\"],[0.1111111111111111,\"#46039f\"],[0.2222222222222222,\"#7201a8\"],[0.3333333333333333,\"#9c179e\"],[0.4444444444444444,\"#bd3786\"],[0.5555555555555556,\"#d8576b\"],[0.6666666666666666,\"#ed7953\"],[0.7777777777777778,\"#fb9f3a\"],[0.8888888888888888,\"#fdca26\"],[1.0,\"#f0f921\"]]}],\"mesh3d\":[{\"type\":\"mesh3d\",\"colorbar\":{\"outlinewidth\":0,\"ticks\":\"\"}}],\"scatter\":[{\"fillpattern\":{\"fillmode\":\"overlay\",\"size\":10,\"solidity\":0.2},\"type\":\"scatter\"}],\"parcoords\":[{\"type\":\"parcoords\",\"line\":{\"colorbar\":{\"outlinewidth\":0,\"ticks\":\"\"}}}],\"scatterpolargl\":[{\"type\":\"scatterpolargl\",\"marker\":{\"colorbar\":{\"outlinewidth\":0,\"ticks\":\"\"}}}],\"bar\":[{\"error_x\":{\"color\":\"#2a3f5f\"},\"error_y\":{\"color\":\"#2a3f5f\"},\"marker\":{\"line\":{\"color\":\"#E5ECF6\",\"width\":0.5},\"pattern\":{\"fillmode\":\"overlay\",\"size\":10,\"solidity\":0.2}},\"type\":\"bar\"}],\"scattergeo\":[{\"type\":\"scattergeo\",\"marker\":{\"colorbar\":{\"outlinewidth\":0,\"ticks\":\"\"}}}],\"scatterpolar\":[{\"type\":\"scatterpolar\",\"marker\":{\"colorbar\":{\"outlinewidth\":0,\"ticks\":\"\"}}}],\"histogram\":[{\"marker\":{\"pattern\":{\"fillmode\":\"overlay\",\"size\":10,\"solidity\":0.2}},\"type\":\"histogram\"}],\"scattergl\":[{\"type\":\"scattergl\",\"marker\":{\"colorbar\":{\"outlinewidth\":0,\"ticks\":\"\"}}}],\"scatter3d\":[{\"type\":\"scatter3d\",\"line\":{\"colorbar\":{\"outlinewidth\":0,\"ticks\":\"\"}},\"marker\":{\"colorbar\":{\"outlinewidth\":0,\"ticks\":\"\"}}}],\"scattermapbox\":[{\"type\":\"scattermapbox\",\"marker\":{\"colorbar\":{\"outlinewidth\":0,\"ticks\":\"\"}}}],\"scatterternary\":[{\"type\":\"scatterternary\",\"marker\":{\"colorbar\":{\"outlinewidth\":0,\"ticks\":\"\"}}}],\"scattercarpet\":[{\"type\":\"scattercarpet\",\"marker\":{\"colorbar\":{\"outlinewidth\":0,\"ticks\":\"\"}}}],\"carpet\":[{\"aaxis\":{\"endlinecolor\":\"#2a3f5f\",\"gridcolor\":\"white\",\"linecolor\":\"white\",\"minorgridcolor\":\"white\",\"startlinecolor\":\"#2a3f5f\"},\"baxis\":{\"endlinecolor\":\"#2a3f5f\",\"gridcolor\":\"white\",\"linecolor\":\"white\",\"minorgridcolor\":\"white\",\"startlinecolor\":\"#2a3f5f\"},\"type\":\"carpet\"}],\"table\":[{\"cells\":{\"fill\":{\"color\":\"#EBF0F8\"},\"line\":{\"color\":\"white\"}},\"header\":{\"fill\":{\"color\":\"#C8D4E3\"},\"line\":{\"color\":\"white\"}},\"type\":\"table\"}],\"barpolar\":[{\"marker\":{\"line\":{\"color\":\"#E5ECF6\",\"width\":0.5},\"pattern\":{\"fillmode\":\"overlay\",\"size\":10,\"solidity\":0.2}},\"type\":\"barpolar\"}],\"pie\":[{\"automargin\":true,\"type\":\"pie\"}]},\"layout\":{\"autotypenumbers\":\"strict\",\"colorway\":[\"#636efa\",\"#EF553B\",\"#00cc96\",\"#ab63fa\",\"#FFA15A\",\"#19d3f3\",\"#FF6692\",\"#B6E880\",\"#FF97FF\",\"#FECB52\"],\"font\":{\"color\":\"#2a3f5f\"},\"hovermode\":\"closest\",\"hoverlabel\":{\"align\":\"left\"},\"paper_bgcolor\":\"white\",\"plot_bgcolor\":\"#E5ECF6\",\"polar\":{\"bgcolor\":\"#E5ECF6\",\"angularaxis\":{\"gridcolor\":\"white\",\"linecolor\":\"white\",\"ticks\":\"\"},\"radialaxis\":{\"gridcolor\":\"white\",\"linecolor\":\"white\",\"ticks\":\"\"}},\"ternary\":{\"bgcolor\":\"#E5ECF6\",\"aaxis\":{\"gridcolor\":\"white\",\"linecolor\":\"white\",\"ticks\":\"\"},\"baxis\":{\"gridcolor\":\"white\",\"linecolor\":\"white\",\"ticks\":\"\"},\"caxis\":{\"gridcolor\":\"white\",\"linecolor\":\"white\",\"ticks\":\"\"}},\"coloraxis\":{\"colorbar\":{\"outlinewidth\":0,\"ticks\":\"\"}},\"colorscale\":{\"sequential\":[[0.0,\"#0d0887\"],[0.1111111111111111,\"#46039f\"],[0.2222222222222222,\"#7201a8\"],[0.3333333333333333,\"#9c179e\"],[0.4444444444444444,\"#bd3786\"],[0.5555555555555556,\"#d8576b\"],[0.6666666666666666,\"#ed7953\"],[0.7777777777777778,\"#fb9f3a\"],[0.8888888888888888,\"#fdca26\"],[1.0,\"#f0f921\"]],\"sequentialminus\":[[0.0,\"#0d0887\"],[0.1111111111111111,\"#46039f\"],[0.2222222222222222,\"#7201a8\"],[0.3333333333333333,\"#9c179e\"],[0.4444444444444444,\"#bd3786\"],[0.5555555555555556,\"#d8576b\"],[0.6666666666666666,\"#ed7953\"],[0.7777777777777778,\"#fb9f3a\"],[0.8888888888888888,\"#fdca26\"],[1.0,\"#f0f921\"]],\"diverging\":[[0,\"#8e0152\"],[0.1,\"#c51b7d\"],[0.2,\"#de77ae\"],[0.3,\"#f1b6da\"],[0.4,\"#fde0ef\"],[0.5,\"#f7f7f7\"],[0.6,\"#e6f5d0\"],[0.7,\"#b8e186\"],[0.8,\"#7fbc41\"],[0.9,\"#4d9221\"],[1,\"#276419\"]]},\"xaxis\":{\"gridcolor\":\"white\",\"linecolor\":\"white\",\"ticks\":\"\",\"title\":{\"standoff\":15},\"zerolinecolor\":\"white\",\"automargin\":true,\"zerolinewidth\":2},\"yaxis\":{\"gridcolor\":\"white\",\"linecolor\":\"white\",\"ticks\":\"\",\"title\":{\"standoff\":15},\"zerolinecolor\":\"white\",\"automargin\":true,\"zerolinewidth\":2},\"scene\":{\"xaxis\":{\"backgroundcolor\":\"#E5ECF6\",\"gridcolor\":\"white\",\"linecolor\":\"white\",\"showbackground\":true,\"ticks\":\"\",\"zerolinecolor\":\"white\",\"gridwidth\":2},\"yaxis\":{\"backgroundcolor\":\"#E5ECF6\",\"gridcolor\":\"white\",\"linecolor\":\"white\",\"showbackground\":true,\"ticks\":\"\",\"zerolinecolor\":\"white\",\"gridwidth\":2},\"zaxis\":{\"backgroundcolor\":\"#E5ECF6\",\"gridcolor\":\"white\",\"linecolor\":\"white\",\"showbackground\":true,\"ticks\":\"\",\"zerolinecolor\":\"white\",\"gridwidth\":2}},\"shapedefaults\":{\"line\":{\"color\":\"#2a3f5f\"}},\"annotationdefaults\":{\"arrowcolor\":\"#2a3f5f\",\"arrowhead\":0,\"arrowwidth\":1},\"geo\":{\"bgcolor\":\"white\",\"landcolor\":\"#E5ECF6\",\"subunitcolor\":\"white\",\"showland\":true,\"showlakes\":true,\"lakecolor\":\"white\"},\"title\":{\"x\":0.05},\"mapbox\":{\"style\":\"light\"}}},\"xaxis\":{\"anchor\":\"y\",\"domain\":[0.0,0.49],\"title\":{\"text\":\"obs_t2m\"}},\"yaxis\":{\"anchor\":\"x\",\"domain\":[0.0,1.0],\"title\":{\"text\":\"value\"}},\"xaxis2\":{\"anchor\":\"y2\",\"domain\":[0.51,1.0],\"matches\":\"x\",\"title\":{\"text\":\"obs_t2m\"}},\"yaxis2\":{\"anchor\":\"x2\",\"domain\":[0.0,1.0],\"matches\":\"y\",\"showticklabels\":false},\"annotations\":[{\"font\":{},\"showarrow\":false,\"text\":\"variable=model_t2m_crps\",\"x\":0.245,\"xanchor\":\"center\",\"xref\":\"paper\",\"y\":1.0,\"yanchor\":\"bottom\",\"yref\":\"paper\"},{\"font\":{},\"showarrow\":false,\"text\":\"variable=raw_t2m_crps\",\"x\":0.755,\"xanchor\":\"center\",\"xref\":\"paper\",\"y\":1.0,\"yanchor\":\"bottom\",\"yref\":\"paper\"}],\"legend\":{\"tracegroupgap\":0},\"margin\":{\"t\":60}},                        {\"responsive\": true}                    ).then(function(){\n",
       "                            \n",
       "var gd = document.getElementById('c5e81b09-9476-42a2-b684-8bf034beb2f1');\n",
       "var x = new MutationObserver(function (mutations, observer) {{\n",
       "        var display = window.getComputedStyle(gd).display;\n",
       "        if (!display || display === 'none') {{\n",
       "            console.log([gd, 'removed!']);\n",
       "            Plotly.purge(gd);\n",
       "            observer.disconnect();\n",
       "        }}\n",
       "}});\n",
       "\n",
       "// Listen for the removal of the full notebook cells\n",
       "var notebookContainer = gd.closest('#notebook-container');\n",
       "if (notebookContainer) {{\n",
       "    x.observe(notebookContainer, {childList: true});\n",
       "}}\n",
       "\n",
       "// Listen for the clearing of the current output cell\n",
       "var outputEl = gd.closest('.output');\n",
       "if (outputEl) {{\n",
       "    x.observe(outputEl, {childList: true});\n",
       "}}\n",
       "\n",
       "                        })                };                });            </script>        </div>"
      ]
     },
     "metadata": {},
     "output_type": "display_data"
    }
   ],
   "source": [
    "px.scatter(data_frame=wld_melt, x='obs_t2m', y='value', facet_col='variable', opacity=0.3)"
   ]
  },
  {
   "cell_type": "code",
   "execution_count": 171,
   "id": "840b7772-aa88-490d-9f0b-b7718a5f23d0",
   "metadata": {
    "tags": []
   },
   "outputs": [],
   "source": [
    "\n",
    "VALUE_VARS = ['model_t2m_crps', 'raw_t2m_crps']"
   ]
  },
  {
   "cell_type": "code",
   "execution_count": 174,
   "id": "72f6f76c-2c4b-45bc-9606-5e0b1e7a6b50",
   "metadata": {
    "tags": []
   },
   "outputs": [],
   "source": [
    "by_step = t2m_crps_df.groupby('step').mean().reset_index().melt(id_vars=['step'], value_vars=VALUE_VARS)"
   ]
  },
  {
   "cell_type": "code",
   "execution_count": 176,
   "id": "a627a29a-305b-4e16-90c1-d8260716ff7d",
   "metadata": {
    "tags": []
   },
   "outputs": [
    {
     "data": {
      "application/vnd.plotly.v1+json": {
       "config": {
        "plotlyServerURL": "https://plot.ly"
       },
       "data": [
        {
         "hovertemplate": "variable=model_t2m_crps<br>step=%{x}<br>value=%{y}<extra></extra>",
         "legendgroup": "model_t2m_crps",
         "line": {
          "color": "#636efa",
          "dash": "solid"
         },
         "marker": {
          "symbol": "circle"
         },
         "mode": "lines",
         "name": "model_t2m_crps",
         "orientation": "v",
         "showlegend": true,
         "type": "scatter",
         "x": [
          0,
          86400000000000,
          172800000000000
         ],
         "xaxis": "x",
         "y": [
          0.9680030941963196,
          1.0043127536773682,
          1.0908459424972534
         ],
         "yaxis": "y"
        },
        {
         "hovertemplate": "variable=raw_t2m_crps<br>step=%{x}<br>value=%{y}<extra></extra>",
         "legendgroup": "raw_t2m_crps",
         "line": {
          "color": "#EF553B",
          "dash": "solid"
         },
         "marker": {
          "symbol": "circle"
         },
         "mode": "lines",
         "name": "raw_t2m_crps",
         "orientation": "v",
         "showlegend": true,
         "type": "scatter",
         "x": [
          0,
          86400000000000,
          172800000000000
         ],
         "xaxis": "x",
         "y": [
          1.8502347469329834,
          1.8603241443634033,
          1.904737949371338
         ],
         "yaxis": "y"
        }
       ],
       "layout": {
        "autosize": true,
        "legend": {
         "title": {
          "text": "variable"
         },
         "tracegroupgap": 0
        },
        "margin": {
         "t": 60
        },
        "template": {
         "data": {
          "bar": [
           {
            "error_x": {
             "color": "#2a3f5f"
            },
            "error_y": {
             "color": "#2a3f5f"
            },
            "marker": {
             "line": {
              "color": "#E5ECF6",
              "width": 0.5
             },
             "pattern": {
              "fillmode": "overlay",
              "size": 10,
              "solidity": 0.2
             }
            },
            "type": "bar"
           }
          ],
          "barpolar": [
           {
            "marker": {
             "line": {
              "color": "#E5ECF6",
              "width": 0.5
             },
             "pattern": {
              "fillmode": "overlay",
              "size": 10,
              "solidity": 0.2
             }
            },
            "type": "barpolar"
           }
          ],
          "carpet": [
           {
            "aaxis": {
             "endlinecolor": "#2a3f5f",
             "gridcolor": "white",
             "linecolor": "white",
             "minorgridcolor": "white",
             "startlinecolor": "#2a3f5f"
            },
            "baxis": {
             "endlinecolor": "#2a3f5f",
             "gridcolor": "white",
             "linecolor": "white",
             "minorgridcolor": "white",
             "startlinecolor": "#2a3f5f"
            },
            "type": "carpet"
           }
          ],
          "choropleth": [
           {
            "colorbar": {
             "outlinewidth": 0,
             "ticks": ""
            },
            "type": "choropleth"
           }
          ],
          "contour": [
           {
            "colorbar": {
             "outlinewidth": 0,
             "ticks": ""
            },
            "colorscale": [
             [
              0,
              "#0d0887"
             ],
             [
              0.1111111111111111,
              "#46039f"
             ],
             [
              0.2222222222222222,
              "#7201a8"
             ],
             [
              0.3333333333333333,
              "#9c179e"
             ],
             [
              0.4444444444444444,
              "#bd3786"
             ],
             [
              0.5555555555555556,
              "#d8576b"
             ],
             [
              0.6666666666666666,
              "#ed7953"
             ],
             [
              0.7777777777777778,
              "#fb9f3a"
             ],
             [
              0.8888888888888888,
              "#fdca26"
             ],
             [
              1,
              "#f0f921"
             ]
            ],
            "type": "contour"
           }
          ],
          "contourcarpet": [
           {
            "colorbar": {
             "outlinewidth": 0,
             "ticks": ""
            },
            "type": "contourcarpet"
           }
          ],
          "heatmap": [
           {
            "colorbar": {
             "outlinewidth": 0,
             "ticks": ""
            },
            "colorscale": [
             [
              0,
              "#0d0887"
             ],
             [
              0.1111111111111111,
              "#46039f"
             ],
             [
              0.2222222222222222,
              "#7201a8"
             ],
             [
              0.3333333333333333,
              "#9c179e"
             ],
             [
              0.4444444444444444,
              "#bd3786"
             ],
             [
              0.5555555555555556,
              "#d8576b"
             ],
             [
              0.6666666666666666,
              "#ed7953"
             ],
             [
              0.7777777777777778,
              "#fb9f3a"
             ],
             [
              0.8888888888888888,
              "#fdca26"
             ],
             [
              1,
              "#f0f921"
             ]
            ],
            "type": "heatmap"
           }
          ],
          "heatmapgl": [
           {
            "colorbar": {
             "outlinewidth": 0,
             "ticks": ""
            },
            "colorscale": [
             [
              0,
              "#0d0887"
             ],
             [
              0.1111111111111111,
              "#46039f"
             ],
             [
              0.2222222222222222,
              "#7201a8"
             ],
             [
              0.3333333333333333,
              "#9c179e"
             ],
             [
              0.4444444444444444,
              "#bd3786"
             ],
             [
              0.5555555555555556,
              "#d8576b"
             ],
             [
              0.6666666666666666,
              "#ed7953"
             ],
             [
              0.7777777777777778,
              "#fb9f3a"
             ],
             [
              0.8888888888888888,
              "#fdca26"
             ],
             [
              1,
              "#f0f921"
             ]
            ],
            "type": "heatmapgl"
           }
          ],
          "histogram": [
           {
            "marker": {
             "pattern": {
              "fillmode": "overlay",
              "size": 10,
              "solidity": 0.2
             }
            },
            "type": "histogram"
           }
          ],
          "histogram2d": [
           {
            "colorbar": {
             "outlinewidth": 0,
             "ticks": ""
            },
            "colorscale": [
             [
              0,
              "#0d0887"
             ],
             [
              0.1111111111111111,
              "#46039f"
             ],
             [
              0.2222222222222222,
              "#7201a8"
             ],
             [
              0.3333333333333333,
              "#9c179e"
             ],
             [
              0.4444444444444444,
              "#bd3786"
             ],
             [
              0.5555555555555556,
              "#d8576b"
             ],
             [
              0.6666666666666666,
              "#ed7953"
             ],
             [
              0.7777777777777778,
              "#fb9f3a"
             ],
             [
              0.8888888888888888,
              "#fdca26"
             ],
             [
              1,
              "#f0f921"
             ]
            ],
            "type": "histogram2d"
           }
          ],
          "histogram2dcontour": [
           {
            "colorbar": {
             "outlinewidth": 0,
             "ticks": ""
            },
            "colorscale": [
             [
              0,
              "#0d0887"
             ],
             [
              0.1111111111111111,
              "#46039f"
             ],
             [
              0.2222222222222222,
              "#7201a8"
             ],
             [
              0.3333333333333333,
              "#9c179e"
             ],
             [
              0.4444444444444444,
              "#bd3786"
             ],
             [
              0.5555555555555556,
              "#d8576b"
             ],
             [
              0.6666666666666666,
              "#ed7953"
             ],
             [
              0.7777777777777778,
              "#fb9f3a"
             ],
             [
              0.8888888888888888,
              "#fdca26"
             ],
             [
              1,
              "#f0f921"
             ]
            ],
            "type": "histogram2dcontour"
           }
          ],
          "mesh3d": [
           {
            "colorbar": {
             "outlinewidth": 0,
             "ticks": ""
            },
            "type": "mesh3d"
           }
          ],
          "parcoords": [
           {
            "line": {
             "colorbar": {
              "outlinewidth": 0,
              "ticks": ""
             }
            },
            "type": "parcoords"
           }
          ],
          "pie": [
           {
            "automargin": true,
            "type": "pie"
           }
          ],
          "scatter": [
           {
            "fillpattern": {
             "fillmode": "overlay",
             "size": 10,
             "solidity": 0.2
            },
            "type": "scatter"
           }
          ],
          "scatter3d": [
           {
            "line": {
             "colorbar": {
              "outlinewidth": 0,
              "ticks": ""
             }
            },
            "marker": {
             "colorbar": {
              "outlinewidth": 0,
              "ticks": ""
             }
            },
            "type": "scatter3d"
           }
          ],
          "scattercarpet": [
           {
            "marker": {
             "colorbar": {
              "outlinewidth": 0,
              "ticks": ""
             }
            },
            "type": "scattercarpet"
           }
          ],
          "scattergeo": [
           {
            "marker": {
             "colorbar": {
              "outlinewidth": 0,
              "ticks": ""
             }
            },
            "type": "scattergeo"
           }
          ],
          "scattergl": [
           {
            "marker": {
             "colorbar": {
              "outlinewidth": 0,
              "ticks": ""
             }
            },
            "type": "scattergl"
           }
          ],
          "scattermapbox": [
           {
            "marker": {
             "colorbar": {
              "outlinewidth": 0,
              "ticks": ""
             }
            },
            "type": "scattermapbox"
           }
          ],
          "scatterpolar": [
           {
            "marker": {
             "colorbar": {
              "outlinewidth": 0,
              "ticks": ""
             }
            },
            "type": "scatterpolar"
           }
          ],
          "scatterpolargl": [
           {
            "marker": {
             "colorbar": {
              "outlinewidth": 0,
              "ticks": ""
             }
            },
            "type": "scatterpolargl"
           }
          ],
          "scatterternary": [
           {
            "marker": {
             "colorbar": {
              "outlinewidth": 0,
              "ticks": ""
             }
            },
            "type": "scatterternary"
           }
          ],
          "surface": [
           {
            "colorbar": {
             "outlinewidth": 0,
             "ticks": ""
            },
            "colorscale": [
             [
              0,
              "#0d0887"
             ],
             [
              0.1111111111111111,
              "#46039f"
             ],
             [
              0.2222222222222222,
              "#7201a8"
             ],
             [
              0.3333333333333333,
              "#9c179e"
             ],
             [
              0.4444444444444444,
              "#bd3786"
             ],
             [
              0.5555555555555556,
              "#d8576b"
             ],
             [
              0.6666666666666666,
              "#ed7953"
             ],
             [
              0.7777777777777778,
              "#fb9f3a"
             ],
             [
              0.8888888888888888,
              "#fdca26"
             ],
             [
              1,
              "#f0f921"
             ]
            ],
            "type": "surface"
           }
          ],
          "table": [
           {
            "cells": {
             "fill": {
              "color": "#EBF0F8"
             },
             "line": {
              "color": "white"
             }
            },
            "header": {
             "fill": {
              "color": "#C8D4E3"
             },
             "line": {
              "color": "white"
             }
            },
            "type": "table"
           }
          ]
         },
         "layout": {
          "annotationdefaults": {
           "arrowcolor": "#2a3f5f",
           "arrowhead": 0,
           "arrowwidth": 1
          },
          "autotypenumbers": "strict",
          "coloraxis": {
           "colorbar": {
            "outlinewidth": 0,
            "ticks": ""
           }
          },
          "colorscale": {
           "diverging": [
            [
             0,
             "#8e0152"
            ],
            [
             0.1,
             "#c51b7d"
            ],
            [
             0.2,
             "#de77ae"
            ],
            [
             0.3,
             "#f1b6da"
            ],
            [
             0.4,
             "#fde0ef"
            ],
            [
             0.5,
             "#f7f7f7"
            ],
            [
             0.6,
             "#e6f5d0"
            ],
            [
             0.7,
             "#b8e186"
            ],
            [
             0.8,
             "#7fbc41"
            ],
            [
             0.9,
             "#4d9221"
            ],
            [
             1,
             "#276419"
            ]
           ],
           "sequential": [
            [
             0,
             "#0d0887"
            ],
            [
             0.1111111111111111,
             "#46039f"
            ],
            [
             0.2222222222222222,
             "#7201a8"
            ],
            [
             0.3333333333333333,
             "#9c179e"
            ],
            [
             0.4444444444444444,
             "#bd3786"
            ],
            [
             0.5555555555555556,
             "#d8576b"
            ],
            [
             0.6666666666666666,
             "#ed7953"
            ],
            [
             0.7777777777777778,
             "#fb9f3a"
            ],
            [
             0.8888888888888888,
             "#fdca26"
            ],
            [
             1,
             "#f0f921"
            ]
           ],
           "sequentialminus": [
            [
             0,
             "#0d0887"
            ],
            [
             0.1111111111111111,
             "#46039f"
            ],
            [
             0.2222222222222222,
             "#7201a8"
            ],
            [
             0.3333333333333333,
             "#9c179e"
            ],
            [
             0.4444444444444444,
             "#bd3786"
            ],
            [
             0.5555555555555556,
             "#d8576b"
            ],
            [
             0.6666666666666666,
             "#ed7953"
            ],
            [
             0.7777777777777778,
             "#fb9f3a"
            ],
            [
             0.8888888888888888,
             "#fdca26"
            ],
            [
             1,
             "#f0f921"
            ]
           ]
          },
          "colorway": [
           "#636efa",
           "#EF553B",
           "#00cc96",
           "#ab63fa",
           "#FFA15A",
           "#19d3f3",
           "#FF6692",
           "#B6E880",
           "#FF97FF",
           "#FECB52"
          ],
          "font": {
           "color": "#2a3f5f"
          },
          "geo": {
           "bgcolor": "white",
           "lakecolor": "white",
           "landcolor": "#E5ECF6",
           "showlakes": true,
           "showland": true,
           "subunitcolor": "white"
          },
          "hoverlabel": {
           "align": "left"
          },
          "hovermode": "closest",
          "mapbox": {
           "style": "light"
          },
          "paper_bgcolor": "white",
          "plot_bgcolor": "#E5ECF6",
          "polar": {
           "angularaxis": {
            "gridcolor": "white",
            "linecolor": "white",
            "ticks": ""
           },
           "bgcolor": "#E5ECF6",
           "radialaxis": {
            "gridcolor": "white",
            "linecolor": "white",
            "ticks": ""
           }
          },
          "scene": {
           "xaxis": {
            "backgroundcolor": "#E5ECF6",
            "gridcolor": "white",
            "gridwidth": 2,
            "linecolor": "white",
            "showbackground": true,
            "ticks": "",
            "zerolinecolor": "white"
           },
           "yaxis": {
            "backgroundcolor": "#E5ECF6",
            "gridcolor": "white",
            "gridwidth": 2,
            "linecolor": "white",
            "showbackground": true,
            "ticks": "",
            "zerolinecolor": "white"
           },
           "zaxis": {
            "backgroundcolor": "#E5ECF6",
            "gridcolor": "white",
            "gridwidth": 2,
            "linecolor": "white",
            "showbackground": true,
            "ticks": "",
            "zerolinecolor": "white"
           }
          },
          "shapedefaults": {
           "line": {
            "color": "#2a3f5f"
           }
          },
          "ternary": {
           "aaxis": {
            "gridcolor": "white",
            "linecolor": "white",
            "ticks": ""
           },
           "baxis": {
            "gridcolor": "white",
            "linecolor": "white",
            "ticks": ""
           },
           "bgcolor": "#E5ECF6",
           "caxis": {
            "gridcolor": "white",
            "linecolor": "white",
            "ticks": ""
           }
          },
          "title": {
           "x": 0.05
          },
          "xaxis": {
           "automargin": true,
           "gridcolor": "white",
           "linecolor": "white",
           "ticks": "",
           "title": {
            "standoff": 15
           },
           "zerolinecolor": "white",
           "zerolinewidth": 2
          },
          "yaxis": {
           "automargin": true,
           "gridcolor": "white",
           "linecolor": "white",
           "ticks": "",
           "title": {
            "standoff": 15
           },
           "zerolinecolor": "white",
           "zerolinewidth": 2
          }
         }
        },
        "xaxis": {
         "anchor": "y",
         "autorange": true,
         "domain": [
          0,
          1
         ],
         "range": [
          0,
          172800000000000
         ],
         "title": {
          "text": "step"
         },
         "type": "linear"
        },
        "yaxis": {
         "anchor": "x",
         "autorange": true,
         "domain": [
          0,
          1
         ],
         "range": [
          0.9159622689088186,
          1.956778774658839
         ],
         "title": {
          "text": "value"
         },
         "type": "linear"
        }
       }
      },
      "image/png": "[encoded data removed]",
      "text/html": [
       "<div>                            <div id=\"81538873-68a3-4d3b-b46b-f1325d84bd0e\" class=\"plotly-graph-div\" style=\"height:525px; width:100%;\"></div>            <script type=\"text/javascript\">                require([\"plotly\"], function(Plotly) {                    window.PLOTLYENV=window.PLOTLYENV || {};                                    if (document.getElementById(\"81538873-68a3-4d3b-b46b-f1325d84bd0e\")) {                    Plotly.newPlot(                        \"81538873-68a3-4d3b-b46b-f1325d84bd0e\",                        [{\"hovertemplate\":\"variable=model_t2m_crps\\u003cbr\\u003estep=%{x}\\u003cbr\\u003evalue=%{y}\\u003cextra\\u003e\\u003c\\u002fextra\\u003e\",\"legendgroup\":\"model_t2m_crps\",\"line\":{\"color\":\"#636efa\",\"dash\":\"solid\"},\"marker\":{\"symbol\":\"circle\"},\"mode\":\"lines\",\"name\":\"model_t2m_crps\",\"orientation\":\"v\",\"showlegend\":true,\"x\":[0,86400000000000,172800000000000],\"xaxis\":\"x\",\"y\":[0.9680030941963196,1.0043127536773682,1.0908459424972534],\"yaxis\":\"y\",\"type\":\"scatter\"},{\"hovertemplate\":\"variable=raw_t2m_crps\\u003cbr\\u003estep=%{x}\\u003cbr\\u003evalue=%{y}\\u003cextra\\u003e\\u003c\\u002fextra\\u003e\",\"legendgroup\":\"raw_t2m_crps\",\"line\":{\"color\":\"#EF553B\",\"dash\":\"solid\"},\"marker\":{\"symbol\":\"circle\"},\"mode\":\"lines\",\"name\":\"raw_t2m_crps\",\"orientation\":\"v\",\"showlegend\":true,\"x\":[0,86400000000000,172800000000000],\"xaxis\":\"x\",\"y\":[1.8502347469329834,1.8603241443634033,1.904737949371338],\"yaxis\":\"y\",\"type\":\"scatter\"}],                        {\"template\":{\"data\":{\"histogram2dcontour\":[{\"type\":\"histogram2dcontour\",\"colorbar\":{\"outlinewidth\":0,\"ticks\":\"\"},\"colorscale\":[[0.0,\"#0d0887\"],[0.1111111111111111,\"#46039f\"],[0.2222222222222222,\"#7201a8\"],[0.3333333333333333,\"#9c179e\"],[0.4444444444444444,\"#bd3786\"],[0.5555555555555556,\"#d8576b\"],[0.6666666666666666,\"#ed7953\"],[0.7777777777777778,\"#fb9f3a\"],[0.8888888888888888,\"#fdca26\"],[1.0,\"#f0f921\"]]}],\"choropleth\":[{\"type\":\"choropleth\",\"colorbar\":{\"outlinewidth\":0,\"ticks\":\"\"}}],\"histogram2d\":[{\"type\":\"histogram2d\",\"colorbar\":{\"outlinewidth\":0,\"ticks\":\"\"},\"colorscale\":[[0.0,\"#0d0887\"],[0.1111111111111111,\"#46039f\"],[0.2222222222222222,\"#7201a8\"],[0.3333333333333333,\"#9c179e\"],[0.4444444444444444,\"#bd3786\"],[0.5555555555555556,\"#d8576b\"],[0.6666666666666666,\"#ed7953\"],[0.7777777777777778,\"#fb9f3a\"],[0.8888888888888888,\"#fdca26\"],[1.0,\"#f0f921\"]]}],\"heatmap\":[{\"type\":\"heatmap\",\"colorbar\":{\"outlinewidth\":0,\"ticks\":\"\"},\"colorscale\":[[0.0,\"#0d0887\"],[0.1111111111111111,\"#46039f\"],[0.2222222222222222,\"#7201a8\"],[0.3333333333333333,\"#9c179e\"],[0.4444444444444444,\"#bd3786\"],[0.5555555555555556,\"#d8576b\"],[0.6666666666666666,\"#ed7953\"],[0.7777777777777778,\"#fb9f3a\"],[0.8888888888888888,\"#fdca26\"],[1.0,\"#f0f921\"]]}],\"heatmapgl\":[{\"type\":\"heatmapgl\",\"colorbar\":{\"outlinewidth\":0,\"ticks\":\"\"},\"colorscale\":[[0.0,\"#0d0887\"],[0.1111111111111111,\"#46039f\"],[0.2222222222222222,\"#7201a8\"],[0.3333333333333333,\"#9c179e\"],[0.4444444444444444,\"#bd3786\"],[0.5555555555555556,\"#d8576b\"],[0.6666666666666666,\"#ed7953\"],[0.7777777777777778,\"#fb9f3a\"],[0.8888888888888888,\"#fdca26\"],[1.0,\"#f0f921\"]]}],\"contourcarpet\":[{\"type\":\"contourcarpet\",\"colorbar\":{\"outlinewidth\":0,\"ticks\":\"\"}}],\"contour\":[{\"type\":\"contour\",\"colorbar\":{\"outlinewidth\":0,\"ticks\":\"\"},\"colorscale\":[[0.0,\"#0d0887\"],[0.1111111111111111,\"#46039f\"],[0.2222222222222222,\"#7201a8\"],[0.3333333333333333,\"#9c179e\"],[0.4444444444444444,\"#bd3786\"],[0.5555555555555556,\"#d8576b\"],[0.6666666666666666,\"#ed7953\"],[0.7777777777777778,\"#fb9f3a\"],[0.8888888888888888,\"#fdca26\"],[1.0,\"#f0f921\"]]}],\"surface\":[{\"type\":\"surface\",\"colorbar\":{\"outlinewidth\":0,\"ticks\":\"\"},\"colorscale\":[[0.0,\"#0d0887\"],[0.1111111111111111,\"#46039f\"],[0.2222222222222222,\"#7201a8\"],[0.3333333333333333,\"#9c179e\"],[0.4444444444444444,\"#bd3786\"],[0.5555555555555556,\"#d8576b\"],[0.6666666666666666,\"#ed7953\"],[0.7777777777777778,\"#fb9f3a\"],[0.8888888888888888,\"#fdca26\"],[1.0,\"#f0f921\"]]}],\"mesh3d\":[{\"type\":\"mesh3d\",\"colorbar\":{\"outlinewidth\":0,\"ticks\":\"\"}}],\"scatter\":[{\"fillpattern\":{\"fillmode\":\"overlay\",\"size\":10,\"solidity\":0.2},\"type\":\"scatter\"}],\"parcoords\":[{\"type\":\"parcoords\",\"line\":{\"colorbar\":{\"outlinewidth\":0,\"ticks\":\"\"}}}],\"scatterpolargl\":[{\"type\":\"scatterpolargl\",\"marker\":{\"colorbar\":{\"outlinewidth\":0,\"ticks\":\"\"}}}],\"bar\":[{\"error_x\":{\"color\":\"#2a3f5f\"},\"error_y\":{\"color\":\"#2a3f5f\"},\"marker\":{\"line\":{\"color\":\"#E5ECF6\",\"width\":0.5},\"pattern\":{\"fillmode\":\"overlay\",\"size\":10,\"solidity\":0.2}},\"type\":\"bar\"}],\"scattergeo\":[{\"type\":\"scattergeo\",\"marker\":{\"colorbar\":{\"outlinewidth\":0,\"ticks\":\"\"}}}],\"scatterpolar\":[{\"type\":\"scatterpolar\",\"marker\":{\"colorbar\":{\"outlinewidth\":0,\"ticks\":\"\"}}}],\"histogram\":[{\"marker\":{\"pattern\":{\"fillmode\":\"overlay\",\"size\":10,\"solidity\":0.2}},\"type\":\"histogram\"}],\"scattergl\":[{\"type\":\"scattergl\",\"marker\":{\"colorbar\":{\"outlinewidth\":0,\"ticks\":\"\"}}}],\"scatter3d\":[{\"type\":\"scatter3d\",\"line\":{\"colorbar\":{\"outlinewidth\":0,\"ticks\":\"\"}},\"marker\":{\"colorbar\":{\"outlinewidth\":0,\"ticks\":\"\"}}}],\"scattermapbox\":[{\"type\":\"scattermapbox\",\"marker\":{\"colorbar\":{\"outlinewidth\":0,\"ticks\":\"\"}}}],\"scatterternary\":[{\"type\":\"scatterternary\",\"marker\":{\"colorbar\":{\"outlinewidth\":0,\"ticks\":\"\"}}}],\"scattercarpet\":[{\"type\":\"scattercarpet\",\"marker\":{\"colorbar\":{\"outlinewidth\":0,\"ticks\":\"\"}}}],\"carpet\":[{\"aaxis\":{\"endlinecolor\":\"#2a3f5f\",\"gridcolor\":\"white\",\"linecolor\":\"white\",\"minorgridcolor\":\"white\",\"startlinecolor\":\"#2a3f5f\"},\"baxis\":{\"endlinecolor\":\"#2a3f5f\",\"gridcolor\":\"white\",\"linecolor\":\"white\",\"minorgridcolor\":\"white\",\"startlinecolor\":\"#2a3f5f\"},\"type\":\"carpet\"}],\"table\":[{\"cells\":{\"fill\":{\"color\":\"#EBF0F8\"},\"line\":{\"color\":\"white\"}},\"header\":{\"fill\":{\"color\":\"#C8D4E3\"},\"line\":{\"color\":\"white\"}},\"type\":\"table\"}],\"barpolar\":[{\"marker\":{\"line\":{\"color\":\"#E5ECF6\",\"width\":0.5},\"pattern\":{\"fillmode\":\"overlay\",\"size\":10,\"solidity\":0.2}},\"type\":\"barpolar\"}],\"pie\":[{\"automargin\":true,\"type\":\"pie\"}]},\"layout\":{\"autotypenumbers\":\"strict\",\"colorway\":[\"#636efa\",\"#EF553B\",\"#00cc96\",\"#ab63fa\",\"#FFA15A\",\"#19d3f3\",\"#FF6692\",\"#B6E880\",\"#FF97FF\",\"#FECB52\"],\"font\":{\"color\":\"#2a3f5f\"},\"hovermode\":\"closest\",\"hoverlabel\":{\"align\":\"left\"},\"paper_bgcolor\":\"white\",\"plot_bgcolor\":\"#E5ECF6\",\"polar\":{\"bgcolor\":\"#E5ECF6\",\"angularaxis\":{\"gridcolor\":\"white\",\"linecolor\":\"white\",\"ticks\":\"\"},\"radialaxis\":{\"gridcolor\":\"white\",\"linecolor\":\"white\",\"ticks\":\"\"}},\"ternary\":{\"bgcolor\":\"#E5ECF6\",\"aaxis\":{\"gridcolor\":\"white\",\"linecolor\":\"white\",\"ticks\":\"\"},\"baxis\":{\"gridcolor\":\"white\",\"linecolor\":\"white\",\"ticks\":\"\"},\"caxis\":{\"gridcolor\":\"white\",\"linecolor\":\"white\",\"ticks\":\"\"}},\"coloraxis\":{\"colorbar\":{\"outlinewidth\":0,\"ticks\":\"\"}},\"colorscale\":{\"sequential\":[[0.0,\"#0d0887\"],[0.1111111111111111,\"#46039f\"],[0.2222222222222222,\"#7201a8\"],[0.3333333333333333,\"#9c179e\"],[0.4444444444444444,\"#bd3786\"],[0.5555555555555556,\"#d8576b\"],[0.6666666666666666,\"#ed7953\"],[0.7777777777777778,\"#fb9f3a\"],[0.8888888888888888,\"#fdca26\"],[1.0,\"#f0f921\"]],\"sequentialminus\":[[0.0,\"#0d0887\"],[0.1111111111111111,\"#46039f\"],[0.2222222222222222,\"#7201a8\"],[0.3333333333333333,\"#9c179e\"],[0.4444444444444444,\"#bd3786\"],[0.5555555555555556,\"#d8576b\"],[0.6666666666666666,\"#ed7953\"],[0.7777777777777778,\"#fb9f3a\"],[0.8888888888888888,\"#fdca26\"],[1.0,\"#f0f921\"]],\"diverging\":[[0,\"#8e0152\"],[0.1,\"#c51b7d\"],[0.2,\"#de77ae\"],[0.3,\"#f1b6da\"],[0.4,\"#fde0ef\"],[0.5,\"#f7f7f7\"],[0.6,\"#e6f5d0\"],[0.7,\"#b8e186\"],[0.8,\"#7fbc41\"],[0.9,\"#4d9221\"],[1,\"#276419\"]]},\"xaxis\":{\"gridcolor\":\"white\",\"linecolor\":\"white\",\"ticks\":\"\",\"title\":{\"standoff\":15},\"zerolinecolor\":\"white\",\"automargin\":true,\"zerolinewidth\":2},\"yaxis\":{\"gridcolor\":\"white\",\"linecolor\":\"white\",\"ticks\":\"\",\"title\":{\"standoff\":15},\"zerolinecolor\":\"white\",\"automargin\":true,\"zerolinewidth\":2},\"scene\":{\"xaxis\":{\"backgroundcolor\":\"#E5ECF6\",\"gridcolor\":\"white\",\"linecolor\":\"white\",\"showbackground\":true,\"ticks\":\"\",\"zerolinecolor\":\"white\",\"gridwidth\":2},\"yaxis\":{\"backgroundcolor\":\"#E5ECF6\",\"gridcolor\":\"white\",\"linecolor\":\"white\",\"showbackground\":true,\"ticks\":\"\",\"zerolinecolor\":\"white\",\"gridwidth\":2},\"zaxis\":{\"backgroundcolor\":\"#E5ECF6\",\"gridcolor\":\"white\",\"linecolor\":\"white\",\"showbackground\":true,\"ticks\":\"\",\"zerolinecolor\":\"white\",\"gridwidth\":2}},\"shapedefaults\":{\"line\":{\"color\":\"#2a3f5f\"}},\"annotationdefaults\":{\"arrowcolor\":\"#2a3f5f\",\"arrowhead\":0,\"arrowwidth\":1},\"geo\":{\"bgcolor\":\"white\",\"landcolor\":\"#E5ECF6\",\"subunitcolor\":\"white\",\"showland\":true,\"showlakes\":true,\"lakecolor\":\"white\"},\"title\":{\"x\":0.05},\"mapbox\":{\"style\":\"light\"}}},\"xaxis\":{\"anchor\":\"y\",\"domain\":[0.0,1.0],\"title\":{\"text\":\"step\"}},\"yaxis\":{\"anchor\":\"x\",\"domain\":[0.0,1.0],\"title\":{\"text\":\"value\"}},\"legend\":{\"title\":{\"text\":\"variable\"},\"tracegroupgap\":0},\"margin\":{\"t\":60}},                        {\"responsive\": true}                    ).then(function(){\n",
       "                            \n",
       "var gd = document.getElementById('81538873-68a3-4d3b-b46b-f1325d84bd0e');\n",
       "var x = new MutationObserver(function (mutations, observer) {{\n",
       "        var display = window.getComputedStyle(gd).display;\n",
       "        if (!display || display === 'none') {{\n",
       "            console.log([gd, 'removed!']);\n",
       "            Plotly.purge(gd);\n",
       "            observer.disconnect();\n",
       "        }}\n",
       "}});\n",
       "\n",
       "// Listen for the removal of the full notebook cells\n",
       "var notebookContainer = gd.closest('#notebook-container');\n",
       "if (notebookContainer) {{\n",
       "    x.observe(notebookContainer, {childList: true});\n",
       "}}\n",
       "\n",
       "// Listen for the clearing of the current output cell\n",
       "var outputEl = gd.closest('.output');\n",
       "if (outputEl) {{\n",
       "    x.observe(outputEl, {childList: true});\n",
       "}}\n",
       "\n",
       "                        })                };                });            </script>        </div>"
      ]
     },
     "metadata": {},
     "output_type": "display_data"
    }
   ],
   "source": [
    "px.line(data_frame=by_step, x='step', y='value', color='variable')"
   ]
  },
  {
   "cell_type": "code",
   "execution_count": 177,
   "id": "eb9cd8db-7dcf-4052-b33b-b714e850361c",
   "metadata": {
    "tags": []
   },
   "outputs": [],
   "source": [
    "t2m_crps_df['month'] = t2m_crps_df.index.get_level_values('forecast_time').month"
   ]
  },
  {
   "cell_type": "code",
   "execution_count": 178,
   "id": "6cb3509e-82db-4147-a92f-e6735f8aac9a",
   "metadata": {
    "tags": []
   },
   "outputs": [],
   "source": [
    "by_month = t2m_crps_df.groupby('month').mean().reset_index().melt(id_vars=['month'], value_vars=VALUE_VARS)"
   ]
  },
  {
   "cell_type": "code",
   "execution_count": 181,
   "id": "33c04abb-6e8d-430d-bb4f-3ee6d89e4d60",
   "metadata": {
    "tags": []
   },
   "outputs": [
    {
     "data": {
      "application/vnd.plotly.v1+json": {
       "config": {
        "plotlyServerURL": "https://plot.ly"
       },
       "data": [
        {
         "hovertemplate": "variable=model_t2m_crps<br>month=%{x}<br>value=%{y}<extra></extra>",
         "legendgroup": "model_t2m_crps",
         "line": {
          "color": "#636efa",
          "dash": "solid"
         },
         "marker": {
          "symbol": "circle"
         },
         "mode": "lines",
         "name": "model_t2m_crps",
         "orientation": "v",
         "showlegend": true,
         "type": "scatter",
         "x": [
          1,
          3,
          4,
          5,
          6,
          7,
          8,
          9,
          10,
          11,
          12
         ],
         "xaxis": "x",
         "y": [
          1.1729960441589355,
          0.9658689498901367,
          0.9907658100128174,
          1.0233643054962158,
          1.0761523246765137,
          1.0200634002685547,
          0.8989211320877075,
          0.8319692611694336,
          0.8672032952308655,
          1.1309914588928223,
          1.197925090789795
         ],
         "yaxis": "y"
        },
        {
         "hovertemplate": "variable=raw_t2m_crps<br>month=%{x}<br>value=%{y}<extra></extra>",
         "legendgroup": "raw_t2m_crps",
         "line": {
          "color": "#EF553B",
          "dash": "solid"
         },
         "marker": {
          "symbol": "circle"
         },
         "mode": "lines",
         "name": "raw_t2m_crps",
         "orientation": "v",
         "showlegend": true,
         "type": "scatter",
         "x": [
          1,
          3,
          4,
          5,
          6,
          7,
          8,
          9,
          10,
          11,
          12
         ],
         "xaxis": "x",
         "y": [
          2.1372008323669434,
          2.002070903778076,
          2.0134387016296387,
          1.8759137392044067,
          1.9392225742340088,
          1.9218822717666626,
          1.5988843441009521,
          1.519622564315796,
          1.6284093856811523,
          1.9676886796951294,
          2.0662009716033936
         ],
         "yaxis": "y"
        }
       ],
       "layout": {
        "autosize": true,
        "legend": {
         "title": {
          "text": "variable"
         },
         "tracegroupgap": 0
        },
        "margin": {
         "t": 60
        },
        "template": {
         "data": {
          "bar": [
           {
            "error_x": {
             "color": "#2a3f5f"
            },
            "error_y": {
             "color": "#2a3f5f"
            },
            "marker": {
             "line": {
              "color": "#E5ECF6",
              "width": 0.5
             },
             "pattern": {
              "fillmode": "overlay",
              "size": 10,
              "solidity": 0.2
             }
            },
            "type": "bar"
           }
          ],
          "barpolar": [
           {
            "marker": {
             "line": {
              "color": "#E5ECF6",
              "width": 0.5
             },
             "pattern": {
              "fillmode": "overlay",
              "size": 10,
              "solidity": 0.2
             }
            },
            "type": "barpolar"
           }
          ],
          "carpet": [
           {
            "aaxis": {
             "endlinecolor": "#2a3f5f",
             "gridcolor": "white",
             "linecolor": "white",
             "minorgridcolor": "white",
             "startlinecolor": "#2a3f5f"
            },
            "baxis": {
             "endlinecolor": "#2a3f5f",
             "gridcolor": "white",
             "linecolor": "white",
             "minorgridcolor": "white",
             "startlinecolor": "#2a3f5f"
            },
            "type": "carpet"
           }
          ],
          "choropleth": [
           {
            "colorbar": {
             "outlinewidth": 0,
             "ticks": ""
            },
            "type": "choropleth"
           }
          ],
          "contour": [
           {
            "colorbar": {
             "outlinewidth": 0,
             "ticks": ""
            },
            "colorscale": [
             [
              0,
              "#0d0887"
             ],
             [
              0.1111111111111111,
              "#46039f"
             ],
             [
              0.2222222222222222,
              "#7201a8"
             ],
             [
              0.3333333333333333,
              "#9c179e"
             ],
             [
              0.4444444444444444,
              "#bd3786"
             ],
             [
              0.5555555555555556,
              "#d8576b"
             ],
             [
              0.6666666666666666,
              "#ed7953"
             ],
             [
              0.7777777777777778,
              "#fb9f3a"
             ],
             [
              0.8888888888888888,
              "#fdca26"
             ],
             [
              1,
              "#f0f921"
             ]
            ],
            "type": "contour"
           }
          ],
          "contourcarpet": [
           {
            "colorbar": {
             "outlinewidth": 0,
             "ticks": ""
            },
            "type": "contourcarpet"
           }
          ],
          "heatmap": [
           {
            "colorbar": {
             "outlinewidth": 0,
             "ticks": ""
            },
            "colorscale": [
             [
              0,
              "#0d0887"
             ],
             [
              0.1111111111111111,
              "#46039f"
             ],
             [
              0.2222222222222222,
              "#7201a8"
             ],
             [
              0.3333333333333333,
              "#9c179e"
             ],
             [
              0.4444444444444444,
              "#bd3786"
             ],
             [
              0.5555555555555556,
              "#d8576b"
             ],
             [
              0.6666666666666666,
              "#ed7953"
             ],
             [
              0.7777777777777778,
              "#fb9f3a"
             ],
             [
              0.8888888888888888,
              "#fdca26"
             ],
             [
              1,
              "#f0f921"
             ]
            ],
            "type": "heatmap"
           }
          ],
          "heatmapgl": [
           {
            "colorbar": {
             "outlinewidth": 0,
             "ticks": ""
            },
            "colorscale": [
             [
              0,
              "#0d0887"
             ],
             [
              0.1111111111111111,
              "#46039f"
             ],
             [
              0.2222222222222222,
              "#7201a8"
             ],
             [
              0.3333333333333333,
              "#9c179e"
             ],
             [
              0.4444444444444444,
              "#bd3786"
             ],
             [
              0.5555555555555556,
              "#d8576b"
             ],
             [
              0.6666666666666666,
              "#ed7953"
             ],
             [
              0.7777777777777778,
              "#fb9f3a"
             ],
             [
              0.8888888888888888,
              "#fdca26"
             ],
             [
              1,
              "#f0f921"
             ]
            ],
            "type": "heatmapgl"
           }
          ],
          "histogram": [
           {
            "marker": {
             "pattern": {
              "fillmode": "overlay",
              "size": 10,
              "solidity": 0.2
             }
            },
            "type": "histogram"
           }
          ],
          "histogram2d": [
           {
            "colorbar": {
             "outlinewidth": 0,
             "ticks": ""
            },
            "colorscale": [
             [
              0,
              "#0d0887"
             ],
             [
              0.1111111111111111,
              "#46039f"
             ],
             [
              0.2222222222222222,
              "#7201a8"
             ],
             [
              0.3333333333333333,
              "#9c179e"
             ],
             [
              0.4444444444444444,
              "#bd3786"
             ],
             [
              0.5555555555555556,
              "#d8576b"
             ],
             [
              0.6666666666666666,
              "#ed7953"
             ],
             [
              0.7777777777777778,
              "#fb9f3a"
             ],
             [
              0.8888888888888888,
              "#fdca26"
             ],
             [
              1,
              "#f0f921"
             ]
            ],
            "type": "histogram2d"
           }
          ],
          "histogram2dcontour": [
           {
            "colorbar": {
             "outlinewidth": 0,
             "ticks": ""
            },
            "colorscale": [
             [
              0,
              "#0d0887"
             ],
             [
              0.1111111111111111,
              "#46039f"
             ],
             [
              0.2222222222222222,
              "#7201a8"
             ],
             [
              0.3333333333333333,
              "#9c179e"
             ],
             [
              0.4444444444444444,
              "#bd3786"
             ],
             [
              0.5555555555555556,
              "#d8576b"
             ],
             [
              0.6666666666666666,
              "#ed7953"
             ],
             [
              0.7777777777777778,
              "#fb9f3a"
             ],
             [
              0.8888888888888888,
              "#fdca26"
             ],
             [
              1,
              "#f0f921"
             ]
            ],
            "type": "histogram2dcontour"
           }
          ],
          "mesh3d": [
           {
            "colorbar": {
             "outlinewidth": 0,
             "ticks": ""
            },
            "type": "mesh3d"
           }
          ],
          "parcoords": [
           {
            "line": {
             "colorbar": {
              "outlinewidth": 0,
              "ticks": ""
             }
            },
            "type": "parcoords"
           }
          ],
          "pie": [
           {
            "automargin": true,
            "type": "pie"
           }
          ],
          "scatter": [
           {
            "fillpattern": {
             "fillmode": "overlay",
             "size": 10,
             "solidity": 0.2
            },
            "type": "scatter"
           }
          ],
          "scatter3d": [
           {
            "line": {
             "colorbar": {
              "outlinewidth": 0,
              "ticks": ""
             }
            },
            "marker": {
             "colorbar": {
              "outlinewidth": 0,
              "ticks": ""
             }
            },
            "type": "scatter3d"
           }
          ],
          "scattercarpet": [
           {
            "marker": {
             "colorbar": {
              "outlinewidth": 0,
              "ticks": ""
             }
            },
            "type": "scattercarpet"
           }
          ],
          "scattergeo": [
           {
            "marker": {
             "colorbar": {
              "outlinewidth": 0,
              "ticks": ""
             }
            },
            "type": "scattergeo"
           }
          ],
          "scattergl": [
           {
            "marker": {
             "colorbar": {
              "outlinewidth": 0,
              "ticks": ""
             }
            },
            "type": "scattergl"
           }
          ],
          "scattermapbox": [
           {
            "marker": {
             "colorbar": {
              "outlinewidth": 0,
              "ticks": ""
             }
            },
            "type": "scattermapbox"
           }
          ],
          "scatterpolar": [
           {
            "marker": {
             "colorbar": {
              "outlinewidth": 0,
              "ticks": ""
             }
            },
            "type": "scatterpolar"
           }
          ],
          "scatterpolargl": [
           {
            "marker": {
             "colorbar": {
              "outlinewidth": 0,
              "ticks": ""
             }
            },
            "type": "scatterpolargl"
           }
          ],
          "scatterternary": [
           {
            "marker": {
             "colorbar": {
              "outlinewidth": 0,
              "ticks": ""
             }
            },
            "type": "scatterternary"
           }
          ],
          "surface": [
           {
            "colorbar": {
             "outlinewidth": 0,
             "ticks": ""
            },
            "colorscale": [
             [
              0,
              "#0d0887"
             ],
             [
              0.1111111111111111,
              "#46039f"
             ],
             [
              0.2222222222222222,
              "#7201a8"
             ],
             [
              0.3333333333333333,
              "#9c179e"
             ],
             [
              0.4444444444444444,
              "#bd3786"
             ],
             [
              0.5555555555555556,
              "#d8576b"
             ],
             [
              0.6666666666666666,
              "#ed7953"
             ],
             [
              0.7777777777777778,
              "#fb9f3a"
             ],
             [
              0.8888888888888888,
              "#fdca26"
             ],
             [
              1,
              "#f0f921"
             ]
            ],
            "type": "surface"
           }
          ],
          "table": [
           {
            "cells": {
             "fill": {
              "color": "#EBF0F8"
             },
             "line": {
              "color": "white"
             }
            },
            "header": {
             "fill": {
              "color": "#C8D4E3"
             },
             "line": {
              "color": "white"
             }
            },
            "type": "table"
           }
          ]
         },
         "layout": {
          "annotationdefaults": {
           "arrowcolor": "#2a3f5f",
           "arrowhead": 0,
           "arrowwidth": 1
          },
          "autotypenumbers": "strict",
          "coloraxis": {
           "colorbar": {
            "outlinewidth": 0,
            "ticks": ""
           }
          },
          "colorscale": {
           "diverging": [
            [
             0,
             "#8e0152"
            ],
            [
             0.1,
             "#c51b7d"
            ],
            [
             0.2,
             "#de77ae"
            ],
            [
             0.3,
             "#f1b6da"
            ],
            [
             0.4,
             "#fde0ef"
            ],
            [
             0.5,
             "#f7f7f7"
            ],
            [
             0.6,
             "#e6f5d0"
            ],
            [
             0.7,
             "#b8e186"
            ],
            [
             0.8,
             "#7fbc41"
            ],
            [
             0.9,
             "#4d9221"
            ],
            [
             1,
             "#276419"
            ]
           ],
           "sequential": [
            [
             0,
             "#0d0887"
            ],
            [
             0.1111111111111111,
             "#46039f"
            ],
            [
             0.2222222222222222,
             "#7201a8"
            ],
            [
             0.3333333333333333,
             "#9c179e"
            ],
            [
             0.4444444444444444,
             "#bd3786"
            ],
            [
             0.5555555555555556,
             "#d8576b"
            ],
            [
             0.6666666666666666,
             "#ed7953"
            ],
            [
             0.7777777777777778,
             "#fb9f3a"
            ],
            [
             0.8888888888888888,
             "#fdca26"
            ],
            [
             1,
             "#f0f921"
            ]
           ],
           "sequentialminus": [
            [
             0,
             "#0d0887"
            ],
            [
             0.1111111111111111,
             "#46039f"
            ],
            [
             0.2222222222222222,
             "#7201a8"
            ],
            [
             0.3333333333333333,
             "#9c179e"
            ],
            [
             0.4444444444444444,
             "#bd3786"
            ],
            [
             0.5555555555555556,
             "#d8576b"
            ],
            [
             0.6666666666666666,
             "#ed7953"
            ],
            [
             0.7777777777777778,
             "#fb9f3a"
            ],
            [
             0.8888888888888888,
             "#fdca26"
            ],
            [
             1,
             "#f0f921"
            ]
           ]
          },
          "colorway": [
           "#636efa",
           "#EF553B",
           "#00cc96",
           "#ab63fa",
           "#FFA15A",
           "#19d3f3",
           "#FF6692",
           "#B6E880",
           "#FF97FF",
           "#FECB52"
          ],
          "font": {
           "color": "#2a3f5f"
          },
          "geo": {
           "bgcolor": "white",
           "lakecolor": "white",
           "landcolor": "#E5ECF6",
           "showlakes": true,
           "showland": true,
           "subunitcolor": "white"
          },
          "hoverlabel": {
           "align": "left"
          },
          "hovermode": "closest",
          "mapbox": {
           "style": "light"
          },
          "paper_bgcolor": "white",
          "plot_bgcolor": "#E5ECF6",
          "polar": {
           "angularaxis": {
            "gridcolor": "white",
            "linecolor": "white",
            "ticks": ""
           },
           "bgcolor": "#E5ECF6",
           "radialaxis": {
            "gridcolor": "white",
            "linecolor": "white",
            "ticks": ""
           }
          },
          "scene": {
           "xaxis": {
            "backgroundcolor": "#E5ECF6",
            "gridcolor": "white",
            "gridwidth": 2,
            "linecolor": "white",
            "showbackground": true,
            "ticks": "",
            "zerolinecolor": "white"
           },
           "yaxis": {
            "backgroundcolor": "#E5ECF6",
            "gridcolor": "white",
            "gridwidth": 2,
            "linecolor": "white",
            "showbackground": true,
            "ticks": "",
            "zerolinecolor": "white"
           },
           "zaxis": {
            "backgroundcolor": "#E5ECF6",
            "gridcolor": "white",
            "gridwidth": 2,
            "linecolor": "white",
            "showbackground": true,
            "ticks": "",
            "zerolinecolor": "white"
           }
          },
          "shapedefaults": {
           "line": {
            "color": "#2a3f5f"
           }
          },
          "ternary": {
           "aaxis": {
            "gridcolor": "white",
            "linecolor": "white",
            "ticks": ""
           },
           "baxis": {
            "gridcolor": "white",
            "linecolor": "white",
            "ticks": ""
           },
           "bgcolor": "#E5ECF6",
           "caxis": {
            "gridcolor": "white",
            "linecolor": "white",
            "ticks": ""
           }
          },
          "title": {
           "x": 0.05
          },
          "xaxis": {
           "automargin": true,
           "gridcolor": "white",
           "linecolor": "white",
           "ticks": "",
           "title": {
            "standoff": 15
           },
           "zerolinecolor": "white",
           "zerolinewidth": 2
          },
          "yaxis": {
           "automargin": true,
           "gridcolor": "white",
           "linecolor": "white",
           "ticks": "",
           "title": {
            "standoff": 15
           },
           "zerolinecolor": "white",
           "zerolinewidth": 2
          }
         }
        },
        "xaxis": {
         "anchor": "y",
         "autorange": true,
         "domain": [
          0,
          1
         ],
         "range": [
          1,
          12
         ],
         "title": {
          "text": "month"
         },
         "type": "linear"
        },
        "yaxis": {
         "anchor": "x",
         "autorange": true,
         "domain": [
          0,
          1
         ],
         "range": [
          0.7594563961029053,
          2.2097136974334717
         ],
         "title": {
          "text": "value"
         },
         "type": "linear"
        }
       }
      },
      "image/png": "[encoded data removed]",
      "text/html": [
       "<div>                            <div id=\"11a85483-f934-46ea-86a2-751aefcff830\" class=\"plotly-graph-div\" style=\"height:525px; width:100%;\"></div>            <script type=\"text/javascript\">                require([\"plotly\"], function(Plotly) {                    window.PLOTLYENV=window.PLOTLYENV || {};                                    if (document.getElementById(\"11a85483-f934-46ea-86a2-751aefcff830\")) {                    Plotly.newPlot(                        \"11a85483-f934-46ea-86a2-751aefcff830\",                        [{\"hovertemplate\":\"variable=model_t2m_crps\\u003cbr\\u003emonth=%{x}\\u003cbr\\u003evalue=%{y}\\u003cextra\\u003e\\u003c\\u002fextra\\u003e\",\"legendgroup\":\"model_t2m_crps\",\"line\":{\"color\":\"#636efa\",\"dash\":\"solid\"},\"marker\":{\"symbol\":\"circle\"},\"mode\":\"lines\",\"name\":\"model_t2m_crps\",\"orientation\":\"v\",\"showlegend\":true,\"x\":[1,3,4,5,6,7,8,9,10,11,12],\"xaxis\":\"x\",\"y\":[1.1729960441589355,0.9658689498901367,0.9907658100128174,1.0233643054962158,1.0761523246765137,1.0200634002685547,0.8989211320877075,0.8319692611694336,0.8672032952308655,1.1309914588928223,1.197925090789795],\"yaxis\":\"y\",\"type\":\"scatter\"},{\"hovertemplate\":\"variable=raw_t2m_crps\\u003cbr\\u003emonth=%{x}\\u003cbr\\u003evalue=%{y}\\u003cextra\\u003e\\u003c\\u002fextra\\u003e\",\"legendgroup\":\"raw_t2m_crps\",\"line\":{\"color\":\"#EF553B\",\"dash\":\"solid\"},\"marker\":{\"symbol\":\"circle\"},\"mode\":\"lines\",\"name\":\"raw_t2m_crps\",\"orientation\":\"v\",\"showlegend\":true,\"x\":[1,3,4,5,6,7,8,9,10,11,12],\"xaxis\":\"x\",\"y\":[2.1372008323669434,2.002070903778076,2.0134387016296387,1.8759137392044067,1.9392225742340088,1.9218822717666626,1.5988843441009521,1.519622564315796,1.6284093856811523,1.9676886796951294,2.0662009716033936],\"yaxis\":\"y\",\"type\":\"scatter\"}],                        {\"template\":{\"data\":{\"histogram2dcontour\":[{\"type\":\"histogram2dcontour\",\"colorbar\":{\"outlinewidth\":0,\"ticks\":\"\"},\"colorscale\":[[0.0,\"#0d0887\"],[0.1111111111111111,\"#46039f\"],[0.2222222222222222,\"#7201a8\"],[0.3333333333333333,\"#9c179e\"],[0.4444444444444444,\"#bd3786\"],[0.5555555555555556,\"#d8576b\"],[0.6666666666666666,\"#ed7953\"],[0.7777777777777778,\"#fb9f3a\"],[0.8888888888888888,\"#fdca26\"],[1.0,\"#f0f921\"]]}],\"choropleth\":[{\"type\":\"choropleth\",\"colorbar\":{\"outlinewidth\":0,\"ticks\":\"\"}}],\"histogram2d\":[{\"type\":\"histogram2d\",\"colorbar\":{\"outlinewidth\":0,\"ticks\":\"\"},\"colorscale\":[[0.0,\"#0d0887\"],[0.1111111111111111,\"#46039f\"],[0.2222222222222222,\"#7201a8\"],[0.3333333333333333,\"#9c179e\"],[0.4444444444444444,\"#bd3786\"],[0.5555555555555556,\"#d8576b\"],[0.6666666666666666,\"#ed7953\"],[0.7777777777777778,\"#fb9f3a\"],[0.8888888888888888,\"#fdca26\"],[1.0,\"#f0f921\"]]}],\"heatmap\":[{\"type\":\"heatmap\",\"colorbar\":{\"outlinewidth\":0,\"ticks\":\"\"},\"colorscale\":[[0.0,\"#0d0887\"],[0.1111111111111111,\"#46039f\"],[0.2222222222222222,\"#7201a8\"],[0.3333333333333333,\"#9c179e\"],[0.4444444444444444,\"#bd3786\"],[0.5555555555555556,\"#d8576b\"],[0.6666666666666666,\"#ed7953\"],[0.7777777777777778,\"#fb9f3a\"],[0.8888888888888888,\"#fdca26\"],[1.0,\"#f0f921\"]]}],\"heatmapgl\":[{\"type\":\"heatmapgl\",\"colorbar\":{\"outlinewidth\":0,\"ticks\":\"\"},\"colorscale\":[[0.0,\"#0d0887\"],[0.1111111111111111,\"#46039f\"],[0.2222222222222222,\"#7201a8\"],[0.3333333333333333,\"#9c179e\"],[0.4444444444444444,\"#bd3786\"],[0.5555555555555556,\"#d8576b\"],[0.6666666666666666,\"#ed7953\"],[0.7777777777777778,\"#fb9f3a\"],[0.8888888888888888,\"#fdca26\"],[1.0,\"#f0f921\"]]}],\"contourcarpet\":[{\"type\":\"contourcarpet\",\"colorbar\":{\"outlinewidth\":0,\"ticks\":\"\"}}],\"contour\":[{\"type\":\"contour\",\"colorbar\":{\"outlinewidth\":0,\"ticks\":\"\"},\"colorscale\":[[0.0,\"#0d0887\"],[0.1111111111111111,\"#46039f\"],[0.2222222222222222,\"#7201a8\"],[0.3333333333333333,\"#9c179e\"],[0.4444444444444444,\"#bd3786\"],[0.5555555555555556,\"#d8576b\"],[0.6666666666666666,\"#ed7953\"],[0.7777777777777778,\"#fb9f3a\"],[0.8888888888888888,\"#fdca26\"],[1.0,\"#f0f921\"]]}],\"surface\":[{\"type\":\"surface\",\"colorbar\":{\"outlinewidth\":0,\"ticks\":\"\"},\"colorscale\":[[0.0,\"#0d0887\"],[0.1111111111111111,\"#46039f\"],[0.2222222222222222,\"#7201a8\"],[0.3333333333333333,\"#9c179e\"],[0.4444444444444444,\"#bd3786\"],[0.5555555555555556,\"#d8576b\"],[0.6666666666666666,\"#ed7953\"],[0.7777777777777778,\"#fb9f3a\"],[0.8888888888888888,\"#fdca26\"],[1.0,\"#f0f921\"]]}],\"mesh3d\":[{\"type\":\"mesh3d\",\"colorbar\":{\"outlinewidth\":0,\"ticks\":\"\"}}],\"scatter\":[{\"fillpattern\":{\"fillmode\":\"overlay\",\"size\":10,\"solidity\":0.2},\"type\":\"scatter\"}],\"parcoords\":[{\"type\":\"parcoords\",\"line\":{\"colorbar\":{\"outlinewidth\":0,\"ticks\":\"\"}}}],\"scatterpolargl\":[{\"type\":\"scatterpolargl\",\"marker\":{\"colorbar\":{\"outlinewidth\":0,\"ticks\":\"\"}}}],\"bar\":[{\"error_x\":{\"color\":\"#2a3f5f\"},\"error_y\":{\"color\":\"#2a3f5f\"},\"marker\":{\"line\":{\"color\":\"#E5ECF6\",\"width\":0.5},\"pattern\":{\"fillmode\":\"overlay\",\"size\":10,\"solidity\":0.2}},\"type\":\"bar\"}],\"scattergeo\":[{\"type\":\"scattergeo\",\"marker\":{\"colorbar\":{\"outlinewidth\":0,\"ticks\":\"\"}}}],\"scatterpolar\":[{\"type\":\"scatterpolar\",\"marker\":{\"colorbar\":{\"outlinewidth\":0,\"ticks\":\"\"}}}],\"histogram\":[{\"marker\":{\"pattern\":{\"fillmode\":\"overlay\",\"size\":10,\"solidity\":0.2}},\"type\":\"histogram\"}],\"scattergl\":[{\"type\":\"scattergl\",\"marker\":{\"colorbar\":{\"outlinewidth\":0,\"ticks\":\"\"}}}],\"scatter3d\":[{\"type\":\"scatter3d\",\"line\":{\"colorbar\":{\"outlinewidth\":0,\"ticks\":\"\"}},\"marker\":{\"colorbar\":{\"outlinewidth\":0,\"ticks\":\"\"}}}],\"scattermapbox\":[{\"type\":\"scattermapbox\",\"marker\":{\"colorbar\":{\"outlinewidth\":0,\"ticks\":\"\"}}}],\"scatterternary\":[{\"type\":\"scatterternary\",\"marker\":{\"colorbar\":{\"outlinewidth\":0,\"ticks\":\"\"}}}],\"scattercarpet\":[{\"type\":\"scattercarpet\",\"marker\":{\"colorbar\":{\"outlinewidth\":0,\"ticks\":\"\"}}}],\"carpet\":[{\"aaxis\":{\"endlinecolor\":\"#2a3f5f\",\"gridcolor\":\"white\",\"linecolor\":\"white\",\"minorgridcolor\":\"white\",\"startlinecolor\":\"#2a3f5f\"},\"baxis\":{\"endlinecolor\":\"#2a3f5f\",\"gridcolor\":\"white\",\"linecolor\":\"white\",\"minorgridcolor\":\"white\",\"startlinecolor\":\"#2a3f5f\"},\"type\":\"carpet\"}],\"table\":[{\"cells\":{\"fill\":{\"color\":\"#EBF0F8\"},\"line\":{\"color\":\"white\"}},\"header\":{\"fill\":{\"color\":\"#C8D4E3\"},\"line\":{\"color\":\"white\"}},\"type\":\"table\"}],\"barpolar\":[{\"marker\":{\"line\":{\"color\":\"#E5ECF6\",\"width\":0.5},\"pattern\":{\"fillmode\":\"overlay\",\"size\":10,\"solidity\":0.2}},\"type\":\"barpolar\"}],\"pie\":[{\"automargin\":true,\"type\":\"pie\"}]},\"layout\":{\"autotypenumbers\":\"strict\",\"colorway\":[\"#636efa\",\"#EF553B\",\"#00cc96\",\"#ab63fa\",\"#FFA15A\",\"#19d3f3\",\"#FF6692\",\"#B6E880\",\"#FF97FF\",\"#FECB52\"],\"font\":{\"color\":\"#2a3f5f\"},\"hovermode\":\"closest\",\"hoverlabel\":{\"align\":\"left\"},\"paper_bgcolor\":\"white\",\"plot_bgcolor\":\"#E5ECF6\",\"polar\":{\"bgcolor\":\"#E5ECF6\",\"angularaxis\":{\"gridcolor\":\"white\",\"linecolor\":\"white\",\"ticks\":\"\"},\"radialaxis\":{\"gridcolor\":\"white\",\"linecolor\":\"white\",\"ticks\":\"\"}},\"ternary\":{\"bgcolor\":\"#E5ECF6\",\"aaxis\":{\"gridcolor\":\"white\",\"linecolor\":\"white\",\"ticks\":\"\"},\"baxis\":{\"gridcolor\":\"white\",\"linecolor\":\"white\",\"ticks\":\"\"},\"caxis\":{\"gridcolor\":\"white\",\"linecolor\":\"white\",\"ticks\":\"\"}},\"coloraxis\":{\"colorbar\":{\"outlinewidth\":0,\"ticks\":\"\"}},\"colorscale\":{\"sequential\":[[0.0,\"#0d0887\"],[0.1111111111111111,\"#46039f\"],[0.2222222222222222,\"#7201a8\"],[0.3333333333333333,\"#9c179e\"],[0.4444444444444444,\"#bd3786\"],[0.5555555555555556,\"#d8576b\"],[0.6666666666666666,\"#ed7953\"],[0.7777777777777778,\"#fb9f3a\"],[0.8888888888888888,\"#fdca26\"],[1.0,\"#f0f921\"]],\"sequentialminus\":[[0.0,\"#0d0887\"],[0.1111111111111111,\"#46039f\"],[0.2222222222222222,\"#7201a8\"],[0.3333333333333333,\"#9c179e\"],[0.4444444444444444,\"#bd3786\"],[0.5555555555555556,\"#d8576b\"],[0.6666666666666666,\"#ed7953\"],[0.7777777777777778,\"#fb9f3a\"],[0.8888888888888888,\"#fdca26\"],[1.0,\"#f0f921\"]],\"diverging\":[[0,\"#8e0152\"],[0.1,\"#c51b7d\"],[0.2,\"#de77ae\"],[0.3,\"#f1b6da\"],[0.4,\"#fde0ef\"],[0.5,\"#f7f7f7\"],[0.6,\"#e6f5d0\"],[0.7,\"#b8e186\"],[0.8,\"#7fbc41\"],[0.9,\"#4d9221\"],[1,\"#276419\"]]},\"xaxis\":{\"gridcolor\":\"white\",\"linecolor\":\"white\",\"ticks\":\"\",\"title\":{\"standoff\":15},\"zerolinecolor\":\"white\",\"automargin\":true,\"zerolinewidth\":2},\"yaxis\":{\"gridcolor\":\"white\",\"linecolor\":\"white\",\"ticks\":\"\",\"title\":{\"standoff\":15},\"zerolinecolor\":\"white\",\"automargin\":true,\"zerolinewidth\":2},\"scene\":{\"xaxis\":{\"backgroundcolor\":\"#E5ECF6\",\"gridcolor\":\"white\",\"linecolor\":\"white\",\"showbackground\":true,\"ticks\":\"\",\"zerolinecolor\":\"white\",\"gridwidth\":2},\"yaxis\":{\"backgroundcolor\":\"#E5ECF6\",\"gridcolor\":\"white\",\"linecolor\":\"white\",\"showbackground\":true,\"ticks\":\"\",\"zerolinecolor\":\"white\",\"gridwidth\":2},\"zaxis\":{\"backgroundcolor\":\"#E5ECF6\",\"gridcolor\":\"white\",\"linecolor\":\"white\",\"showbackground\":true,\"ticks\":\"\",\"zerolinecolor\":\"white\",\"gridwidth\":2}},\"shapedefaults\":{\"line\":{\"color\":\"#2a3f5f\"}},\"annotationdefaults\":{\"arrowcolor\":\"#2a3f5f\",\"arrowhead\":0,\"arrowwidth\":1},\"geo\":{\"bgcolor\":\"white\",\"landcolor\":\"#E5ECF6\",\"subunitcolor\":\"white\",\"showland\":true,\"showlakes\":true,\"lakecolor\":\"white\"},\"title\":{\"x\":0.05},\"mapbox\":{\"style\":\"light\"}}},\"xaxis\":{\"anchor\":\"y\",\"domain\":[0.0,1.0],\"title\":{\"text\":\"month\"}},\"yaxis\":{\"anchor\":\"x\",\"domain\":[0.0,1.0],\"title\":{\"text\":\"value\"}},\"legend\":{\"title\":{\"text\":\"variable\"},\"tracegroupgap\":0},\"margin\":{\"t\":60}},                        {\"responsive\": true}                    ).then(function(){\n",
       "                            \n",
       "var gd = document.getElementById('11a85483-f934-46ea-86a2-751aefcff830');\n",
       "var x = new MutationObserver(function (mutations, observer) {{\n",
       "        var display = window.getComputedStyle(gd).display;\n",
       "        if (!display || display === 'none') {{\n",
       "            console.log([gd, 'removed!']);\n",
       "            Plotly.purge(gd);\n",
       "            observer.disconnect();\n",
       "        }}\n",
       "}});\n",
       "\n",
       "// Listen for the removal of the full notebook cells\n",
       "var notebookContainer = gd.closest('#notebook-container');\n",
       "if (notebookContainer) {{\n",
       "    x.observe(notebookContainer, {childList: true});\n",
       "}}\n",
       "\n",
       "// Listen for the clearing of the current output cell\n",
       "var outputEl = gd.closest('.output');\n",
       "if (outputEl) {{\n",
       "    x.observe(outputEl, {childList: true});\n",
       "}}\n",
       "\n",
       "                        })                };                });            </script>        </div>"
      ]
     },
     "metadata": {},
     "output_type": "display_data"
    }
   ],
   "source": [
    "px.line(data_frame=by_month, x='month', y='value', color='variable')"
   ]
  },
  {
   "cell_type": "code",
   "execution_count": null,
   "id": "11ee7c1d-d33d-4c26-bb62-5a895e29e9f5",
   "metadata": {},
   "outputs": [],
   "source": [
    ".melt(id_vars=['station'], value_vars=VALUE_VARS)\n"
   ]
  },
  {
   "cell_type": "code",
   "execution_count": 186,
   "id": "1b50dfaf-a50c-445b-bd71-32788226525c",
   "metadata": {
    "tags": []
   },
   "outputs": [],
   "source": [
    "by_station = t2m_crps_df.groupby('station').mean().reset_index()\n",
    "by_station = by_station.sort_values('model_t2m_crps')\n",
    "by_station = by_station.reset_index().melt(id_vars=['station'], value_vars=VALUE_VARS)"
   ]
  },
  {
   "cell_type": "code",
   "execution_count": 189,
   "id": "bc0b0920-e920-4901-b433-4d0e8cc3112c",
   "metadata": {
    "tags": []
   },
   "outputs": [
    {
     "data": {
      "application/vnd.plotly.v1+json": {
       "config": {
        "plotlyServerURL": "https://plot.ly"
       },
       "data": [
        {
         "alignmentgroup": "True",
         "hovertemplate": "variable=model_t2m_crps<br>station=%{x}<br>value=%{y}<extra></extra>",
         "legendgroup": "model_t2m_crps",
         "marker": {
          "color": "#636efa",
          "pattern": {
           "shape": ""
          }
         },
         "name": "model_t2m_crps",
         "offsetgroup": "model_t2m_crps",
         "orientation": "v",
         "showlegend": true,
         "textposition": "auto",
         "type": "bar",
         "x": [
          "CWQS",
          "ACK",
          "PHNL",
          "PADU",
          "CWRN",
          "PBI",
          "PASD",
          "PASI",
          "NYL",
          "CYJT",
          "CYYT",
          "CYZT",
          "PADQ",
          "BGM",
          "HQM",
          "OXR",
          "ELP",
          "FFA",
          "AGC",
          "HXD",
          "MFE",
          "GPT",
          "SFO",
          "ACV",
          "CWCO",
          "TEW",
          "BGR",
          "BLV",
          "JKL",
          "CWVQ",
          "RFD",
          "NFL",
          "PACV",
          "CWSF",
          "CYVO",
          "GCD",
          "AFW",
          "CYWK",
          "BHM",
          "MAF",
          "TLH",
          "CYYR",
          "CYXL",
          "CYBG",
          "CYTE",
          "5C1",
          "DRI",
          "PABE",
          "VUJ",
          "CYWL",
          "BYI",
          "LAM",
          "WLD",
          "FXY",
          "CWLB",
          "CYVP",
          "CYMO",
          "CWPZ",
          "CDC",
          "CWIK",
          "SOW",
          "CYKY",
          "CDJ",
          "CYXZ",
          "CWWS",
          "LRF",
          "CYPH",
          "IWD",
          "FAR",
          "CXTN",
          "GDV",
          "CYRT",
          "ANW",
          "CWJH",
          "CYZF",
          "CWNP",
          "PAOT",
          "CYVM",
          "CYPE",
          "GTF",
          "APA",
          "CYPY",
          "DUX",
          "PABR",
          "CYCB",
          "CWIJ",
          "CXAT",
          "CYFB",
          "CWND",
          "CYUX",
          "PATA",
          "RIW",
          "CYQH",
          "CYYE",
          "CYVQ",
          "CXSE",
          "CYMA",
          "CWEU",
          "CYTL",
          "CYGW"
         ],
         "xaxis": "x",
         "y": [
          0.5011541843414307,
          0.56574946641922,
          0.5740944743156433,
          0.5814306139945984,
          0.5875560641288757,
          0.6066015362739563,
          0.6705722212791443,
          0.67470782995224,
          0.7060146927833557,
          0.7066869139671326,
          0.7134349942207336,
          0.7242041230201721,
          0.7272278070449829,
          0.7410998940467834,
          0.7600836753845215,
          0.7750208973884583,
          0.7761302590370178,
          0.8061798810958862,
          0.814782440662384,
          0.8217709064483643,
          0.8227129578590393,
          0.8235428929328918,
          0.8406707644462585,
          0.8408948183059692,
          0.8464770913124084,
          0.8587928414344788,
          0.8704580664634705,
          0.8745794296264648,
          0.8784594535827637,
          0.8786119818687439,
          0.8829466104507446,
          0.9028840661048889,
          0.9033503532409668,
          0.908094584941864,
          0.9098946452140808,
          0.9286425709724426,
          0.9330067038536072,
          0.9374313950538635,
          0.9419821500778198,
          0.9623881578445435,
          0.9693945646286011,
          0.9845137596130371,
          0.9872937798500061,
          0.9876529574394226,
          0.9903409481048584,
          0.9931198954582214,
          0.9937044382095337,
          1.012101173400879,
          1.0150833129882812,
          1.024985671043396,
          1.0263324975967407,
          1.0308606624603271,
          1.032030463218689,
          1.0397990942001343,
          1.0399463176727295,
          1.040042519569397,
          1.0503839254379272,
          1.0523412227630615,
          1.0537004470825195,
          1.0549728870391846,
          1.0618396997451782,
          1.0732815265655518,
          1.0749115943908691,
          1.0759897232055664,
          1.0875002145767212,
          1.090404748916626,
          1.0947959423065186,
          1.095776915550232,
          1.0975881814956665,
          1.099101185798645,
          1.1132969856262207,
          1.11769700050354,
          1.1194889545440674,
          1.1213747262954712,
          1.1302807331085205,
          1.1306281089782715,
          1.1348999738693237,
          1.1415033340454102,
          1.1480004787445068,
          1.1499840021133423,
          1.1603589057922363,
          1.1616684198379517,
          1.1846176385879517,
          1.2096548080444336,
          1.2622865438461304,
          1.262941598892212,
          1.2658787965774536,
          1.2668218612670898,
          1.2864670753479004,
          1.295419454574585,
          1.2989883422851562,
          1.304827094078064,
          1.3444421291351318,
          1.3485010862350464,
          1.4214102029800415,
          1.4320834875106812,
          1.529740810394287,
          1.6680445671081543,
          2.2550454139709473,
          2.4569923877716064
         ],
         "yaxis": "y"
        },
        {
         "alignmentgroup": "True",
         "hovertemplate": "variable=raw_t2m_crps<br>station=%{x}<br>value=%{y}<extra></extra>",
         "legendgroup": "raw_t2m_crps",
         "marker": {
          "color": "#EF553B",
          "pattern": {
           "shape": ""
          }
         },
         "name": "raw_t2m_crps",
         "offsetgroup": "raw_t2m_crps",
         "orientation": "v",
         "showlegend": true,
         "textposition": "auto",
         "type": "bar",
         "x": [
          "CWQS",
          "ACK",
          "PHNL",
          "PADU",
          "CWRN",
          "PBI",
          "PASD",
          "PASI",
          "NYL",
          "CYJT",
          "CYYT",
          "CYZT",
          "PADQ",
          "BGM",
          "HQM",
          "OXR",
          "ELP",
          "FFA",
          "AGC",
          "HXD",
          "MFE",
          "GPT",
          "SFO",
          "ACV",
          "CWCO",
          "TEW",
          "BGR",
          "BLV",
          "JKL",
          "CWVQ",
          "RFD",
          "NFL",
          "PACV",
          "CWSF",
          "CYVO",
          "GCD",
          "AFW",
          "CYWK",
          "BHM",
          "MAF",
          "TLH",
          "CYYR",
          "CYXL",
          "CYBG",
          "CYTE",
          "5C1",
          "DRI",
          "PABE",
          "VUJ",
          "CYWL",
          "BYI",
          "LAM",
          "WLD",
          "FXY",
          "CWLB",
          "CYVP",
          "CYMO",
          "CWPZ",
          "CDC",
          "CWIK",
          "SOW",
          "CYKY",
          "CDJ",
          "CYXZ",
          "CWWS",
          "LRF",
          "CYPH",
          "IWD",
          "FAR",
          "CXTN",
          "GDV",
          "CYRT",
          "ANW",
          "CWJH",
          "CYZF",
          "CWNP",
          "PAOT",
          "CYVM",
          "CYPE",
          "GTF",
          "APA",
          "CYPY",
          "DUX",
          "PABR",
          "CYCB",
          "CWIJ",
          "CXAT",
          "CYFB",
          "CWND",
          "CYUX",
          "PATA",
          "RIW",
          "CYQH",
          "CYYE",
          "CYVQ",
          "CXSE",
          "CYMA",
          "CWEU",
          "CYTL",
          "CYGW"
         ],
         "xaxis": "x",
         "y": [
          0.8201634287834167,
          1.2540982961654663,
          2.564934492111206,
          1.845537781715393,
          0.9318383932113647,
          0.9377259016036987,
          1.3277474641799927,
          1.9156174659729004,
          1.0226188898086548,
          1.1600323915481567,
          1.7328567504882812,
          1.97723388671875,
          1.6462706327438354,
          1.3674921989440918,
          1.1582118272781372,
          1.6712754964828491,
          1.4778568744659424,
          1.892038345336914,
          1.546017050743103,
          1.9945132732391357,
          1.609862208366394,
          1.413095474243164,
          2.556354284286499,
          2.5871763229370117,
          1.2762290239334106,
          1.201288104057312,
          1.2652686834335327,
          1.2417206764221191,
          1.5315991640090942,
          1.3029639720916748,
          1.2005140781402588,
          1.8343716859817505,
          2.1788368225097656,
          1.5162824392318726,
          1.3852174282073975,
          3.6298820972442627,
          1.3308610916137695,
          1.8625489473342896,
          1.4838625192642212,
          1.4237393140792847,
          1.6363252401351929,
          1.777742862701416,
          1.4505605697631836,
          1.6164153814315796,
          2.3188893795013428,
          1.6666380167007446,
          1.3461475372314453,
          1.3056796789169312,
          1.6955136060714722,
          1.3384979963302612,
          1.5064902305603027,
          4.7123918533325195,
          1.4212315082550049,
          1.3598699569702148,
          1.414430022239685,
          1.4083491563796997,
          2.0953359603881836,
          2.7246196269989014,
          4.515224933624268,
          1.4084259271621704,
          1.6819077730178833,
          1.4945943355560303,
          1.473993182182312,
          1.6429624557495117,
          1.7607815265655518,
          1.487180471420288,
          1.4958840608596802,
          1.5685234069824219,
          1.4786450862884521,
          1.7371227741241455,
          1.4816334247589111,
          1.8369966745376587,
          1.4604549407958984,
          1.5184849500656128,
          1.5226318836212158,
          5.206720352172852,
          1.864229679107666,
          2.1575748920440674,
          1.5788732767105103,
          1.574508786201477,
          2.071103811264038,
          1.6989271640777588,
          1.6919838190078735,
          2.260258436203003,
          2.568922996520996,
          1.8374460935592651,
          2.665665864944458,
          2.369889497756958,
          2.0699872970581055,
          2.7426259517669678,
          2.0176703929901123,
          1.8811792135238647,
          2.4135119915008545,
          2.0513250827789307,
          2.4998762607574463,
          2.62479829788208,
          3.6398956775665283,
          3.5526371002197266,
          3.137303352355957,
          4.514893054962158
         ],
         "yaxis": "y"
        }
       ],
       "layout": {
        "autosize": true,
        "barmode": "group",
        "legend": {
         "title": {
          "text": "variable"
         },
         "tracegroupgap": 0
        },
        "margin": {
         "t": 60
        },
        "template": {
         "data": {
          "bar": [
           {
            "error_x": {
             "color": "#2a3f5f"
            },
            "error_y": {
             "color": "#2a3f5f"
            },
            "marker": {
             "line": {
              "color": "#E5ECF6",
              "width": 0.5
             },
             "pattern": {
              "fillmode": "overlay",
              "size": 10,
              "solidity": 0.2
             }
            },
            "type": "bar"
           }
          ],
          "barpolar": [
           {
            "marker": {
             "line": {
              "color": "#E5ECF6",
              "width": 0.5
             },
             "pattern": {
              "fillmode": "overlay",
              "size": 10,
              "solidity": 0.2
             }
            },
            "type": "barpolar"
           }
          ],
          "carpet": [
           {
            "aaxis": {
             "endlinecolor": "#2a3f5f",
             "gridcolor": "white",
             "linecolor": "white",
             "minorgridcolor": "white",
             "startlinecolor": "#2a3f5f"
            },
            "baxis": {
             "endlinecolor": "#2a3f5f",
             "gridcolor": "white",
             "linecolor": "white",
             "minorgridcolor": "white",
             "startlinecolor": "#2a3f5f"
            },
            "type": "carpet"
           }
          ],
          "choropleth": [
           {
            "colorbar": {
             "outlinewidth": 0,
             "ticks": ""
            },
            "type": "choropleth"
           }
          ],
          "contour": [
           {
            "colorbar": {
             "outlinewidth": 0,
             "ticks": ""
            },
            "colorscale": [
             [
              0,
              "#0d0887"
             ],
             [
              0.1111111111111111,
              "#46039f"
             ],
             [
              0.2222222222222222,
              "#7201a8"
             ],
             [
              0.3333333333333333,
              "#9c179e"
             ],
             [
              0.4444444444444444,
              "#bd3786"
             ],
             [
              0.5555555555555556,
              "#d8576b"
             ],
             [
              0.6666666666666666,
              "#ed7953"
             ],
             [
              0.7777777777777778,
              "#fb9f3a"
             ],
             [
              0.8888888888888888,
              "#fdca26"
             ],
             [
              1,
              "#f0f921"
             ]
            ],
            "type": "contour"
           }
          ],
          "contourcarpet": [
           {
            "colorbar": {
             "outlinewidth": 0,
             "ticks": ""
            },
            "type": "contourcarpet"
           }
          ],
          "heatmap": [
           {
            "colorbar": {
             "outlinewidth": 0,
             "ticks": ""
            },
            "colorscale": [
             [
              0,
              "#0d0887"
             ],
             [
              0.1111111111111111,
              "#46039f"
             ],
             [
              0.2222222222222222,
              "#7201a8"
             ],
             [
              0.3333333333333333,
              "#9c179e"
             ],
             [
              0.4444444444444444,
              "#bd3786"
             ],
             [
              0.5555555555555556,
              "#d8576b"
             ],
             [
              0.6666666666666666,
              "#ed7953"
             ],
             [
              0.7777777777777778,
              "#fb9f3a"
             ],
             [
              0.8888888888888888,
              "#fdca26"
             ],
             [
              1,
              "#f0f921"
             ]
            ],
            "type": "heatmap"
           }
          ],
          "heatmapgl": [
           {
            "colorbar": {
             "outlinewidth": 0,
             "ticks": ""
            },
            "colorscale": [
             [
              0,
              "#0d0887"
             ],
             [
              0.1111111111111111,
              "#46039f"
             ],
             [
              0.2222222222222222,
              "#7201a8"
             ],
             [
              0.3333333333333333,
              "#9c179e"
             ],
             [
              0.4444444444444444,
              "#bd3786"
             ],
             [
              0.5555555555555556,
              "#d8576b"
             ],
             [
              0.6666666666666666,
              "#ed7953"
             ],
             [
              0.7777777777777778,
              "#fb9f3a"
             ],
             [
              0.8888888888888888,
              "#fdca26"
             ],
             [
              1,
              "#f0f921"
             ]
            ],
            "type": "heatmapgl"
           }
          ],
          "histogram": [
           {
            "marker": {
             "pattern": {
              "fillmode": "overlay",
              "size": 10,
              "solidity": 0.2
             }
            },
            "type": "histogram"
           }
          ],
          "histogram2d": [
           {
            "colorbar": {
             "outlinewidth": 0,
             "ticks": ""
            },
            "colorscale": [
             [
              0,
              "#0d0887"
             ],
             [
              0.1111111111111111,
              "#46039f"
             ],
             [
              0.2222222222222222,
              "#7201a8"
             ],
             [
              0.3333333333333333,
              "#9c179e"
             ],
             [
              0.4444444444444444,
              "#bd3786"
             ],
             [
              0.5555555555555556,
              "#d8576b"
             ],
             [
              0.6666666666666666,
              "#ed7953"
             ],
             [
              0.7777777777777778,
              "#fb9f3a"
             ],
             [
              0.8888888888888888,
              "#fdca26"
             ],
             [
              1,
              "#f0f921"
             ]
            ],
            "type": "histogram2d"
           }
          ],
          "histogram2dcontour": [
           {
            "colorbar": {
             "outlinewidth": 0,
             "ticks": ""
            },
            "colorscale": [
             [
              0,
              "#0d0887"
             ],
             [
              0.1111111111111111,
              "#46039f"
             ],
             [
              0.2222222222222222,
              "#7201a8"
             ],
             [
              0.3333333333333333,
              "#9c179e"
             ],
             [
              0.4444444444444444,
              "#bd3786"
             ],
             [
              0.5555555555555556,
              "#d8576b"
             ],
             [
              0.6666666666666666,
              "#ed7953"
             ],
             [
              0.7777777777777778,
              "#fb9f3a"
             ],
             [
              0.8888888888888888,
              "#fdca26"
             ],
             [
              1,
              "#f0f921"
             ]
            ],
            "type": "histogram2dcontour"
           }
          ],
          "mesh3d": [
           {
            "colorbar": {
             "outlinewidth": 0,
             "ticks": ""
            },
            "type": "mesh3d"
           }
          ],
          "parcoords": [
           {
            "line": {
             "colorbar": {
              "outlinewidth": 0,
              "ticks": ""
             }
            },
            "type": "parcoords"
           }
          ],
          "pie": [
           {
            "automargin": true,
            "type": "pie"
           }
          ],
          "scatter": [
           {
            "fillpattern": {
             "fillmode": "overlay",
             "size": 10,
             "solidity": 0.2
            },
            "type": "scatter"
           }
          ],
          "scatter3d": [
           {
            "line": {
             "colorbar": {
              "outlinewidth": 0,
              "ticks": ""
             }
            },
            "marker": {
             "colorbar": {
              "outlinewidth": 0,
              "ticks": ""
             }
            },
            "type": "scatter3d"
           }
          ],
          "scattercarpet": [
           {
            "marker": {
             "colorbar": {
              "outlinewidth": 0,
              "ticks": ""
             }
            },
            "type": "scattercarpet"
           }
          ],
          "scattergeo": [
           {
            "marker": {
             "colorbar": {
              "outlinewidth": 0,
              "ticks": ""
             }
            },
            "type": "scattergeo"
           }
          ],
          "scattergl": [
           {
            "marker": {
             "colorbar": {
              "outlinewidth": 0,
              "ticks": ""
             }
            },
            "type": "scattergl"
           }
          ],
          "scattermapbox": [
           {
            "marker": {
             "colorbar": {
              "outlinewidth": 0,
              "ticks": ""
             }
            },
            "type": "scattermapbox"
           }
          ],
          "scatterpolar": [
           {
            "marker": {
             "colorbar": {
              "outlinewidth": 0,
              "ticks": ""
             }
            },
            "type": "scatterpolar"
           }
          ],
          "scatterpolargl": [
           {
            "marker": {
             "colorbar": {
              "outlinewidth": 0,
              "ticks": ""
             }
            },
            "type": "scatterpolargl"
           }
          ],
          "scatterternary": [
           {
            "marker": {
             "colorbar": {
              "outlinewidth": 0,
              "ticks": ""
             }
            },
            "type": "scatterternary"
           }
          ],
          "surface": [
           {
            "colorbar": {
             "outlinewidth": 0,
             "ticks": ""
            },
            "colorscale": [
             [
              0,
              "#0d0887"
             ],
             [
              0.1111111111111111,
              "#46039f"
             ],
             [
              0.2222222222222222,
              "#7201a8"
             ],
             [
              0.3333333333333333,
              "#9c179e"
             ],
             [
              0.4444444444444444,
              "#bd3786"
             ],
             [
              0.5555555555555556,
              "#d8576b"
             ],
             [
              0.6666666666666666,
              "#ed7953"
             ],
             [
              0.7777777777777778,
              "#fb9f3a"
             ],
             [
              0.8888888888888888,
              "#fdca26"
             ],
             [
              1,
              "#f0f921"
             ]
            ],
            "type": "surface"
           }
          ],
          "table": [
           {
            "cells": {
             "fill": {
              "color": "#EBF0F8"
             },
             "line": {
              "color": "white"
             }
            },
            "header": {
             "fill": {
              "color": "#C8D4E3"
             },
             "line": {
              "color": "white"
             }
            },
            "type": "table"
           }
          ]
         },
         "layout": {
          "annotationdefaults": {
           "arrowcolor": "#2a3f5f",
           "arrowhead": 0,
           "arrowwidth": 1
          },
          "autotypenumbers": "strict",
          "coloraxis": {
           "colorbar": {
            "outlinewidth": 0,
            "ticks": ""
           }
          },
          "colorscale": {
           "diverging": [
            [
             0,
             "#8e0152"
            ],
            [
             0.1,
             "#c51b7d"
            ],
            [
             0.2,
             "#de77ae"
            ],
            [
             0.3,
             "#f1b6da"
            ],
            [
             0.4,
             "#fde0ef"
            ],
            [
             0.5,
             "#f7f7f7"
            ],
            [
             0.6,
             "#e6f5d0"
            ],
            [
             0.7,
             "#b8e186"
            ],
            [
             0.8,
             "#7fbc41"
            ],
            [
             0.9,
             "#4d9221"
            ],
            [
             1,
             "#276419"
            ]
           ],
           "sequential": [
            [
             0,
             "#0d0887"
            ],
            [
             0.1111111111111111,
             "#46039f"
            ],
            [
             0.2222222222222222,
             "#7201a8"
            ],
            [
             0.3333333333333333,
             "#9c179e"
            ],
            [
             0.4444444444444444,
             "#bd3786"
            ],
            [
             0.5555555555555556,
             "#d8576b"
            ],
            [
             0.6666666666666666,
             "#ed7953"
            ],
            [
             0.7777777777777778,
             "#fb9f3a"
            ],
            [
             0.8888888888888888,
             "#fdca26"
            ],
            [
             1,
             "#f0f921"
            ]
           ],
           "sequentialminus": [
            [
             0,
             "#0d0887"
            ],
            [
             0.1111111111111111,
             "#46039f"
            ],
            [
             0.2222222222222222,
             "#7201a8"
            ],
            [
             0.3333333333333333,
             "#9c179e"
            ],
            [
             0.4444444444444444,
             "#bd3786"
            ],
            [
             0.5555555555555556,
             "#d8576b"
            ],
            [
             0.6666666666666666,
             "#ed7953"
            ],
            [
             0.7777777777777778,
             "#fb9f3a"
            ],
            [
             0.8888888888888888,
             "#fdca26"
            ],
            [
             1,
             "#f0f921"
            ]
           ]
          },
          "colorway": [
           "#636efa",
           "#EF553B",
           "#00cc96",
           "#ab63fa",
           "#FFA15A",
           "#19d3f3",
           "#FF6692",
           "#B6E880",
           "#FF97FF",
           "#FECB52"
          ],
          "font": {
           "color": "#2a3f5f"
          },
          "geo": {
           "bgcolor": "white",
           "lakecolor": "white",
           "landcolor": "#E5ECF6",
           "showlakes": true,
           "showland": true,
           "subunitcolor": "white"
          },
          "hoverlabel": {
           "align": "left"
          },
          "hovermode": "closest",
          "mapbox": {
           "style": "light"
          },
          "paper_bgcolor": "white",
          "plot_bgcolor": "#E5ECF6",
          "polar": {
           "angularaxis": {
            "gridcolor": "white",
            "linecolor": "white",
            "ticks": ""
           },
           "bgcolor": "#E5ECF6",
           "radialaxis": {
            "gridcolor": "white",
            "linecolor": "white",
            "ticks": ""
           }
          },
          "scene": {
           "xaxis": {
            "backgroundcolor": "#E5ECF6",
            "gridcolor": "white",
            "gridwidth": 2,
            "linecolor": "white",
            "showbackground": true,
            "ticks": "",
            "zerolinecolor": "white"
           },
           "yaxis": {
            "backgroundcolor": "#E5ECF6",
            "gridcolor": "white",
            "gridwidth": 2,
            "linecolor": "white",
            "showbackground": true,
            "ticks": "",
            "zerolinecolor": "white"
           },
           "zaxis": {
            "backgroundcolor": "#E5ECF6",
            "gridcolor": "white",
            "gridwidth": 2,
            "linecolor": "white",
            "showbackground": true,
            "ticks": "",
            "zerolinecolor": "white"
           }
          },
          "shapedefaults": {
           "line": {
            "color": "#2a3f5f"
           }
          },
          "ternary": {
           "aaxis": {
            "gridcolor": "white",
            "linecolor": "white",
            "ticks": ""
           },
           "baxis": {
            "gridcolor": "white",
            "linecolor": "white",
            "ticks": ""
           },
           "bgcolor": "#E5ECF6",
           "caxis": {
            "gridcolor": "white",
            "linecolor": "white",
            "ticks": ""
           }
          },
          "title": {
           "x": 0.05
          },
          "xaxis": {
           "automargin": true,
           "gridcolor": "white",
           "linecolor": "white",
           "ticks": "",
           "title": {
            "standoff": 15
           },
           "zerolinecolor": "white",
           "zerolinewidth": 2
          },
          "yaxis": {
           "automargin": true,
           "gridcolor": "white",
           "linecolor": "white",
           "ticks": "",
           "title": {
            "standoff": 15
           },
           "zerolinecolor": "white",
           "zerolinewidth": 2
          }
         }
        },
        "xaxis": {
         "anchor": "y",
         "autorange": true,
         "domain": [
          0,
          1
         ],
         "range": [
          -0.5,
          99.5
         ],
         "title": {
          "text": "station"
         },
         "type": "category"
        },
        "yaxis": {
         "anchor": "x",
         "autorange": true,
         "domain": [
          0,
          1
         ],
         "range": [
          0,
          5.480758265445107
         ],
         "title": {
          "text": "value"
         },
         "type": "linear"
        }
       }
      },
      "image/png": "[encoded data removed]",
      "text/html": [
       "<div>                            <div id=\"0acdfe2b-6fce-4621-af2e-537bc453c352\" class=\"plotly-graph-div\" style=\"height:525px; width:100%;\"></div>            <script type=\"text/javascript\">                require([\"plotly\"], function(Plotly) {                    window.PLOTLYENV=window.PLOTLYENV || {};                                    if (document.getElementById(\"0acdfe2b-6fce-4621-af2e-537bc453c352\")) {                    Plotly.newPlot(                        \"0acdfe2b-6fce-4621-af2e-537bc453c352\",                        [{\"alignmentgroup\":\"True\",\"hovertemplate\":\"variable=model_t2m_crps\\u003cbr\\u003estation=%{x}\\u003cbr\\u003evalue=%{y}\\u003cextra\\u003e\\u003c\\u002fextra\\u003e\",\"legendgroup\":\"model_t2m_crps\",\"marker\":{\"color\":\"#636efa\",\"pattern\":{\"shape\":\"\"}},\"name\":\"model_t2m_crps\",\"offsetgroup\":\"model_t2m_crps\",\"orientation\":\"v\",\"showlegend\":true,\"textposition\":\"auto\",\"x\":[\"CWQS\",\"ACK\",\"PHNL\",\"PADU\",\"CWRN\",\"PBI\",\"PASD\",\"PASI\",\"NYL\",\"CYJT\",\"CYYT\",\"CYZT\",\"PADQ\",\"BGM\",\"HQM\",\"OXR\",\"ELP\",\"FFA\",\"AGC\",\"HXD\",\"MFE\",\"GPT\",\"SFO\",\"ACV\",\"CWCO\",\"TEW\",\"BGR\",\"BLV\",\"JKL\",\"CWVQ\",\"RFD\",\"NFL\",\"PACV\",\"CWSF\",\"CYVO\",\"GCD\",\"AFW\",\"CYWK\",\"BHM\",\"MAF\",\"TLH\",\"CYYR\",\"CYXL\",\"CYBG\",\"CYTE\",\"5C1\",\"DRI\",\"PABE\",\"VUJ\",\"CYWL\",\"BYI\",\"LAM\",\"WLD\",\"FXY\",\"CWLB\",\"CYVP\",\"CYMO\",\"CWPZ\",\"CDC\",\"CWIK\",\"SOW\",\"CYKY\",\"CDJ\",\"CYXZ\",\"CWWS\",\"LRF\",\"CYPH\",\"IWD\",\"FAR\",\"CXTN\",\"GDV\",\"CYRT\",\"ANW\",\"CWJH\",\"CYZF\",\"CWNP\",\"PAOT\",\"CYVM\",\"CYPE\",\"GTF\",\"APA\",\"CYPY\",\"DUX\",\"PABR\",\"CYCB\",\"CWIJ\",\"CXAT\",\"CYFB\",\"CWND\",\"CYUX\",\"PATA\",\"RIW\",\"CYQH\",\"CYYE\",\"CYVQ\",\"CXSE\",\"CYMA\",\"CWEU\",\"CYTL\",\"CYGW\"],\"xaxis\":\"x\",\"y\":[0.5011541843414307,0.56574946641922,0.5740944743156433,0.5814306139945984,0.5875560641288757,0.6066015362739563,0.6705722212791443,0.67470782995224,0.7060146927833557,0.7066869139671326,0.7134349942207336,0.7242041230201721,0.7272278070449829,0.7410998940467834,0.7600836753845215,0.7750208973884583,0.7761302590370178,0.8061798810958862,0.814782440662384,0.8217709064483643,0.8227129578590393,0.8235428929328918,0.8406707644462585,0.8408948183059692,0.8464770913124084,0.8587928414344788,0.8704580664634705,0.8745794296264648,0.8784594535827637,0.8786119818687439,0.8829466104507446,0.9028840661048889,0.9033503532409668,0.908094584941864,0.9098946452140808,0.9286425709724426,0.9330067038536072,0.9374313950538635,0.9419821500778198,0.9623881578445435,0.9693945646286011,0.9845137596130371,0.9872937798500061,0.9876529574394226,0.9903409481048584,0.9931198954582214,0.9937044382095337,1.012101173400879,1.0150833129882812,1.024985671043396,1.0263324975967407,1.0308606624603271,1.032030463218689,1.0397990942001343,1.0399463176727295,1.040042519569397,1.0503839254379272,1.0523412227630615,1.0537004470825195,1.0549728870391846,1.0618396997451782,1.0732815265655518,1.0749115943908691,1.0759897232055664,1.0875002145767212,1.090404748916626,1.0947959423065186,1.095776915550232,1.0975881814956665,1.099101185798645,1.1132969856262207,1.11769700050354,1.1194889545440674,1.1213747262954712,1.1302807331085205,1.1306281089782715,1.1348999738693237,1.1415033340454102,1.1480004787445068,1.1499840021133423,1.1603589057922363,1.1616684198379517,1.1846176385879517,1.2096548080444336,1.2622865438461304,1.262941598892212,1.2658787965774536,1.2668218612670898,1.2864670753479004,1.295419454574585,1.2989883422851562,1.304827094078064,1.3444421291351318,1.3485010862350464,1.4214102029800415,1.4320834875106812,1.529740810394287,1.6680445671081543,2.2550454139709473,2.4569923877716064],\"yaxis\":\"y\",\"type\":\"bar\"},{\"alignmentgroup\":\"True\",\"hovertemplate\":\"variable=raw_t2m_crps\\u003cbr\\u003estation=%{x}\\u003cbr\\u003evalue=%{y}\\u003cextra\\u003e\\u003c\\u002fextra\\u003e\",\"legendgroup\":\"raw_t2m_crps\",\"marker\":{\"color\":\"#EF553B\",\"pattern\":{\"shape\":\"\"}},\"name\":\"raw_t2m_crps\",\"offsetgroup\":\"raw_t2m_crps\",\"orientation\":\"v\",\"showlegend\":true,\"textposition\":\"auto\",\"x\":[\"CWQS\",\"ACK\",\"PHNL\",\"PADU\",\"CWRN\",\"PBI\",\"PASD\",\"PASI\",\"NYL\",\"CYJT\",\"CYYT\",\"CYZT\",\"PADQ\",\"BGM\",\"HQM\",\"OXR\",\"ELP\",\"FFA\",\"AGC\",\"HXD\",\"MFE\",\"GPT\",\"SFO\",\"ACV\",\"CWCO\",\"TEW\",\"BGR\",\"BLV\",\"JKL\",\"CWVQ\",\"RFD\",\"NFL\",\"PACV\",\"CWSF\",\"CYVO\",\"GCD\",\"AFW\",\"CYWK\",\"BHM\",\"MAF\",\"TLH\",\"CYYR\",\"CYXL\",\"CYBG\",\"CYTE\",\"5C1\",\"DRI\",\"PABE\",\"VUJ\",\"CYWL\",\"BYI\",\"LAM\",\"WLD\",\"FXY\",\"CWLB\",\"CYVP\",\"CYMO\",\"CWPZ\",\"CDC\",\"CWIK\",\"SOW\",\"CYKY\",\"CDJ\",\"CYXZ\",\"CWWS\",\"LRF\",\"CYPH\",\"IWD\",\"FAR\",\"CXTN\",\"GDV\",\"CYRT\",\"ANW\",\"CWJH\",\"CYZF\",\"CWNP\",\"PAOT\",\"CYVM\",\"CYPE\",\"GTF\",\"APA\",\"CYPY\",\"DUX\",\"PABR\",\"CYCB\",\"CWIJ\",\"CXAT\",\"CYFB\",\"CWND\",\"CYUX\",\"PATA\",\"RIW\",\"CYQH\",\"CYYE\",\"CYVQ\",\"CXSE\",\"CYMA\",\"CWEU\",\"CYTL\",\"CYGW\"],\"xaxis\":\"x\",\"y\":[0.8201634287834167,1.2540982961654663,2.564934492111206,1.845537781715393,0.9318383932113647,0.9377259016036987,1.3277474641799927,1.9156174659729004,1.0226188898086548,1.1600323915481567,1.7328567504882812,1.97723388671875,1.6462706327438354,1.3674921989440918,1.1582118272781372,1.6712754964828491,1.4778568744659424,1.892038345336914,1.546017050743103,1.9945132732391357,1.609862208366394,1.413095474243164,2.556354284286499,2.5871763229370117,1.2762290239334106,1.201288104057312,1.2652686834335327,1.2417206764221191,1.5315991640090942,1.3029639720916748,1.2005140781402588,1.8343716859817505,2.1788368225097656,1.5162824392318726,1.3852174282073975,3.6298820972442627,1.3308610916137695,1.8625489473342896,1.4838625192642212,1.4237393140792847,1.6363252401351929,1.777742862701416,1.4505605697631836,1.6164153814315796,2.3188893795013428,1.6666380167007446,1.3461475372314453,1.3056796789169312,1.6955136060714722,1.3384979963302612,1.5064902305603027,4.7123918533325195,1.4212315082550049,1.3598699569702148,1.414430022239685,1.4083491563796997,2.0953359603881836,2.7246196269989014,4.515224933624268,1.4084259271621704,1.6819077730178833,1.4945943355560303,1.473993182182312,1.6429624557495117,1.7607815265655518,1.487180471420288,1.4958840608596802,1.5685234069824219,1.4786450862884521,1.7371227741241455,1.4816334247589111,1.8369966745376587,1.4604549407958984,1.5184849500656128,1.5226318836212158,5.206720352172852,1.864229679107666,2.1575748920440674,1.5788732767105103,1.574508786201477,2.071103811264038,1.6989271640777588,1.6919838190078735,2.260258436203003,2.568922996520996,1.8374460935592651,2.665665864944458,2.369889497756958,2.0699872970581055,2.7426259517669678,2.0176703929901123,1.8811792135238647,2.4135119915008545,2.0513250827789307,2.4998762607574463,2.62479829788208,3.6398956775665283,3.5526371002197266,3.137303352355957,4.514893054962158],\"yaxis\":\"y\",\"type\":\"bar\"}],                        {\"template\":{\"data\":{\"histogram2dcontour\":[{\"type\":\"histogram2dcontour\",\"colorbar\":{\"outlinewidth\":0,\"ticks\":\"\"},\"colorscale\":[[0.0,\"#0d0887\"],[0.1111111111111111,\"#46039f\"],[0.2222222222222222,\"#7201a8\"],[0.3333333333333333,\"#9c179e\"],[0.4444444444444444,\"#bd3786\"],[0.5555555555555556,\"#d8576b\"],[0.6666666666666666,\"#ed7953\"],[0.7777777777777778,\"#fb9f3a\"],[0.8888888888888888,\"#fdca26\"],[1.0,\"#f0f921\"]]}],\"choropleth\":[{\"type\":\"choropleth\",\"colorbar\":{\"outlinewidth\":0,\"ticks\":\"\"}}],\"histogram2d\":[{\"type\":\"histogram2d\",\"colorbar\":{\"outlinewidth\":0,\"ticks\":\"\"},\"colorscale\":[[0.0,\"#0d0887\"],[0.1111111111111111,\"#46039f\"],[0.2222222222222222,\"#7201a8\"],[0.3333333333333333,\"#9c179e\"],[0.4444444444444444,\"#bd3786\"],[0.5555555555555556,\"#d8576b\"],[0.6666666666666666,\"#ed7953\"],[0.7777777777777778,\"#fb9f3a\"],[0.8888888888888888,\"#fdca26\"],[1.0,\"#f0f921\"]]}],\"heatmap\":[{\"type\":\"heatmap\",\"colorbar\":{\"outlinewidth\":0,\"ticks\":\"\"},\"colorscale\":[[0.0,\"#0d0887\"],[0.1111111111111111,\"#46039f\"],[0.2222222222222222,\"#7201a8\"],[0.3333333333333333,\"#9c179e\"],[0.4444444444444444,\"#bd3786\"],[0.5555555555555556,\"#d8576b\"],[0.6666666666666666,\"#ed7953\"],[0.7777777777777778,\"#fb9f3a\"],[0.8888888888888888,\"#fdca26\"],[1.0,\"#f0f921\"]]}],\"heatmapgl\":[{\"type\":\"heatmapgl\",\"colorbar\":{\"outlinewidth\":0,\"ticks\":\"\"},\"colorscale\":[[0.0,\"#0d0887\"],[0.1111111111111111,\"#46039f\"],[0.2222222222222222,\"#7201a8\"],[0.3333333333333333,\"#9c179e\"],[0.4444444444444444,\"#bd3786\"],[0.5555555555555556,\"#d8576b\"],[0.6666666666666666,\"#ed7953\"],[0.7777777777777778,\"#fb9f3a\"],[0.8888888888888888,\"#fdca26\"],[1.0,\"#f0f921\"]]}],\"contourcarpet\":[{\"type\":\"contourcarpet\",\"colorbar\":{\"outlinewidth\":0,\"ticks\":\"\"}}],\"contour\":[{\"type\":\"contour\",\"colorbar\":{\"outlinewidth\":0,\"ticks\":\"\"},\"colorscale\":[[0.0,\"#0d0887\"],[0.1111111111111111,\"#46039f\"],[0.2222222222222222,\"#7201a8\"],[0.3333333333333333,\"#9c179e\"],[0.4444444444444444,\"#bd3786\"],[0.5555555555555556,\"#d8576b\"],[0.6666666666666666,\"#ed7953\"],[0.7777777777777778,\"#fb9f3a\"],[0.8888888888888888,\"#fdca26\"],[1.0,\"#f0f921\"]]}],\"surface\":[{\"type\":\"surface\",\"colorbar\":{\"outlinewidth\":0,\"ticks\":\"\"},\"colorscale\":[[0.0,\"#0d0887\"],[0.1111111111111111,\"#46039f\"],[0.2222222222222222,\"#7201a8\"],[0.3333333333333333,\"#9c179e\"],[0.4444444444444444,\"#bd3786\"],[0.5555555555555556,\"#d8576b\"],[0.6666666666666666,\"#ed7953\"],[0.7777777777777778,\"#fb9f3a\"],[0.8888888888888888,\"#fdca26\"],[1.0,\"#f0f921\"]]}],\"mesh3d\":[{\"type\":\"mesh3d\",\"colorbar\":{\"outlinewidth\":0,\"ticks\":\"\"}}],\"scatter\":[{\"fillpattern\":{\"fillmode\":\"overlay\",\"size\":10,\"solidity\":0.2},\"type\":\"scatter\"}],\"parcoords\":[{\"type\":\"parcoords\",\"line\":{\"colorbar\":{\"outlinewidth\":0,\"ticks\":\"\"}}}],\"scatterpolargl\":[{\"type\":\"scatterpolargl\",\"marker\":{\"colorbar\":{\"outlinewidth\":0,\"ticks\":\"\"}}}],\"bar\":[{\"error_x\":{\"color\":\"#2a3f5f\"},\"error_y\":{\"color\":\"#2a3f5f\"},\"marker\":{\"line\":{\"color\":\"#E5ECF6\",\"width\":0.5},\"pattern\":{\"fillmode\":\"overlay\",\"size\":10,\"solidity\":0.2}},\"type\":\"bar\"}],\"scattergeo\":[{\"type\":\"scattergeo\",\"marker\":{\"colorbar\":{\"outlinewidth\":0,\"ticks\":\"\"}}}],\"scatterpolar\":[{\"type\":\"scatterpolar\",\"marker\":{\"colorbar\":{\"outlinewidth\":0,\"ticks\":\"\"}}}],\"histogram\":[{\"marker\":{\"pattern\":{\"fillmode\":\"overlay\",\"size\":10,\"solidity\":0.2}},\"type\":\"histogram\"}],\"scattergl\":[{\"type\":\"scattergl\",\"marker\":{\"colorbar\":{\"outlinewidth\":0,\"ticks\":\"\"}}}],\"scatter3d\":[{\"type\":\"scatter3d\",\"line\":{\"colorbar\":{\"outlinewidth\":0,\"ticks\":\"\"}},\"marker\":{\"colorbar\":{\"outlinewidth\":0,\"ticks\":\"\"}}}],\"scattermapbox\":[{\"type\":\"scattermapbox\",\"marker\":{\"colorbar\":{\"outlinewidth\":0,\"ticks\":\"\"}}}],\"scatterternary\":[{\"type\":\"scatterternary\",\"marker\":{\"colorbar\":{\"outlinewidth\":0,\"ticks\":\"\"}}}],\"scattercarpet\":[{\"type\":\"scattercarpet\",\"marker\":{\"colorbar\":{\"outlinewidth\":0,\"ticks\":\"\"}}}],\"carpet\":[{\"aaxis\":{\"endlinecolor\":\"#2a3f5f\",\"gridcolor\":\"white\",\"linecolor\":\"white\",\"minorgridcolor\":\"white\",\"startlinecolor\":\"#2a3f5f\"},\"baxis\":{\"endlinecolor\":\"#2a3f5f\",\"gridcolor\":\"white\",\"linecolor\":\"white\",\"minorgridcolor\":\"white\",\"startlinecolor\":\"#2a3f5f\"},\"type\":\"carpet\"}],\"table\":[{\"cells\":{\"fill\":{\"color\":\"#EBF0F8\"},\"line\":{\"color\":\"white\"}},\"header\":{\"fill\":{\"color\":\"#C8D4E3\"},\"line\":{\"color\":\"white\"}},\"type\":\"table\"}],\"barpolar\":[{\"marker\":{\"line\":{\"color\":\"#E5ECF6\",\"width\":0.5},\"pattern\":{\"fillmode\":\"overlay\",\"size\":10,\"solidity\":0.2}},\"type\":\"barpolar\"}],\"pie\":[{\"automargin\":true,\"type\":\"pie\"}]},\"layout\":{\"autotypenumbers\":\"strict\",\"colorway\":[\"#636efa\",\"#EF553B\",\"#00cc96\",\"#ab63fa\",\"#FFA15A\",\"#19d3f3\",\"#FF6692\",\"#B6E880\",\"#FF97FF\",\"#FECB52\"],\"font\":{\"color\":\"#2a3f5f\"},\"hovermode\":\"closest\",\"hoverlabel\":{\"align\":\"left\"},\"paper_bgcolor\":\"white\",\"plot_bgcolor\":\"#E5ECF6\",\"polar\":{\"bgcolor\":\"#E5ECF6\",\"angularaxis\":{\"gridcolor\":\"white\",\"linecolor\":\"white\",\"ticks\":\"\"},\"radialaxis\":{\"gridcolor\":\"white\",\"linecolor\":\"white\",\"ticks\":\"\"}},\"ternary\":{\"bgcolor\":\"#E5ECF6\",\"aaxis\":{\"gridcolor\":\"white\",\"linecolor\":\"white\",\"ticks\":\"\"},\"baxis\":{\"gridcolor\":\"white\",\"linecolor\":\"white\",\"ticks\":\"\"},\"caxis\":{\"gridcolor\":\"white\",\"linecolor\":\"white\",\"ticks\":\"\"}},\"coloraxis\":{\"colorbar\":{\"outlinewidth\":0,\"ticks\":\"\"}},\"colorscale\":{\"sequential\":[[0.0,\"#0d0887\"],[0.1111111111111111,\"#46039f\"],[0.2222222222222222,\"#7201a8\"],[0.3333333333333333,\"#9c179e\"],[0.4444444444444444,\"#bd3786\"],[0.5555555555555556,\"#d8576b\"],[0.6666666666666666,\"#ed7953\"],[0.7777777777777778,\"#fb9f3a\"],[0.8888888888888888,\"#fdca26\"],[1.0,\"#f0f921\"]],\"sequentialminus\":[[0.0,\"#0d0887\"],[0.1111111111111111,\"#46039f\"],[0.2222222222222222,\"#7201a8\"],[0.3333333333333333,\"#9c179e\"],[0.4444444444444444,\"#bd3786\"],[0.5555555555555556,\"#d8576b\"],[0.6666666666666666,\"#ed7953\"],[0.7777777777777778,\"#fb9f3a\"],[0.8888888888888888,\"#fdca26\"],[1.0,\"#f0f921\"]],\"diverging\":[[0,\"#8e0152\"],[0.1,\"#c51b7d\"],[0.2,\"#de77ae\"],[0.3,\"#f1b6da\"],[0.4,\"#fde0ef\"],[0.5,\"#f7f7f7\"],[0.6,\"#e6f5d0\"],[0.7,\"#b8e186\"],[0.8,\"#7fbc41\"],[0.9,\"#4d9221\"],[1,\"#276419\"]]},\"xaxis\":{\"gridcolor\":\"white\",\"linecolor\":\"white\",\"ticks\":\"\",\"title\":{\"standoff\":15},\"zerolinecolor\":\"white\",\"automargin\":true,\"zerolinewidth\":2},\"yaxis\":{\"gridcolor\":\"white\",\"linecolor\":\"white\",\"ticks\":\"\",\"title\":{\"standoff\":15},\"zerolinecolor\":\"white\",\"automargin\":true,\"zerolinewidth\":2},\"scene\":{\"xaxis\":{\"backgroundcolor\":\"#E5ECF6\",\"gridcolor\":\"white\",\"linecolor\":\"white\",\"showbackground\":true,\"ticks\":\"\",\"zerolinecolor\":\"white\",\"gridwidth\":2},\"yaxis\":{\"backgroundcolor\":\"#E5ECF6\",\"gridcolor\":\"white\",\"linecolor\":\"white\",\"showbackground\":true,\"ticks\":\"\",\"zerolinecolor\":\"white\",\"gridwidth\":2},\"zaxis\":{\"backgroundcolor\":\"#E5ECF6\",\"gridcolor\":\"white\",\"linecolor\":\"white\",\"showbackground\":true,\"ticks\":\"\",\"zerolinecolor\":\"white\",\"gridwidth\":2}},\"shapedefaults\":{\"line\":{\"color\":\"#2a3f5f\"}},\"annotationdefaults\":{\"arrowcolor\":\"#2a3f5f\",\"arrowhead\":0,\"arrowwidth\":1},\"geo\":{\"bgcolor\":\"white\",\"landcolor\":\"#E5ECF6\",\"subunitcolor\":\"white\",\"showland\":true,\"showlakes\":true,\"lakecolor\":\"white\"},\"title\":{\"x\":0.05},\"mapbox\":{\"style\":\"light\"}}},\"xaxis\":{\"anchor\":\"y\",\"domain\":[0.0,1.0],\"title\":{\"text\":\"station\"}},\"yaxis\":{\"anchor\":\"x\",\"domain\":[0.0,1.0],\"title\":{\"text\":\"value\"}},\"legend\":{\"title\":{\"text\":\"variable\"},\"tracegroupgap\":0},\"margin\":{\"t\":60},\"barmode\":\"group\"},                        {\"responsive\": true}                    ).then(function(){\n",
       "                            \n",
       "var gd = document.getElementById('0acdfe2b-6fce-4621-af2e-537bc453c352');\n",
       "var x = new MutationObserver(function (mutations, observer) {{\n",
       "        var display = window.getComputedStyle(gd).display;\n",
       "        if (!display || display === 'none') {{\n",
       "            console.log([gd, 'removed!']);\n",
       "            Plotly.purge(gd);\n",
       "            observer.disconnect();\n",
       "        }}\n",
       "}});\n",
       "\n",
       "// Listen for the removal of the full notebook cells\n",
       "var notebookContainer = gd.closest('#notebook-container');\n",
       "if (notebookContainer) {{\n",
       "    x.observe(notebookContainer, {childList: true});\n",
       "}}\n",
       "\n",
       "// Listen for the clearing of the current output cell\n",
       "var outputEl = gd.closest('.output');\n",
       "if (outputEl) {{\n",
       "    x.observe(outputEl, {childList: true});\n",
       "}}\n",
       "\n",
       "                        })                };                });            </script>        </div>"
      ]
     },
     "metadata": {},
     "output_type": "display_data"
    }
   ],
   "source": [
    "px.bar(data_frame=by_station, x='station', y='value', color='variable', barmode='group')"
   ]
  },
  {
   "cell_type": "code",
   "execution_count": null,
   "id": "04418f5f-6fc1-4286-9cda-0f860028acb6",
   "metadata": {},
   "outputs": [],
   "source": []
  }
 ],
 "metadata": {
  "kernelspec": {
   "display_name": "Eddie",
   "language": "python",
   "name": "eddie"
  },
  "language_info": {
   "codemirror_mode": {
    "name": "ipython",
    "version": 3
   },
   "file_extension": ".py",
   "mimetype": "text/x-python",
   "name": "python",
   "nbconvert_exporter": "python",
   "pygments_lexer": "ipython3",
   "version": "3.11.4"
  }
 },
 "nbformat": 4,
 "nbformat_minor": 5
}
